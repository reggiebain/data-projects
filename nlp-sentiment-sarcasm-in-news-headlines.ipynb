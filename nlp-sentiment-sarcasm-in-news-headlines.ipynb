{
 "cells": [
  {
   "cell_type": "markdown",
   "id": "41d3ea8a",
   "metadata": {
    "papermill": {
     "duration": 0.012201,
     "end_time": "2022-11-17T04:28:46.207176",
     "exception": false,
     "start_time": "2022-11-17T04:28:46.194975",
     "status": "completed"
    },
    "tags": []
   },
   "source": [
    "### Predicting Sarcasm in Sentences using TensorFlow Deep Learning\n",
    "- Based on NLP course from kaggle"
   ]
  },
  {
   "cell_type": "code",
   "execution_count": 1,
   "id": "82cffcae",
   "metadata": {
    "_cell_guid": "b1076dfc-b9ad-4769-8c92-a6c4dae69d19",
    "_uuid": "8f2839f25d086af736a60e9eeb907d3b93b6e0e5",
    "execution": {
     "iopub.execute_input": "2022-11-17T04:28:46.241115Z",
     "iopub.status.busy": "2022-11-17T04:28:46.238071Z",
     "iopub.status.idle": "2022-11-17T04:28:53.533349Z",
     "shell.execute_reply": "2022-11-17T04:28:53.532356Z",
     "shell.execute_reply.started": "2022-11-17T04:21:39.909230Z"
    },
    "papermill": {
     "duration": 7.314059,
     "end_time": "2022-11-17T04:28:53.533555",
     "exception": false,
     "start_time": "2022-11-17T04:28:46.219496",
     "status": "completed"
    },
    "tags": []
   },
   "outputs": [],
   "source": [
    "import numpy as np # linear algebra\n",
    "import pandas as pd # data processing, CSV file I/O (e.g. pd.read_csv)\n",
    "import tensorflow as tf\n",
    "from tensorflow.keras.preprocessing.text import Tokenizer\n",
    "from tensorflow.keras.preprocessing.sequence import pad_sequences"
   ]
  },
  {
   "cell_type": "code",
   "execution_count": 2,
   "id": "46c1d4f4",
   "metadata": {
    "execution": {
     "iopub.execute_input": "2022-11-17T04:28:53.564680Z",
     "iopub.status.busy": "2022-11-17T04:28:53.563790Z",
     "iopub.status.idle": "2022-11-17T04:28:53.566356Z",
     "shell.execute_reply": "2022-11-17T04:28:53.565776Z",
     "shell.execute_reply.started": "2022-11-17T04:21:46.755158Z"
    },
    "papermill": {
     "duration": 0.021961,
     "end_time": "2022-11-17T04:28:53.566518",
     "exception": false,
     "start_time": "2022-11-17T04:28:53.544557",
     "status": "completed"
    },
    "tags": []
   },
   "outputs": [],
   "source": [
    "try:\n",
    "  # %tensorflow_version only exists in Colab.\n",
    "  %tensorflow_version 2.x\n",
    "except Exception:\n",
    "  pass"
   ]
  },
  {
   "cell_type": "code",
   "execution_count": 3,
   "id": "522093e2",
   "metadata": {
    "execution": {
     "iopub.execute_input": "2022-11-17T04:28:53.594230Z",
     "iopub.status.busy": "2022-11-17T04:28:53.593364Z",
     "iopub.status.idle": "2022-11-17T04:28:53.805078Z",
     "shell.execute_reply": "2022-11-17T04:28:53.804292Z",
     "shell.execute_reply.started": "2022-11-17T04:21:46.763933Z"
    },
    "papermill": {
     "duration": 0.228122,
     "end_time": "2022-11-17T04:28:53.805270",
     "exception": false,
     "start_time": "2022-11-17T04:28:53.577148",
     "status": "completed"
    },
    "tags": []
   },
   "outputs": [],
   "source": [
    "# Convert Json format into python readable format\n",
    "import json\n",
    "\n",
    "def parse_data(file):\n",
    "    for l in open(file,'r'):\n",
    "        yield json.loads(l)\n",
    "\n",
    "data = list(parse_data('../input/news-headlines-dataset-for-sarcasm-detection/Sarcasm_Headlines_Dataset.json'))\n",
    "\n",
    "sentences = []\n",
    "labels = []\n",
    "urls = []\n",
    "for item in data:\n",
    "    sentences.append(item['headline'])\n",
    "    labels.append(item['is_sarcastic'])\n",
    "    urls.append(item['article_link'])"
   ]
  },
  {
   "cell_type": "code",
   "execution_count": 4,
   "id": "33af9fae",
   "metadata": {
    "execution": {
     "iopub.execute_input": "2022-11-17T04:28:53.837784Z",
     "iopub.status.busy": "2022-11-17T04:28:53.835995Z",
     "iopub.status.idle": "2022-11-17T04:28:53.838596Z",
     "shell.execute_reply": "2022-11-17T04:28:53.839115Z",
     "shell.execute_reply.started": "2022-11-17T04:21:46.964539Z"
    },
    "papermill": {
     "duration": 0.023029,
     "end_time": "2022-11-17T04:28:53.839361",
     "exception": false,
     "start_time": "2022-11-17T04:28:53.816332",
     "status": "completed"
    },
    "tags": []
   },
   "outputs": [],
   "source": [
    "# Split train-test data\n",
    "vocab_size = 10000\n",
    "embedding_dim = 16\n",
    "max_length = 100\n",
    "trunc_type='post'\n",
    "padding_type='post'\n",
    "oov_tok = \"<OOV>\"\n",
    "training_size = 20000\n",
    "\n",
    "training_sentences = sentences[0:training_size]\n",
    "testing_sentences = sentences[training_size:]\n",
    "training_labels = labels[0:training_size]\n",
    "testing_labels = labels[training_size:]"
   ]
  },
  {
   "cell_type": "code",
   "execution_count": 5,
   "id": "9bf0bfbe",
   "metadata": {
    "execution": {
     "iopub.execute_input": "2022-11-17T04:28:53.866288Z",
     "iopub.status.busy": "2022-11-17T04:28:53.865479Z",
     "iopub.status.idle": "2022-11-17T04:28:55.104474Z",
     "shell.execute_reply": "2022-11-17T04:28:55.102618Z",
     "shell.execute_reply.started": "2022-11-17T04:21:46.972799Z"
    },
    "papermill": {
     "duration": 1.253812,
     "end_time": "2022-11-17T04:28:55.104678",
     "exception": false,
     "start_time": "2022-11-17T04:28:53.850866",
     "status": "completed"
    },
    "tags": []
   },
   "outputs": [],
   "source": [
    "# Preprocessing the text (i.e. tokenizing, padding, etc.)\n",
    "tokenizer = Tokenizer(num_words = vocab_size, oov_token=oov_tok)\n",
    "tokenizer.fit_on_texts(training_sentences)\n",
    "word_index = tokenizer.word_index\n",
    "\n",
    "training_sequences = tokenizer.texts_to_sequences(training_sentences)\n",
    "training_padded = pad_sequences(training_sequences, \n",
    "                                padding=padding_type, \n",
    "                                maxlen=max_length, truncating=trunc_type)\n",
    "\n",
    "testing_sequences = tokenizer.texts_to_sequences(testing_sentences)\n",
    "testing_padded = pad_sequences(testing_sequences, \n",
    "                                padding=padding_type, \n",
    "                               maxlen=max_length, truncating=trunc_type)"
   ]
  },
  {
   "cell_type": "code",
   "execution_count": 6,
   "id": "5dcc8f47",
   "metadata": {
    "execution": {
     "iopub.execute_input": "2022-11-17T04:28:55.136073Z",
     "iopub.status.busy": "2022-11-17T04:28:55.135260Z",
     "iopub.status.idle": "2022-11-17T04:28:55.149979Z",
     "shell.execute_reply": "2022-11-17T04:28:55.149240Z",
     "shell.execute_reply.started": "2022-11-17T04:21:48.027841Z"
    },
    "papermill": {
     "duration": 0.033792,
     "end_time": "2022-11-17T04:28:55.150148",
     "exception": false,
     "start_time": "2022-11-17T04:28:55.116356",
     "status": "completed"
    },
    "tags": []
   },
   "outputs": [],
   "source": [
    "# Need this block to get it to work with TensorFlow 2.x\n",
    "import numpy as np\n",
    "training_padded = np.array(training_padded)\n",
    "training_labels = np.array(training_labels)\n",
    "testing_padded = np.array(testing_padded)\n",
    "testing_labels = np.array(testing_labels)"
   ]
  },
  {
   "cell_type": "code",
   "execution_count": 7,
   "id": "b33f344b",
   "metadata": {
    "execution": {
     "iopub.execute_input": "2022-11-17T04:28:55.182318Z",
     "iopub.status.busy": "2022-11-17T04:28:55.181091Z",
     "iopub.status.idle": "2022-11-17T04:30:14.395933Z",
     "shell.execute_reply": "2022-11-17T04:30:14.395126Z",
     "shell.execute_reply.started": "2022-11-17T04:21:48.039599Z"
    },
    "papermill": {
     "duration": 79.235293,
     "end_time": "2022-11-17T04:30:14.396116",
     "exception": false,
     "start_time": "2022-11-17T04:28:55.160823",
     "status": "completed"
    },
    "tags": []
   },
   "outputs": [
    {
     "name": "stderr",
     "output_type": "stream",
     "text": [
      "\n",
      "User settings:\n",
      "\n",
      "   KMP_AFFINITY=granularity=fine,verbose,compact,1,0\n",
      "   KMP_BLOCKTIME=0\n",
      "   KMP_SETTINGS=1\n",
      "   KMP_WARNINGS=0\n",
      "\n",
      "Effective settings:\n",
      "\n",
      "   KMP_ABORT_DELAY=0\n",
      "   KMP_ADAPTIVE_LOCK_PROPS='1,1024'\n",
      "   KMP_ALIGN_ALLOC=64\n",
      "   KMP_ALL_THREADPRIVATE=128\n",
      "   KMP_ATOMIC_MODE=2\n",
      "   KMP_BLOCKTIME=0\n",
      "   KMP_CPUINFO_FILE: value is not defined\n",
      "   KMP_DETERMINISTIC_REDUCTION=false\n",
      "   KMP_DEVICE_THREAD_LIMIT=2147483647\n",
      "   KMP_DISP_NUM_BUFFERS=7\n",
      "   KMP_DUPLICATE_LIB_OK=false\n",
      "   KMP_ENABLE_TASK_THROTTLING=true\n",
      "   KMP_FORCE_REDUCTION: value is not defined\n",
      "   KMP_FOREIGN_THREADS_THREADPRIVATE=true\n",
      "   KMP_FORKJOIN_BARRIER='2,2'\n",
      "   KMP_FORKJOIN_BARRIER_PATTERN='hyper,hyper'\n",
      "   KMP_GTID_MODE=3\n",
      "   KMP_HANDLE_SIGNALS=false\n",
      "   KMP_HOT_TEAMS_MAX_LEVEL=1\n",
      "   KMP_HOT_TEAMS_MODE=0\n",
      "   KMP_INIT_AT_FORK=true\n",
      "   KMP_LIBRARY=throughput\n",
      "   KMP_LOCK_KIND=queuing\n",
      "   KMP_MALLOC_POOL_INCR=1M\n",
      "   KMP_NUM_LOCKS_IN_BLOCK=1\n",
      "   KMP_PLAIN_BARRIER='2,2'\n",
      "   KMP_PLAIN_BARRIER_PATTERN='hyper,hyper'\n",
      "   KMP_REDUCTION_BARRIER='1,1'\n",
      "   KMP_REDUCTION_BARRIER_PATTERN='hyper,hyper'\n",
      "   KMP_SCHEDULE='static,balanced;guided,iterative'\n",
      "   KMP_SETTINGS=true\n",
      "   KMP_SPIN_BACKOFF_PARAMS='4096,100'\n",
      "   KMP_STACKOFFSET=64\n",
      "   KMP_STACKPAD=0\n",
      "   KMP_STACKSIZE=8M\n",
      "   KMP_STORAGE_MAP=false\n",
      "   KMP_TASKING=2\n",
      "   KMP_TASKLOOP_MIN_TASKS=0\n",
      "   KMP_TASK_STEALING_CONSTRAINT=1\n",
      "   KMP_TEAMS_THREAD_LIMIT=4\n",
      "   KMP_TOPOLOGY_METHOD=all\n",
      "   KMP_USE_YIELD=1\n",
      "   KMP_VERSION=false\n",
      "   KMP_WARNINGS=false\n",
      "   OMP_AFFINITY_FORMAT='OMP: pid %P tid %i thread %n bound to OS proc set {%A}'\n",
      "   OMP_ALLOCATOR=omp_default_mem_alloc\n",
      "   OMP_CANCELLATION=false\n",
      "   OMP_DEFAULT_DEVICE=0\n",
      "   OMP_DISPLAY_AFFINITY=false\n",
      "   OMP_DISPLAY_ENV=false\n",
      "   OMP_DYNAMIC=false\n",
      "   OMP_MAX_ACTIVE_LEVELS=1\n",
      "   OMP_MAX_TASK_PRIORITY=0\n",
      "   OMP_NESTED: deprecated; max-active-levels-var=1\n",
      "   OMP_NUM_THREADS: value is not defined\n",
      "   OMP_PLACES: value is not defined\n",
      "   OMP_PROC_BIND='intel'\n",
      "   OMP_SCHEDULE='static'\n",
      "   OMP_STACKSIZE=8M\n",
      "   OMP_TARGET_OFFLOAD=DEFAULT\n",
      "   OMP_THREAD_LIMIT=2147483647\n",
      "   OMP_WAIT_POLICY=PASSIVE\n",
      "   KMP_AFFINITY='verbose,warnings,respect,granularity=fine,compact,1,0'\n",
      "\n",
      "2022-11-17 04:28:55.227783: I tensorflow/core/common_runtime/process_util.cc:146] Creating new thread pool with default inter op setting: 2. Tune using inter_op_parallelism_threads for best performance.\n",
      "2022-11-17 04:28:55.429096: I tensorflow/compiler/mlir/mlir_graph_optimization_pass.cc:185] None of the MLIR Optimization Passes are enabled (registered 2)\n"
     ]
    },
    {
     "name": "stdout",
     "output_type": "stream",
     "text": [
      "Epoch 1/30\n",
      "625/625 - 4s - loss: 0.6663 - accuracy: 0.5888 - val_loss: 0.5928 - val_accuracy: 0.7490\n",
      "Epoch 2/30\n",
      "625/625 - 3s - loss: 0.4472 - accuracy: 0.8248 - val_loss: 0.3937 - val_accuracy: 0.8313\n",
      "Epoch 3/30\n",
      "625/625 - 2s - loss: 0.3213 - accuracy: 0.8702 - val_loss: 0.3591 - val_accuracy: 0.8459\n",
      "Epoch 4/30\n",
      "625/625 - 3s - loss: 0.2689 - accuracy: 0.8942 - val_loss: 0.3552 - val_accuracy: 0.8416\n",
      "Epoch 5/30\n",
      "625/625 - 3s - loss: 0.2332 - accuracy: 0.9104 - val_loss: 0.3567 - val_accuracy: 0.8423\n",
      "Epoch 6/30\n",
      "625/625 - 3s - loss: 0.2055 - accuracy: 0.9218 - val_loss: 0.3462 - val_accuracy: 0.8545\n",
      "Epoch 7/30\n",
      "625/625 - 3s - loss: 0.1837 - accuracy: 0.9321 - val_loss: 0.3619 - val_accuracy: 0.8501\n",
      "Epoch 8/30\n",
      "625/625 - 3s - loss: 0.1654 - accuracy: 0.9385 - val_loss: 0.3679 - val_accuracy: 0.8554\n",
      "Epoch 9/30\n",
      "625/625 - 3s - loss: 0.1497 - accuracy: 0.9459 - val_loss: 0.3973 - val_accuracy: 0.8442\n",
      "Epoch 10/30\n",
      "625/625 - 3s - loss: 0.1357 - accuracy: 0.9521 - val_loss: 0.4218 - val_accuracy: 0.8395\n",
      "Epoch 11/30\n",
      "625/625 - 3s - loss: 0.1245 - accuracy: 0.9567 - val_loss: 0.4134 - val_accuracy: 0.8492\n",
      "Epoch 12/30\n",
      "625/625 - 3s - loss: 0.1144 - accuracy: 0.9610 - val_loss: 0.4455 - val_accuracy: 0.8439\n",
      "Epoch 13/30\n",
      "625/625 - 3s - loss: 0.1050 - accuracy: 0.9640 - val_loss: 0.4587 - val_accuracy: 0.8441\n",
      "Epoch 14/30\n",
      "625/625 - 3s - loss: 0.0978 - accuracy: 0.9675 - val_loss: 0.4772 - val_accuracy: 0.8460\n",
      "Epoch 15/30\n",
      "625/625 - 2s - loss: 0.0885 - accuracy: 0.9707 - val_loss: 0.5007 - val_accuracy: 0.8429\n",
      "Epoch 16/30\n",
      "625/625 - 2s - loss: 0.0827 - accuracy: 0.9729 - val_loss: 0.5406 - val_accuracy: 0.8366\n",
      "Epoch 17/30\n",
      "625/625 - 3s - loss: 0.0772 - accuracy: 0.9746 - val_loss: 0.5526 - val_accuracy: 0.8395\n",
      "Epoch 18/30\n",
      "625/625 - 3s - loss: 0.0703 - accuracy: 0.9777 - val_loss: 0.5882 - val_accuracy: 0.8340\n",
      "Epoch 19/30\n",
      "625/625 - 3s - loss: 0.0641 - accuracy: 0.9803 - val_loss: 0.6272 - val_accuracy: 0.8310\n",
      "Epoch 20/30\n",
      "625/625 - 3s - loss: 0.0596 - accuracy: 0.9815 - val_loss: 0.6427 - val_accuracy: 0.8307\n",
      "Epoch 21/30\n",
      "625/625 - 3s - loss: 0.0555 - accuracy: 0.9828 - val_loss: 0.6754 - val_accuracy: 0.8293\n",
      "Epoch 22/30\n",
      "625/625 - 3s - loss: 0.0529 - accuracy: 0.9836 - val_loss: 0.7023 - val_accuracy: 0.8284\n",
      "Epoch 23/30\n",
      "625/625 - 3s - loss: 0.0478 - accuracy: 0.9851 - val_loss: 0.7344 - val_accuracy: 0.8267\n",
      "Epoch 24/30\n",
      "625/625 - 3s - loss: 0.0435 - accuracy: 0.9879 - val_loss: 0.7678 - val_accuracy: 0.8253\n",
      "Epoch 25/30\n",
      "625/625 - 3s - loss: 0.0406 - accuracy: 0.9891 - val_loss: 0.8059 - val_accuracy: 0.8219\n",
      "Epoch 26/30\n",
      "625/625 - 3s - loss: 0.0395 - accuracy: 0.9885 - val_loss: 0.8394 - val_accuracy: 0.8205\n",
      "Epoch 27/30\n",
      "625/625 - 3s - loss: 0.0357 - accuracy: 0.9894 - val_loss: 0.8859 - val_accuracy: 0.8199\n",
      "Epoch 28/30\n",
      "625/625 - 3s - loss: 0.0324 - accuracy: 0.9905 - val_loss: 0.9980 - val_accuracy: 0.8155\n",
      "Epoch 29/30\n",
      "625/625 - 3s - loss: 0.0308 - accuracy: 0.9915 - val_loss: 0.9506 - val_accuracy: 0.8179\n",
      "Epoch 30/30\n",
      "625/625 - 3s - loss: 0.0285 - accuracy: 0.9920 - val_loss: 0.9676 - val_accuracy: 0.8164\n"
     ]
    }
   ],
   "source": [
    "model = tf.keras.Sequential([\n",
    "    tf.keras.layers.Embedding(vocab_size, embedding_dim, input_length=max_length),\n",
    "    tf.keras.layers.GlobalAveragePooling1D(),\n",
    "    tf.keras.layers.Dense(24, activation='relu'),\n",
    "    tf.keras.layers.Dense(1, activation='sigmoid')\n",
    "])\n",
    "model.compile(loss='binary_crossentropy', optimizer='adam', metrics=['accuracy'])\n",
    "\n",
    "num_epochs = 30\n",
    "history = model.fit(training_padded, training_labels, epochs = num_epochs,\n",
    "                   validation_data = (testing_padded, testing_labels), verbose=2)"
   ]
  },
  {
   "cell_type": "code",
   "execution_count": 8,
   "id": "fffeb564",
   "metadata": {
    "execution": {
     "iopub.execute_input": "2022-11-17T04:30:14.479938Z",
     "iopub.status.busy": "2022-11-17T04:30:14.479057Z",
     "iopub.status.idle": "2022-11-17T04:30:14.989015Z",
     "shell.execute_reply": "2022-11-17T04:30:14.989548Z",
     "shell.execute_reply.started": "2022-11-17T04:22:47.358238Z"
    },
    "papermill": {
     "duration": 0.564582,
     "end_time": "2022-11-17T04:30:14.989750",
     "exception": false,
     "start_time": "2022-11-17T04:30:14.425168",
     "status": "completed"
    },
    "tags": []
   },
   "outputs": [
    {
     "data": {
      "image/png": "[encoded data removed]",
      "text/plain": [
       "<Figure size 432x288 with 1 Axes>"
      ]
     },
     "metadata": {
      "needs_background": "light"
     },
     "output_type": "display_data"
    },
    {
     "data": {
      "image/png": "[encoded data removed]",
      "text/plain": [
       "<Figure size 432x288 with 1 Axes>"
      ]
     },
     "metadata": {
      "needs_background": "light"
     },
     "output_type": "display_data"
    }
   ],
   "source": [
    "import matplotlib.pyplot as plt\n",
    "\n",
    "def plot_graphs(history, string):\n",
    "  plt.plot(history.history[string])\n",
    "  plt.plot(history.history['val_'+string])\n",
    "  plt.xlabel(\"Epochs\")\n",
    "  plt.ylabel(string)\n",
    "  plt.legend([string, 'val_'+string])\n",
    "  plt.show()\n",
    "  \n",
    "plot_graphs(history, \"accuracy\")\n",
    "plot_graphs(history, \"loss\")"
   ]
  },
  {
   "cell_type": "code",
   "execution_count": 9,
   "id": "4be2ebb5",
   "metadata": {
    "execution": {
     "iopub.execute_input": "2022-11-17T04:30:15.059549Z",
     "iopub.status.busy": "2022-11-17T04:30:15.058317Z",
     "iopub.status.idle": "2022-11-17T04:30:15.219241Z",
     "shell.execute_reply": "2022-11-17T04:30:15.218495Z",
     "shell.execute_reply.started": "2022-11-17T04:22:47.723658Z"
    },
    "papermill": {
     "duration": 0.196813,
     "end_time": "2022-11-17T04:30:15.219405",
     "exception": false,
     "start_time": "2022-11-17T04:30:15.022592",
     "status": "completed"
    },
    "tags": []
   },
   "outputs": [
    {
     "name": "stdout",
     "output_type": "stream",
     "text": [
      "[[9.6522331e-01]\n",
      " [4.3162767e-05]]\n"
     ]
    }
   ],
   "source": [
    "sentence = [\"granny starting to fear spiders in the garden might be real\", \"game of thrones season finale showing this sunday night\"]\n",
    "sequences = tokenizer.texts_to_sequences(sentence)\n",
    "padded = pad_sequences(sequences, maxlen=max_length, padding=padding_type, truncating=trunc_type)\n",
    "print(model.predict(padded))"
   ]
  },
  {
   "cell_type": "code",
   "execution_count": 10,
   "id": "53c62caa",
   "metadata": {
    "execution": {
     "iopub.execute_input": "2022-11-17T04:30:15.294015Z",
     "iopub.status.busy": "2022-11-17T04:30:15.293002Z",
     "iopub.status.idle": "2022-11-17T04:30:15.353563Z",
     "shell.execute_reply": "2022-11-17T04:30:15.352677Z",
     "shell.execute_reply.started": "2022-11-17T04:27:32.899890Z"
    },
    "papermill": {
     "duration": 0.100221,
     "end_time": "2022-11-17T04:30:15.353724",
     "exception": false,
     "start_time": "2022-11-17T04:30:15.253503",
     "status": "completed"
    },
    "tags": []
   },
   "outputs": [
    {
     "name": "stdout",
     "output_type": "stream",
     "text": [
      "[[1.9750765e-07]\n",
      " [9.9927545e-01]]\n"
     ]
    }
   ],
   "source": [
    "sentence = [\"The sky is blue Susan\", \"Boy you really did an awesome job you only screwed it up a little bit\"]\n",
    "sequences = tokenizer.texts_to_sequences(sentence)\n",
    "padded = pad_sequences(sequences, maxlen=max_length, padding=padding_type, truncating=trunc_type)\n",
    "print(model.predict(padded))"
   ]
  },
  {
   "cell_type": "code",
   "execution_count": null,
   "id": "b810495f",
   "metadata": {
    "papermill": {
     "duration": 0.03123,
     "end_time": "2022-11-17T04:30:15.417391",
     "exception": false,
     "start_time": "2022-11-17T04:30:15.386161",
     "status": "completed"
    },
    "tags": []
   },
   "outputs": [],
   "source": []
  }
 ],
 "metadata": {
  "kernelspec": {
   "display_name": "Python 3",
   "language": "python",
   "name": "python3"
  },
  "language_info": {
   "codemirror_mode": {
    "name": "ipython",
    "version": 3
   },
   "file_extension": ".py",
   "mimetype": "text/x-python",
   "name": "python",
   "nbconvert_exporter": "python",
   "pygments_lexer": "ipython3",
   "version": "3.7.10"
  },
  "papermill": {
   "default_parameters": {},
   "duration": 103.961854,
   "end_time": "2022-11-17T04:30:18.811898",
   "environment_variables": {},
   "exception": null,
   "input_path": "__notebook__.ipynb",
   "output_path": "__notebook__.ipynb",
   "parameters": {},
   "start_time": "2022-11-17T04:28:34.850044",
   "version": "2.3.3"
  }
 },
 "nbformat": 4,
 "nbformat_minor": 5
}

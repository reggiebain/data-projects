{
  "nbformat": 4,
  "nbformat_minor": 0,
  "metadata": {
    "colab": {
      "provenance": [],
      "authorship_tag": "ABX9TyOz1+14WfwxZexfEh8QKpG+",
      "include_colab_link": true
    },
    "kernelspec": {
      "name": "python3",
      "display_name": "Python 3"
    },
    "language_info": {
      "name": "python"
    }
  },
  "cells": [
    {
      "cell_type": "markdown",
      "metadata": {
        "id": "view-in-github",
        "colab_type": "text"
      },
      "source": [
        "<a href=\"https://colab.research.google.com/github/reggiebain/data-projects/blob/main/Physics_ChatBot.ipynb\" target=\"_parent\"><img src=\"https://colab.research.google.com/assets/colab-badge.svg\" alt=\"Open In Colab\"/></a>"
      ]
    },
    {
      "cell_type": "markdown",
      "source": [
        "# Basic Physics Chat-Bot\n",
        "- In this notebook, we create a basic chat bot to respond to basic queries about important details/deadlines in a class that uses Canvas as an LMS.\n",
        "- The primary functions are: basic Wolfram Alpha queries, asking for test dates/homework dates from Canvas\n",
        "- Note: You'll need your own Canvas API key and course information as well as an API key for WolframAlpha and/or OpenAI"
      ],
      "metadata": {
        "id": "UhVv4cPLB6Ac"
      }
    },
    {
      "cell_type": "markdown",
      "source": [
        "Train to recognize:\n",
        "1. Math question for Wolfram\n",
        "2. Class question for canvas\n",
        "3. Wording question for chatgpt"
      ],
      "metadata": {
        "id": "ydcGfK6Iw3pn"
      }
    },
    {
      "cell_type": "code",
      "source": [
        "!pip install wolframalpha\n",
        "!pip install openai\n",
        "!pip install canvasapi"
      ],
      "metadata": {
        "colab": {
          "base_uri": "https://localhost:8080/"
        },
        "id": "goy5aWxmiWsW",
        "outputId": "24c18444-ea8c-43e8-81ec-3ef08c2aa8bc"
      },
      "execution_count": null,
      "outputs": [
        {
          "output_type": "stream",
          "name": "stdout",
          "text": [
            "Looking in indexes: https://pypi.org/simple, https://us-python.pkg.dev/colab-wheels/public/simple/\n",
            "Collecting wolframalpha\n",
            "  Downloading wolframalpha-5.0.0-py3-none-any.whl (7.5 kB)\n",
            "Collecting jaraco.context\n",
            "  Downloading jaraco.context-4.3.0-py3-none-any.whl (5.3 kB)\n",
            "Requirement already satisfied: more-itertools in /usr/local/lib/python3.9/dist-packages (from wolframalpha) (9.1.0)\n",
            "Collecting xmltodict\n",
            "  Downloading xmltodict-0.13.0-py2.py3-none-any.whl (10.0 kB)\n",
            "Installing collected packages: xmltodict, jaraco.context, wolframalpha\n",
            "Successfully installed jaraco.context-4.3.0 wolframalpha-5.0.0 xmltodict-0.13.0\n",
            "Looking in indexes: https://pypi.org/simple, https://us-python.pkg.dev/colab-wheels/public/simple/\n",
            "Collecting openai\n",
            "  Downloading openai-0.27.2-py3-none-any.whl (70 kB)\n",
            "\u001b[2K     \u001b[90m━━━━━━━━━━━━━━━━━━━━━━━━━━━━━━━━━━━━━━━━\u001b[0m \u001b[32m70.1/70.1 KB\u001b[0m \u001b[31m5.3 MB/s\u001b[0m eta \u001b[36m0:00:00\u001b[0m\n",
            "\u001b[?25hCollecting aiohttp\n",
            "  Downloading aiohttp-3.8.4-cp39-cp39-manylinux_2_17_x86_64.manylinux2014_x86_64.whl (1.0 MB)\n",
            "\u001b[2K     \u001b[90m━━━━━━━━━━━━━━━━━━━━━━━━━━━━━━━━━━━━━━━━\u001b[0m \u001b[32m1.0/1.0 MB\u001b[0m \u001b[31m44.2 MB/s\u001b[0m eta \u001b[36m0:00:00\u001b[0m\n",
            "\u001b[?25hRequirement already satisfied: requests>=2.20 in /usr/local/lib/python3.9/dist-packages (from openai) (2.27.1)\n",
            "Requirement already satisfied: tqdm in /usr/local/lib/python3.9/dist-packages (from openai) (4.65.0)\n",
            "Requirement already satisfied: idna<4,>=2.5 in /usr/local/lib/python3.9/dist-packages (from requests>=2.20->openai) (3.4)\n",
            "Requirement already satisfied: certifi>=2017.4.17 in /usr/local/lib/python3.9/dist-packages (from requests>=2.20->openai) (2022.12.7)\n",
            "Requirement already satisfied: urllib3<1.27,>=1.21.1 in /usr/local/lib/python3.9/dist-packages (from requests>=2.20->openai) (1.26.15)\n",
            "Requirement already satisfied: charset-normalizer~=2.0.0 in /usr/local/lib/python3.9/dist-packages (from requests>=2.20->openai) (2.0.12)\n",
            "Collecting aiosignal>=1.1.2\n",
            "  Downloading aiosignal-1.3.1-py3-none-any.whl (7.6 kB)\n",
            "Collecting async-timeout<5.0,>=4.0.0a3\n",
            "  Downloading async_timeout-4.0.2-py3-none-any.whl (5.8 kB)\n",
            "Collecting yarl<2.0,>=1.0\n",
            "  Downloading yarl-1.8.2-cp39-cp39-manylinux_2_17_x86_64.manylinux2014_x86_64.whl (264 kB)\n",
            "\u001b[2K     \u001b[90m━━━━━━━━━━━━━━━━━━━━━━━━━━━━━━━━━━━━━━\u001b[0m \u001b[32m264.6/264.6 KB\u001b[0m \u001b[31m28.0 MB/s\u001b[0m eta \u001b[36m0:00:00\u001b[0m\n",
            "\u001b[?25hRequirement already satisfied: attrs>=17.3.0 in /usr/local/lib/python3.9/dist-packages (from aiohttp->openai) (22.2.0)\n",
            "Collecting multidict<7.0,>=4.5\n",
            "  Downloading multidict-6.0.4-cp39-cp39-manylinux_2_17_x86_64.manylinux2014_x86_64.whl (114 kB)\n",
            "\u001b[2K     \u001b[90m━━━━━━━━━━━━━━━━━━━━━━━━━━━━━━━━━━━━━━\u001b[0m \u001b[32m114.2/114.2 KB\u001b[0m \u001b[31m14.9 MB/s\u001b[0m eta \u001b[36m0:00:00\u001b[0m\n",
            "\u001b[?25hCollecting frozenlist>=1.1.1\n",
            "  Downloading frozenlist-1.3.3-cp39-cp39-manylinux_2_5_x86_64.manylinux1_x86_64.manylinux_2_17_x86_64.manylinux2014_x86_64.whl (158 kB)\n",
            "\u001b[2K     \u001b[90m━━━━━━━━━━━━━━━━━━━━━━━━━━━━━━━━━━━━━━\u001b[0m \u001b[32m158.8/158.8 KB\u001b[0m \u001b[31m18.8 MB/s\u001b[0m eta \u001b[36m0:00:00\u001b[0m\n",
            "\u001b[?25hInstalling collected packages: multidict, frozenlist, async-timeout, yarl, aiosignal, aiohttp, openai\n",
            "Successfully installed aiohttp-3.8.4 aiosignal-1.3.1 async-timeout-4.0.2 frozenlist-1.3.3 multidict-6.0.4 openai-0.27.2 yarl-1.8.2\n",
            "Looking in indexes: https://pypi.org/simple, https://us-python.pkg.dev/colab-wheels/public/simple/\n",
            "Collecting canvasapi\n",
            "  Downloading canvasapi-3.0.0.tar.gz (84 kB)\n",
            "\u001b[2K     \u001b[90m━━━━━━━━━━━━━━━━━━━━━━━━━━━━━━━━━━━━━━━━\u001b[0m \u001b[32m84.4/84.4 KB\u001b[0m \u001b[31m7.5 MB/s\u001b[0m eta \u001b[36m0:00:00\u001b[0m\n",
            "\u001b[?25h  Preparing metadata (setup.py) ... \u001b[?25l\u001b[?25hdone\n",
            "Collecting arrow\n",
            "  Downloading arrow-1.2.3-py3-none-any.whl (66 kB)\n",
            "\u001b[2K     \u001b[90m━━━━━━━━━━━━━━━━━━━━━━━━━━━━━━━━━━━━━━━━\u001b[0m \u001b[32m66.4/66.4 KB\u001b[0m \u001b[31m8.7 MB/s\u001b[0m eta \u001b[36m0:00:00\u001b[0m\n",
            "\u001b[?25hRequirement already satisfied: pytz in /usr/local/lib/python3.9/dist-packages (from canvasapi) (2022.7.1)\n",
            "Requirement already satisfied: requests in /usr/local/lib/python3.9/dist-packages (from canvasapi) (2.27.1)\n",
            "Requirement already satisfied: python-dateutil>=2.7.0 in /usr/local/lib/python3.9/dist-packages (from arrow->canvasapi) (2.8.2)\n",
            "Requirement already satisfied: urllib3<1.27,>=1.21.1 in /usr/local/lib/python3.9/dist-packages (from requests->canvasapi) (1.26.15)\n",
            "Requirement already satisfied: charset-normalizer~=2.0.0 in /usr/local/lib/python3.9/dist-packages (from requests->canvasapi) (2.0.12)\n",
            "Requirement already satisfied: idna<4,>=2.5 in /usr/local/lib/python3.9/dist-packages (from requests->canvasapi) (3.4)\n",
            "Requirement already satisfied: certifi>=2017.4.17 in /usr/local/lib/python3.9/dist-packages (from requests->canvasapi) (2022.12.7)\n",
            "Requirement already satisfied: six>=1.5 in /usr/local/lib/python3.9/dist-packages (from python-dateutil>=2.7.0->arrow->canvasapi) (1.16.0)\n",
            "Building wheels for collected packages: canvasapi\n",
            "  Building wheel for canvasapi (setup.py) ... \u001b[?25l\u001b[?25hdone\n",
            "  Created wheel for canvasapi: filename=canvasapi-3.0.0-py3-none-any.whl size=109644 sha256=1817378df6f599b18d352dc435135f199ec1dcb47a9401504c193bd7452fdd63\n",
            "  Stored in directory: /root/.cache/pip/wheels/9d/e1/a5/b9c5205377448b0389c0fccef6ea936bd17774de0aa0d4acaf\n",
            "Successfully built canvasapi\n",
            "Installing collected packages: arrow, canvasapi\n",
            "Successfully installed arrow-1.2.3 canvasapi-3.0.0\n"
          ]
        }
      ]
    },
    {
      "cell_type": "code",
      "source": [],
      "metadata": {
        "id": "Wcu6Tk9rzOTj"
      },
      "execution_count": null,
      "outputs": []
    },
    {
      "cell_type": "code",
      "source": [
        "import openai\n",
        "import re\n",
        "import wolframalpha\n",
        "import requests\n",
        "import json\n",
        "from canvasapi import Canvas\n",
        "from datetime import date, timedelta\n",
        "\n",
        "# Set up Canvas API\n",
        "CANVAS_API_URL = \"<MY CANVAS API URL>\" \n",
        "CANVAS_API_KEY = \"<MY CANVAS API KEY>\"\n",
        "\n",
        "headers = {\"Authorization\": \"Bearer \" + CANVAS_API_KEY}\n",
        "\n",
        "# Set up the OpenAI API key\n",
        "openai.api_key = \"<MY OPENAI KEY>\n",
        "\n",
        "# Set up Wolfram Alpha API access\n",
        "app_id = \"<MY WOLFRAM API KEY>\"\n",
        "client = wolframalpha.Client(app_id)"
      ],
      "metadata": {
        "id": "Uq0PdSEsHCCW"
      },
      "execution_count": null,
      "outputs": []
    },
    {
      "cell_type": "code",
      "source": [
        "from datetime import datetime, date, timedelta\n",
        "from dateutil import parser\n",
        "#test.due_at.split('T')[0]\n",
        "\n",
        "# Function that returns assignments due in certain date range.\n",
        "def due_in_date_range(course, prompt):\n",
        "  date_format = '%Y-%m-%dT%H:%M:%S%z'\n",
        "  assignments = course.get_assignments()\n",
        "#  from datetime import timedelta, datetime, date\n",
        "  today = date.today()\n",
        "  #.strftime(\"%B %d, %Y\") # get todays date in nice format\n",
        "  \n",
        "  # Extract dates or \"this week\" or \"next week\"\n",
        "  date_words = ['due']\n",
        "  recent_assignments = []\n",
        "  for word in date_words:\n",
        "    if word in date_words:\n",
        "      for assignment in assignments:\n",
        "        if assignment.due_at:\n",
        "          due_date = datetime.strptime(str(assignment.due_at), date_format).date()\n",
        "          if today - timedelta(weeks=1) <= due_date <= today + timedelta(weeks=1):\n",
        "            if assignment.published: # Show only published assignments\n",
        "              recent_assignments.append(f'Assignment: {assignment.name}  |  Due Date: {due_date}')\n",
        "  return_string = 'The assignments with +/- 1 Week from Today are as follows: \\n' + '\\n'.join(recent_assignments)\n",
        "  return return_string   "
      ],
      "metadata": {
        "id": "Vev-lfQrzuPY"
      },
      "execution_count": null,
      "outputs": []
    },
    {
      "cell_type": "code",
      "source": [
        "def get_exam_dates(course):\n",
        "  \n",
        "  # Get all assignments from the specified course\n",
        "  assignments = course.get_assignments()\n",
        "  \n",
        "  # Specify date format and prepare to return in readable format\n",
        "  date_format = '%Y-%m-%dT%H:%M:%S%z'\n",
        "  \n",
        "  tests = {}\n",
        "  for assignment in assignments:\n",
        "    if re.search(r'Exam.*\\*\\*', assignment.name):\n",
        "      \n",
        "      # Get and format the due date of the exams in a readable way\n",
        "      due_date = datetime.strptime(str(assignment.due_at), date_format)\n",
        "      readable_date = str(due_date.strftime(\"%A, %B %d, %Y\"))\n",
        "      \n",
        "      # Get and format the exam name in a readable way\n",
        "      readable_name = re.sub(r'\\*\\*$', '', assignment.name)\n",
        "      \n",
        "      # Add entry to the dictionary of exams to be printed\n",
        "      tests[f'{readable_name}'] = readable_date\n",
        "\n",
        "  return_string = (\n",
        "       f\"There are 4 exams and 1 final exam this semester whose\\n\" \n",
        "       f\"dates are subject to change. As of now, the tests are \\n\"\n",
        "       f\"scheduled as follows:\\n\"\n",
        "       f\"{('Exam'):<14} {('Date'):<14}\\n\"\n",
        "       f\"--------------------------\\n\"\n",
        "       f\"{('Exam 1'):<14} {tests['Exam 1']:<14}\\n\"\n",
        "       f\"{('Exam 2'):<14} {tests['Exam 2']:<14}\\n\"\n",
        "       f\"{('Exam 3'):<14} {tests['Exam 3']:<14}\\n\"\n",
        "       f\"{('Exam 4'):<14} {tests['Exam 4']:<14}\\n\"\n",
        "       f\"{('Final Exam'):<14} {tests['Final Exam']:<14}\\n\"\n",
        "       )\n",
        "  return return_string\n",
        "\n",
        "canvas = Canvas(CANVAS_API_URL, CANVAS_API_KEY)\n",
        "residential = canvas.get_course(4638)\n",
        "print(get_exam_dates(residential))"
      ],
      "metadata": {
        "colab": {
          "base_uri": "https://localhost:8080/"
        },
        "id": "X3-sWY7YJScJ",
        "outputId": "ed9dd669-5ef1-4901-c4aa-8834c538a104"
      },
      "execution_count": null,
      "outputs": [
        {
          "output_type": "stream",
          "name": "stdout",
          "text": [
            "'There are 4 exams and 1 final exam this semester whose\n",
            "dates are subject to change. As of now, the tests are \n",
            "scheduled as follows\n",
            "Exam           Date          \n",
            "--------------------------\n",
            "Exam 1         Tuesday, February 21, 2023\n",
            "Exam 2         Thursday, March 09, 2023\n",
            "Exam 3         Wednesday, March 29, 2023\n",
            "Exam 4         Wednesday, April 26, 2023\n",
            "Final Exam     Tuesday, May 23, 2023\n",
            "\n"
          ]
        }
      ]
    },
    {
      "cell_type": "code",
      "source": [
        "from datetime import datetime, date, timedelta\n",
        "from dateutil import parser\n",
        "# Define a function to send a message to the ChatGPT API and get a response\n",
        "def get_gpt_response(prompt):\n",
        "    # Send the prompt to the API\n",
        "    response = openai.Completion.create(\n",
        "        engine=\"davinci\",\n",
        "        prompt=prompt,\n",
        "        max_tokens=1024,\n",
        "        n=1,\n",
        "        stop=None,\n",
        "        temperature=0.5,\n",
        "    )\n",
        "\n",
        "    # Extract the text from the response\n",
        "    message = response.choices[0].text\n",
        "    message = re.sub('[^0-9a-zA-Z\\n\\.\\?,!]+', ' ', message).strip()\n",
        "\n",
        "    return message\n",
        "\n",
        "# Get a response from canvas\n",
        "def get_canvas_response(question):\n",
        "  canvas = Canvas(CANVAS_API_URL, CANVAS_API_KEY)\n",
        "  user = canvas.get_user(4878) # Grab my own user id (reggiebain)\n",
        "  courses = user.get_courses(enrollment_status='active')\n",
        "  residential = canvas.get_course(4638)\n",
        "  stem_foundations = canvas.get_course(4271)\n",
        "\n",
        "  return due_in_date_range(residential, question)\n",
        "\n",
        "# Answer question using Wolfram Alpha\n",
        "def get_wolfram_response(question):\n",
        "    try:\n",
        "        res = client.query(question)\n",
        "        answer = next(res.results).text\n",
        "    except:\n",
        "        answer = \"Sorry, I don't know the answer to that question.\"\n",
        "    return answer\n",
        "\n",
        "# Define a function to handle user input and output chatbot responses\n",
        "def run_chatbot():\n",
        "    print(\"Hello! I'm a Chatbot. How can I help you?\")\n",
        "    while True:\n",
        "        user_input = input(\"--> \")\n",
        "        if user_input.lower() in [\"quit\", 'exit', 'bye']:\n",
        "            break\n",
        "        \n",
        "        ask_chat = True\n",
        "        canvas_keywords = ['canvas', 'test', 'hw', 'homework', 'our class', 'physics', 'due']\n",
        "        for word in canvas_keywords:\n",
        "          if word in user_input.lower():\n",
        "            ask_chat = False\n",
        "            prompt = str(user_input)\n",
        "            response = get_canvas_response(prompt)\n",
        "        \n",
        "        wolfram_keywords = ['wolfram', 'alpha', 'solve', 'prime', 'solution', '*', '^2', 'units']\n",
        "        for word in wolfram_keywords:\n",
        "          if word in user_input.lower():\n",
        "            ask_chat = False\n",
        "            prompt = str(user_input)\n",
        "            response = get_wolfram_response(prompt)\n",
        "        \n",
        "        if ask_chat:\n",
        "          prompt = f'User: {user_input}\\n Chatbot:'\n",
        "          response = get_gpt_response(prompt)\n",
        "        #prompt = f\"User: {user_input}\\nChatbot:\"\n",
        "        #response = get_gpt_response(prompt)\n",
        "        #prompt = str(user_input)\n",
        "        #response = get_wolfram_response(prompt)\n",
        "        print(response)\n",
        "\n",
        "# Run the chatbot\n",
        "run_chatbot()\n"
      ],
      "metadata": {
        "colab": {
          "base_uri": "https://localhost:8080/"
        },
        "id": "FCmfHgKVY5lq",
        "outputId": "1ee92f17-5637-4091-9290-bf12281e9a3a"
      },
      "execution_count": null,
      "outputs": [
        {
          "name": "stdout",
          "output_type": "stream",
          "text": [
            "Hello! I'm a Chatbot. How can I help you?\n",
            "--> quit\n"
          ]
        }
      ]
    },
    {
      "cell_type": "code",
      "source": [
        "import wolframalpha\n",
        "\n",
        "while True:\n",
        "  client = wolframalpha.Client('<MY WOLFRAM KEY>')\n",
        "  prompt = str(input('How can I help you?'))\n",
        "  if prompt == 'quit':\n",
        "    break\n",
        "  answer = client.query(prompt)\n",
        "  output = next(answer.results).text\n",
        "  print(output)"
      ],
      "metadata": {
        "id": "sTvYNzFmiTvW"
      },
      "execution_count": null,
      "outputs": []
    },
    {
      "cell_type": "code",
      "source": [
        "print(datetime.date.today() + datetime.timedelta(weeks=2))"
      ],
      "metadata": {
        "colab": {
          "base_uri": "https://localhost:8080/"
        },
        "id": "Gscx3vcq-2ya",
        "outputId": "13f2a2aa-b1ea-4ae3-a429-5e39c16134db"
      },
      "execution_count": null,
      "outputs": [
        {
          "output_type": "stream",
          "name": "stdout",
          "text": [
            "2023-04-06\n"
          ]
        }
      ]
    },
    {
      "cell_type": "markdown",
      "source": [
        "Now we'll create some training data. Goals will be basic:\n",
        "1. Questions about syllabus\n",
        "2. Questions about due dates\n",
        "3. Questions about grades"
      ],
      "metadata": {
        "id": "hU1nmURX0upF"
      }
    },
    {
      "cell_type": "code",
      "source": [
        "# Create training data of tags, responses, patterns in json format for now for ease of typing\n",
        "{'intents': [\n",
        "    {'tag': 'grade',\n",
        "     'patterns': ['what is my grade', 'i want to know my class grade','what is my course grade', 'what grade do I have', 'course grade'],\n",
        "     'responses': ['You current course grade is posted on Canvas under an assignment named \"Overall Course Grade\". I am not authorized to give out grades here.'],\n",
        "    },\n",
        "    {'tag': 'policy',\n",
        "     'patterns': ['How much do exams count for', 'How much is homework worth', 'how much are exams worth', 'how much of my grade is homework', \n",
        "                  'what percent of the grade is homework', 'how much of my grade is this exam', 'what is the final exam worth', \n",
        "                  'how much does the final exam count','what percent of my grade is the'],\n",
        "     'responses': [(f\"{('Item'):<14} {('Grade Pct.'):<14}\\n\"\n",
        "       f\"--------------------------\\n\"\n",
        "       f\"{('Exams (x4)'):<14} {('11.25%'):<14}\\n\"\n",
        "       f\"{('Final Exam'):<14} {('15%'):<14}\\n\"\n",
        "       f\"{('Lab'):<14} {('20%'):<14}\\n\"\n",
        "       f\"{('WebAssign'):<14} {('20%'):<14}\\n\\n\"\n",
        "       f\"To calculate your grade, use a weighted average of your overall scores\\n\" \n",
        "       f\"for each exam, lab, and WebAssign homework using the weights shown above\\n\"\n",
        "       f\"and your grades, which are all accessible on Canvas/WebAssign. I recommend\\n\"\n",
        "       f\"entering in projected scores for future exams if you have not yet taken those\\n\"\n",
        "       f\"rather than trying to calculate a partial grade. Enter exam scores as numbers\\n\"\n",
        "       f\"between 0 and 100. For example:\\n\\n\"\n",
        "       f\"Grade = 0.45*(Exam1 + Exam2 + Exam3 + Exam4) + 0.15*(Final) + 0.2*(Homework) + 0.2*(Lab)\"\n",
        "       )]\n",
        "    }\n",
        "]}"
      ],
      "metadata": {
        "id": "IqhYgXLdvumx"
      },
      "execution_count": null,
      "outputs": []
    },
    {
      "cell_type": "code",
      "source": [
        "syllabus_responses = {}\n",
        "syllabus_responses['grades'] = (f\"{('Item'):<14} {('Grade Pct.'):<14}\\n\"\n",
        "       f\"--------------------------\\n\"\n",
        "       f\"{('Exams (x4)'):<14} {('11.25%'):<14}\\n\"\n",
        "       f\"{('Final Exam'):<14} {('15%'):<14}\\n\"\n",
        "       f\"{('Lab'):<14} {('20%'):<14}\\n\"\n",
        "       f\"{('WebAssign'):<14} {('20%'):<14}\\n\\n\"\n",
        "       f\"To calculate your grade, use a weighted average of your overall scores\\n\" \n",
        "       f\"for each exam, lab, and WebAssign homework using the weights shown above\\n\"\n",
        "       f\"and your grades, which are all accessible on Canvas/WebAssign. I recommend\\n\"\n",
        "       f\"entering in projected scores for future exams if you have not yet taken those\\n\"\n",
        "       f\"rather than trying to calculate a partial grade. Enter exam scores as numbers\\n\"\n",
        "       f\"between 0 and 100. You can ask me to do this calculation! For example:\\n\\n\"\n",
        "       f\"Grade = 0.45*(Exam1 + Exam2 + Exam3 + Exam4) + 0.15*(Final) + 0.2*(Homework) + 0.2*(Lab)\"\n",
        "       )\n",
        "print(syllabus_responses['grades'])"
      ],
      "metadata": {
        "colab": {
          "base_uri": "https://localhost:8080/"
        },
        "id": "yEKS1mQnNtKm",
        "outputId": "021a36df-12a1-4e28-ecff-1523e8f150cc"
      },
      "execution_count": null,
      "outputs": [
        {
          "output_type": "stream",
          "name": "stdout",
          "text": [
            "Item           Grade Pct.    \n",
            "--------------------------\n",
            "Exams (x4)     11.25%        \n",
            "Final Exam     15%           \n",
            "Lab            20%           \n",
            "WebAssign      20%           \n",
            "\n",
            "To calculate your grade, use a weighted average of your overall scores\n",
            "for each exam, lab, and WebAssign homework using the weights shown above\n",
            "and your grades, which are all accessible on Canvas/WebAssign. I recommend\n",
            "entering in projected scores for future exams if you have not yet taken those\n",
            "rather than trying to calculate a partial grade. Enter exam scores as numbers\n",
            "between 0 and 100. For example:\n",
            "\n",
            "Grade = 0.45*(Exam1 + Exam2 + Exam3 + Exam4) + 0.15*(Final) + 0.2*(Homework) + 0.2*(Lab)\n"
          ]
        }
      ]
    },
    {
      "cell_type": "code",
      "source": [
        "canvas_responses = {}\n",
        "\n",
        "canvas_responses['tests'] = (f\"There are 4 exams and 1 final exam this semester whose\\n\" \n",
        "       f\"dates are subject to change. As of now, the tests are scheduled as follows\\n\"\n",
        "       f\"{('Exam'):<14} {('Date'):<14}\\n\"\n",
        "       f\"--------------------------\\n\"\n",
        "       f\"{('Exam 1'):<14} {tests['Exam 1']:<14}\\n\"\n",
        "       f\"{('Final Exam'):<14} {('15%'):<14}\\n\"\n",
        "       f\"{('Lab'):<14} {('20%'):<14}\\n\"\n",
        "       f\"{('WebAssign'):<14} {('20%'):<14}\\n\\n\"\n",
        "       f\"To calculate your grade, use a weighted average of your overall scores\\n\" \n",
        "       f\"for each exam, lab, and WebAssign homework using the weights shown above\\n\"\n",
        "       f\"and your grades, which are all accessible on Canvas/WebAssign. I recommend\\n\"\n",
        "       f\"entering in projected scores for future exams if you have not yet taken those\\n\"\n",
        "       f\"rather than trying to calculate a partial grade. Enter exam scores as numbers\\n\"\n",
        "       f\"between 0 and 100. For example:\\n\\n\"\n",
        "       f\"Grade = 0.45*(Exam1 + Exam2 + Exam3 + Exam4) + 0.15*(Final) + 0.2*(Homework) + 0.2*(Lab)\"\n",
        "       )"
      ],
      "metadata": {
        "id": "k7Xh3cGnHd0U"
      },
      "execution_count": null,
      "outputs": []
    }
  ]
}
{
 "cells": [
  {
   "cell_type": "markdown",
   "id": "2a28817c",
   "metadata": {
    "papermill": {
     "duration": 0.007783,
     "end_time": "2024-02-04T18:55:26.715140",
     "exception": false,
     "start_time": "2024-02-04T18:55:26.707357",
     "status": "completed"
    },
    "tags": []
   },
   "source": [
    "## Website Traffic -- Data Engineering & Analysis\n",
    "### The Data\n",
    "- Traffic to a website containing links to music (from Kaggle) for 1 week.\n",
    "- Contains link, what type of event (click/preview/pageview), date, geographic data, data about the artist, album, etc.\n",
    "### The Analysis\n",
    "- Look at page views by day, click rate, click rate by link, the countries included (and how often) in who visits and interacts with the site, and a quick analysis of the correlations between the different numerical and categorical variables."
   ]
  },
  {
   "cell_type": "code",
   "execution_count": 1,
   "id": "adb183dc",
   "metadata": {
    "execution": {
     "iopub.execute_input": "2024-02-04T18:55:26.732819Z",
     "iopub.status.busy": "2024-02-04T18:55:26.732059Z",
     "iopub.status.idle": "2024-02-04T18:55:27.681881Z",
     "shell.execute_reply": "2024-02-04T18:55:27.680642Z"
    },
    "papermill": {
     "duration": 0.962559,
     "end_time": "2024-02-04T18:55:27.685227",
     "exception": false,
     "start_time": "2024-02-04T18:55:26.722668",
     "status": "completed"
    },
    "tags": []
   },
   "outputs": [],
   "source": [
    "import pandas as pd\n",
    "import numpy as np\n",
    "import matplotlib.pyplot as plt"
   ]
  },
  {
   "cell_type": "code",
   "execution_count": 2,
   "id": "b470bf1c",
   "metadata": {
    "execution": {
     "iopub.execute_input": "2024-02-04T18:55:27.703089Z",
     "iopub.status.busy": "2024-02-04T18:55:27.701966Z",
     "iopub.status.idle": "2024-02-04T18:55:28.673372Z",
     "shell.execute_reply": "2024-02-04T18:55:28.672121Z"
    },
    "papermill": {
     "duration": 0.982836,
     "end_time": "2024-02-04T18:55:28.675884",
     "exception": false,
     "start_time": "2024-02-04T18:55:27.693048",
     "status": "completed"
    },
    "tags": []
   },
   "outputs": [
    {
     "data": {
      "text/html": [
       "<div>\n",
       "<style scoped>\n",
       "    .dataframe tbody tr th:only-of-type {\n",
       "        vertical-align: middle;\n",
       "    }\n",
       "\n",
       "    .dataframe tbody tr th {\n",
       "        vertical-align: top;\n",
       "    }\n",
       "\n",
       "    .dataframe thead th {\n",
       "        text-align: right;\n",
       "    }\n",
       "</style>\n",
       "<table border=\"1\" class=\"dataframe\">\n",
       "  <thead>\n",
       "    <tr style=\"text-align: right;\">\n",
       "      <th></th>\n",
       "      <th>event</th>\n",
       "      <th>date</th>\n",
       "      <th>country</th>\n",
       "      <th>city</th>\n",
       "      <th>artist</th>\n",
       "      <th>album</th>\n",
       "      <th>track</th>\n",
       "      <th>isrc</th>\n",
       "      <th>linkid</th>\n",
       "    </tr>\n",
       "  </thead>\n",
       "  <tbody>\n",
       "    <tr>\n",
       "      <th>0</th>\n",
       "      <td>click</td>\n",
       "      <td>2021-08-21</td>\n",
       "      <td>Saudi Arabia</td>\n",
       "      <td>Jeddah</td>\n",
       "      <td>Tesher</td>\n",
       "      <td>Jalebi Baby</td>\n",
       "      <td>Jalebi Baby</td>\n",
       "      <td>QZNWQ2070741</td>\n",
       "      <td>2d896d31-97b6-4869-967b-1c5fb9cd4bb8</td>\n",
       "    </tr>\n",
       "    <tr>\n",
       "      <th>1</th>\n",
       "      <td>click</td>\n",
       "      <td>2021-08-21</td>\n",
       "      <td>Saudi Arabia</td>\n",
       "      <td>Jeddah</td>\n",
       "      <td>Tesher</td>\n",
       "      <td>Jalebi Baby</td>\n",
       "      <td>Jalebi Baby</td>\n",
       "      <td>QZNWQ2070741</td>\n",
       "      <td>2d896d31-97b6-4869-967b-1c5fb9cd4bb8</td>\n",
       "    </tr>\n",
       "    <tr>\n",
       "      <th>2</th>\n",
       "      <td>click</td>\n",
       "      <td>2021-08-21</td>\n",
       "      <td>India</td>\n",
       "      <td>Ludhiana</td>\n",
       "      <td>Reyanna Maria</td>\n",
       "      <td>So Pretty</td>\n",
       "      <td>So Pretty</td>\n",
       "      <td>USUM72100871</td>\n",
       "      <td>23199824-9cf5-4b98-942a-34965c3b0cc2</td>\n",
       "    </tr>\n",
       "    <tr>\n",
       "      <th>3</th>\n",
       "      <td>click</td>\n",
       "      <td>2021-08-21</td>\n",
       "      <td>France</td>\n",
       "      <td>Unknown</td>\n",
       "      <td>Simone &amp; Simaria, Sebastian Yatra</td>\n",
       "      <td>No Llores Más</td>\n",
       "      <td>No Llores Más</td>\n",
       "      <td>BRUM72003904</td>\n",
       "      <td>35573248-4e49-47c7-af80-08a960fa74cd</td>\n",
       "    </tr>\n",
       "    <tr>\n",
       "      <th>4</th>\n",
       "      <td>click</td>\n",
       "      <td>2021-08-21</td>\n",
       "      <td>Maldives</td>\n",
       "      <td>Malé</td>\n",
       "      <td>Tesher</td>\n",
       "      <td>Jalebi Baby</td>\n",
       "      <td>Jalebi Baby</td>\n",
       "      <td>QZNWQ2070741</td>\n",
       "      <td>2d896d31-97b6-4869-967b-1c5fb9cd4bb8</td>\n",
       "    </tr>\n",
       "  </tbody>\n",
       "</table>\n",
       "</div>"
      ],
      "text/plain": [
       "   event        date       country      city  \\\n",
       "0  click  2021-08-21  Saudi Arabia    Jeddah   \n",
       "1  click  2021-08-21  Saudi Arabia    Jeddah   \n",
       "2  click  2021-08-21         India  Ludhiana   \n",
       "3  click  2021-08-21        France   Unknown   \n",
       "4  click  2021-08-21      Maldives      Malé   \n",
       "\n",
       "                              artist          album          track  \\\n",
       "0                             Tesher    Jalebi Baby    Jalebi Baby   \n",
       "1                             Tesher    Jalebi Baby    Jalebi Baby   \n",
       "2                      Reyanna Maria      So Pretty      So Pretty   \n",
       "3  Simone & Simaria, Sebastian Yatra  No Llores Más  No Llores Más   \n",
       "4                             Tesher    Jalebi Baby    Jalebi Baby   \n",
       "\n",
       "           isrc                                linkid  \n",
       "0  QZNWQ2070741  2d896d31-97b6-4869-967b-1c5fb9cd4bb8  \n",
       "1  QZNWQ2070741  2d896d31-97b6-4869-967b-1c5fb9cd4bb8  \n",
       "2  USUM72100871  23199824-9cf5-4b98-942a-34965c3b0cc2  \n",
       "3  BRUM72003904  35573248-4e49-47c7-af80-08a960fa74cd  \n",
       "4  QZNWQ2070741  2d896d31-97b6-4869-967b-1c5fb9cd4bb8  "
      ]
     },
     "execution_count": 2,
     "metadata": {},
     "output_type": "execute_result"
    }
   ],
   "source": [
    "df = pd.read_csv('/kaggle/input/website-traffic-analysis/datasets/traffic.csv')\n",
    "df.head()"
   ]
  },
  {
   "cell_type": "code",
   "execution_count": 3,
   "id": "f7eea8f9",
   "metadata": {
    "execution": {
     "iopub.execute_input": "2024-02-04T18:55:28.694196Z",
     "iopub.status.busy": "2024-02-04T18:55:28.693171Z",
     "iopub.status.idle": "2024-02-04T18:55:28.974291Z",
     "shell.execute_reply": "2024-02-04T18:55:28.972509Z"
    },
    "papermill": {
     "duration": 0.293378,
     "end_time": "2024-02-04T18:55:28.977400",
     "exception": false,
     "start_time": "2024-02-04T18:55:28.684022",
     "status": "completed"
    },
    "tags": []
   },
   "outputs": [
    {
     "name": "stdout",
     "output_type": "stream",
     "text": [
      "Number of Page View Events (All-Time): 142015\n",
      "Number of Page View Events (Per Day): 20287\n"
     ]
    },
    {
     "data": {
      "text/plain": [
       "date\n",
       "2021-08-19    22366\n",
       "2021-08-20    21382\n",
       "2021-08-21    21349\n",
       "2021-08-22    20430\n",
       "2021-08-23    18646\n",
       "2021-08-24    18693\n",
       "2021-08-25    19149\n",
       "Name: event, dtype: int64"
      ]
     },
     "execution_count": 3,
     "metadata": {},
     "output_type": "execute_result"
    }
   ],
   "source": [
    "# How many total page views?\n",
    "print(f'Number of Page View Events (All-Time): {len(df[df.event == \"pageview\"])}')\n",
    "\n",
    "# How many per day?\n",
    "num_days = len(df.date.unique())\n",
    "print(f'Number of Page View Events (Per Day): {int(len(df[df.event == \"pageview\"])/num_days)}')\n",
    "\n",
    "# Views each day\n",
    "df[df.event=='pageview'].groupby(by='date')['event'].count()"
   ]
  },
  {
   "cell_type": "code",
   "execution_count": 4,
   "id": "af1c7fe5",
   "metadata": {
    "execution": {
     "iopub.execute_input": "2024-02-04T18:55:28.995994Z",
     "iopub.status.busy": "2024-02-04T18:55:28.995605Z",
     "iopub.status.idle": "2024-02-04T18:55:29.626475Z",
     "shell.execute_reply": "2024-02-04T18:55:29.624834Z"
    },
    "papermill": {
     "duration": 0.643307,
     "end_time": "2024-02-04T18:55:29.629175",
     "exception": false,
     "start_time": "2024-02-04T18:55:28.985868",
     "status": "completed"
    },
    "tags": []
   },
   "outputs": [
    {
     "data": {
      "image/png": "[encoded data removed]",
      "text/plain": [
       "<Figure size 1000x400 with 1 Axes>"
      ]
     },
     "metadata": {},
     "output_type": "display_data"
    }
   ],
   "source": [
    "# Unique page views each day from different sources\n",
    "daily_views = df[df.event == 'pageview'].drop_duplicates().groupby(by='date')['event'].count()\n",
    "daily_views_df = daily_views.reset_index().rename(columns={'event': 'page_views'})\n",
    "\n",
    "plt.figure(figsize=(10, 4))\n",
    "plt.bar(daily_views_df['date'], daily_views_df['page_views'])\n",
    "plt.title('Page Views by Day')\n",
    "plt.xlabel('Date')\n",
    "plt.ylabel('Frequency')\n",
    "plt.xticks(rotation=45)  # Rotate x-axis labels for better readability\n",
    "plt.tight_layout()  # Adjust layout to prevent clipping of labels\n",
    "plt.show()"
   ]
  },
  {
   "cell_type": "code",
   "execution_count": 5,
   "id": "2eff6788",
   "metadata": {
    "execution": {
     "iopub.execute_input": "2024-02-04T18:55:29.648747Z",
     "iopub.status.busy": "2024-02-04T18:55:29.648324Z",
     "iopub.status.idle": "2024-02-04T18:55:29.868356Z",
     "shell.execute_reply": "2024-02-04T18:55:29.867034Z"
    },
    "papermill": {
     "duration": 0.233212,
     "end_time": "2024-02-04T18:55:29.871254",
     "exception": false,
     "start_time": "2024-02-04T18:55:29.638042",
     "status": "completed"
    },
    "tags": []
   },
   "outputs": [
    {
     "name": "stdout",
     "output_type": "stream",
     "text": [
      "Types of Page View Events: ['click' 'preview' 'pageview']\n",
      "Total Previews: 28531, Previews/Day: 4075\n",
      "Total Clicks: 55732, Clicks/Day: 7961\n"
     ]
    }
   ],
   "source": [
    "# What types of events are there?\n",
    "print(f'Types of Page View Events: {df.event.unique()}')\n",
    "\n",
    "# How many page previews?\n",
    "print(f'Total Previews: {len(df[df.event == \"preview\"])}, Previews/Day: {int(len(df[df.event == \"preview\"])/7)}')\n",
    "\n",
    "# How many clicks?\n",
    "print(f'Total Clicks: {len(df[df.event == \"click\"])}, Clicks/Day: {int(len(df[df.event == \"click\"])/7)}')"
   ]
  },
  {
   "cell_type": "code",
   "execution_count": 6,
   "id": "f8d2cc7f",
   "metadata": {
    "execution": {
     "iopub.execute_input": "2024-02-04T18:55:29.890710Z",
     "iopub.status.busy": "2024-02-04T18:55:29.890245Z",
     "iopub.status.idle": "2024-02-04T18:55:29.979960Z",
     "shell.execute_reply": "2024-02-04T18:55:29.978216Z"
    },
    "papermill": {
     "duration": 0.102502,
     "end_time": "2024-02-04T18:55:29.982447",
     "exception": false,
     "start_time": "2024-02-04T18:55:29.879945",
     "status": "completed"
    },
    "tags": []
   },
   "outputs": [
    {
     "name": "stdout",
     "output_type": "stream",
     "text": [
      "Countries w/ Pageviews: ['Saudi Arabia' 'United States' 'Ireland' 'United Kingdom' 'France'\n",
      " 'Guatemala' 'Jordan' 'Kuwait' 'Pakistan' 'Italy' 'Germany' 'Iraq' 'Peru'\n",
      " 'India' 'Nicaragua' 'Rwanda' 'Tanzania' 'United Arab Emirates' 'Norway'\n",
      " 'Oman' 'Bahamas' 'Algeria' 'Czechia' 'Mexico' 'Jamaica' 'Netherlands'\n",
      " 'Colombia' 'Morocco' 'Australia' 'Myanmar' 'Uzbekistan' 'Austria'\n",
      " 'Latvia' 'Turkey' 'Mauritania' 'Sri Lanka' 'Bosnia and Herzegovina'\n",
      " 'Estonia' 'Nigeria' 'Bulgaria' 'Greece' 'El Salvador' 'Philippines'\n",
      " 'Denmark' 'Serbia' 'Canada' 'Spain' 'Libya' 'Palestine' 'Chad' 'Ecuador'\n",
      " 'Mali' 'Romania' 'Switzerland' 'Portugal' 'Slovenia' 'Iceland' 'Sweden'\n",
      " 'Bahrain' 'Egypt' 'Lithuania' 'Liberia' 'Israel' 'Ukraine' 'Puerto Rico'\n",
      " 'South Africa' 'Ghana' 'Kenya' 'Armenia' 'Nepal' 'Barbados' 'Azerbaijan'\n",
      " 'Qatar' 'Uganda' 'Poland' 'Brazil' 'Guyana' 'Fiji' 'Bangladesh' 'Belgium'\n",
      " 'Hong Kong' 'Haiti' 'Botswana' 'Ivory Coast' 'Bhutan' 'Indonesia'\n",
      " 'Réunion' 'Cameroon' 'Singapore' 'Yemen' 'French Guiana' 'Slovakia'\n",
      " 'Dominican Republic' 'Russia' 'Cabo Verde' 'Kyrgyzstan' 'New Zealand'\n",
      " 'U.S. Virgin Islands' 'Albania' 'Venezuela' 'Burkina Faso' 'Montenegro'\n",
      " 'Paraguay' 'Bolivia' 'Cyprus' 'Mayotte' 'Thailand' 'Maldives' 'Tunisia'\n",
      " 'Namibia' 'Costa Rica' 'Croatia' 'Trinidad and Tobago' 'Senegal'\n",
      " 'Suriname' 'Malaysia' 'Honduras' 'DR Congo' 'South Korea' 'Finland'\n",
      " 'Mozambique' 'Hungary' 'Kazakhstan' 'Zambia' 'Somalia' 'Moldova'\n",
      " 'Cayman Islands' 'Saint Vincent and the Grenadines' 'Martinique'\n",
      " 'Guadeloupe' 'Kosovo' 'Sudan' 'Saint Lucia' 'Uruguay' nan 'Mauritius'\n",
      " 'Aruba' 'Curaçao' 'British Virgin Islands' 'Vietnam' 'Laos'\n",
      " 'Sierra Leone' 'Seychelles' 'Guinea' 'Lebanon' 'Angola' 'Belize' 'Togo'\n",
      " 'Turks and Caicos Islands' 'Georgia' 'Gabon' 'Argentina'\n",
      " 'North Macedonia' 'Benin' 'Ethiopia' 'Niger' 'Zimbabwe'\n",
      " 'St Kitts and Nevis' 'Malawi' 'Chile' 'Madagascar' 'Panama' 'Luxembourg'\n",
      " 'Grenada' 'Greenland' 'Mongolia' 'Taiwan' 'Liechtenstein' 'Anguilla'\n",
      " 'Principality of Monaco' 'Djibouti' 'Samoa' 'Åland' 'Eswatini'\n",
      " 'Faroe Islands' 'Cambodia' 'China' 'French Polynesia' 'Papua New Guinea'\n",
      " 'Japan' 'Lesotho' 'Eritrea' 'Iran' 'Antigua and Barbuda' 'Burundi'\n",
      " 'Belarus' 'Guinea-Bissau' 'Bermuda' 'Gambia' 'Isle of Man'\n",
      " 'American Samoa' 'Tajikistan' 'Comoros' 'Jersey' 'Andorra' 'Brunei'\n",
      " 'Congo Republic' 'Syria' 'Dominica' 'New Caledonia' 'Marshall Islands'\n",
      " 'Macao' 'Gibraltar' 'Palau' 'Solomon Islands' 'Malta' 'Wallis and Futuna'\n",
      " 'Afghanistan' 'Central African Republic' 'Guernsey' 'Sint Maarten'\n",
      " 'Saint Martin']\n"
     ]
    }
   ],
   "source": [
    "# What countries did the pageviews come from?\n",
    "print(f'Countries w/ Pageviews: {df[(df.event == \"pageview\")].country.unique()}')"
   ]
  },
  {
   "cell_type": "code",
   "execution_count": 7,
   "id": "10310164",
   "metadata": {
    "execution": {
     "iopub.execute_input": "2024-02-04T18:55:30.002474Z",
     "iopub.status.busy": "2024-02-04T18:55:30.002099Z",
     "iopub.status.idle": "2024-02-04T18:55:30.125191Z",
     "shell.execute_reply": "2024-02-04T18:55:30.123855Z"
    },
    "papermill": {
     "duration": 0.136259,
     "end_time": "2024-02-04T18:55:30.127750",
     "exception": false,
     "start_time": "2024-02-04T18:55:29.991491",
     "status": "completed"
    },
    "tags": []
   },
   "outputs": [
    {
     "data": {
      "text/html": [
       "<div>\n",
       "<style scoped>\n",
       "    .dataframe tbody tr th:only-of-type {\n",
       "        vertical-align: middle;\n",
       "    }\n",
       "\n",
       "    .dataframe tbody tr th {\n",
       "        vertical-align: top;\n",
       "    }\n",
       "\n",
       "    .dataframe thead th {\n",
       "        text-align: right;\n",
       "    }\n",
       "</style>\n",
       "<table border=\"1\" class=\"dataframe\">\n",
       "  <thead>\n",
       "    <tr style=\"text-align: right;\">\n",
       "      <th></th>\n",
       "      <th>country</th>\n",
       "      <th>pageviews</th>\n",
       "    </tr>\n",
       "  </thead>\n",
       "  <tbody>\n",
       "    <tr>\n",
       "      <th>0</th>\n",
       "      <td>Afghanistan</td>\n",
       "      <td>2</td>\n",
       "    </tr>\n",
       "    <tr>\n",
       "      <th>1</th>\n",
       "      <td>Albania</td>\n",
       "      <td>344</td>\n",
       "    </tr>\n",
       "    <tr>\n",
       "      <th>2</th>\n",
       "      <td>Algeria</td>\n",
       "      <td>443</td>\n",
       "    </tr>\n",
       "    <tr>\n",
       "      <th>3</th>\n",
       "      <td>American Samoa</td>\n",
       "      <td>3</td>\n",
       "    </tr>\n",
       "    <tr>\n",
       "      <th>4</th>\n",
       "      <td>Andorra</td>\n",
       "      <td>2</td>\n",
       "    </tr>\n",
       "  </tbody>\n",
       "</table>\n",
       "</div>"
      ],
      "text/plain": [
       "          country  pageviews\n",
       "0     Afghanistan          2\n",
       "1         Albania        344\n",
       "2         Algeria        443\n",
       "3  American Samoa          3\n",
       "4         Andorra          2"
      ]
     },
     "execution_count": 7,
     "metadata": {},
     "output_type": "execute_result"
    }
   ],
   "source": [
    "# Get the number of views from each country\n",
    "countries = df[(df.event == \"pageview\")].groupby(by='country')['event'].count()\n",
    "countries_df = countries.reset_index().rename(columns={'event': 'pageviews'})\n",
    "countries_df.head()"
   ]
  },
  {
   "cell_type": "code",
   "execution_count": 8,
   "id": "0362ea35",
   "metadata": {
    "execution": {
     "iopub.execute_input": "2024-02-04T18:55:30.148655Z",
     "iopub.status.busy": "2024-02-04T18:55:30.147455Z",
     "iopub.status.idle": "2024-02-04T18:55:47.223664Z",
     "shell.execute_reply": "2024-02-04T18:55:47.222044Z"
    },
    "papermill": {
     "duration": 17.089699,
     "end_time": "2024-02-04T18:55:47.226680",
     "exception": false,
     "start_time": "2024-02-04T18:55:30.136981",
     "status": "completed"
    },
    "tags": []
   },
   "outputs": [
    {
     "name": "stdout",
     "output_type": "stream",
     "text": [
      "Note: you may need to restart the kernel to use updated packages.\n"
     ]
    }
   ],
   "source": [
    "pip install -q geopandas"
   ]
  },
  {
   "cell_type": "code",
   "execution_count": 9,
   "id": "9a1b984c",
   "metadata": {
    "execution": {
     "iopub.execute_input": "2024-02-04T18:55:47.247291Z",
     "iopub.status.busy": "2024-02-04T18:55:47.246827Z",
     "iopub.status.idle": "2024-02-04T18:55:48.640188Z",
     "shell.execute_reply": "2024-02-04T18:55:48.638896Z"
    },
    "papermill": {
     "duration": 1.407121,
     "end_time": "2024-02-04T18:55:48.643144",
     "exception": false,
     "start_time": "2024-02-04T18:55:47.236023",
     "status": "completed"
    },
    "tags": []
   },
   "outputs": [
    {
     "name": "stderr",
     "output_type": "stream",
     "text": [
      "/tmp/ipykernel_18/156184649.py:5: FutureWarning: The geopandas.dataset module is deprecated and will be removed in GeoPandas 1.0. You can get the original 'naturalearth_lowres' data from https://www.naturalearthdata.com/downloads/110m-cultural-vectors/.\n",
      "  world = gpd.read_file(gpd.datasets.get_path('naturalearth_lowres'))\n"
     ]
    },
    {
     "data": {
      "image/png": "[encoded data removed]",
      "text/plain": [
       "<Figure size 1000x600 with 2 Axes>"
      ]
     },
     "metadata": {},
     "output_type": "display_data"
    }
   ],
   "source": [
    "import geopandas as gpd\n",
    "import matplotlib.pyplot as plt\n",
    "\n",
    "# Load world shapefile\n",
    "world = gpd.read_file(gpd.datasets.get_path('naturalearth_lowres'))\n",
    "\n",
    "# List of countries to highlight\n",
    "#highlight_countries = df[(df.event == \"pageview\")].country.unique()\n",
    "highlight_countries = countries_df.country\n",
    "# Filter world dataframe to include only the countries in the highlight list\n",
    "#highlighted_world = world[world['name'].isin(highlight_countries)]\n",
    "world = world.merge(countries_df, how='left', left_on='name', right_on='country')\n",
    "# Plot the world map\n",
    "fig, ax = plt.subplots(figsize=(10, 6))\n",
    "#world.plot(ax=ax, color='lightgrey')\n",
    "\n",
    "# Highlight the selected countries\n",
    "#highlighted_world.plot(ax=ax, color='green')\n",
    "world.plot(column='pageviews', cmap='YlGnBu', linewidth=0.8, ax=ax, edgecolor='0.8', legend=True)\n",
    "\n",
    "# Add title and show plot\n",
    "plt.title('Countries with Pageviews')\n",
    "plt.axis('off')  # Turn off axis\n",
    "plt.show()"
   ]
  },
  {
   "cell_type": "code",
   "execution_count": 10,
   "id": "08857dcd",
   "metadata": {
    "execution": {
     "iopub.execute_input": "2024-02-04T18:55:48.667328Z",
     "iopub.status.busy": "2024-02-04T18:55:48.666800Z",
     "iopub.status.idle": "2024-02-04T18:55:48.800627Z",
     "shell.execute_reply": "2024-02-04T18:55:48.799497Z"
    },
    "papermill": {
     "duration": 0.149243,
     "end_time": "2024-02-04T18:55:48.803103",
     "exception": false,
     "start_time": "2024-02-04T18:55:48.653860",
     "status": "completed"
    },
    "tags": []
   },
   "outputs": [
    {
     "name": "stdout",
     "output_type": "stream",
     "text": [
      "Clickrate: 39.24%\n"
     ]
    }
   ],
   "source": [
    "# Overall click rate: clicks/pageviews\n",
    "print(f'Clickrate: {round(len(df[df.event == \"click\"])/len(df[df.event == \"pageview\"]),4)*100}%')"
   ]
  },
  {
   "cell_type": "code",
   "execution_count": 11,
   "id": "a7203730",
   "metadata": {
    "execution": {
     "iopub.execute_input": "2024-02-04T18:55:48.826398Z",
     "iopub.status.busy": "2024-02-04T18:55:48.825972Z",
     "iopub.status.idle": "2024-02-04T18:55:49.030690Z",
     "shell.execute_reply": "2024-02-04T18:55:49.029589Z"
    },
    "papermill": {
     "duration": 0.219363,
     "end_time": "2024-02-04T18:55:49.033099",
     "exception": false,
     "start_time": "2024-02-04T18:55:48.813736",
     "status": "completed"
    },
    "tags": []
   },
   "outputs": [
    {
     "data": {
      "text/html": [
       "<div>\n",
       "<style scoped>\n",
       "    .dataframe tbody tr th:only-of-type {\n",
       "        vertical-align: middle;\n",
       "    }\n",
       "\n",
       "    .dataframe tbody tr th {\n",
       "        vertical-align: top;\n",
       "    }\n",
       "\n",
       "    .dataframe thead th {\n",
       "        text-align: right;\n",
       "    }\n",
       "</style>\n",
       "<table border=\"1\" class=\"dataframe\">\n",
       "  <thead>\n",
       "    <tr style=\"text-align: right;\">\n",
       "      <th></th>\n",
       "      <th>linkid</th>\n",
       "      <th>click_count</th>\n",
       "      <th>pageview_count</th>\n",
       "      <th>clickrate</th>\n",
       "    </tr>\n",
       "  </thead>\n",
       "  <tbody>\n",
       "    <tr>\n",
       "      <th>0</th>\n",
       "      <td>00126b32-0c35-507b-981c-02c80d2aa8e7</td>\n",
       "      <td>2</td>\n",
       "      <td>2</td>\n",
       "      <td>100.00</td>\n",
       "    </tr>\n",
       "    <tr>\n",
       "      <th>1</th>\n",
       "      <td>004b9724-abca-5481-b6e9-6148a7ca00a5</td>\n",
       "      <td>1</td>\n",
       "      <td>1</td>\n",
       "      <td>100.00</td>\n",
       "    </tr>\n",
       "    <tr>\n",
       "      <th>2</th>\n",
       "      <td>0063a982-41cd-5629-96d0-e1c4dd72ea11</td>\n",
       "      <td>2</td>\n",
       "      <td>3</td>\n",
       "      <td>66.67</td>\n",
       "    </tr>\n",
       "    <tr>\n",
       "      <th>3</th>\n",
       "      <td>006af6a0-1f0d-4b0c-93bf-756af9071c06</td>\n",
       "      <td>8</td>\n",
       "      <td>36</td>\n",
       "      <td>22.22</td>\n",
       "    </tr>\n",
       "    <tr>\n",
       "      <th>4</th>\n",
       "      <td>00759b81-3f04-4a61-b934-f8fb3185f4a0</td>\n",
       "      <td>3</td>\n",
       "      <td>4</td>\n",
       "      <td>75.00</td>\n",
       "    </tr>\n",
       "  </tbody>\n",
       "</table>\n",
       "</div>"
      ],
      "text/plain": [
       "                                 linkid  click_count  pageview_count  \\\n",
       "0  00126b32-0c35-507b-981c-02c80d2aa8e7            2               2   \n",
       "1  004b9724-abca-5481-b6e9-6148a7ca00a5            1               1   \n",
       "2  0063a982-41cd-5629-96d0-e1c4dd72ea11            2               3   \n",
       "3  006af6a0-1f0d-4b0c-93bf-756af9071c06            8              36   \n",
       "4  00759b81-3f04-4a61-b934-f8fb3185f4a0            3               4   \n",
       "\n",
       "   clickrate  \n",
       "0     100.00  \n",
       "1     100.00  \n",
       "2      66.67  \n",
       "3      22.22  \n",
       "4      75.00  "
      ]
     },
     "execution_count": 11,
     "metadata": {},
     "output_type": "execute_result"
    }
   ],
   "source": [
    "# How does the clickrate distribute across different links?\n",
    "# First create DFs for page view/click counts for every link\n",
    "click_df = df[df.event == 'click'].groupby(by='linkid')['event'].count().reset_index().rename(columns={'event': 'click_count'})\n",
    "page_df = df[df.event == 'pageview'].groupby(by='linkid')['event'].count().reset_index().rename(columns={'event': 'pageview_count'})\n",
    "\n",
    "# Merge the df's on the links\n",
    "events_df = click_df.merge(page_df, on='linkid')\n",
    "\n",
    "# Calculate the click rates in a new column for each link\n",
    "events_df['clickrate'] = round((events_df.click_count / events_df.pageview_count)*100,2)\n",
    "\n",
    "events_df.head()"
   ]
  },
  {
   "cell_type": "code",
   "execution_count": 12,
   "id": "3bb21889",
   "metadata": {
    "execution": {
     "iopub.execute_input": "2024-02-04T18:55:49.057497Z",
     "iopub.status.busy": "2024-02-04T18:55:49.056521Z",
     "iopub.status.idle": "2024-02-04T18:55:49.066539Z",
     "shell.execute_reply": "2024-02-04T18:55:49.065772Z"
    },
    "papermill": {
     "duration": 0.024651,
     "end_time": "2024-02-04T18:55:49.068754",
     "exception": false,
     "start_time": "2024-02-04T18:55:49.044103",
     "status": "completed"
    },
    "tags": []
   },
   "outputs": [
    {
     "data": {
      "text/plain": [
       "0       100.00\n",
       "1       100.00\n",
       "2        66.67\n",
       "3        22.22\n",
       "4        75.00\n",
       "         ...  \n",
       "2248     34.52\n",
       "2249    100.00\n",
       "2250    100.00\n",
       "2251     50.00\n",
       "2252     50.00\n",
       "Name: clickrate, Length: 2253, dtype: float64"
      ]
     },
     "execution_count": 12,
     "metadata": {},
     "output_type": "execute_result"
    }
   ],
   "source": [
    "events_df.clickrate"
   ]
  },
  {
   "cell_type": "code",
   "execution_count": 13,
   "id": "25b4fdf0",
   "metadata": {
    "execution": {
     "iopub.execute_input": "2024-02-04T18:55:49.093083Z",
     "iopub.status.busy": "2024-02-04T18:55:49.092201Z",
     "iopub.status.idle": "2024-02-04T18:55:49.317005Z",
     "shell.execute_reply": "2024-02-04T18:55:49.315846Z"
    },
    "papermill": {
     "duration": 0.23948,
     "end_time": "2024-02-04T18:55:49.319379",
     "exception": false,
     "start_time": "2024-02-04T18:55:49.079899",
     "status": "completed"
    },
    "tags": []
   },
   "outputs": [
    {
     "data": {
      "image/png": "[encoded data removed]",
      "text/plain": [
       "<Figure size 640x480 with 1 Axes>"
      ]
     },
     "metadata": {},
     "output_type": "display_data"
    }
   ],
   "source": [
    "# Plot the click rate for different links. Use 10 bins for %s\n",
    "import matplotlib.pyplot as plt\n",
    "plt.hist(events_df['clickrate'], bins=range(0, 101, 10))\n",
    "plt.title('Clickrate of Different Links')\n",
    "plt.xlabel('Clickrate %')\n",
    "plt.ylabel('Frequency')\n",
    "plt.show()"
   ]
  },
  {
   "cell_type": "markdown",
   "id": "19573278",
   "metadata": {
    "papermill": {
     "duration": 0.011239,
     "end_time": "2024-02-04T18:55:49.342097",
     "exception": false,
     "start_time": "2024-02-04T18:55:49.330858",
     "status": "completed"
    },
    "tags": []
   },
   "source": [
    "Is there any correlation between clicks and previews on a link? Is it significant? How large is the effect? Make sure to at least test for potential linear as well as categorical (think binary) relationships between both variables."
   ]
  },
  {
   "cell_type": "code",
   "execution_count": 14,
   "id": "55b0b446",
   "metadata": {
    "execution": {
     "iopub.execute_input": "2024-02-04T18:55:49.366642Z",
     "iopub.status.busy": "2024-02-04T18:55:49.366269Z",
     "iopub.status.idle": "2024-02-04T18:55:49.513300Z",
     "shell.execute_reply": "2024-02-04T18:55:49.512136Z"
    },
    "papermill": {
     "duration": 0.162051,
     "end_time": "2024-02-04T18:55:49.515848",
     "exception": false,
     "start_time": "2024-02-04T18:55:49.353797",
     "status": "completed"
    },
    "tags": []
   },
   "outputs": [
    {
     "data": {
      "text/html": [
       "<div>\n",
       "<style scoped>\n",
       "    .dataframe tbody tr th:only-of-type {\n",
       "        vertical-align: middle;\n",
       "    }\n",
       "\n",
       "    .dataframe tbody tr th {\n",
       "        vertical-align: top;\n",
       "    }\n",
       "\n",
       "    .dataframe thead th {\n",
       "        text-align: right;\n",
       "    }\n",
       "</style>\n",
       "<table border=\"1\" class=\"dataframe\">\n",
       "  <thead>\n",
       "    <tr style=\"text-align: right;\">\n",
       "      <th></th>\n",
       "      <th>linkid</th>\n",
       "      <th>clicks</th>\n",
       "      <th>previews</th>\n",
       "    </tr>\n",
       "  </thead>\n",
       "  <tbody>\n",
       "    <tr>\n",
       "      <th>81</th>\n",
       "      <td>2d896d31-97b6-4869-967b-1c5fb9cd4bb8</td>\n",
       "      <td>9692</td>\n",
       "      <td>5974</td>\n",
       "    </tr>\n",
       "    <tr>\n",
       "      <th>418</th>\n",
       "      <td>e849515b-929d-44c8-a505-e7622f1827e9</td>\n",
       "      <td>2198</td>\n",
       "      <td>1571</td>\n",
       "    </tr>\n",
       "    <tr>\n",
       "      <th>141</th>\n",
       "      <td>522da5cc-8177-4140-97a7-a84fdb4caf1c</td>\n",
       "      <td>2109</td>\n",
       "      <td>1605</td>\n",
       "    </tr>\n",
       "    <tr>\n",
       "      <th>187</th>\n",
       "      <td>681d888a-59ce-4acb-b7c5-95dab0c063d9</td>\n",
       "      <td>1500</td>\n",
       "      <td>658</td>\n",
       "    </tr>\n",
       "    <tr>\n",
       "      <th>350</th>\n",
       "      <td>c2c876ab-b093-4750-9449-6b4913da6af3</td>\n",
       "      <td>1429</td>\n",
       "      <td>1001</td>\n",
       "    </tr>\n",
       "    <tr>\n",
       "      <th>...</th>\n",
       "      <td>...</td>\n",
       "      <td>...</td>\n",
       "      <td>...</td>\n",
       "    </tr>\n",
       "    <tr>\n",
       "      <th>249</th>\n",
       "      <td>85de285e-8c72-4fc1-a1c7-ce2f34121ca1</td>\n",
       "      <td>1</td>\n",
       "      <td>1</td>\n",
       "    </tr>\n",
       "    <tr>\n",
       "      <th>74</th>\n",
       "      <td>297fa1f6-7505-49b3-8210-a9ee2ba92091</td>\n",
       "      <td>1</td>\n",
       "      <td>2</td>\n",
       "    </tr>\n",
       "    <tr>\n",
       "      <th>416</th>\n",
       "      <td>e7d83d9f-7119-48d4-b570-e6af90976e34</td>\n",
       "      <td>1</td>\n",
       "      <td>1</td>\n",
       "    </tr>\n",
       "    <tr>\n",
       "      <th>69</th>\n",
       "      <td>27c6ad2e-f5b0-4584-a803-33111b48d48d</td>\n",
       "      <td>1</td>\n",
       "      <td>1</td>\n",
       "    </tr>\n",
       "    <tr>\n",
       "      <th>269</th>\n",
       "      <td>92257fea-9586-4d78-8ef0-a4404cc1367d</td>\n",
       "      <td>1</td>\n",
       "      <td>1</td>\n",
       "    </tr>\n",
       "  </tbody>\n",
       "</table>\n",
       "<p>464 rows × 3 columns</p>\n",
       "</div>"
      ],
      "text/plain": [
       "                                   linkid  clicks  previews\n",
       "81   2d896d31-97b6-4869-967b-1c5fb9cd4bb8    9692      5974\n",
       "418  e849515b-929d-44c8-a505-e7622f1827e9    2198      1571\n",
       "141  522da5cc-8177-4140-97a7-a84fdb4caf1c    2109      1605\n",
       "187  681d888a-59ce-4acb-b7c5-95dab0c063d9    1500       658\n",
       "350  c2c876ab-b093-4750-9449-6b4913da6af3    1429      1001\n",
       "..                                    ...     ...       ...\n",
       "249  85de285e-8c72-4fc1-a1c7-ce2f34121ca1       1         1\n",
       "74   297fa1f6-7505-49b3-8210-a9ee2ba92091       1         2\n",
       "416  e7d83d9f-7119-48d4-b570-e6af90976e34       1         1\n",
       "69   27c6ad2e-f5b0-4584-a803-33111b48d48d       1         1\n",
       "269  92257fea-9586-4d78-8ef0-a4404cc1367d       1         1\n",
       "\n",
       "[464 rows x 3 columns]"
      ]
     },
     "execution_count": 14,
     "metadata": {},
     "output_type": "execute_result"
    }
   ],
   "source": [
    "# Take original df and count the events that are preview or click\n",
    "clicks = df[df['event'] == 'click'].groupby(by='linkid')['event'].count()\n",
    "clicks_df = clicks.reset_index().rename(columns={'event': 'clicks'})\n",
    "\n",
    "previews = df[df['event'] == 'preview'].groupby(by='linkid')['event'].count()\n",
    "previews_df = previews.reset_index().rename(columns={'event': 'previews'})\n",
    "\n",
    "counts_df = clicks_df.merge(previews_df, on='linkid', how='inner')\n",
    "\n",
    "# Keep only rows that have counts of both\n",
    "counts_df.dropna(subset=['clicks', 'previews'], inplace=True)\n",
    "counts_df.sort_values(by='clicks', ascending=False)"
   ]
  },
  {
   "cell_type": "code",
   "execution_count": 15,
   "id": "73a492fc",
   "metadata": {
    "execution": {
     "iopub.execute_input": "2024-02-04T18:55:49.541065Z",
     "iopub.status.busy": "2024-02-04T18:55:49.540668Z",
     "iopub.status.idle": "2024-02-04T18:55:49.546986Z",
     "shell.execute_reply": "2024-02-04T18:55:49.546237Z"
    },
    "papermill": {
     "duration": 0.021766,
     "end_time": "2024-02-04T18:55:49.549342",
     "exception": false,
     "start_time": "2024-02-04T18:55:49.527576",
     "status": "completed"
    },
    "tags": []
   },
   "outputs": [
    {
     "name": "stdout",
     "output_type": "stream",
     "text": [
      "Pearson Correlation Coefficient r = 0.9934224704248962\n"
     ]
    }
   ],
   "source": [
    "# Look at correlations between clicks and previews\n",
    "print(f'Pearson Correlation Coefficient r = {counts_df.clicks.corr(counts_df.previews)}')"
   ]
  },
  {
   "cell_type": "markdown",
   "id": "ab8d462e",
   "metadata": {
    "papermill": {
     "duration": 0.011558,
     "end_time": "2024-02-04T18:55:49.572991",
     "exception": false,
     "start_time": "2024-02-04T18:55:49.561433",
     "status": "completed"
    },
    "tags": []
   },
   "source": [
    "**Note:** An r value close to 1 makes sense since you likely have to preview the link to click on it. Not exactly being 1 could indicate hovering over it but not clicking? Perhaps multiple times before clicking."
   ]
  },
  {
   "cell_type": "markdown",
   "id": "ea62000a",
   "metadata": {
    "papermill": {
     "duration": 0.01144,
     "end_time": "2024-02-04T18:55:49.596278",
     "exception": false,
     "start_time": "2024-02-04T18:55:49.584838",
     "status": "completed"
    },
    "tags": []
   },
   "source": [
    "Now we can look at the categorical variables and see if there's any correlations between their occurances. First, we can use factorize which returns a tuple of the codes and then the corresponding categories for each code."
   ]
  },
  {
   "cell_type": "code",
   "execution_count": 16,
   "id": "c7a558a6",
   "metadata": {
    "execution": {
     "iopub.execute_input": "2024-02-04T18:55:49.622643Z",
     "iopub.status.busy": "2024-02-04T18:55:49.621643Z",
     "iopub.status.idle": "2024-02-04T18:55:49.970144Z",
     "shell.execute_reply": "2024-02-04T18:55:49.968904Z"
    },
    "papermill": {
     "duration": 0.364782,
     "end_time": "2024-02-04T18:55:49.972951",
     "exception": false,
     "start_time": "2024-02-04T18:55:49.608169",
     "status": "completed"
    },
    "tags": []
   },
   "outputs": [],
   "source": [
    "# Merge the counts df with the original one on the links to get other variables\n",
    "big_df = df.merge(counts_df, on='linkid', how='left')\n",
    "\n",
    "# Get categorical variables and convert into category codes\n",
    "cat_df = big_df[[ 'country', 'city', 'artist', 'album', 'track']]\n",
    "\n",
    "# Each row should get factorized. Factorize returns  and then the corresponding category\n",
    "encoded_cat_df = cat_df.apply(lambda x: pd.factorize(x)[0])"
   ]
  },
  {
   "cell_type": "code",
   "execution_count": 17,
   "id": "8016ae5a",
   "metadata": {
    "execution": {
     "iopub.execute_input": "2024-02-04T18:55:49.998489Z",
     "iopub.status.busy": "2024-02-04T18:55:49.998082Z",
     "iopub.status.idle": "2024-02-04T18:55:50.249359Z",
     "shell.execute_reply": "2024-02-04T18:55:50.248181Z"
    },
    "papermill": {
     "duration": 0.267059,
     "end_time": "2024-02-04T18:55:50.251919",
     "exception": false,
     "start_time": "2024-02-04T18:55:49.984860",
     "status": "completed"
    },
    "tags": []
   },
   "outputs": [
    {
     "data": {
      "text/html": [
       "<style type=\"text/css\">\n",
       "#T_4c361_row0_col0, #T_4c361_row1_col1, #T_4c361_row2_col2, #T_4c361_row3_col3, #T_4c361_row4_col4 {\n",
       "  background-color: #b40426;\n",
       "  color: #f1f1f1;\n",
       "}\n",
       "#T_4c361_row0_col1 {\n",
       "  background-color: #5b7ae5;\n",
       "  color: #f1f1f1;\n",
       "}\n",
       "#T_4c361_row0_col2, #T_4c361_row0_col3, #T_4c361_row0_col4, #T_4c361_row2_col1, #T_4c361_row3_col0, #T_4c361_row4_col0 {\n",
       "  background-color: #3b4cc0;\n",
       "  color: #f1f1f1;\n",
       "}\n",
       "#T_4c361_row1_col0 {\n",
       "  background-color: #7699f6;\n",
       "  color: #f1f1f1;\n",
       "}\n",
       "#T_4c361_row1_col2 {\n",
       "  background-color: #536edd;\n",
       "  color: #f1f1f1;\n",
       "}\n",
       "#T_4c361_row1_col3 {\n",
       "  background-color: #5572df;\n",
       "  color: #f1f1f1;\n",
       "}\n",
       "#T_4c361_row1_col4 {\n",
       "  background-color: #5673e0;\n",
       "  color: #f1f1f1;\n",
       "}\n",
       "#T_4c361_row2_col0, #T_4c361_row3_col1 {\n",
       "  background-color: #3c4ec2;\n",
       "  color: #f1f1f1;\n",
       "}\n",
       "#T_4c361_row2_col3, #T_4c361_row3_col2 {\n",
       "  background-color: #d65244;\n",
       "  color: #f1f1f1;\n",
       "}\n",
       "#T_4c361_row2_col4 {\n",
       "  background-color: #dd5f4b;\n",
       "  color: #f1f1f1;\n",
       "}\n",
       "#T_4c361_row3_col4, #T_4c361_row4_col3 {\n",
       "  background-color: #c12b30;\n",
       "  color: #f1f1f1;\n",
       "}\n",
       "#T_4c361_row4_col1 {\n",
       "  background-color: #3d50c3;\n",
       "  color: #f1f1f1;\n",
       "}\n",
       "#T_4c361_row4_col2 {\n",
       "  background-color: #de614d;\n",
       "  color: #f1f1f1;\n",
       "}\n",
       "</style>\n",
       "<table id=\"T_4c361\">\n",
       "  <thead>\n",
       "    <tr>\n",
       "      <th class=\"blank level0\" >&nbsp;</th>\n",
       "      <th id=\"T_4c361_level0_col0\" class=\"col_heading level0 col0\" >country</th>\n",
       "      <th id=\"T_4c361_level0_col1\" class=\"col_heading level0 col1\" >city</th>\n",
       "      <th id=\"T_4c361_level0_col2\" class=\"col_heading level0 col2\" >artist</th>\n",
       "      <th id=\"T_4c361_level0_col3\" class=\"col_heading level0 col3\" >album</th>\n",
       "      <th id=\"T_4c361_level0_col4\" class=\"col_heading level0 col4\" >track</th>\n",
       "    </tr>\n",
       "  </thead>\n",
       "  <tbody>\n",
       "    <tr>\n",
       "      <th id=\"T_4c361_level0_row0\" class=\"row_heading level0 row0\" >country</th>\n",
       "      <td id=\"T_4c361_row0_col0\" class=\"data row0 col0\" >1.000000</td>\n",
       "      <td id=\"T_4c361_row0_col1\" class=\"data row0 col1\" >0.188101</td>\n",
       "      <td id=\"T_4c361_row0_col2\" class=\"data row0 col2\" >0.010852</td>\n",
       "      <td id=\"T_4c361_row0_col3\" class=\"data row0 col3\" >0.006472</td>\n",
       "      <td id=\"T_4c361_row0_col4\" class=\"data row0 col4\" >0.005394</td>\n",
       "    </tr>\n",
       "    <tr>\n",
       "      <th id=\"T_4c361_level0_row1\" class=\"row_heading level0 row1\" >city</th>\n",
       "      <td id=\"T_4c361_row1_col0\" class=\"data row1 col0\" >0.188101</td>\n",
       "      <td id=\"T_4c361_row1_col1\" class=\"data row1 col1\" >1.000000</td>\n",
       "      <td id=\"T_4c361_row1_col2\" class=\"data row1 col2\" >0.088732</td>\n",
       "      <td id=\"T_4c361_row1_col3\" class=\"data row1 col3\" >0.095431</td>\n",
       "      <td id=\"T_4c361_row1_col4\" class=\"data row1 col4\" >0.097308</td>\n",
       "    </tr>\n",
       "    <tr>\n",
       "      <th id=\"T_4c361_level0_row2\" class=\"row_heading level0 row2\" >artist</th>\n",
       "      <td id=\"T_4c361_row2_col0\" class=\"data row2 col0\" >0.010852</td>\n",
       "      <td id=\"T_4c361_row2_col1\" class=\"data row2 col1\" >0.088732</td>\n",
       "      <td id=\"T_4c361_row2_col2\" class=\"data row2 col2\" >1.000000</td>\n",
       "      <td id=\"T_4c361_row2_col3\" class=\"data row2 col3\" >0.901881</td>\n",
       "      <td id=\"T_4c361_row2_col4\" class=\"data row2 col4\" >0.875746</td>\n",
       "    </tr>\n",
       "    <tr>\n",
       "      <th id=\"T_4c361_level0_row3\" class=\"row_heading level0 row3\" >album</th>\n",
       "      <td id=\"T_4c361_row3_col0\" class=\"data row3 col0\" >0.006472</td>\n",
       "      <td id=\"T_4c361_row3_col1\" class=\"data row3 col1\" >0.095431</td>\n",
       "      <td id=\"T_4c361_row3_col2\" class=\"data row3 col2\" >0.901881</td>\n",
       "      <td id=\"T_4c361_row3_col3\" class=\"data row3 col3\" >1.000000</td>\n",
       "      <td id=\"T_4c361_row3_col4\" class=\"data row3 col4\" >0.963166</td>\n",
       "    </tr>\n",
       "    <tr>\n",
       "      <th id=\"T_4c361_level0_row4\" class=\"row_heading level0 row4\" >track</th>\n",
       "      <td id=\"T_4c361_row4_col0\" class=\"data row4 col0\" >0.005394</td>\n",
       "      <td id=\"T_4c361_row4_col1\" class=\"data row4 col1\" >0.097308</td>\n",
       "      <td id=\"T_4c361_row4_col2\" class=\"data row4 col2\" >0.875746</td>\n",
       "      <td id=\"T_4c361_row4_col3\" class=\"data row4 col3\" >0.963166</td>\n",
       "      <td id=\"T_4c361_row4_col4\" class=\"data row4 col4\" >1.000000</td>\n",
       "    </tr>\n",
       "  </tbody>\n",
       "</table>\n"
      ],
      "text/plain": [
       "<pandas.io.formats.style.Styler at 0x7af67d707cd0>"
      ]
     },
     "execution_count": 17,
     "metadata": {},
     "output_type": "execute_result"
    }
   ],
   "source": [
    "# Get the correlations of each category with each other with colors to help id large r\n",
    "encoded_cat_df.corr().style.background_gradient(cmap='coolwarm')"
   ]
  },
  {
   "cell_type": "markdown",
   "id": "f75b2998",
   "metadata": {
    "papermill": {
     "duration": 0.01188,
     "end_time": "2024-02-04T18:55:50.276253",
     "exception": false,
     "start_time": "2024-02-04T18:55:50.264373",
     "status": "completed"
    },
    "tags": []
   },
   "source": [
    "It looks like there's high correlations between album and artist, artist and track, album and track, all of which make a lot of sense since they're dependent upon each other. How about chi square analysis? We have a LOT of categories, many of which will be identically 0 most of the time, which won't work well with chi square."
   ]
  }
 ],
 "metadata": {
  "kaggle": {
   "accelerator": "none",
   "dataSources": [
    {
     "datasetId": 4395830,
     "sourceId": 7547746,
     "sourceType": "datasetVersion"
    }
   ],
   "dockerImageVersionId": 30646,
   "isGpuEnabled": false,
   "isInternetEnabled": true,
   "language": "python",
   "sourceType": "notebook"
  },
  "kernelspec": {
   "display_name": "Python 3",
   "language": "python",
   "name": "python3"
  },
  "language_info": {
   "codemirror_mode": {
    "name": "ipython",
    "version": 3
   },
   "file_extension": ".py",
   "mimetype": "text/x-python",
   "name": "python",
   "nbconvert_exporter": "python",
   "pygments_lexer": "ipython3",
   "version": "3.10.13"
  },
  "papermill": {
   "default_parameters": {},
   "duration": 27.984863,
   "end_time": "2024-02-04T18:55:51.009793",
   "environment_variables": {},
   "exception": null,
   "input_path": "__notebook__.ipynb",
   "output_path": "__notebook__.ipynb",
   "parameters": {},
   "start_time": "2024-02-04T18:55:23.024930",
   "version": "2.5.0"
  }
 },
 "nbformat": 4,
 "nbformat_minor": 5
}

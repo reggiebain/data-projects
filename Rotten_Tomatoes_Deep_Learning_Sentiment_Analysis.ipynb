{
  "nbformat": 4,
  "nbformat_minor": 0,
  "metadata": {
    "colab": {
      "provenance": [],
      "authorship_tag": "ABX9TyOL7QnbO2BrTa9mWNIOwc/S",
      "include_colab_link": true
    },
    "kernelspec": {
      "name": "python3",
      "display_name": "Python 3"
    },
    "language_info": {
      "name": "python"
    }
  },
  "cells": [
    {
      "cell_type": "markdown",
      "metadata": {
        "id": "view-in-github",
        "colab_type": "text"
      },
      "source": [
        "<a href=\"https://colab.research.google.com/github/reggiebain/data-projects/blob/main/Rotten_Tomatoes_Deep_Learning_Sentiment_Analysis.ipynb\" target=\"_parent\"><img src=\"https://colab.research.google.com/assets/colab-badge.svg\" alt=\"Open In Colab\"/></a>"
      ]
    },
    {
      "cell_type": "markdown",
      "source": [
        "# Predicting Certified Fresh vs. Fresh vs. Rotten\n",
        "- In this notebook, we use deep learning NLP techniques to predict the ordinal ratings of movies on Rotten Tomatoes.\n",
        "- Our task will be to predict the \"review type\" meaning Fresh, or Rotten. Here, we will focus on critic reviews. NOTE: Critic review does not necessarily dictate the tomatometers status overall review.\n",
        "- In a separate project, we focused on data from audience reviews and found a highly successful classifier. \n",
        "- We can train a pre-trained NLP classifier on the sentiment of critic reviews using the \"review_type\" and \"review_content\" features"
      ],
      "metadata": {
        "id": "9O1M6EVXdJEG"
      }
    },
    {
      "cell_type": "markdown",
      "source": [
        "### TODO:\n",
        "- [ ] Import NLP Libraries\n",
        "- [ ] EDA to Explore Critic Review Data Set\n",
        "- [ ] Encode data and prepare for ML\n",
        "- [ ] Train BERT on new data\n",
        "- [ ] Evaluate with learning curves, etc."
      ],
      "metadata": {
        "id": "--dwU7l7dP7R"
      }
    },
    {
      "cell_type": "code",
      "source": [
        "from google.colab import drive\n",
        "drive.mount('/content/drive')"
      ],
      "metadata": {
        "colab": {
          "base_uri": "https://localhost:8080/"
        },
        "id": "oXUmVMssdQ2l",
        "outputId": "b70abfe9-023c-4183-808c-fd2b1e0e7fa5"
      },
      "execution_count": 1,
      "outputs": [
        {
          "output_type": "stream",
          "name": "stdout",
          "text": [
            "Mounted at /content/drive\n"
          ]
        }
      ]
    },
    {
      "cell_type": "code",
      "source": [
        "!pip install matplotlib --upgrade;"
      ],
      "metadata": {
        "colab": {
          "base_uri": "https://localhost:8080/"
        },
        "id": "phkHj40u_1hI",
        "outputId": "ae43e1b3-0636-4e03-ea3f-e09348072d09"
      },
      "execution_count": 1,
      "outputs": [
        {
          "output_type": "stream",
          "name": "stdout",
          "text": [
            "Looking in indexes: https://pypi.org/simple, https://us-python.pkg.dev/colab-wheels/public/simple/\n",
            "Requirement already satisfied: matplotlib in /usr/local/lib/python3.8/dist-packages (3.6.3)\n",
            "Requirement already satisfied: fonttools>=4.22.0 in /usr/local/lib/python3.8/dist-packages (from matplotlib) (4.38.0)\n",
            "Requirement already satisfied: kiwisolver>=1.0.1 in /usr/local/lib/python3.8/dist-packages (from matplotlib) (1.4.4)\n",
            "Requirement already satisfied: pyparsing>=2.2.1 in /usr/local/lib/python3.8/dist-packages (from matplotlib) (3.0.9)\n",
            "Requirement already satisfied: packaging>=20.0 in /usr/local/lib/python3.8/dist-packages (from matplotlib) (21.3)\n",
            "Requirement already satisfied: cycler>=0.10 in /usr/local/lib/python3.8/dist-packages (from matplotlib) (0.11.0)\n",
            "Requirement already satisfied: python-dateutil>=2.7 in /usr/local/lib/python3.8/dist-packages (from matplotlib) (2.8.2)\n",
            "Requirement already satisfied: numpy>=1.19 in /usr/local/lib/python3.8/dist-packages (from matplotlib) (1.21.6)\n",
            "Requirement already satisfied: contourpy>=1.0.1 in /usr/local/lib/python3.8/dist-packages (from matplotlib) (1.0.7)\n",
            "Requirement already satisfied: pillow>=6.2.0 in /usr/local/lib/python3.8/dist-packages (from matplotlib) (7.1.2)\n",
            "Requirement already satisfied: six>=1.5 in /usr/local/lib/python3.8/dist-packages (from python-dateutil>=2.7->matplotlib) (1.15.0)\n"
          ]
        }
      ]
    },
    {
      "cell_type": "code",
      "source": [
        "# Import dependencies\n",
        "import pandas as pd\n",
        "import seaborn as sns\n",
        "import matplotlib.pyplot as plt\n",
        "import matplotlib as mpl\n",
        "%matplotlib inline\n",
        "import statistics as stats\n",
        "\n",
        "import os\n",
        "import re\n",
        "import shutil\n",
        "import string\n",
        "import tensorflow as tf\n",
        "from tensorflow import keras\n",
        "from tensorflow.keras import layers\n",
        "from tensorflow.keras import losses\n",
        "\n",
        "colormap = mpl.colormaps['tab10']\n",
        "from sklearn import metrics\n",
        "from sklearn.metrics import f1_score\n",
        "from sklearn.metrics import classification_report\n",
        "\n",
        "#from bert_sklearn import BertClassifier\n",
        "#from bert_sklearn import BertRegressor\n",
        "#from bert_sklearn import BertTokenClassifier\n",
        "#from bert_sklearn import load_model"
      ],
      "metadata": {
        "id": "6E5ZAUeddxPq"
      },
      "execution_count": 6,
      "outputs": []
    },
    {
      "cell_type": "code",
      "source": [
        "# Read in critic reviews of movies\n",
        "critics = pd.read_csv('/content/drive/MyDrive/Data-Science/rotten_tomatoes_critic_reviews_50k.csv')\n",
        "movies = pd.read_csv('/content/drive/MyDrive/Data-Science/rotten_tomatoes_movies.csv')\n",
        "critics.head(1)"
      ],
      "metadata": {
        "colab": {
          "base_uri": "https://localhost:8080/",
          "height": 125
        },
        "id": "_EuXn6b9e38n",
        "outputId": "3805ebb2-25ff-4070-a562-9592aa1f24be"
      },
      "execution_count": 3,
      "outputs": [
        {
          "output_type": "execute_result",
          "data": {
            "text/plain": [
              "  rotten_tomatoes_link      critic_name  top_critic  publisher_name  \\\n",
              "0            m/0814255  Andrew L. Urban       False  Urban Cinefile   \n",
              "\n",
              "  review_type review_score review_date  \\\n",
              "0       Fresh          NaN  2010-02-06   \n",
              "\n",
              "                                      review_content  \n",
              "0  A fantasy adventure that fuses Greek mythology...  "
            ],
            "text/html": [
              "\n",
              "  <div id=\"df-05c6e31c-d21f-4237-a1c4-15eab7410929\">\n",
              "    <div class=\"colab-df-container\">\n",
              "      <div>\n",
              "<style scoped>\n",
              "    .dataframe tbody tr th:only-of-type {\n",
              "        vertical-align: middle;\n",
              "    }\n",
              "\n",
              "    .dataframe tbody tr th {\n",
              "        vertical-align: top;\n",
              "    }\n",
              "\n",
              "    .dataframe thead th {\n",
              "        text-align: right;\n",
              "    }\n",
              "</style>\n",
              "<table border=\"1\" class=\"dataframe\">\n",
              "  <thead>\n",
              "    <tr style=\"text-align: right;\">\n",
              "      <th></th>\n",
              "      <th>rotten_tomatoes_link</th>\n",
              "      <th>critic_name</th>\n",
              "      <th>top_critic</th>\n",
              "      <th>publisher_name</th>\n",
              "      <th>review_type</th>\n",
              "      <th>review_score</th>\n",
              "      <th>review_date</th>\n",
              "      <th>review_content</th>\n",
              "    </tr>\n",
              "  </thead>\n",
              "  <tbody>\n",
              "    <tr>\n",
              "      <th>0</th>\n",
              "      <td>m/0814255</td>\n",
              "      <td>Andrew L. Urban</td>\n",
              "      <td>False</td>\n",
              "      <td>Urban Cinefile</td>\n",
              "      <td>Fresh</td>\n",
              "      <td>NaN</td>\n",
              "      <td>2010-02-06</td>\n",
              "      <td>A fantasy adventure that fuses Greek mythology...</td>\n",
              "    </tr>\n",
              "  </tbody>\n",
              "</table>\n",
              "</div>\n",
              "      <button class=\"colab-df-convert\" onclick=\"convertToInteractive('df-05c6e31c-d21f-4237-a1c4-15eab7410929')\"\n",
              "              title=\"Convert this dataframe to an interactive table.\"\n",
              "              style=\"display:none;\">\n",
              "        \n",
              "  <svg xmlns=\"http://www.w3.org/2000/svg\" height=\"24px\"viewBox=\"0 0 24 24\"\n",
              "       width=\"24px\">\n",
              "    <path d=\"M0 0h24v24H0V0z\" fill=\"none\"/>\n",
              "    <path d=\"M18.56 5.44l.94 2.06.94-2.06 2.06-.94-2.06-.94-.94-2.06-.94 2.06-2.06.94zm-11 1L8.5 8.5l.94-2.06 2.06-.94-2.06-.94L8.5 2.5l-.94 2.06-2.06.94zm10 10l.94 2.06.94-2.06 2.06-.94-2.06-.94-.94-2.06-.94 2.06-2.06.94z\"/><path d=\"M17.41 7.96l-1.37-1.37c-.4-.4-.92-.59-1.43-.59-.52 0-1.04.2-1.43.59L10.3 9.45l-7.72 7.72c-.78.78-.78 2.05 0 2.83L4 21.41c.39.39.9.59 1.41.59.51 0 1.02-.2 1.41-.59l7.78-7.78 2.81-2.81c.8-.78.8-2.07 0-2.86zM5.41 20L4 18.59l7.72-7.72 1.47 1.35L5.41 20z\"/>\n",
              "  </svg>\n",
              "      </button>\n",
              "      \n",
              "  <style>\n",
              "    .colab-df-container {\n",
              "      display:flex;\n",
              "      flex-wrap:wrap;\n",
              "      gap: 12px;\n",
              "    }\n",
              "\n",
              "    .colab-df-convert {\n",
              "      background-color: #E8F0FE;\n",
              "      border: none;\n",
              "      border-radius: 50%;\n",
              "      cursor: pointer;\n",
              "      display: none;\n",
              "      fill: #1967D2;\n",
              "      height: 32px;\n",
              "      padding: 0 0 0 0;\n",
              "      width: 32px;\n",
              "    }\n",
              "\n",
              "    .colab-df-convert:hover {\n",
              "      background-color: #E2EBFA;\n",
              "      box-shadow: 0px 1px 2px rgba(60, 64, 67, 0.3), 0px 1px 3px 1px rgba(60, 64, 67, 0.15);\n",
              "      fill: #174EA6;\n",
              "    }\n",
              "\n",
              "    [theme=dark] .colab-df-convert {\n",
              "      background-color: #3B4455;\n",
              "      fill: #D2E3FC;\n",
              "    }\n",
              "\n",
              "    [theme=dark] .colab-df-convert:hover {\n",
              "      background-color: #434B5C;\n",
              "      box-shadow: 0px 1px 3px 1px rgba(0, 0, 0, 0.15);\n",
              "      filter: drop-shadow(0px 1px 2px rgba(0, 0, 0, 0.3));\n",
              "      fill: #FFFFFF;\n",
              "    }\n",
              "  </style>\n",
              "\n",
              "      <script>\n",
              "        const buttonEl =\n",
              "          document.querySelector('#df-05c6e31c-d21f-4237-a1c4-15eab7410929 button.colab-df-convert');\n",
              "        buttonEl.style.display =\n",
              "          google.colab.kernel.accessAllowed ? 'block' : 'none';\n",
              "\n",
              "        async function convertToInteractive(key) {\n",
              "          const element = document.querySelector('#df-05c6e31c-d21f-4237-a1c4-15eab7410929');\n",
              "          const dataTable =\n",
              "            await google.colab.kernel.invokeFunction('convertToInteractive',\n",
              "                                                     [key], {});\n",
              "          if (!dataTable) return;\n",
              "\n",
              "          const docLinkHtml = 'Like what you see? Visit the ' +\n",
              "            '<a target=\"_blank\" href=https://colab.research.google.com/notebooks/data_table.ipynb>data table notebook</a>'\n",
              "            + ' to learn more about interactive tables.';\n",
              "          element.innerHTML = '';\n",
              "          dataTable['output_type'] = 'display_data';\n",
              "          await google.colab.output.renderOutput(dataTable, element);\n",
              "          const docLink = document.createElement('div');\n",
              "          docLink.innerHTML = docLinkHtml;\n",
              "          element.appendChild(docLink);\n",
              "        }\n",
              "      </script>\n",
              "    </div>\n",
              "  </div>\n",
              "  "
            ]
          },
          "metadata": {},
          "execution_count": 3
        }
      ]
    },
    {
      "cell_type": "code",
      "source": [
        "# Merge data sets to get movie title and tomatometer_status (which is our target).\n",
        "merged = pd.merge(critics, movies, on='rotten_tomatoes_link')\n",
        "data = merged[['rotten_tomatoes_link','critic_name','movie_title','review_content','review_type', 'tomatometer_status']]\n",
        "\n",
        "# Drop rows where there is no target\n",
        "data_nona = data.dropna(subset=['review_type', 'review_content'])\n",
        "data_nona.head(1)"
      ],
      "metadata": {
        "colab": {
          "base_uri": "https://localhost:8080/",
          "height": 125
        },
        "id": "vX1zX8GWfidg",
        "outputId": "d397bac0-d4fb-40d6-aad8-c9064cb079f8"
      },
      "execution_count": 4,
      "outputs": [
        {
          "output_type": "execute_result",
          "data": {
            "text/plain": [
              "  rotten_tomatoes_link      critic_name  \\\n",
              "0            m/0814255  Andrew L. Urban   \n",
              "\n",
              "                                         movie_title  \\\n",
              "0  Percy Jackson & the Olympians: The Lightning T...   \n",
              "\n",
              "                                      review_content review_type  \\\n",
              "0  A fantasy adventure that fuses Greek mythology...       Fresh   \n",
              "\n",
              "  tomatometer_status  \n",
              "0             Rotten  "
            ],
            "text/html": [
              "\n",
              "  <div id=\"df-fd7ed7c4-17dd-49c9-92bb-25372c489cbc\">\n",
              "    <div class=\"colab-df-container\">\n",
              "      <div>\n",
              "<style scoped>\n",
              "    .dataframe tbody tr th:only-of-type {\n",
              "        vertical-align: middle;\n",
              "    }\n",
              "\n",
              "    .dataframe tbody tr th {\n",
              "        vertical-align: top;\n",
              "    }\n",
              "\n",
              "    .dataframe thead th {\n",
              "        text-align: right;\n",
              "    }\n",
              "</style>\n",
              "<table border=\"1\" class=\"dataframe\">\n",
              "  <thead>\n",
              "    <tr style=\"text-align: right;\">\n",
              "      <th></th>\n",
              "      <th>rotten_tomatoes_link</th>\n",
              "      <th>critic_name</th>\n",
              "      <th>movie_title</th>\n",
              "      <th>review_content</th>\n",
              "      <th>review_type</th>\n",
              "      <th>tomatometer_status</th>\n",
              "    </tr>\n",
              "  </thead>\n",
              "  <tbody>\n",
              "    <tr>\n",
              "      <th>0</th>\n",
              "      <td>m/0814255</td>\n",
              "      <td>Andrew L. Urban</td>\n",
              "      <td>Percy Jackson &amp; the Olympians: The Lightning T...</td>\n",
              "      <td>A fantasy adventure that fuses Greek mythology...</td>\n",
              "      <td>Fresh</td>\n",
              "      <td>Rotten</td>\n",
              "    </tr>\n",
              "  </tbody>\n",
              "</table>\n",
              "</div>\n",
              "      <button class=\"colab-df-convert\" onclick=\"convertToInteractive('df-fd7ed7c4-17dd-49c9-92bb-25372c489cbc')\"\n",
              "              title=\"Convert this dataframe to an interactive table.\"\n",
              "              style=\"display:none;\">\n",
              "        \n",
              "  <svg xmlns=\"http://www.w3.org/2000/svg\" height=\"24px\"viewBox=\"0 0 24 24\"\n",
              "       width=\"24px\">\n",
              "    <path d=\"M0 0h24v24H0V0z\" fill=\"none\"/>\n",
              "    <path d=\"M18.56 5.44l.94 2.06.94-2.06 2.06-.94-2.06-.94-.94-2.06-.94 2.06-2.06.94zm-11 1L8.5 8.5l.94-2.06 2.06-.94-2.06-.94L8.5 2.5l-.94 2.06-2.06.94zm10 10l.94 2.06.94-2.06 2.06-.94-2.06-.94-.94-2.06-.94 2.06-2.06.94z\"/><path d=\"M17.41 7.96l-1.37-1.37c-.4-.4-.92-.59-1.43-.59-.52 0-1.04.2-1.43.59L10.3 9.45l-7.72 7.72c-.78.78-.78 2.05 0 2.83L4 21.41c.39.39.9.59 1.41.59.51 0 1.02-.2 1.41-.59l7.78-7.78 2.81-2.81c.8-.78.8-2.07 0-2.86zM5.41 20L4 18.59l7.72-7.72 1.47 1.35L5.41 20z\"/>\n",
              "  </svg>\n",
              "      </button>\n",
              "      \n",
              "  <style>\n",
              "    .colab-df-container {\n",
              "      display:flex;\n",
              "      flex-wrap:wrap;\n",
              "      gap: 12px;\n",
              "    }\n",
              "\n",
              "    .colab-df-convert {\n",
              "      background-color: #E8F0FE;\n",
              "      border: none;\n",
              "      border-radius: 50%;\n",
              "      cursor: pointer;\n",
              "      display: none;\n",
              "      fill: #1967D2;\n",
              "      height: 32px;\n",
              "      padding: 0 0 0 0;\n",
              "      width: 32px;\n",
              "    }\n",
              "\n",
              "    .colab-df-convert:hover {\n",
              "      background-color: #E2EBFA;\n",
              "      box-shadow: 0px 1px 2px rgba(60, 64, 67, 0.3), 0px 1px 3px 1px rgba(60, 64, 67, 0.15);\n",
              "      fill: #174EA6;\n",
              "    }\n",
              "\n",
              "    [theme=dark] .colab-df-convert {\n",
              "      background-color: #3B4455;\n",
              "      fill: #D2E3FC;\n",
              "    }\n",
              "\n",
              "    [theme=dark] .colab-df-convert:hover {\n",
              "      background-color: #434B5C;\n",
              "      box-shadow: 0px 1px 3px 1px rgba(0, 0, 0, 0.15);\n",
              "      filter: drop-shadow(0px 1px 2px rgba(0, 0, 0, 0.3));\n",
              "      fill: #FFFFFF;\n",
              "    }\n",
              "  </style>\n",
              "\n",
              "      <script>\n",
              "        const buttonEl =\n",
              "          document.querySelector('#df-fd7ed7c4-17dd-49c9-92bb-25372c489cbc button.colab-df-convert');\n",
              "        buttonEl.style.display =\n",
              "          google.colab.kernel.accessAllowed ? 'block' : 'none';\n",
              "\n",
              "        async function convertToInteractive(key) {\n",
              "          const element = document.querySelector('#df-fd7ed7c4-17dd-49c9-92bb-25372c489cbc');\n",
              "          const dataTable =\n",
              "            await google.colab.kernel.invokeFunction('convertToInteractive',\n",
              "                                                     [key], {});\n",
              "          if (!dataTable) return;\n",
              "\n",
              "          const docLinkHtml = 'Like what you see? Visit the ' +\n",
              "            '<a target=\"_blank\" href=https://colab.research.google.com/notebooks/data_table.ipynb>data table notebook</a>'\n",
              "            + ' to learn more about interactive tables.';\n",
              "          element.innerHTML = '';\n",
              "          dataTable['output_type'] = 'display_data';\n",
              "          await google.colab.output.renderOutput(dataTable, element);\n",
              "          const docLink = document.createElement('div');\n",
              "          docLink.innerHTML = docLinkHtml;\n",
              "          element.appendChild(docLink);\n",
              "        }\n",
              "      </script>\n",
              "    </div>\n",
              "  </div>\n",
              "  "
            ]
          },
          "metadata": {},
          "execution_count": 4
        }
      ]
    },
    {
      "cell_type": "code",
      "source": [
        "# Drop entries with missing data\n",
        "fig, axs = plt.subplots(1,2, figsize=(12,6))\n",
        "fig1 = axs[0].bar(x=data_nona.review_type.unique(),height=data_nona.review_type.value_counts(),color=colormap.colors)\n",
        "axs[0].set_title('Review Types by Critics')\n",
        "#axs[0].bar_label(fig1, padding = 3)\n",
        "fig2 = axs[1].bar(x=data_nona.dropna(subset=['tomatometer_status']).tomatometer_status.unique(),height=(data_nona.dropna(subset=['tomatometer_status'])).tomatometer_status.value_counts(),color=colormap.colors)\n",
        "axs[1].set_title('Tomatometer Status')\n",
        "#axs[1].bar_label(fig2, padding=3)"
      ],
      "metadata": {
        "colab": {
          "base_uri": "https://localhost:8080/",
          "height": 408
        },
        "id": "hmVgV4BBfuww",
        "outputId": "f0eac08b-de02-4183-a864-4850312b491b"
      },
      "execution_count": 8,
      "outputs": [
        {
          "output_type": "execute_result",
          "data": {
            "text/plain": [
              "Text(0.5, 1.0, 'Tomatometer Status')"
            ]
          },
          "metadata": {},
          "execution_count": 8
        },
        {
          "output_type": "display_data",
          "data": {
            "text/plain": [
              "<Figure size 864x432 with 2 Axes>"
            ],
            "image/png": "[encoded data removed]"
          },
          "metadata": {
            "needs_background": "light"
          }
        }
      ]
    },
    {
      "cell_type": "markdown",
      "source": [
        "#### Isolate training data and Preprocess\n",
        "- [X] Isolate relevant training/validation/testing data and drop na's\n",
        "- [X] Define preprocessing function\n",
        "- [X] Split into train/val/test tests with SKLearn\n",
        "- [ ] Create TF/Keras dataset. \n",
        "- [X] Define RNN with LSTMs etc.\n",
        "- [X] Evaluate Accuracy"
      ],
      "metadata": {
        "id": "mD1O1Xbprbb8"
      }
    },
    {
      "cell_type": "code",
      "source": [
        "data_nona.head(1)"
      ],
      "metadata": {
        "colab": {
          "base_uri": "https://localhost:8080/",
          "height": 125
        },
        "id": "4jq_t1Y-tCOU",
        "outputId": "f09a1489-f455-46f5-a8e9-bbd8d81d06d4"
      },
      "execution_count": 9,
      "outputs": [
        {
          "output_type": "execute_result",
          "data": {
            "text/plain": [
              "  rotten_tomatoes_link      critic_name  \\\n",
              "0            m/0814255  Andrew L. Urban   \n",
              "\n",
              "                                         movie_title  \\\n",
              "0  Percy Jackson & the Olympians: The Lightning T...   \n",
              "\n",
              "                                      review_content review_type  \\\n",
              "0  A fantasy adventure that fuses Greek mythology...       Fresh   \n",
              "\n",
              "  tomatometer_status  \n",
              "0             Rotten  "
            ],
            "text/html": [
              "\n",
              "  <div id=\"df-23233997-a948-4a10-bb7f-e520240e2d24\">\n",
              "    <div class=\"colab-df-container\">\n",
              "      <div>\n",
              "<style scoped>\n",
              "    .dataframe tbody tr th:only-of-type {\n",
              "        vertical-align: middle;\n",
              "    }\n",
              "\n",
              "    .dataframe tbody tr th {\n",
              "        vertical-align: top;\n",
              "    }\n",
              "\n",
              "    .dataframe thead th {\n",
              "        text-align: right;\n",
              "    }\n",
              "</style>\n",
              "<table border=\"1\" class=\"dataframe\">\n",
              "  <thead>\n",
              "    <tr style=\"text-align: right;\">\n",
              "      <th></th>\n",
              "      <th>rotten_tomatoes_link</th>\n",
              "      <th>critic_name</th>\n",
              "      <th>movie_title</th>\n",
              "      <th>review_content</th>\n",
              "      <th>review_type</th>\n",
              "      <th>tomatometer_status</th>\n",
              "    </tr>\n",
              "  </thead>\n",
              "  <tbody>\n",
              "    <tr>\n",
              "      <th>0</th>\n",
              "      <td>m/0814255</td>\n",
              "      <td>Andrew L. Urban</td>\n",
              "      <td>Percy Jackson &amp; the Olympians: The Lightning T...</td>\n",
              "      <td>A fantasy adventure that fuses Greek mythology...</td>\n",
              "      <td>Fresh</td>\n",
              "      <td>Rotten</td>\n",
              "    </tr>\n",
              "  </tbody>\n",
              "</table>\n",
              "</div>\n",
              "      <button class=\"colab-df-convert\" onclick=\"convertToInteractive('df-23233997-a948-4a10-bb7f-e520240e2d24')\"\n",
              "              title=\"Convert this dataframe to an interactive table.\"\n",
              "              style=\"display:none;\">\n",
              "        \n",
              "  <svg xmlns=\"http://www.w3.org/2000/svg\" height=\"24px\"viewBox=\"0 0 24 24\"\n",
              "       width=\"24px\">\n",
              "    <path d=\"M0 0h24v24H0V0z\" fill=\"none\"/>\n",
              "    <path d=\"M18.56 5.44l.94 2.06.94-2.06 2.06-.94-2.06-.94-.94-2.06-.94 2.06-2.06.94zm-11 1L8.5 8.5l.94-2.06 2.06-.94-2.06-.94L8.5 2.5l-.94 2.06-2.06.94zm10 10l.94 2.06.94-2.06 2.06-.94-2.06-.94-.94-2.06-.94 2.06-2.06.94z\"/><path d=\"M17.41 7.96l-1.37-1.37c-.4-.4-.92-.59-1.43-.59-.52 0-1.04.2-1.43.59L10.3 9.45l-7.72 7.72c-.78.78-.78 2.05 0 2.83L4 21.41c.39.39.9.59 1.41.59.51 0 1.02-.2 1.41-.59l7.78-7.78 2.81-2.81c.8-.78.8-2.07 0-2.86zM5.41 20L4 18.59l7.72-7.72 1.47 1.35L5.41 20z\"/>\n",
              "  </svg>\n",
              "      </button>\n",
              "      \n",
              "  <style>\n",
              "    .colab-df-container {\n",
              "      display:flex;\n",
              "      flex-wrap:wrap;\n",
              "      gap: 12px;\n",
              "    }\n",
              "\n",
              "    .colab-df-convert {\n",
              "      background-color: #E8F0FE;\n",
              "      border: none;\n",
              "      border-radius: 50%;\n",
              "      cursor: pointer;\n",
              "      display: none;\n",
              "      fill: #1967D2;\n",
              "      height: 32px;\n",
              "      padding: 0 0 0 0;\n",
              "      width: 32px;\n",
              "    }\n",
              "\n",
              "    .colab-df-convert:hover {\n",
              "      background-color: #E2EBFA;\n",
              "      box-shadow: 0px 1px 2px rgba(60, 64, 67, 0.3), 0px 1px 3px 1px rgba(60, 64, 67, 0.15);\n",
              "      fill: #174EA6;\n",
              "    }\n",
              "\n",
              "    [theme=dark] .colab-df-convert {\n",
              "      background-color: #3B4455;\n",
              "      fill: #D2E3FC;\n",
              "    }\n",
              "\n",
              "    [theme=dark] .colab-df-convert:hover {\n",
              "      background-color: #434B5C;\n",
              "      box-shadow: 0px 1px 3px 1px rgba(0, 0, 0, 0.15);\n",
              "      filter: drop-shadow(0px 1px 2px rgba(0, 0, 0, 0.3));\n",
              "      fill: #FFFFFF;\n",
              "    }\n",
              "  </style>\n",
              "\n",
              "      <script>\n",
              "        const buttonEl =\n",
              "          document.querySelector('#df-23233997-a948-4a10-bb7f-e520240e2d24 button.colab-df-convert');\n",
              "        buttonEl.style.display =\n",
              "          google.colab.kernel.accessAllowed ? 'block' : 'none';\n",
              "\n",
              "        async function convertToInteractive(key) {\n",
              "          const element = document.querySelector('#df-23233997-a948-4a10-bb7f-e520240e2d24');\n",
              "          const dataTable =\n",
              "            await google.colab.kernel.invokeFunction('convertToInteractive',\n",
              "                                                     [key], {});\n",
              "          if (!dataTable) return;\n",
              "\n",
              "          const docLinkHtml = 'Like what you see? Visit the ' +\n",
              "            '<a target=\"_blank\" href=https://colab.research.google.com/notebooks/data_table.ipynb>data table notebook</a>'\n",
              "            + ' to learn more about interactive tables.';\n",
              "          element.innerHTML = '';\n",
              "          dataTable['output_type'] = 'display_data';\n",
              "          await google.colab.output.renderOutput(dataTable, element);\n",
              "          const docLink = document.createElement('div');\n",
              "          docLink.innerHTML = docLinkHtml;\n",
              "          element.appendChild(docLink);\n",
              "        }\n",
              "      </script>\n",
              "    </div>\n",
              "  </div>\n",
              "  "
            ]
          },
          "metadata": {},
          "execution_count": 9
        }
      ]
    },
    {
      "cell_type": "code",
      "source": [
        "# Isolate and Preprocess Data\n",
        "import re\n",
        "\n",
        "data = data_nona[['review_content', 'review_type']]\n",
        "proc_data = pd.DataFrame()\n",
        "def preprocess(input):\n",
        "  input = re.sub('<br\\\\s*/?,\\(\\)>', ' ',input)\n",
        "  input = re.sub(\"[^a-zA-Z']\", ' ', input)\n",
        "  input = input.lower()\n",
        "  return input\n",
        "\n",
        "# Preprocess review content to clean up review text\n",
        "proc_data['review_content'] = data['review_content'].apply(lambda x: preprocess(x))\n",
        "\n",
        "# Assign 0/1 (or ordinal encoding) to review labels\n",
        "proc_data['review_type'] = data.review_type.apply(lambda x: 0 if x=='Rotten' else 1)"
      ],
      "metadata": {
        "colab": {
          "base_uri": "https://localhost:8080/"
        },
        "id": "iIEJ-c3V27DV",
        "outputId": "74bf96be-ddf5-426a-85fb-aa805916aab3"
      },
      "execution_count": 11,
      "outputs": [
        {
          "output_type": "execute_result",
          "data": {
            "text/plain": [
              "1"
            ]
          },
          "metadata": {},
          "execution_count": 11
        }
      ]
    },
    {
      "cell_type": "code",
      "source": [
        "from sklearn.model_selection import train_test_split \n",
        "X_train_full, X_test, y_train_full, y_test = train_test_split(proc_data[['review_content']], proc_data[['review_type']], test_size=0.1)\n",
        "X_train, X_val, y_train, y_val = train_test_split(X_train_full, y_train_full, test_size=0.1)"
      ],
      "metadata": {
        "id": "HER2awNFtM8J"
      },
      "execution_count": 12,
      "outputs": []
    },
    {
      "cell_type": "code",
      "source": [
        "# For tokenizing, create lists of training and testing data and labels\n",
        "import numpy as np \n",
        "X_train_list = X_train['review_content'].tolist()\n",
        "X_val_list = X_val['review_content'].tolist()\n",
        "X_test_list = X_test['review_content'].tolist()\n",
        "\n",
        "\n",
        "y_train_list = np.array(y_train['review_type'].tolist())\n",
        "y_val_list = np.array(y_val['review_type'].tolist())\n",
        "y_test_list = np.array(y_test['review_type'].tolist())"
      ],
      "metadata": {
        "id": "QRJDQGQfJitO"
      },
      "execution_count": 13,
      "outputs": []
    },
    {
      "cell_type": "code",
      "source": [
        "from keras.preprocessing.text import Tokenizer\n",
        "from keras_preprocessing.sequence import pad_sequences\n",
        "from keras import regularizers\n",
        "\n",
        "vocab_size = 10000\n",
        "max_len = 200\n",
        "num_oov_buckets = 1000\n",
        "embed_size = 128\n",
        "\n",
        "tokenizer = Tokenizer(num_words=vocab_size)\n",
        "tokenizer.fit_on_texts(X_train_list)\n",
        "word_index = tokenizer.word_index"
      ],
      "metadata": {
        "id": "KuxK85EqyWcl"
      },
      "execution_count": 14,
      "outputs": []
    },
    {
      "cell_type": "code",
      "source": [
        "max_id = len(word_index)\n",
        "max_id"
      ],
      "metadata": {
        "colab": {
          "base_uri": "https://localhost:8080/"
        },
        "id": "E6UTSaboInDk",
        "outputId": "57bfaa30-5847-4645-ec6a-6c7984f95b35"
      },
      "execution_count": 16,
      "outputs": [
        {
          "output_type": "execute_result",
          "data": {
            "text/plain": [
              "34251"
            ]
          },
          "metadata": {},
          "execution_count": 16
        }
      ]
    },
    {
      "cell_type": "code",
      "source": [
        "# Create numeric sequences from the tokenizer. Then create padded sequences to make the same length\n",
        "sequences = tokenizer.texts_to_sequences(X_train_list)\n",
        "padded = pad_sequences(sequences, maxlen=max_len)\n",
        "val_sequences = tokenizer.texts_to_sequences(X_val_list)\n",
        "val_padded = pad_sequences(val_sequences, maxlen=max_len)\n",
        "test_sequences = tokenizer.texts_to_sequences(X_test_list)\n",
        "test_padded = pad_sequences(test_sequences, maxlen=max_len)"
      ],
      "metadata": {
        "id": "BX7ImoOGIoBq"
      },
      "execution_count": 17,
      "outputs": []
    },
    {
      "cell_type": "code",
      "source": [
        "print(padded)"
      ],
      "metadata": {
        "colab": {
          "base_uri": "https://localhost:8080/"
        },
        "id": "-InUycjDOn7r",
        "outputId": "8d1aaff9-984f-4bcd-92ab-da52702de907"
      },
      "execution_count": 29,
      "outputs": [
        {
          "output_type": "stream",
          "name": "stdout",
          "text": [
            "[[   0    0    0 ...  702    1  335]\n",
            " [   0    0    0 ... 5653 1457  487]\n",
            " [   0    0    0 ...    3  256 1458]\n",
            " ...\n",
            " [   0    0    0 ...   11    2 3555]\n",
            " [   0    0    0 ...  318    4  707]\n",
            " [   0    0    0 ...    7 2857  139]]\n"
          ]
        }
      ]
    },
    {
      "cell_type": "code",
      "source": [
        "# Defining a simple model\n",
        "model = keras.models.Sequential([\n",
        "    keras.layers.Embedding(vocab_size + num_oov_buckets, embed_size, input_length=max_len),\n",
        "    keras.layers.LSTM(embed_size, return_sequences=True, dropout=0.2, recurrent_dropout=0.2),\n",
        "    keras.layers.LSTM(embed_size),\n",
        "    keras.layers.TimeDistributed(keras.layers.Dense(1, activation='sigmoid'))\n",
        "])\n",
        "\n",
        "#model = tf.keras.Sequential([\n",
        "#    tf.keras.layers.Embedding(vocab_size, embed_size, input_length=max_len),\n",
        "#    tf.keras.layers.GlobalAveragePooling1D(),\n",
        "#    tf.keras.layers.Dense(6, activation='relu'),\n",
        "#    tf.keras.layers.Dense(1, activation='sigmoid')\n",
        "#])"
      ],
      "metadata": {
        "id": "XFhaV5iOKz08"
      },
      "execution_count": 76,
      "outputs": []
    },
    {
      "cell_type": "code",
      "source": [
        "model.compile(loss='binary_crossentropy', optimizer='adam', metrics=['accuracy'])\n",
        "model.summary()"
      ],
      "metadata": {
        "colab": {
          "base_uri": "https://localhost:8080/"
        },
        "id": "rNLFEl6mMenU",
        "outputId": "f0d0921e-4864-47bc-c82b-916a4e1e8647"
      },
      "execution_count": 77,
      "outputs": [
        {
          "output_type": "stream",
          "name": "stdout",
          "text": [
            "Model: \"sequential_8\"\n",
            "_________________________________________________________________\n",
            " Layer (type)                Output Shape              Param #   \n",
            "=================================================================\n",
            " embedding_7 (Embedding)     (None, 200, 128)          1280000   \n",
            "                                                                 \n",
            " global_average_pooling1d_2   (None, 128)              0         \n",
            " (GlobalAveragePooling1D)                                        \n",
            "                                                                 \n",
            " dense_10 (Dense)            (None, 6)                 774       \n",
            "                                                                 \n",
            " dense_11 (Dense)            (None, 1)                 7         \n",
            "                                                                 \n",
            "=================================================================\n",
            "Total params: 1,280,781\n",
            "Trainable params: 1,280,781\n",
            "Non-trainable params: 0\n",
            "_________________________________________________________________\n"
          ]
        }
      ]
    },
    {
      "cell_type": "code",
      "source": [
        "num_epochs = 20\n",
        "history = model.fit(padded, y_train_list, epochs = num_epochs, validation_data = (val_padded, y_val_list))"
      ],
      "metadata": {
        "colab": {
          "base_uri": "https://localhost:8080/"
        },
        "id": "nwvb6o9GM4B0",
        "outputId": "767a6238-1fd8-4a57-e829-e1ffc4ccf9d7"
      },
      "execution_count": 78,
      "outputs": [
        {
          "output_type": "stream",
          "name": "stdout",
          "text": [
            "Epoch 1/20\n",
            "1043/1043 [==============================] - 18s 16ms/step - loss: 0.6430 - accuracy: 0.6243 - val_loss: 0.5738 - val_accuracy: 0.6936\n",
            "Epoch 2/20\n",
            "1043/1043 [==============================] - 17s 16ms/step - loss: 0.5139 - accuracy: 0.7516 - val_loss: 0.4900 - val_accuracy: 0.7678\n",
            "Epoch 3/20\n",
            "1043/1043 [==============================] - 17s 16ms/step - loss: 0.4279 - accuracy: 0.8135 - val_loss: 0.4765 - val_accuracy: 0.7743\n",
            "Epoch 4/20\n",
            "1043/1043 [==============================] - 17s 16ms/step - loss: 0.3840 - accuracy: 0.8377 - val_loss: 0.4722 - val_accuracy: 0.7780\n",
            "Epoch 5/20\n",
            "1043/1043 [==============================] - 17s 16ms/step - loss: 0.3510 - accuracy: 0.8537 - val_loss: 0.4815 - val_accuracy: 0.7799\n",
            "Epoch 6/20\n",
            "1043/1043 [==============================] - 18s 17ms/step - loss: 0.3311 - accuracy: 0.8627 - val_loss: 0.4994 - val_accuracy: 0.7810\n",
            "Epoch 7/20\n",
            "1043/1043 [==============================] - 16s 16ms/step - loss: 0.3175 - accuracy: 0.8689 - val_loss: 0.5291 - val_accuracy: 0.7770\n",
            "Epoch 8/20\n",
            "1043/1043 [==============================] - 17s 16ms/step - loss: 0.3034 - accuracy: 0.8775 - val_loss: 0.5302 - val_accuracy: 0.7745\n",
            "Epoch 9/20\n",
            "1043/1043 [==============================] - 17s 16ms/step - loss: 0.2962 - accuracy: 0.8832 - val_loss: 0.5371 - val_accuracy: 0.7735\n",
            "Epoch 10/20\n",
            "1043/1043 [==============================] - 17s 16ms/step - loss: 0.2847 - accuracy: 0.8884 - val_loss: 0.5603 - val_accuracy: 0.7780\n",
            "Epoch 11/20\n",
            "1043/1043 [==============================] - 17s 16ms/step - loss: 0.2804 - accuracy: 0.8904 - val_loss: 0.5689 - val_accuracy: 0.7716\n",
            "Epoch 12/20\n",
            "1043/1043 [==============================] - 17s 16ms/step - loss: 0.2731 - accuracy: 0.8933 - val_loss: 0.5883 - val_accuracy: 0.7732\n",
            "Epoch 13/20\n",
            "1043/1043 [==============================] - 17s 17ms/step - loss: 0.2673 - accuracy: 0.8966 - val_loss: 0.6441 - val_accuracy: 0.7686\n",
            "Epoch 14/20\n",
            "1043/1043 [==============================] - 17s 16ms/step - loss: 0.2637 - accuracy: 0.8998 - val_loss: 0.6208 - val_accuracy: 0.7551\n",
            "Epoch 15/20\n",
            "1043/1043 [==============================] - 17s 17ms/step - loss: 0.2577 - accuracy: 0.9027 - val_loss: 0.6699 - val_accuracy: 0.7694\n",
            "Epoch 16/20\n",
            "1043/1043 [==============================] - 18s 17ms/step - loss: 0.2536 - accuracy: 0.9036 - val_loss: 0.6492 - val_accuracy: 0.7611\n",
            "Epoch 17/20\n",
            "1043/1043 [==============================] - 18s 17ms/step - loss: 0.2513 - accuracy: 0.9059 - val_loss: 0.6577 - val_accuracy: 0.7611\n",
            "Epoch 18/20\n",
            "1043/1043 [==============================] - 18s 17ms/step - loss: 0.2482 - accuracy: 0.9073 - val_loss: 0.6775 - val_accuracy: 0.7629\n",
            "Epoch 19/20\n",
            "1043/1043 [==============================] - 18s 17ms/step - loss: 0.2450 - accuracy: 0.9095 - val_loss: 0.7135 - val_accuracy: 0.7643\n",
            "Epoch 20/20\n",
            "1043/1043 [==============================] - 18s 18ms/step - loss: 0.2387 - accuracy: 0.9130 - val_loss: 0.7477 - val_accuracy: 0.7638\n"
          ]
        }
      ]
    },
    {
      "cell_type": "code",
      "source": [
        "%matplotlib inline\n",
        "import matplotlib.image as mpimg\n",
        "import matplotlib.pyplot as plt\n",
        "plt.style.use('ggplot')\n",
        "\n",
        "def plot_history(history):\n",
        "    acc = history.history['acc']\n",
        "    val_acc = history.history['val_acc']\n",
        "    loss = history.history['loss']\n",
        "    val_loss = history.history['val_loss']\n",
        "    x = range(1, len(acc) + 1)\n",
        "\n",
        "    plt.figure(figsize=(12, 5))\n",
        "    plt.subplot(1, 2, 1)\n",
        "    plt.plot(x, acc, 'b', label='Training acc')\n",
        "    plt.plot(x, val_acc, 'r', label='Validation acc')\n",
        "    plt.title('Training and validation accuracy')\n",
        "    plt.legend()\n",
        "    plt.subplot(1, 2, 2)\n",
        "    plt.plot(x, loss, 'b', label='Training loss')\n",
        "    plt.plot(x, val_loss, 'r', label='Validation loss')\n",
        "    plt.title('Training and validation loss')\n",
        "    plt.legend()\n"
      ],
      "metadata": {
        "id": "NHwIHdO7PUue"
      },
      "execution_count": 64,
      "outputs": []
    },
    {
      "cell_type": "code",
      "source": [
        "# Alternate model using Bi-Directional 1 layer LSTM\n",
        "model2 = keras.Sequential([\n",
        "    keras.layers.Embedding(vocab_size + num_oov_buckets, embed_size, input_length=max_len),\n",
        "    keras.layers.Bidirectional(layers.LSTM(int(embed_size/2))),\n",
        "    #keras.layers.LSTM(15, dropout=0.2),\n",
        "    keras.layers.Dense(1, activation='sigmoid')\n",
        "])\n",
        "model2.compile(optimizer='adam',loss='binary_crossentropy', metrics=['accuracy'])\n",
        "model2.summary()"
      ],
      "metadata": {
        "colab": {
          "base_uri": "https://localhost:8080/"
        },
        "id": "YBsMlwajRPYA",
        "outputId": "cf743eeb-4ecb-4c93-9682-67367d31aa60"
      },
      "execution_count": 34,
      "outputs": [
        {
          "output_type": "stream",
          "name": "stdout",
          "text": [
            "Model: \"sequential_4\"\n",
            "_________________________________________________________________\n",
            " Layer (type)                Output Shape              Param #   \n",
            "=================================================================\n",
            " embedding_5 (Embedding)     (None, 200, 128)          1408000   \n",
            "                                                                 \n",
            " bidirectional_3 (Bidirectio  (None, 128)              98816     \n",
            " nal)                                                            \n",
            "                                                                 \n",
            " dense_4 (Dense)             (None, 1)                 129       \n",
            "                                                                 \n",
            "=================================================================\n",
            "Total params: 1,506,945\n",
            "Trainable params: 1,506,945\n",
            "Non-trainable params: 0\n",
            "_________________________________________________________________\n"
          ]
        }
      ]
    },
    {
      "cell_type": "code",
      "source": [
        "#Implement model checkpoins to get NN performance at its best\n",
        "from keras.callbacks import ModelCheckpoint\n",
        "checkpoint2 = ModelCheckpoint(\"best_model2.hdf5\", monitor='val_accuracy', verbose=1,save_best_only=True, mode='auto',save_weights_only=False)\n",
        "num_epochs=10\n",
        "history = model2.fit(padded, y_train_list, epochs = num_epochs, validation_data = (val_padded, y_val_list), callbacks=[checkpoint2])"
      ],
      "metadata": {
        "colab": {
          "base_uri": "https://localhost:8080/"
        },
        "id": "SWynPhOBue0P",
        "outputId": "c19880be-4d6d-4bf1-8b29-e1c01aeb63f4"
      },
      "execution_count": 35,
      "outputs": [
        {
          "output_type": "stream",
          "name": "stdout",
          "text": [
            "Epoch 1/10\n",
            "1043/1043 [==============================] - ETA: 0s - loss: 0.5140 - accuracy: 0.7446\n",
            "Epoch 1: val_accuracy improved from -inf to 0.80124, saving model to best_model2.hdf5\n",
            "1043/1043 [==============================] - 279s 264ms/step - loss: 0.5140 - accuracy: 0.7446 - val_loss: 0.4239 - val_accuracy: 0.8012\n",
            "Epoch 2/10\n",
            "1043/1043 [==============================] - ETA: 0s - loss: 0.3559 - accuracy: 0.8426\n",
            "Epoch 2: val_accuracy improved from 0.80124 to 0.80205, saving model to best_model2.hdf5\n",
            "1043/1043 [==============================] - 272s 261ms/step - loss: 0.3559 - accuracy: 0.8426 - val_loss: 0.4183 - val_accuracy: 0.8020\n",
            "Epoch 3/10\n",
            "1043/1043 [==============================] - ETA: 0s - loss: 0.2647 - accuracy: 0.8860\n",
            "Epoch 3: val_accuracy did not improve from 0.80205\n",
            "1043/1043 [==============================] - 289s 277ms/step - loss: 0.2647 - accuracy: 0.8860 - val_loss: 0.4550 - val_accuracy: 0.7958\n",
            "Epoch 4/10\n",
            "1043/1043 [==============================] - ETA: 0s - loss: 0.1916 - accuracy: 0.9200\n",
            "Epoch 4: val_accuracy did not improve from 0.80205\n",
            "1043/1043 [==============================] - 282s 270ms/step - loss: 0.1916 - accuracy: 0.9200 - val_loss: 0.5698 - val_accuracy: 0.7926\n",
            "Epoch 5/10\n",
            "1043/1043 [==============================] - ETA: 0s - loss: 0.1371 - accuracy: 0.9440\n",
            "Epoch 5: val_accuracy did not improve from 0.80205\n",
            "1043/1043 [==============================] - 286s 274ms/step - loss: 0.1371 - accuracy: 0.9440 - val_loss: 0.6830 - val_accuracy: 0.7802\n",
            "Epoch 6/10\n",
            "1043/1043 [==============================] - ETA: 0s - loss: 0.0999 - accuracy: 0.9610\n",
            "Epoch 6: val_accuracy did not improve from 0.80205\n",
            "1043/1043 [==============================] - 275s 264ms/step - loss: 0.0999 - accuracy: 0.9610 - val_loss: 0.8472 - val_accuracy: 0.7837\n",
            "Epoch 7/10\n",
            "1043/1043 [==============================] - ETA: 0s - loss: 0.0662 - accuracy: 0.9754\n",
            "Epoch 7: val_accuracy did not improve from 0.80205\n",
            "1043/1043 [==============================] - 274s 263ms/step - loss: 0.0662 - accuracy: 0.9754 - val_loss: 0.9551 - val_accuracy: 0.7810\n",
            "Epoch 8/10\n",
            "1043/1043 [==============================] - ETA: 0s - loss: 0.0464 - accuracy: 0.9836\n",
            "Epoch 8: val_accuracy did not improve from 0.80205\n",
            "1043/1043 [==============================] - 275s 263ms/step - loss: 0.0464 - accuracy: 0.9836 - val_loss: 1.1879 - val_accuracy: 0.7794\n",
            "Epoch 9/10\n",
            "1043/1043 [==============================] - ETA: 0s - loss: 0.0347 - accuracy: 0.9877\n",
            "Epoch 9: val_accuracy did not improve from 0.80205\n",
            "1043/1043 [==============================] - 275s 264ms/step - loss: 0.0347 - accuracy: 0.9877 - val_loss: 1.2173 - val_accuracy: 0.7794\n",
            "Epoch 10/10\n",
            "1043/1043 [==============================] - ETA: 0s - loss: 0.0253 - accuracy: 0.9915\n",
            "Epoch 10: val_accuracy did not improve from 0.80205\n",
            "1043/1043 [==============================] - 281s 269ms/step - loss: 0.0253 - accuracy: 0.9915 - val_loss: 1.2995 - val_accuracy: 0.7816\n"
          ]
        }
      ]
    },
    {
      "cell_type": "code",
      "source": [
        "!mkdir -p saved_model\n",
        "model2.save('saved_model/my_model_lstm2') "
      ],
      "metadata": {
        "colab": {
          "base_uri": "https://localhost:8080/"
        },
        "id": "cCZdJ5v3BxO1",
        "outputId": "19b47b29-c2f7-4d7b-ba25-9994f9a3b0f0"
      },
      "execution_count": 39,
      "outputs": [
        {
          "output_type": "stream",
          "name": "stderr",
          "text": [
            "WARNING:absl:Found untraced functions such as lstm_cell_12_layer_call_fn, lstm_cell_12_layer_call_and_return_conditional_losses, lstm_cell_13_layer_call_fn, lstm_cell_13_layer_call_and_return_conditional_losses while saving (showing 4 of 4). These functions will not be directly callable after loading.\n"
          ]
        }
      ]
    },
    {
      "cell_type": "code",
      "source": [
        "plot_learning(history)"
      ],
      "metadata": {
        "colab": {
          "base_uri": "https://localhost:8080/",
          "height": 565
        },
        "id": "a3hKE2pJyk-R",
        "outputId": "36beb681-b7d6-4ec2-93d3-88177b769da2"
      },
      "execution_count": 65,
      "outputs": [
        {
          "output_type": "display_data",
          "data": {
            "text/plain": [
              "<Figure size 432x288 with 1 Axes>"
            ],
            "image/png": "[encoded data removed]"
          },
          "metadata": {}
        },
        {
          "output_type": "display_data",
          "data": {
            "text/plain": [
              "<Figure size 432x288 with 1 Axes>"
            ],
            "image/png": "[encoded data removed]"
          },
          "metadata": {}
        },
        {
          "output_type": "display_data",
          "data": {
            "text/plain": [
              "<Figure size 432x288 with 0 Axes>"
            ]
          },
          "metadata": {}
        }
      ]
    },
    {
      "cell_type": "code",
      "source": [
        "best_model = keras.models.load_model(\"best_model2.hdf5\")\n",
        "test_loss, test_acc = best_model.evaluate(test_padded, y_test_list, verbose=2)\n",
        "print('Model accuracy: ',test_acc)"
      ],
      "metadata": {
        "colab": {
          "base_uri": "https://localhost:8080/"
        },
        "id": "8HkitLudF8sR",
        "outputId": "24458a5b-d0aa-48e0-bb14-9288524f8592"
      },
      "execution_count": 60,
      "outputs": [
        {
          "output_type": "stream",
          "name": "stdout",
          "text": [
            "129/129 - 8s - loss: 0.4370 - accuracy: 0.7883 - 8s/epoch - 66ms/step\n",
            "Model accuracy:  0.7883495092391968\n"
          ]
        }
      ]
    },
    {
      "cell_type": "code",
      "source": [
        "# Create predictions from the best model on the test data\n",
        "predictions = best_model.predict(test_padded)"
      ],
      "metadata": {
        "colab": {
          "base_uri": "https://localhost:8080/"
        },
        "id": "Yb31wbiMGSI3",
        "outputId": "803127b1-ea07-42cd-857e-e3ca279c4668"
      },
      "execution_count": 61,
      "outputs": [
        {
          "output_type": "stream",
          "name": "stdout",
          "text": [
            "129/129 [==============================] - 9s 67ms/step\n"
          ]
        }
      ]
    },
    {
      "cell_type": "code",
      "source": [
        "# Create y_pred, which is a list of 0's and 1's based on the probs we got from the sigmoid later\n",
        "y_pred = np.array([1 if p > 0.5 else 0 for p in predictions])"
      ],
      "metadata": {
        "colab": {
          "base_uri": "https://localhost:8080/"
        },
        "id": "mErIJu-PH6su",
        "outputId": "6bf3de2c-7ea9-4520-ac4f-348d6569858e"
      },
      "execution_count": 69,
      "outputs": [
        {
          "output_type": "execute_result",
          "data": {
            "text/plain": [
              "array([1, 0, 1, ..., 0, 0, 1])"
            ]
          },
          "metadata": {},
          "execution_count": 69
        }
      ]
    },
    {
      "cell_type": "code",
      "source": [
        "# Plot results via confusion matrix\n",
        "from sklearn.metrics import plot_confusion_matrix, classification_report, confusion_matrix, accuracy_score\n",
        "print(classification_report(y_test_list, y_pred))"
      ],
      "metadata": {
        "colab": {
          "base_uri": "https://localhost:8080/"
        },
        "id": "we7SwRLnD0KI",
        "outputId": "203520c0-6983-4a53-bf3c-6bc82168bd03"
      },
      "execution_count": 70,
      "outputs": [
        {
          "output_type": "stream",
          "name": "stdout",
          "text": [
            "              precision    recall  f1-score   support\n",
            "\n",
            "           0       0.73      0.72      0.72      1594\n",
            "           1       0.83      0.83      0.83      2526\n",
            "\n",
            "    accuracy                           0.79      4120\n",
            "   macro avg       0.78      0.78      0.78      4120\n",
            "weighted avg       0.79      0.79      0.79      4120\n",
            "\n"
          ]
        }
      ]
    },
    {
      "cell_type": "code",
      "source": [
        "### TODO: Predict Sentiment of Individual Movie Review"
      ],
      "metadata": {
        "id": "y_GNqeoVWlzv"
      },
      "execution_count": null,
      "outputs": []
    },
    {
      "cell_type": "code",
      "source": [
        "\n",
        "# Use model to predict sentiment of a new movie review\n",
        "def predict_movie_status(prediction):\n",
        "    \n",
        "    pos = (prediction == 1).sum()/len(prediction)\n",
        "    \n",
        "    prediction = 'Fresh' if pos >= 0.50 else 'Rotten'\n",
        "    \n",
        "    print(f'Positive review:{pos:.2f}%')\n",
        "    print(f'Movie status: {prediction}')"
      ],
      "metadata": {
        "id": "ns_bqXcdTj3R"
      },
      "execution_count": 71,
      "outputs": []
    },
    {
      "cell_type": "code",
      "source": [
        "df = data_nona.loc[data_nona['movie_title'] == 'Titanic']\n",
        "df.head()"
      ],
      "metadata": {
        "colab": {
          "base_uri": "https://localhost:8080/",
          "height": 206
        },
        "id": "CNyMVPFQUqS8",
        "outputId": "cc12930c-4be0-4b59-ffb2-1c8e7850d1c8"
      },
      "execution_count": 84,
      "outputs": [
        {
          "output_type": "execute_result",
          "data": {
            "text/plain": [
              "      rotten_tomatoes_link       critic_name movie_title  \\\n",
              "33514    m/1056130-titanic  Christopher Null     Titanic   \n",
              "33515    m/1056130-titanic    John J. Puccio     Titanic   \n",
              "33516    m/1056130-titanic         Ken Hanke     Titanic   \n",
              "33518    m/1056130-titanic     James Sanford     Titanic   \n",
              "33519    m/1056130-titanic    Ryan Cracknell     Titanic   \n",
              "\n",
              "                                          review_content review_type  \\\n",
              "33514                                        fair enough       Fresh   \n",
              "33515  ...a good motion picture despite its shallow, ...       Fresh   \n",
              "33516  Manages to tell its tale in a compact 98 minut...       Fresh   \n",
              "33518  Exciting, well-acted version of the infamous v...       Fresh   \n",
              "33519  Not as big as James Cameron's computer-generat...       Fresh   \n",
              "\n",
              "      tomatometer_status  \n",
              "33514              Fresh  \n",
              "33515              Fresh  \n",
              "33516              Fresh  \n",
              "33518              Fresh  \n",
              "33519              Fresh  "
            ],
            "text/html": [
              "\n",
              "  <div id=\"df-37d76cd4-0f2d-4350-8a14-00d2e0d463af\">\n",
              "    <div class=\"colab-df-container\">\n",
              "      <div>\n",
              "<style scoped>\n",
              "    .dataframe tbody tr th:only-of-type {\n",
              "        vertical-align: middle;\n",
              "    }\n",
              "\n",
              "    .dataframe tbody tr th {\n",
              "        vertical-align: top;\n",
              "    }\n",
              "\n",
              "    .dataframe thead th {\n",
              "        text-align: right;\n",
              "    }\n",
              "</style>\n",
              "<table border=\"1\" class=\"dataframe\">\n",
              "  <thead>\n",
              "    <tr style=\"text-align: right;\">\n",
              "      <th></th>\n",
              "      <th>rotten_tomatoes_link</th>\n",
              "      <th>critic_name</th>\n",
              "      <th>movie_title</th>\n",
              "      <th>review_content</th>\n",
              "      <th>review_type</th>\n",
              "      <th>tomatometer_status</th>\n",
              "    </tr>\n",
              "  </thead>\n",
              "  <tbody>\n",
              "    <tr>\n",
              "      <th>33514</th>\n",
              "      <td>m/1056130-titanic</td>\n",
              "      <td>Christopher Null</td>\n",
              "      <td>Titanic</td>\n",
              "      <td>fair enough</td>\n",
              "      <td>Fresh</td>\n",
              "      <td>Fresh</td>\n",
              "    </tr>\n",
              "    <tr>\n",
              "      <th>33515</th>\n",
              "      <td>m/1056130-titanic</td>\n",
              "      <td>John J. Puccio</td>\n",
              "      <td>Titanic</td>\n",
              "      <td>...a good motion picture despite its shallow, ...</td>\n",
              "      <td>Fresh</td>\n",
              "      <td>Fresh</td>\n",
              "    </tr>\n",
              "    <tr>\n",
              "      <th>33516</th>\n",
              "      <td>m/1056130-titanic</td>\n",
              "      <td>Ken Hanke</td>\n",
              "      <td>Titanic</td>\n",
              "      <td>Manages to tell its tale in a compact 98 minut...</td>\n",
              "      <td>Fresh</td>\n",
              "      <td>Fresh</td>\n",
              "    </tr>\n",
              "    <tr>\n",
              "      <th>33518</th>\n",
              "      <td>m/1056130-titanic</td>\n",
              "      <td>James Sanford</td>\n",
              "      <td>Titanic</td>\n",
              "      <td>Exciting, well-acted version of the infamous v...</td>\n",
              "      <td>Fresh</td>\n",
              "      <td>Fresh</td>\n",
              "    </tr>\n",
              "    <tr>\n",
              "      <th>33519</th>\n",
              "      <td>m/1056130-titanic</td>\n",
              "      <td>Ryan Cracknell</td>\n",
              "      <td>Titanic</td>\n",
              "      <td>Not as big as James Cameron's computer-generat...</td>\n",
              "      <td>Fresh</td>\n",
              "      <td>Fresh</td>\n",
              "    </tr>\n",
              "  </tbody>\n",
              "</table>\n",
              "</div>\n",
              "      <button class=\"colab-df-convert\" onclick=\"convertToInteractive('df-37d76cd4-0f2d-4350-8a14-00d2e0d463af')\"\n",
              "              title=\"Convert this dataframe to an interactive table.\"\n",
              "              style=\"display:none;\">\n",
              "        \n",
              "  <svg xmlns=\"http://www.w3.org/2000/svg\" height=\"24px\"viewBox=\"0 0 24 24\"\n",
              "       width=\"24px\">\n",
              "    <path d=\"M0 0h24v24H0V0z\" fill=\"none\"/>\n",
              "    <path d=\"M18.56 5.44l.94 2.06.94-2.06 2.06-.94-2.06-.94-.94-2.06-.94 2.06-2.06.94zm-11 1L8.5 8.5l.94-2.06 2.06-.94-2.06-.94L8.5 2.5l-.94 2.06-2.06.94zm10 10l.94 2.06.94-2.06 2.06-.94-2.06-.94-.94-2.06-.94 2.06-2.06.94z\"/><path d=\"M17.41 7.96l-1.37-1.37c-.4-.4-.92-.59-1.43-.59-.52 0-1.04.2-1.43.59L10.3 9.45l-7.72 7.72c-.78.78-.78 2.05 0 2.83L4 21.41c.39.39.9.59 1.41.59.51 0 1.02-.2 1.41-.59l7.78-7.78 2.81-2.81c.8-.78.8-2.07 0-2.86zM5.41 20L4 18.59l7.72-7.72 1.47 1.35L5.41 20z\"/>\n",
              "  </svg>\n",
              "      </button>\n",
              "      \n",
              "  <style>\n",
              "    .colab-df-container {\n",
              "      display:flex;\n",
              "      flex-wrap:wrap;\n",
              "      gap: 12px;\n",
              "    }\n",
              "\n",
              "    .colab-df-convert {\n",
              "      background-color: #E8F0FE;\n",
              "      border: none;\n",
              "      border-radius: 50%;\n",
              "      cursor: pointer;\n",
              "      display: none;\n",
              "      fill: #1967D2;\n",
              "      height: 32px;\n",
              "      padding: 0 0 0 0;\n",
              "      width: 32px;\n",
              "    }\n",
              "\n",
              "    .colab-df-convert:hover {\n",
              "      background-color: #E2EBFA;\n",
              "      box-shadow: 0px 1px 2px rgba(60, 64, 67, 0.3), 0px 1px 3px 1px rgba(60, 64, 67, 0.15);\n",
              "      fill: #174EA6;\n",
              "    }\n",
              "\n",
              "    [theme=dark] .colab-df-convert {\n",
              "      background-color: #3B4455;\n",
              "      fill: #D2E3FC;\n",
              "    }\n",
              "\n",
              "    [theme=dark] .colab-df-convert:hover {\n",
              "      background-color: #434B5C;\n",
              "      box-shadow: 0px 1px 3px 1px rgba(0, 0, 0, 0.15);\n",
              "      filter: drop-shadow(0px 1px 2px rgba(0, 0, 0, 0.3));\n",
              "      fill: #FFFFFF;\n",
              "    }\n",
              "  </style>\n",
              "\n",
              "      <script>\n",
              "        const buttonEl =\n",
              "          document.querySelector('#df-37d76cd4-0f2d-4350-8a14-00d2e0d463af button.colab-df-convert');\n",
              "        buttonEl.style.display =\n",
              "          google.colab.kernel.accessAllowed ? 'block' : 'none';\n",
              "\n",
              "        async function convertToInteractive(key) {\n",
              "          const element = document.querySelector('#df-37d76cd4-0f2d-4350-8a14-00d2e0d463af');\n",
              "          const dataTable =\n",
              "            await google.colab.kernel.invokeFunction('convertToInteractive',\n",
              "                                                     [key], {});\n",
              "          if (!dataTable) return;\n",
              "\n",
              "          const docLinkHtml = 'Like what you see? Visit the ' +\n",
              "            '<a target=\"_blank\" href=https://colab.research.google.com/notebooks/data_table.ipynb>data table notebook</a>'\n",
              "            + ' to learn more about interactive tables.';\n",
              "          element.innerHTML = '';\n",
              "          dataTable['output_type'] = 'display_data';\n",
              "          await google.colab.output.renderOutput(dataTable, element);\n",
              "          const docLink = document.createElement('div');\n",
              "          docLink.innerHTML = docLinkHtml;\n",
              "          element.appendChild(docLink);\n",
              "        }\n",
              "      </script>\n",
              "    </div>\n",
              "  </div>\n",
              "  "
            ]
          },
          "metadata": {},
          "execution_count": 84
        }
      ]
    },
    {
      "cell_type": "code",
      "source": [
        "#data_nona.movie_title.unique().tolist()"
      ],
      "metadata": {
        "id": "oo6fs2N0VETW"
      },
      "execution_count": 85,
      "outputs": []
    },
    {
      "cell_type": "code",
      "source": [
        "# Get a prediction\n",
        "the_sequence = tokenizer.texts_to_sequences(X_train_list)\n",
        "padded = pad_sequences(sequences, maxlen=max_len)\n",
        "y_predicted_bol = best_model.predict(vectorizer.transform(df_bol['review_content']).toarray())\n",
        "predict_movie_status(y_predicted_bol)"
      ],
      "metadata": {
        "id": "ySE0vhWxVMNP"
      },
      "execution_count": null,
      "outputs": []
    }
  ]
}
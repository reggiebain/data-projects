{
 "cells": [
  {
   "cell_type": "markdown",
   "metadata": {},
   "source": [
    "## Chat with a Database of Documents\n",
    "### Goals\n",
    "1. Create pre-existing database (vector store) of embedded file(s) such as syllabi, class notes, etc.\n",
    "2. Query that database using various models (OpenAI and OpenSource models) on variety of questions"
   ]
  },
  {
   "cell_type": "code",
   "execution_count": 2,
   "metadata": {},
   "outputs": [
    {
     "name": "stdout",
     "output_type": "stream",
     "text": [
      "\n",
      "\u001b[1m[\u001b[0m\u001b[34;49mnotice\u001b[0m\u001b[1;39;49m]\u001b[0m\u001b[39;49m A new release of pip is available: \u001b[0m\u001b[31;49m23.3.1\u001b[0m\u001b[39;49m -> \u001b[0m\u001b[32;49m23.3.2\u001b[0m\n",
      "\u001b[1m[\u001b[0m\u001b[34;49mnotice\u001b[0m\u001b[1;39;49m]\u001b[0m\u001b[39;49m To update, run: \u001b[0m\u001b[32;49mpython -m pip install --upgrade pip\u001b[0m\n"
     ]
    }
   ],
   "source": [
    "!pip install -q faiss-cpu langchain sentence-transformers python-dotenv pypdf openai unstructured markdown"
   ]
  },
  {
   "cell_type": "code",
   "execution_count": 3,
   "metadata": {},
   "outputs": [],
   "source": [
    "# Use dotenv to load the environment variables from .env in ipynb\n",
    "%load_ext dotenv\n",
    "%dotenv"
   ]
  },
  {
   "cell_type": "code",
   "execution_count": 4,
   "metadata": {},
   "outputs": [],
   "source": [
    "import os\n",
    "openai_key = os.environ['OPEN_AI_KEY']\n",
    "hf_key = os.environ['HUGGINGFACEHUB_API_TOKEN']"
   ]
  },
  {
   "cell_type": "code",
   "execution_count": 8,
   "metadata": {},
   "outputs": [],
   "source": [
    "from langchain.document_loaders import PyPDFLoader\n",
    "\n",
    "# Load PDFs\n",
    "syllabi_pdfs = [\n",
    "    PyPDFLoader(\"/workspaces/data-projects/langchain-chainlit/docs/rbain-syllabus-phys1-f23.pdf\"),\n",
    "    #PyPDFLoader('/workspaces/data-projects/langchain-chainlit/docs/cbain-syllabus-cs111-f23.pdf'),\n",
    "    PyPDFLoader('/workspaces/data-projects/langchain-chainlit/docs/open-stax-ch3.pdf'),\n",
    "]\n",
    "docs = []\n",
    "for syllabus in syllabi_pdfs:\n",
    "    docs.extend(syllabus.load())"
   ]
  },
  {
   "cell_type": "code",
   "execution_count": 9,
   "metadata": {},
   "outputs": [
    {
     "data": {
      "text/plain": [
       "170"
      ]
     },
     "execution_count": 9,
     "metadata": {},
     "output_type": "execute_result"
    }
   ],
   "source": [
    "# Split\n",
    "from langchain.text_splitter import RecursiveCharacterTextSplitter\n",
    "text_splitter = RecursiveCharacterTextSplitter(\n",
    "    chunk_size = 1000,\n",
    "    chunk_overlap = 150\n",
    ")\n",
    "splits = text_splitter.split_documents(docs)\n",
    "len(splits)"
   ]
  },
  {
   "cell_type": "code",
   "execution_count": 10,
   "metadata": {},
   "outputs": [
    {
     "name": "stdout",
     "output_type": "stream",
     "text": [
      "I Course Description 1. Course Summary a PHY 161/PHYS 215 General Physics I is an algebra-based introduction to mechanics, thermodynamics, and waves. Topics include motion in one and two dimensions, Newton’s laws of motion, equilibrium, work, energy, momentum, rotational motion, gravity, heat, waves, and sound Examples from medicine and biology will be included whenever possible. 2 College Credit Hours (Dual-Enrollment) a. This course is dual enrolled with Francis Marion University (FMU) and taught by a GSSM instructor Students will each have a FMU transcript with their overall grade earned in this course. Students may earn up 4 college credit hours depending on their grade and the transfer policies of their college/university Refer to the Dual Enrollment FAQ in the Course Catalog for more information. 3 Learning Outcomes a. Upon completion of this course, students will be able to: b Apply the laws of classical Newtonian mechanics (motion, force, energy, momentum, and.\n"
     ]
    }
   ],
   "source": [
    "# Explore splits and do some preprocessing\n",
    "import re\n",
    "def preprocess_text(text):\n",
    "    # Remove unnecessary newline characters\n",
    "    text = re.sub(r'(?<=[0-9a-zA-ZIVXLCDMivxlcdm.])\\n', ' ', text)\n",
    "    text = re.sub(r'(?<=[.!?])\\n', ' ', text)\n",
    "    # Join lines that are part of the same paragraph\n",
    "    lines = text.split('.')\n",
    "    cleaned_lines = [lines[i] + '.' if i % 2 != 0 else lines[i] for i in range(len(lines))]\n",
    "    text = ' '.join(cleaned_lines)\n",
    "\n",
    "    # Remove unnecessary whitespace\n",
    "    text = ' '.join(text.split())\n",
    "\n",
    "    return text\n",
    "print(preprocess_text(splits[0].page_content))"
   ]
  },
  {
   "cell_type": "code",
   "execution_count": 11,
   "metadata": {},
   "outputs": [
    {
     "name": "stdout",
     "output_type": "stream",
     "text": [
      "Before --> I.\n",
      "Course\n",
      "Description\n",
      "1.\n",
      "Course\n",
      "Summary\n",
      "a.\n",
      "PHY\n",
      "161/PHYS\n",
      "215\n",
      "General\n",
      "Physics\n",
      "I\n",
      "is\n",
      "an\n",
      "algebra-based\n",
      "introduction\n",
      "to\n",
      "mechanics, \n",
      "thermodynamics,\n",
      "and\n",
      "waves.\n",
      "Topics\n",
      "include\n",
      "motion\n",
      "in\n",
      "one\n",
      "and\n",
      "two\n",
      "dimensions, \n",
      "Newton’s\n",
      "laws\n",
      "of\n",
      "motion,\n",
      "equilibrium,\n",
      "work,\n",
      "energy,\n",
      "momentum,\n",
      "rotational\n",
      "motion, \n",
      "gravity,\n",
      "heat,\n",
      "waves,\n",
      "and\n",
      "sound.\n",
      "Examples\n",
      "from\n",
      "medicine\n",
      "and\n",
      "biology\n",
      "will\n",
      "be \n",
      "included\n",
      "whenever\n",
      "possible.\n",
      "2.\n",
      "College\n",
      "Credit\n",
      "Hours\n",
      "(Dual-Enrollment)\n",
      "a.\n",
      "This\n",
      "course\n",
      "is\n",
      "dual\n",
      "enrolled\n",
      "with\n",
      "Francis\n",
      "Marion\n",
      "University\n",
      "(FMU)\n",
      "and\n",
      "taught\n",
      "by\n",
      "a \n",
      "GSSM\n",
      "instructor.\n",
      "Students\n",
      "will\n",
      "each\n",
      "have\n",
      "a\n",
      "FMU\n",
      "transcript\n",
      "with\n",
      "their\n",
      "overall\n",
      "grade \n",
      "earned\n",
      "in\n",
      "this\n",
      "course.\n",
      "Students\n",
      "may\n",
      "earn\n",
      "up\n",
      "4\n",
      "college\n",
      "credit\n",
      "hours\n",
      "depending\n",
      "on \n",
      "their\n",
      "grade\n",
      "and\n",
      "the\n",
      "transfer\n",
      "policies\n",
      "of\n",
      "their\n",
      "college/university.\n",
      "Refer\n",
      "to\n",
      "the\n",
      "Dual \n",
      "Enrollment\n",
      "FAQ\n",
      "in\n",
      "the\n",
      "Course\n",
      "Catalog\n",
      "for\n",
      "more\n",
      "information.\n",
      "3.\n",
      "Learning\n",
      "Outcomes\n",
      "a.\n",
      "Upon\n",
      "completion\n",
      "of\n",
      "this\n",
      "course,\n",
      "students\n",
      "will\n",
      "be\n",
      "able\n",
      "to: \n",
      "b.\n",
      "Apply\n",
      "the\n",
      "laws\n",
      "of\n",
      "classical\n",
      "Newtonian\n",
      "mechanics\n",
      "(motion,\n",
      "force,\n",
      "energy, \n",
      "momentum,\n",
      "and\n",
      "After --> I Course Description 1. Course Summary a PHY 161/PHYS 215 General Physics I is an algebra-based introduction to mechanics, thermodynamics, and waves. Topics include motion in one and two dimensions, Newton’s laws of motion, equilibrium, work, energy, momentum, rotational motion, gravity, heat, waves, and sound Examples from medicine and biology will be included whenever possible. 2 College Credit Hours (Dual-Enrollment) a. This course is dual enrolled with Francis Marion University (FMU) and taught by a GSSM instructor Students will each have a FMU transcript with their overall grade earned in this course. Students may earn up 4 college credit hours depending on their grade and the transfer policies of their college/university Refer to the Dual Enrollment FAQ in the Course Catalog for more information. 3 Learning Outcomes a. Upon completion of this course, students will be able to: b Apply the laws of classical Newtonian mechanics (motion, force, energy, momentum, and.\n"
     ]
    }
   ],
   "source": [
    "# Apply to all splits\n",
    "print(f'Before --> {splits[0].page_content}')\n",
    "for split in splits:\n",
    "    split.page_content = preprocess_text(split.page_content)\n",
    "\n",
    "print(f'After --> {splits[0].page_content}')   "
   ]
  },
  {
   "cell_type": "code",
   "execution_count": 6,
   "metadata": {},
   "outputs": [
    {
     "name": "stdout",
     "output_type": "stream",
     "text": [
      "[Document(page_content='---\\nlayout: two-column\\ntitle: Syllabus\\npermalink: /syllabus/\\n---'), Document(page_content='<table style=\"border-top: solid 1px #444; border-bottom: solid 1px #444; border-collapse: collapse;'), Document(page_content='width: 100%; margin-bottom: 30px;\">'), Document(page_content='<caption>Summary Details for COMP_SCI 111</caption>\\n  <tbody>\\n      <tr>'), Document(page_content='<th scope=\"row\" style=\"text-align: left; font-size: 0.9em; line-height: 1.5em;'), Document(page_content=\"margin-top: 5px; vertical-align: top; font-family: 'Akkurat Pro Light'; border-bottom: dotted 1px\"), Document(page_content='#999; padding: 8px; min-width: 80px;\"><strong style=\"font-family: \\'Akkurat Pro'), Document(page_content='Regular\\';\">Term</strong></th>'), Document(page_content='<td style=\"font-size: 0.9em; line-height: 1.5em; margin-top: 5px; vertical-align: top;'), Document(page_content=\"font-family: 'Akkurat Pro Light'; border-bottom: dotted 1px #999; padding: 8px; min-width:\"), Document(page_content='80px;\">Fall 2023</td>'), Document(page_content='</tr>\\n      <tr>'), Document(page_content='<th scope=\"row\" style=\"text-align: left; font-size: 0.9em; line-height: 1.5em;'), Document(page_content=\"margin-top: 5px; vertical-align: top; font-family: 'Akkurat Pro Light'; border-bottom: dotted 1px\"), Document(page_content='#999; padding: 8px; min-width: 80px;\"><strong style=\"font-family: \\'Akkurat Pro'), Document(page_content='Regular\\';\">Course</strong></th>'), Document(page_content='<td style=\"font-size: 0.9em; line-height: 1.5em; margin-top: 5px; vertical-align: top;'), Document(page_content=\"font-family: 'Akkurat Pro Light'; border-bottom: dotted 1px #999; padding: 8px; min-width:\"), Document(page_content='80px;\">COMP_SCI 111: Fundamentals of Computer Programming I</td>'), Document(page_content='</tr>\\n      <tr>'), Document(page_content='<th scope=\"row\" style=\"text-align: left; font-size: 0.9em; line-height: 1.5em;'), Document(page_content=\"margin-top: 5px; vertical-align: top; font-family: 'Akkurat Pro Light'; border-bottom: dotted 1px\"), Document(page_content='#999; padding: 8px; min-width: 80px;\"><strong style=\"font-family: \\'Akkurat Pro'), Document(page_content='Regular\\';\">Prerequisites</strong></th>'), Document(page_content='<td style=\"font-size: 0.9em; line-height: 1.5em; margin-top: 5px; vertical-align: top;'), Document(page_content=\"font-family: 'Akkurat Pro Light'; border-bottom: dotted 1px #999; padding: 8px; min-width:\"), Document(page_content='80px;\">None</td>'), Document(page_content='</tr>\\n      <tr>'), Document(page_content='<th scope=\"row\" style=\"text-align: left; font-size: 0.9em; line-height: 1.5em;'), Document(page_content=\"margin-top: 5px; vertical-align: top; font-family: 'Akkurat Pro Light'; border-bottom: dotted 1px\"), Document(page_content='#999; padding: 8px; min-width: 80px;\"><strong style=\"font-family: \\'Akkurat Pro'), Document(page_content='Regular\\';\">Instructor</strong></th>'), Document(page_content='<td style=\"font-size: 0.9em; line-height: 1.5em; margin-top: 5px; vertical-align: top;'), Document(page_content=\"font-family: 'Akkurat Pro Light'; border-bottom: dotted 1px #999; padding: 8px; min-width:\"), Document(page_content='80px;\">Prof. Connor Bain (connor.bain@northwestern.edu)</td>'), Document(page_content='</tr>\\n      <tr>'), Document(page_content='<th scope=\"row\" style=\"text-align: left; font-size: 0.9em; line-height: 1.5em;'), Document(page_content=\"margin-top: 5px; vertical-align: top; font-family: 'Akkurat Pro Light'; border-bottom: dotted 1px\"), Document(page_content='#999; padding: 8px; min-width: 80px;\"><strong style=\"font-family: \\'Akkurat Pro Regular\\';\">Lecture'), Document(page_content='Time</strong></th>'), Document(page_content='<td style=\"font-size: 0.9em; line-height: 1.5em; margin-top: 5px; vertical-align: top;'), Document(page_content=\"font-family: 'Akkurat Pro Light'; border-bottom: dotted 1px #999; padding: 8px; min-width:\"), Document(page_content='80px;\">Section 1. Monday, Wednesday, &amp; Friday, 1:00 - 1:50pm<br />Section 2. Monday, Wednesday,'), Document(page_content='&amp; Friday, 2:00 - 2:50pm</td>'), Document(page_content='</tr>\\n      <tr>'), Document(page_content='<th scope=\"row\" style=\"text-align: left; font-size: 0.9em; line-height: 1.5em;'), Document(page_content=\"margin-top: 5px; vertical-align: top; font-family: 'Akkurat Pro Light'; border-bottom: dotted 1px\"), Document(page_content='#999; padding: 8px; min-width: 80px;\"><strong style=\"font-family: \\'Akkurat Pro Regular\\';\">Lecture'), Document(page_content='Location</strong></th>'), Document(page_content='<td style=\"font-size: 0.9em; line-height: 1.5em; margin-top: 5px; vertical-align: top;'), Document(page_content=\"font-family: 'Akkurat Pro Light'; border-bottom: dotted 1px #999; padding: 8px; min-width:\"), Document(page_content='80px;\"><a style=\"text-decoration: none; color: #4e2a84; border-bottom: solid #934B66 2px;\"'), Document(page_content='href=\"https://www.mccormick.northwestern.edu/contact/tech-room-finder-map.php?id=L165&amp;room-floo'), Document(page_content='r=1&amp;room-id=1055&amp;room-ingress=\">Tech'), Document(page_content='Auditorium</a></td>'), Document(page_content='</tr>\\n      <tr>'), Document(page_content='<th scope=\"row\" style=\"text-align: left; font-size: 0.9em; line-height: 1.5em;'), Document(page_content=\"margin-top: 5px; vertical-align: top; font-family: 'Akkurat Pro Light'; border-bottom: dotted 1px\"), Document(page_content='#999; padding: 8px; min-width: 80px;\"><strong style=\"font-family: \\'Akkurat Pro Regular\\';\">Required'), Document(page_content='Materials</strong></th>'), Document(page_content='<td style=\"font-size: 0.9em; line-height: 1.5em; margin-top: 5px; vertical-align: top;'), Document(page_content=\"font-family: 'Akkurat Pro Light'; border-bottom: dotted 1px #999; padding: 8px; min-width:\"), Document(page_content='80px;\"><em>Zero Cost Course</em> &ndash; (All course materials are open educational resources)</td>'), Document(page_content='</tr>\\n  </tbody>\\n</table>'), Document(page_content='> Please note that this syllabus is subject to change prior to Sep 20, 2023.\\n\\n## About the Course'), Document(page_content='This is an introductory course on the fundamentals of computer science. This class is meant to'), Document(page_content='allow students to explore many of the core concepts of computer science (CS) and serves as the'), Document(page_content='first course in core sequence at Northwestern. It is specifically designed to be open to students'), Document(page_content='of **all** backgrounds and does not expect **any** computer science knowledge or prior programming'), Document(page_content='experience.'), Document(page_content='> **This is not a software engineering course.**\\n>'), Document(page_content='> Please note that if you are looking to learn a specific programming language (i.e. \"learn how to'), Document(page_content='code in Python\"), please consider registering for [COMP_SCI'), Document(page_content='110](https://www.mccormick.northwestern.edu/computer-science/academics/courses/descriptions/110.htm'), Document(page_content='l)'), Document(page_content='instead. While this course is certainly \"an introduction to programming\", it is first and foremost'), Document(page_content='an introduction to core CS concepts. We use programming as _a means to understand and implement'), Document(page_content='these concepts_ rather than simply learning a single programming language. The ideas we talk about'), Document(page_content='in this class apply to **all programming languages** and set the basis for you to be able to'), Document(page_content='quickly pick up new programming languages throughout your future studies in CS.'), Document(page_content='This course uses the [Racket](https://racket-lang.org) programming language and its associated'), Document(page_content='Integrated Development Environment (IDE) [DrRacket](https://docs.racket-lang.org/drracket/) as its'), Document(page_content='main programming tools.'), Document(page_content='The main goal in this course is _to learn how to **design** and **reason** about programs_.'), Document(page_content='The **reasoning** part matters because programs never work the first time. So you need to be able'), Document(page_content=\"to figure what it's really doing and why, then change it to do what you want. Programmers are first\"), Document(page_content=\"and foremost detectives and diagnosticians. We're doctors trying to understand why our patients are\"), Document(page_content='sick.'), Document(page_content=\"The **design** part matters because the only way you'll be able to reason about it is if you design\"), Document(page_content='it in a way that makes it easy for humans to understand, whether said human is your future self'), Document(page_content=\"trying to add a new feature, or someone else who's taken over the project and is now trying to\"), Document(page_content='understand your code.'), Document(page_content='Beyond this main goal, the course has a number of interwoven learning objectives. Students will'), Document(page_content='work to understand:'), Document(page_content='* **Composition** (literally \"placing together\"): algorithms and data are built up by joining'), Document(page_content='simple components into more complex ones.'), Document(page_content='* **Abstraction**: Complex arrangements can be reproduced and used as if they were simple'), Document(page_content='components.'), Document(page_content='* **Metaprogramming**: Programs can be used to aid the process of programming itself.'), Document(page_content='* **Programmability and universality**: Computers are unique artifacts in that a single device can'), Document(page_content='perform an infinite set of possible functions, including emulating other computers.'), Document(page_content='* _Programming as a **psychological** discipline_: Programming is more about the limits of human'), Document(page_content='intelligence than about memorizing bits of code.'), Document(page_content='* _Programming as an **aesthetic** discipline_: Code can be beautiful; it can also be ugly.  Those'), Document(page_content='distinctions have real consequences in the world.'), Document(page_content='Programming is a powerful medium for creative expression. It can be a representational medium, a'), Document(page_content='tool for thinking about problems, a way of amplifying and/or communicating ideas, a means of'), Document(page_content='performing complex calculations over massive datasets, and more. Being a computer scientist is'), Document(page_content='*not* a prerequisite for creating useful or advanced programs. In fact, most people who write'), Document(page_content='computer programs are not computer scientists, but rather people who occupy a range of professions.'), Document(page_content='Journalists, geographers, sociologists, scientists, artists, musicians, entrepreneurs, researchers,'), Document(page_content='etc., use programming languages to accomplish diverse and specialized goals. And as data and'), Document(page_content='computing increasingly influence and perfuse modern life, understanding the mechanisms (and risks!)'), Document(page_content='that underlie these systems is a valuable modern literacy that is likely to serve you well.'), Document(page_content='Learning to program is not dissimilar to learning a new spoken/written language–first, you need to'), Document(page_content='understand basic rules like grammar and syntax, then you need exemplar buildings blocks like'), Document(page_content='adjectives, nouns, and prepositions, and only then can you use these ideas together to create'), Document(page_content='computer programs. What this means is that you **must** dedicate enough time to practicing the'), Document(page_content='basics in order to allow yourself to progressively move to more and more complex programming'), Document(page_content='practice.'), Document(page_content='Taking this course means committing—for 11 weeks—to attending lectures, tutorials, and office'), Document(page_content='hours, turning in assignments, practicing your programming skills, and most importantly,'), Document(page_content='persevering when things get difficult. Asking questions throughout the class is not a sign of'), Document(page_content='weakness. It shows that you are actively trying to understand what you know and what you do not'), Document(page_content='know. We have an excellent staff of teaching assistants and peer mentors who are here to answer'), Document(page_content='your questions, help you understand course material in different ways, and push you to your fullest'), Document(page_content='learning potential. With your consistent and _active_ participation in learning, you can navigate'), Document(page_content='the material in the course and become a proficient programmer by the end of the quarter.'), Document(page_content='* * *\\n## Course Format'), Document(page_content='Our class will be _partially flipped_. While some of our reserved class periods will be used for'), Document(page_content='**interactive lectures** where new concepts will be introduced, other days will be reserved for'), Document(page_content='in-depth **tutorials** where students will be expected to review course materials (recorded lecture'), Document(page_content='videos, slides, and notes) **before** the class period and during class we will work in small'), Document(page_content='groups to complete an in-depth programming assignment.'), Document(page_content='The rough schedule of the course will be (there are some exceptions):'), Document(page_content='* Mondays - Lecture Day\\n* Wednesdays - Tutorial Day\\n* Fridays - Practice+ Day'), Document(page_content=\"For lecture days, we'll have interactive lectures where we introduce a new topic and focus on\"), Document(page_content=\"building a core understanding. For Tutorial days, you'll work in your tutorial groups to complete\"), Document(page_content=\"an assignment during class time. On Practice+ days, we'll do a little more practice along with\"), Document(page_content='previewing the next components of the course.'), Document(page_content='When we assign a pre-recorded lecture, students *must* watch the video before coming to lecture.'), Document(page_content='Organizationally, some topics/modules span multiple lectures.'), Document(page_content='### Office Hours'), Document(page_content='Office hours are a crucial component of this course. Everyone on our course staff is here to help'), Document(page_content='you to be successful in the course and find your own power as current and future programmers. That'), Document(page_content=\"said, it's up to you to take the initiative and cultivate a weekly / bi-weekly practice of going to\"), Document(page_content='office hours that works for you and your schedule. This looks different for everyone: some people'), Document(page_content='go to 1-2 office hours sessions per week and finish their homework with a TA or peer mentor nearby'), Document(page_content='(if needed). Other students never go to office hours (though this is rare, as the exercises are'), Document(page_content='challenging). Also, different people connect with different TAs/peer mentors, so do shop around to'), Document(page_content='find a person with whom you work well.'), Document(page_content='Office hours are meant to be a time where you can ask questions that you need answered. That being'), Document(page_content='said, we ask that you come to office hours *having already thought about* the assignment or issue'), Document(page_content='you have been having. Please try your best to come to office hours prepared to ask questions like:'), Document(page_content=\"* I didn't understand X idea in lecture / tutorial this week. Can you explain it to me?\"), Document(page_content=\"* I'm having trouble finding a good place to start in this week's homework. Can you help?\"), Document(page_content=\"* My laptop won't run this code from class. What am I doing wrong?\"), Document(page_content=\"* My program is returning this error which I've tried to fix. What am I missing?\"), Document(page_content='* What courses should I take next after CS 111?'), Document(page_content='* What kinds of CS-related careers and opportunities are out there?'), Document(page_content='* * *\\n\\n## Course Staff'), Document(page_content='This is a very large class and in order to better support each of your learning goals, we have 33'), Document(page_content='course staff members. Visit the Course Resources page for a Staff Directory of all our amazing'), Document(page_content='course staff members!'), Document(page_content='### Peer Mentors'), Document(page_content='Our Peer Mentors (PMs) serve as your first point of contact in the course. PMs will be assigned to'), Document(page_content='tutorial groups so that you can build a relationship with them over the course of the quarter. They'), Document(page_content='will also host office hours each week that will be open for all students. That means that there'), Document(page_content='will be more than 60 office hours offered per week for our course. Please note that you are welcome'), Document(page_content=\"to attend any office hours that work for your schedule and you're not limited to your assigned PM's\"), Document(page_content='hours.'), Document(page_content='### Graduate Teaching Assistants'), Document(page_content='You can think of our Graduate Teaching Assistants as \"Super PMs!\" Not only can they serve as'), Document(page_content='meaningful course resources, but they can also provide broader context to our pedagogical approach,'), Document(page_content='talk more about research opportunities in the field of Computer Science, and address concerns you'), Document(page_content=\"may not feel comfortable with talking to a peer about. In general, if you'd like to reach out to\"), Document(page_content=\"one our TAs, please also CC Prof. Bain (connor.bain@northwestern.edu) as they're very busy people\"), Document(page_content='and we work as a team!'), Document(page_content='* Shu-Hung You (shhyou@u.northwestern.edu)\\n* Xian Wu (xianwu2024@u.northwestern.edu)\\n\\n* * *'), Document(page_content='## Course Grading Policy'), Document(page_content='Your course grade will consist of 5 weighted components: Tutorials, Exercises, Mini-Quizzes, Ethics'), Document(page_content='Modules and Quizzes. The weights of each component are below:'), Document(page_content='<table class=\"medium\" style=\"border-top: solid 1px #444; border-bottom: solid 1px #444;'), Document(page_content='border-collapse: collapse; margin-bottom: 30px; width: 600px !important;\">'), Document(page_content='<caption>Assignment Group Weightings</caption>\\n    <tbody>\\n        <tr>'), Document(page_content='<th scope=\"row\" style=\"font-size: 0.9em; line-height: 1.5em; margin-top: 5px;'), Document(page_content=\"vertical-align: top; font-family: 'Akkurat Pro Light'; border-bottom: dotted 1px #999; padding:\"), Document(page_content='8px; min-width: 80px;\"><strong style=\"font-family: \\'Akkurat Pro Regular\\';\">Tutorials'), Document(page_content='(9)</strong></th>'), Document(page_content='<td style=\"font-size: 0.9em; line-height: 1.5em; margin-top: 5px; vertical-align: top;'), Document(page_content=\"font-family: 'Akkurat Pro Light'; border-bottom: dotted 1px #999; padding: 8px; min-width:\"), Document(page_content='80px;\">14%</td>'), Document(page_content='</tr>\\n        <tr>'), Document(page_content='<th scope=\"row\" style=\"font-size: 0.9em; line-height: 1.5em; margin-top: 5px;'), Document(page_content=\"vertical-align: top; font-family: 'Akkurat Pro Light'; border-bottom: dotted 1px #999; padding:\"), Document(page_content='8px; min-width: 80px;\"><strong style=\"font-family: \\'Akkurat Pro Regular\\';\">Exercises'), Document(page_content='(9)</strong></th>'), Document(page_content='<td style=\"font-size: 0.9em; line-height: 1.5em; margin-top: 5px; vertical-align: top;'), Document(page_content=\"font-family: 'Akkurat Pro Light'; border-bottom: dotted 1px #999; padding: 8px; min-width:\"), Document(page_content='80px;\">30%</td>'), Document(page_content='</tr>\\n        <tr>'), Document(page_content='<th scope=\"row\" style=\"font-size: 0.9em; line-height: 1.5em; margin-top: 5px;'), Document(page_content=\"vertical-align: top; font-family: 'Akkurat Pro Light'; border-bottom: dotted 1px #999; padding:\"), Document(page_content='8px; min-width: 80px;\"><strong style=\"font-family: \\'Akkurat Pro Regular\\';\">Mini Quizzes (~2 per'), Document(page_content='module)</strong></th>'), Document(page_content='<td style=\"font-size: 0.9em; line-height: 1.5em; margin-top: 5px; vertical-align: top;'), Document(page_content=\"font-family: 'Akkurat Pro Light'; border-bottom: dotted 1px #999; padding: 8px; min-width:\"), Document(page_content='80px;\">8%</td>'), Document(page_content='</tr>\\n        <tr>'), Document(page_content='<th scope=\"row\" style=\"font-size: 0.9em; line-height: 1.5em; margin-top: 5px;'), Document(page_content=\"vertical-align: top; font-family: 'Akkurat Pro Light'; border-bottom: dotted 1px #999; padding:\"), Document(page_content='8px; min-width: 80px;\"><strong style=\"font-family: \\'Akkurat Pro Regular\\';\">Ethics Modules'), Document(page_content='(3)</strong></th>'), Document(page_content='<td style=\"font-size: 0.9em; line-height: 1.5em; margin-top: 5px; vertical-align: top;'), Document(page_content=\"font-family: 'Akkurat Pro Light'; border-bottom: dotted 1px #999; padding: 8px; min-width:\"), Document(page_content='80px;\">8%</td>'), Document(page_content='</tr>\\n        <tr>'), Document(page_content='<th scope=\"row\" style=\"font-size: 0.9em; line-height: 1.5em; margin-top: 5px;'), Document(page_content=\"vertical-align: top; font-family: 'Akkurat Pro Light'; border-bottom: dotted 1px #999; padding:\"), Document(page_content='8px; min-width: 80px;\"><strong style=\"font-family: \\'Akkurat Pro Regular\\';\">Quizzes'), Document(page_content='(4)</strong></th>'), Document(page_content='<td style=\"font-size: 0.9em; line-height: 1.5em; margin-top: 5px; vertical-align: top;'), Document(page_content=\"font-family: 'Akkurat Pro Light'; border-bottom: dotted 1px #999; padding: 8px; min-width:\"), Document(page_content='80px;\">40%</td>'), Document(page_content='</tr>\\n    </tbody>\\n</table>'), Document(page_content='Your final grade will be the weighted average of all the above assignments. Final grades are'), Document(page_content=\"assigned on a fixed scale which is set by the registrar's office and shown below. Final course\"), Document(page_content='grades **are not rounded or curved**:'), Document(page_content='<table class=\"medium\" style=\"border-top: solid 1px #444; border-bottom: solid 1px #444;'), Document(page_content='border-collapse: collapse; margin-bottom: 30px; width: 600px !important;\">'), Document(page_content='<caption>Letter Grades</caption>\\n    <tbody>\\n        <tr>'), Document(page_content='<th scope=\"row\" style=\"font-size: 0.9em; line-height: 1.5em; margin-top: 5px;'), Document(page_content=\"vertical-align: top; font-family: 'Akkurat Pro Light'; border-bottom: dotted 1px #999; padding:\"), Document(page_content='8px; min-width: 80px;\">A</th>'), Document(page_content='<td style=\"font-size: 0.9em; line-height: 1.5em; margin-top: 5px; vertical-align: top;'), Document(page_content=\"font-family: 'Akkurat Pro Light'; border-bottom: dotted 1px #999; padding: 8px; min-width:\"), Document(page_content='80px;\">93 - 100</td>'), Document(page_content='</tr>\\n        <tr>'), Document(page_content='<th scope=\"row\" style=\"font-size: 0.9em; line-height: 1.5em; margin-top: 5px;'), Document(page_content=\"vertical-align: top; font-family: 'Akkurat Pro Light'; border-bottom: dotted 1px #999; padding:\"), Document(page_content='8px; min-width: 80px;\">A-</th>'), Document(page_content='<td style=\"font-size: 0.9em; line-height: 1.5em; margin-top: 5px; vertical-align: top;'), Document(page_content=\"font-family: 'Akkurat Pro Light'; border-bottom: dotted 1px #999; padding: 8px; min-width:\"), Document(page_content='80px;\">90 - 92.99</td>'), Document(page_content='</tr>\\n        <tr>'), Document(page_content='<th scope=\"row\" style=\"font-size: 0.9em; line-height: 1.5em; margin-top: 5px;'), Document(page_content=\"vertical-align: top; font-family: 'Akkurat Pro Light'; border-bottom: dotted 1px #999; padding:\"), Document(page_content='8px; min-width: 80px;\">B+</th>'), Document(page_content='<td style=\"font-size: 0.9em; line-height: 1.5em; margin-top: 5px; vertical-align: top;'), Document(page_content=\"font-family: 'Akkurat Pro Light'; border-bottom: dotted 1px #999; padding: 8px; min-width:\"), Document(page_content='80px;\">87 - 89.99</td>'), Document(page_content='</tr>\\n        <tr>'), Document(page_content='<th scope=\"row\" style=\"font-size: 0.9em; line-height: 1.5em; margin-top: 5px;'), Document(page_content=\"vertical-align: top; font-family: 'Akkurat Pro Light'; border-bottom: dotted 1px #999; padding:\"), Document(page_content='8px; min-width: 80px;\">B</th>'), Document(page_content='<td style=\"font-size: 0.9em; line-height: 1.5em; margin-top: 5px; vertical-align: top;'), Document(page_content=\"font-family: 'Akkurat Pro Light'; border-bottom: dotted 1px #999; padding: 8px; min-width:\"), Document(page_content='80px;\">84 - 86.99</td>'), Document(page_content='</tr>\\n        <tr>'), Document(page_content='<th scope=\"row\" style=\"font-size: 0.9em; line-height: 1.5em; margin-top: 5px;'), Document(page_content=\"vertical-align: top; font-family: 'Akkurat Pro Light'; border-bottom: dotted 1px #999; padding:\"), Document(page_content='8px; min-width: 80px;\">B-</th>'), Document(page_content='<td style=\"font-size: 0.9em; line-height: 1.5em; margin-top: 5px; vertical-align: top;'), Document(page_content=\"font-family: 'Akkurat Pro Light'; border-bottom: dotted 1px #999; padding: 8px; min-width:\"), Document(page_content='80px;\">80 - 83.99</td>'), Document(page_content='</tr>\\n        <tr>'), Document(page_content='<th scope=\"row\" style=\"font-size: 0.9em; line-height: 1.5em; margin-top: 5px;'), Document(page_content=\"vertical-align: top; font-family: 'Akkurat Pro Light'; border-bottom: dotted 1px #999; padding:\"), Document(page_content='8px; min-width: 80px;\">C</th>'), Document(page_content='<td style=\"font-size: 0.9em; line-height: 1.5em; margin-top: 5px; vertical-align: top;'), Document(page_content=\"font-family: 'Akkurat Pro Light'; border-bottom: dotted 1px #999; padding: 8px; min-width:\"), Document(page_content='80px;\">70 - 79.99</td>'), Document(page_content='</tr>\\n        <tr>'), Document(page_content='<th scope=\"row\" style=\"font-size: 0.9em; line-height: 1.5em; margin-top: 5px;'), Document(page_content=\"vertical-align: top; font-family: 'Akkurat Pro Light'; border-bottom: dotted 1px #999; padding:\"), Document(page_content='8px; min-width: 80px;\">D*</th>'), Document(page_content='<td style=\"font-size: 0.9em; line-height: 1.5em; margin-top: 5px; vertical-align: top;'), Document(page_content=\"font-family: 'Akkurat Pro Light'; border-bottom: dotted 1px #999; padding: 8px; min-width:\"), Document(page_content='80px;\">60 - 69.99</td>'), Document(page_content='</tr>\\n        <tr>'), Document(page_content='<th scope=\"row\" style=\"font-size: 0.9em; line-height: 1.5em; margin-top: 5px;'), Document(page_content=\"vertical-align: top; font-family: 'Akkurat Pro Light'; border-bottom: dotted 1px #999; padding:\"), Document(page_content='8px; min-width: 80px;\">F</th>'), Document(page_content='<td style=\"font-size: 0.9em; line-height: 1.5em; margin-top: 5px; vertical-align: top;'), Document(page_content='font-family: \\'Akkurat Pro Light\\'; border-bottom: dotted 1px #999; padding: 8px; min-width: 80px;\">0'), Document(page_content='- 59.99</td>'), Document(page_content='</tr>\\n    </tbody>\\n</table>'), Document(page_content='> **Note**: The Graduate School does not recognize D letter grades meaning if you are enrolled in'), Document(page_content='the class as a graduate student, the range for the F grade is 0-69.99.'), Document(page_content='### Mini-quizzes'), Document(page_content='These will be short quizzes for each module of the course that serve as a check of your attendance'), Document(page_content='and/or asynchronous participation in the course. For those that complete the Mini-Quiz in class,'), Document(page_content='you will receive full credit for your attendance and full participation. If you choose to complete'), Document(page_content='the Mini-Quiz remotely, you will need to complete the Canvas version of the quiz within 48 hours of'), Document(page_content='your scheduled class time. For Mini-Quiz 1, you MUST be in attendance in order to receive credit.'), Document(page_content='### Tutorials'), Document(page_content='The idea of the Tutorials is to provide you with opportunities to both practice your own'), Document(page_content='programming skill *as well as learn to communicate with and help other programmers*. As such, these'), Document(page_content='Tutorials will be held on Wednesdays (with one exception) during our scheduled class time during'), Document(page_content='the quarter.'), Document(page_content='These will start the second week of class and you will sign up for a particular Tutorial group at'), Document(page_content='the end of Week 1.'), Document(page_content='By completing the tutorials, you will become familiar with the types of strategies you might use to'), Document(page_content=\"approach problems , push you to write lots of programs, and help you assess what you know and don't\"), Document(page_content='know so that you can know when to ask for more help in lecture or in office hours.'), Document(page_content='This course is meant to a be a learning community which requires the dedicated participation of all'), Document(page_content='members. Attendance is required for the first Tutorial, but you may choose to submit future'), Document(page_content='tutorials remotely.'), Document(page_content='If you attend the Tutorial session in-person and make a legitimate attempt (up to the discretion of'), Document(page_content='your Peer Mentor) at completing the assignment, you will receive full-credit. If you choose not to'), Document(page_content='attend in-person, then your assignment will be reviewed for completion _and accuracy_ meaning you'), Document(page_content='may nor may not receive full credit. Remote tutorials will be graded via the same autograding'), Document(page_content='mechanism as the Exercises.'), Document(page_content='We will not accept late tutorial submissions.'), Document(page_content='> **Note**:'), Document(page_content='> For mini-quizzes and tutorials that are attendance-based credit, you will be asked to complete'), Document(page_content='some in-class'), Document(page_content='> activity to mark you as present. If you attended class but for some reason were marked absetn,'), Document(page_content='you can fill'), Document(page_content='> out [this Attendance Petition form](https://forms.gle/nyx6FLZM8xZsn6w26).'), Document(page_content='### Exercises'), Document(page_content='The Exercises serve as larger programming assignments that build upon the content we discuss in'), Document(page_content='lecture and work on in Tutorials. The 10 weekly Exercises will be spread across our 11 weeks of'), Document(page_content='class and will be submitted on Canvas and generally due on Mondays before the start of class.'), Document(page_content='It is up to you to verify that:\\n1. You have submitted the correct file.'), Document(page_content='2. That your program runs without intervention (except those assignments that ask for human input).'), Document(page_content='3. That your program is NOT dependent on running on _your specific_ computer.'), Document(page_content='These exercises will be graded via an autograder (computerized grading machine) as well as checked'), Document(page_content=\"for plagiarism against other students' (including from past quarters) solutions, online solutions,\"), Document(page_content='and a large database of course content.'), Document(page_content='You may submit these assignments up to 48 hours late with a 10% penalty per 24-hours.'), Document(page_content='### Ethics Modules'), Document(page_content='Given the role of CS111 as the first course for all CS majors and many others with an interest in'), Document(page_content='CS, the course also aims to develop core skills in critical analysis of ethical issues with an'), Document(page_content='emphasis on self-reflection, finding purpose, and intersectionality. Students are asked explore'), Document(page_content='different \"topic modules\" that introduce broad topics in ethics.'), Document(page_content='Students must engage in 3 ethics related activities during the quarter:'), Document(page_content='* **One introductory module** which covers the ethics of social media and introduces a framework'), Document(page_content='for thinking about the impact of certain technologies.'), Document(page_content='* **Attendance at one topic module** that students will select based on topic interest and'), Document(page_content='availability. They will complete a short reading beforehand in order to be ready to discuss the'), Document(page_content='topic and complete a short reflection after attending.'), Document(page_content='* **One final reflection module** which asks students to reflect on their engagement with ethical'), Document(page_content='issues and their relationship to technology by producing a short write-up comparing and contrasting'), Document(page_content='the topics that students learned in topic modules.'), Document(page_content='### Quizzes'), Document(page_content='There will be four cumulative assessments of your knowledge and practice of the course material'), Document(page_content='administered in-person during our assigned class time (50 minutes). The tentative schedule for'), Document(page_content='these quizzes is below:'), Document(page_content='<table class=\"medium\" style=\"border-top: solid 1px #444; border-bottom: solid 1px #444;'), Document(page_content='border-collapse: collapse; margin-bottom: 30px; width: 600px !important;\">'), Document(page_content='<caption>Scheduling of Quizzes</caption>\\n    <thead>'), Document(page_content='<tr style=\"border-bottom: solid 1px #444;\">'), Document(page_content='<th scope=\"col\" style=\"font-size: 0.9em; line-height: 1.5em; margin-top: 5px;'), Document(page_content='vertical-align: top; border-bottom: dotted 1px #999; padding: 8px; text-align: left; min-width:'), Document(page_content='80px;\">Quiz</th>'), Document(page_content='<th scope=\"col\" style=\"font-size: 0.9em; line-height: 1.5em; margin-top: 5px;'), Document(page_content='vertical-align: top; border-bottom: dotted 1px #999; padding: 8px; text-align: left; min-width:'), Document(page_content='80px;\">Focus Topic</th>'), Document(page_content='<th scope=\"col\" style=\"font-size: 0.9em; line-height: 1.5em; margin-top: 5px;'), Document(page_content='vertical-align: top; border-bottom: dotted 1px #999; padding: 8px; text-align: left; min-width:'), Document(page_content='80px;\">Date</th>'), Document(page_content='</tr>\\n    </thead>\\n    <tbody>\\n        <tr>'), Document(page_content='<td style=\"font-size: 0.9em; line-height: 1.5em; margin-top: 5px; vertical-align: top;'), Document(page_content=\"font-family: 'Akkurat Pro Light'; border-bottom: dotted 1px #999; padding: 8px; min-width:\"), Document(page_content='80px;\">Q1</td>'), Document(page_content='<td style=\"font-size: 0.9em; line-height: 1.5em; margin-top: 5px; vertical-align: top;'), Document(page_content=\"font-family: 'Akkurat Pro Light'; border-bottom: dotted 1px #999; padding: 8px; min-width:\"), Document(page_content='80px;\">Fundamentals</td>'), Document(page_content='<td style=\"font-size: 0.9em; line-height: 1.5em; margin-top: 5px; vertical-align: top;'), Document(page_content=\"font-family: 'Akkurat Pro Light'; border-bottom: dotted 1px #999; padding: 8px; min-width:\"), Document(page_content='80px;\">October 16</td>'), Document(page_content='</tr>\\n        <tr>'), Document(page_content='<td style=\"font-size: 0.9em; line-height: 1.5em; margin-top: 5px; vertical-align: top;'), Document(page_content=\"font-family: 'Akkurat Pro Light'; border-bottom: dotted 1px #999; padding: 8px; min-width:\"), Document(page_content='80px;\">Q2</td>'), Document(page_content='<td style=\"font-size: 0.9em; line-height: 1.5em; margin-top: 5px; vertical-align: top;'), Document(page_content=\"font-family: 'Akkurat Pro Light'; border-bottom: dotted 1px #999; padding: 8px; min-width:\"), Document(page_content='80px;\">Recursion</td>'), Document(page_content='<td style=\"font-size: 0.9em; line-height: 1.5em; margin-top: 5px; vertical-align: top;'), Document(page_content=\"font-family: 'Akkurat Pro Light'; border-bottom: dotted 1px #999; padding: 8px; min-width:\"), Document(page_content='80px;\">November 1</td>'), Document(page_content='</tr>\\n        <tr>'), Document(page_content='<td style=\"font-size: 0.9em; line-height: 1.5em; margin-top: 5px; vertical-align: top;'), Document(page_content=\"font-family: 'Akkurat Pro Light'; border-bottom: dotted 1px #999; padding: 8px; min-width:\"), Document(page_content='80px;\">Q3</td>'), Document(page_content='<td style=\"font-size: 0.9em; line-height: 1.5em; margin-top: 5px; vertical-align: top;'), Document(page_content=\"font-family: 'Akkurat Pro Light'; border-bottom: dotted 1px #999; padding: 8px; min-width:\"), Document(page_content='80px;\">Imperatives</td>'), Document(page_content='<td style=\"font-size: 0.9em; line-height: 1.5em; margin-top: 5px; vertical-align: top;'), Document(page_content=\"font-family: 'Akkurat Pro Light'; border-bottom: dotted 1px #999; padding: 8px; min-width:\"), Document(page_content='80px;\">November 20</td>'), Document(page_content='</tr>\\n        <tr>'), Document(page_content='<td style=\"font-size: 0.9em; line-height: 1.5em; margin-top: 5px; vertical-align: top;'), Document(page_content=\"font-family: 'Akkurat Pro Light'; border-bottom: dotted 1px #999; padding: 8px; min-width:\"), Document(page_content='80px;\">Q4</td>'), Document(page_content='<td style=\"font-size: 0.9em; line-height: 1.5em; margin-top: 5px; vertical-align: top;'), Document(page_content=\"font-family: 'Akkurat Pro Light'; border-bottom: dotted 1px #999; padding: 8px; min-width:\"), Document(page_content='80px;\">Summative</td>'), Document(page_content='<td style=\"font-size: 0.9em; line-height: 1.5em; margin-top: 5px; vertical-align: top;'), Document(page_content=\"font-family: 'Akkurat Pro Light'; border-bottom: dotted 1px #999; padding: 8px; min-width:\"), Document(page_content='80px;\">Section 1. December 6, 9am<br />Section 2. December 4, 9am</td>'), Document(page_content='</tr>\\n    </tbody>\\n</table>'), Document(page_content='### Grading Equity Policies'), Document(page_content='> The course is specifically designed to be academically equitable to all students when it comes to'), Document(page_content='assessment and has two special policies related to grading: 1. An _emergency erasure policy_; 2. A'), Document(page_content='_late penalty waiver_.'), Document(page_content='These two policies are provided to accommodate the myriad situations that students encounter over'), Document(page_content='the life cycle of the class (e.g. student org travel, sickness, etc.). **This built-in leniency'), Document(page_content='means that there will be no other exceptions to the course syllabus without prior authorization'), Document(page_content='from the Dean of Students at Northwestern. I cannot offer any other leniency, make-up assignments,'), Document(page_content='extensions, etc., outside these policies.**'), Document(page_content='#### Late Penalty Waiver'), Document(page_content='The _late penalty waiver_ applies ONLY to **Exercises** and is meant to accommodate students who'), Document(page_content='may have a particular week during the quarter where they are unable to complete the assigned'), Document(page_content='Exercise on-time. Students may apply (using a Google Form included at the bottom of each'), Document(page_content='assignment) to have the late penalty waived for a particular assignment with two restrictions:'), Document(page_content='* Students **must** request the late penalty waiver via the form at least 24 hours in advance of'), Document(page_content='the Exercise deadline.'), Document(page_content='* Students **may request extensions on 2 assignments** throughout the quarter.'), Document(page_content='The policy is _deliberate_ in that you, as a student, must actively consider at least 24 hours in'), Document(page_content='advance of the deadline that you will need extra time to complete this assignment. If you find'), Document(page_content='yourself needing extra time on consecutive assignments, this is a good sign that you need to reach'), Document(page_content='out to someone on the Course Staff for help.'), Document(page_content='There will be no exceptions to this policy. Once you are granted a waiver, it cannot be voided.'), Document(page_content='#### Emergency Grade Erasure Policy'), Document(page_content='The _emergency grade erasure policy_ acknowledges that often times life situations occur that make'), Document(page_content='it impossible to keep up in a course. **_Do not_ use this a planning or scheduling device.** This'), Document(page_content='is specifically meant to take care of emergencies that happen in your life during the quarter.'), Document(page_content='* Your lowest quiz score (including 0s) is dropped (best 3 of 4)'), Document(page_content='* Your lowest tutorial score (including 0s) is dropped (best 8 of 9)'), Document(page_content='* _You may not drop the final tutorial score_ (Tutorial 8)'), Document(page_content='* Your lowest exercise score (including 0s) is dropped (best 8 of 9)'), Document(page_content='* _You may not drop the final exercise score_ (Exercise 8)'), Document(page_content='* Your **two** lowest Mini-Quiz scores (including 0s) are dropped'), Document(page_content='If you _choose_ to drop an assignment early in the quarter only to find yourself in an emergency'), Document(page_content='situation later in the quarter, you will need to reach out to your Dean of Students in order to'), Document(page_content='arrange for flexibility across all of your coursework.'), Document(page_content='This policy will be automatically applied at the end of the quarter for all students. No action is'), Document(page_content='required on your part.'), Document(page_content='* * *'), Document(page_content='## Course Materials and Resources'), Document(page_content='This is a **zero cost course** meaning that you are not required to purchase any additional'), Document(page_content='materials to complete the course outside those required by the university as a whole. All required'), Document(page_content='course materials will be distributed to registered members of the class directly via Canvas.'), Document(page_content='### Course Software'), Document(page_content='We will be using some free software programs and libraries in order to write, debug, and run Racket'), Document(page_content='programs. Installing and configuring this software can be a huge hassle, but it is part of the'), Document(page_content='process of developing your computing proficiencies. Please note, you will need a computer capable'), Document(page_content='of running Racket 8.6 in order to participate in this course. Any Windows/Mac/Linux computer from'), Document(page_content='the last decade should be fine, however, you may encounter difficulties using a Chromebook, iPad,'), Document(page_content='or other non-standard operating system.'), Document(page_content='This course uses the [Racket](https://racket-lang.org) programming language and its associated'), Document(page_content='Integrated Development Environment (IDE) [DrRacket](https://docs.racket-lang.org/drracket/) as its'), Document(page_content='main programming tools. Note that the Racket download includes DrRacket.'), Document(page_content='If you do not have access to appropriate computing hardware, please let the course staff know _as'), Document(page_content='soon as possible_ so that we can help you make other arrangements either a computing loaner program'), Document(page_content='or arranging for you to use a computer lab on campus.'), Document(page_content='### edSTEM'), Document(page_content='Ed (sometimes called edSTEM) is a Question-and-Answer site that allows students to ask questions'), Document(page_content='that can then be answered by _either_ Course Staff or other students in the course as well as'), Document(page_content='create discussion areas about both related and unrelated topics.'), Document(page_content='{:.blockquote-no-margin}\\n> Check out out the Course Resources page for the registration link.'), Document(page_content='### Auxillary Texts'), Document(page_content='While we will not follow any textbook exactly, we will use two auxiliary texts which can serve as'), Document(page_content='an excellent resource both for students looking for different perspectives on the course content as'), Document(page_content='well as students looking for additional content outside our syllabus (note, both are free to access'), Document(page_content='online):'), Document(page_content='* Abelson, H., Sussman, G. and Sussman J. 1996. [Structure and Interpretation of Computer'), Document(page_content='Programs](https://mitpress.mit.edu/sites/default/files/sicp/full-text/book/book.html)'), Document(page_content='* Felleisen, M., Findler, R., Flatt, M., and Krishnamurthi, S. 2018. [How to Design'), Document(page_content='Programs](http://htdp.org/2022-6-7/Book/part_prologue.html)'), Document(page_content='* * *'), Document(page_content='## Policy on Academic Honesty'), Document(page_content='In the past, there have been incidents in which students have presented work other than their own.'), Document(page_content='For the programming assignments, you are allowed (encouraged, even!) to discuss general approaches'), Document(page_content='to solving problems, but all work you submit must be your own. Working \"together\" and presenting'), Document(page_content='variants of the same file is not acceptable.'), Document(page_content='Here are some specific guidelines:'), Document(page_content='* Do not exchange programs or program fragments in any form – on paper, via e-mail, or by other'), Document(page_content='means.'), Document(page_content='* Do not copy solutions from any source, including the web or previous CS 111 students.'), Document(page_content='* While working with other students, it is perfectly acceptable to ‘look’ at each other’s code'), Document(page_content='(perhaps while helping someone to debug), but you should NEVER be scribing (typing or writing) your'), Document(page_content='own work while looking at someone else’s (on a computer screen, paper, whiteboard, etc.).'), Document(page_content='* Uploading materials from this course to websites that sell such content to students is prohibited'), Document(page_content='by Northwestern’s academic integrity policies, and may also put you at risk for violating copyright'), Document(page_content='policies in Northwestern’s Student Conduct Code.'), Document(page_content='* Do not attempt to turn in code that has been generated, in-part or in-whole, via any'), Document(page_content='computational means.'), Document(page_content='* If you turn in code that you yourself did not both conceive of and type into your computer, you'), Document(page_content=\"have committed a violation of Northwestern's Academic Honesty Policy.\"), Document(page_content='* Do not attempt to claim attendance for class periods in which you did not physically stay in the'), Document(page_content='classroom for the entire class period. If you are found to have incorrectly reported your physical'), Document(page_content='attendance at lectures, tutorial sessions, or quizzes, you will be immediately referred to the Dean'), Document(page_content=\"of Student's Office and you will be assigned a grade of 0 for all such instances.\"), Document(page_content='Contact Prof. Bain if you have any questions about what is appropriate. Please note that all'), Document(page_content='suspected incidents of violating the Academic Integrity of the course will be reported immediately'), Document(page_content='to the Dean of Students.'), Document(page_content='* * *'), Document(page_content='## Academic Integrity'), Document(page_content='Students in this course are required to comply with the policies found in the booklet, \"Academic'), Document(page_content='Integrity at Northwestern University: A Basic Guide\". All papers submitted for credit in this'), Document(page_content='course must be submitted electronically unless otherwise instructed by the professor. Your written'), Document(page_content='work may be tested for plagiarized content. For more details regarding <a'), Document(page_content='href=\"https://www.northwestern.edu/provost/policies-procedures/academic-integrity/index.html\"'), Document(page_content='target=\"_blank\">academic integrity at Northwestern click here</a>.'), Document(page_content='* * *'), Document(page_content='## Accessibility'), Document(page_content='Northwestern University is committed to providing the most accessible learning environment as'), Document(page_content='possible for students with disabilities. Should you anticipate or experience disability-related'), Document(page_content='barriers in the academic setting, please contact AccessibleNU to move forward with the university’s'), Document(page_content='established accommodation process (e: accessiblenu@northwestern.edu; p: 847-467-5530). If you'), Document(page_content='already have established accommodations with AccessibleNU, please let me know as soon as possible,'), Document(page_content='preferably within the first two weeks of the term, so we can work together to implement your'), Document(page_content='disability accommodations. Disability information, including academic accommodations, is'), Document(page_content='confidential under the Family Educational Rights and Privacy Act.'), Document(page_content='All accommodation requests must be processed through AccessibleNU.\\n\\n* * *'), Document(page_content='## Statement of Inclusivity'), Document(page_content='This course strives to be an inclusive learning community–respectful of those with differing'), Document(page_content='backgrounds and beliefs. As a community, we aim to be respectful to all learners in this class,'), Document(page_content='regardless of race, ethnicity, socio-economic status, religion, gender identity, or sexual'), Document(page_content='orientation. There will be an optional survey administered at the beginning of the quarter asking'), Document(page_content='you to provide the name and pronouns that you use. This information will be shared with all members'), Document(page_content='of the instructional staff. You are welcome to correct us on your name or preferred pronouns if a'), Document(page_content='mistake is made. If you have concerns, please contact Prof. Bain.'), Document(page_content='* * *'), Document(page_content='## Wellness and Mental Health'), Document(page_content='Northwestern University is committed to supporting the wellness of our students. Student Affairs'), Document(page_content='has multiple resources to support student wellness and mental health. If you are feeling distressed'), Document(page_content='or overwhelmed, please reach out for help. Students can access confidential resources through the'), Document(page_content='Counseling and Psychological Services (CAPS), Religious and Spiritual Life (RSL) and the Center for'), Document(page_content='Awareness, Response and Education (CARE). Additional information on all of the resources mentioned'), Document(page_content='above can be found here:'), Document(page_content='* [https://www.northwestern.edu/counseling/](https://www.northwestern.edu/counseling/)'), Document(page_content='* [https://www.northwestern.edu/religious-life/](https://www.northwestern.edu/religious-life/)'), Document(page_content='* [https://www.northwestern.edu/care/](https://www.northwestern.edu/care/)'), Document(page_content='* * *\\n\\n## Recording of Class Sessions'), Document(page_content='This class or portions of this class will be recorded by the instructor for educational purposes.'), Document(page_content='Your instructor will communicate how members of the class can access the recordings. Portions of'), Document(page_content='the course that contain images, questions or commentary/discussion by students will be edited out'), Document(page_content='of any recordings that are saved beyond the current term.'), Document(page_content='* * *'), Document(page_content='## Prohibition of Recording of Class Sessions by Students'), Document(page_content='Unauthorized student recording of classroom or other academic activities (including advising'), Document(page_content='sessions or office hours) is prohibited. Unauthorized recording is unethical and may also be a'), Document(page_content='violation of University policy and state law. Students requesting the use of assistive technology'), Document(page_content='as an accommodation should contact AccessibleNU. Unauthorized use of classroom recordings –'), Document(page_content='including distributing or posting them – is also prohibited. Under the University’s Copyright'), Document(page_content='Policy, faculty own the copyright to instructional materials – including those resources created'), Document(page_content='specifically for the purposes of instruction, such as syllabi, lectures and lecture notes, and'), Document(page_content='presentations. Students cannot copy, reproduce, display, or distribute these materials. Students'), Document(page_content='who engage in unauthorized recording, unauthorized use of a recording, or unauthorized distribution'), Document(page_content='of instructional materials will be referred to the appropriate University office for follow-up.'), Document(page_content='* * *'), Document(page_content='## Exceptions to Class Modality'), Document(page_content='Community health remains our priority.  If you are experiencing symptoms of COVID-19, do not attend'), Document(page_content='class and follow the steps outlined by [the CDC for testing and'), Document(page_content='isolation](https://www.cdc.gov/coronavirus/2019-ncov/your-health/isolation.html). Contact your'), Document(page_content='instructor as soon as possible to make plans to complete your coursework.'), Document(page_content='Students who experience other personal emergencies should contact the instructor as soon as'), Document(page_content='possible to arrange to complete coursework.'), Document(page_content='Should public health recommendations prevent in-person class from being held on a given day, the'), Document(page_content='instructor or the university will notify students.')]\n"
     ]
    }
   ],
   "source": [
    "'''\n",
    "from langchain.text_splitter import MarkdownTextSplitter\n",
    "# Try importing markdown as plan text\n",
    "from langchain.document_loaders import TextLoader\n",
    "\n",
    "txt_loader = TextLoader(\"/workspaces/data-projects/langchain-chainlit/docs/cbain-syllabus-c111-f23.md\")\n",
    "markdown_doc = txt_loader.load()\n",
    "\n",
    "markdown_splitter = MarkdownTextSplitter(chunk_size=100, chunk_overlap=0)\n",
    "md_splits = markdown_splitter.create_documents([markdown_doc[0].page_content])\n",
    "#type(markdown_doc[0].page_content)\n",
    "print(md_splits)\n",
    "'''"
   ]
  },
  {
   "cell_type": "code",
   "execution_count": 12,
   "metadata": {},
   "outputs": [
    {
     "name": "stderr",
     "output_type": "stream",
     "text": [
      "/home/codespace/.python/current/lib/python3.10/site-packages/tqdm/auto.py:21: TqdmWarning: IProgress not found. Please update jupyter and ipywidgets. See https://ipywidgets.readthedocs.io/en/stable/user_install.html\n",
      "  from .autonotebook import tqdm as notebook_tqdm\n"
     ]
    }
   ],
   "source": [
    "# Create embeddings\n",
    "from langchain.embeddings import HuggingFaceEmbeddings\n",
    "model_id = 'sentence-transformers/all-MiniLM-L6-v2'\n",
    "embedding = HuggingFaceEmbeddings(model_name=model_id)"
   ]
  },
  {
   "cell_type": "code",
   "execution_count": 13,
   "metadata": {},
   "outputs": [],
   "source": [
    "# Declare directory for storing things\n",
    "from langchain.vectorstores import FAISS\n",
    "\n",
    "db = FAISS.from_documents(\n",
    "    documents = splits,\n",
    "    embedding= embedding,\n",
    ")\n",
    "\n",
    "# Save this locally since it's just 2 documents\n",
    "db.save_local(\"./FAISS/faiss_index\")"
   ]
  },
  {
   "cell_type": "code",
   "execution_count": 9,
   "metadata": {},
   "outputs": [],
   "source": [
    "'''\n",
    "# Test web stuff\n",
    "md_db = FAISS.from_documents(\n",
    "    documents = md_splits,\n",
    "    embedding=embedding\n",
    ")\n",
    "md_db.save_local('./FAISS/')\n",
    "'''"
   ]
  },
  {
   "cell_type": "code",
   "execution_count": 14,
   "metadata": {},
   "outputs": [
    {
     "name": "stdout",
     "output_type": "stream",
     "text": [
      "along a diff erent set o f axes—one r otat ed 22. A farmer w ants t o fence off a f our-sided plot o f flat land The y measur e the prs t thr ee sides , sho wn asandinFigure 3. 57 , and then c orrectly calculat e the length and orientation o f the f ourth side What is their r esul t? FIGURE 3. 5723 In an at temp t to escape his island, Gil ligan builds a raft and sets t o sea . The wind shifts a gr eat deal during the da y, and he is blo wn along the f ollowing straight lines:north of west; thensouth o f eas t; thensouth o f west; thenstraight eas t; theneast of nor th; thensouth o f west; and pnal lynorth of east What is his pnal position r elativ e to the island? 24. Suppose a pilot fliesin a dir ectionnorth of eas t and then fliesin a dir ectionnorth of eas t as sho wn in Figure 3 58 . Find her total dis tanc efrom the s tarting point and the directionof the s traight -line path t o the pnal position Discus s qualitativ ely ho w this flight.\n"
     ]
    }
   ],
   "source": [
    "# Query the db\n",
    "query = 'What is the title of this chapter of the textbook?'\n",
    "print(db.similarity_search(query)[1].page_content)"
   ]
  },
  {
   "cell_type": "markdown",
   "metadata": {},
   "source": [
    "Now we will declare an llm and a Q&A chain to query the database."
   ]
  },
  {
   "cell_type": "code",
   "execution_count": 15,
   "metadata": {},
   "outputs": [
    {
     "name": "stderr",
     "output_type": "stream",
     "text": [
      "/home/codespace/.python/current/lib/python3.10/site-packages/huggingface_hub/utils/_deprecation.py:131: FutureWarning: 'InferenceApi' (from 'huggingface_hub.inference_api') is deprecated and will be removed from version '1.0'. `InferenceApi` client is deprecated in favor of the more feature-complete `InferenceClient`. Check out this guide to learn how to convert your script to use it: https://huggingface.co/docs/huggingface_hub/guides/inference#legacy-inferenceapi-client.\n",
      "  warnings.warn(warning_message, FutureWarning)\n"
     ]
    }
   ],
   "source": [
    "from langchain.llms import HuggingFaceHub\n",
    "from langchain.chat_models import ChatOpenAI\n",
    "\n",
    "repo_id = \"tiiuae/falcon-7b-instruct\"\n",
    "#repo_id = 'tiiuae/falcon-40b-instruct'\n",
    "falcon_llm = HuggingFaceHub(\n",
    "    huggingfacehub_api_token=hf_key, \n",
    "    repo_id=repo_id, \n",
    "    model_kwargs={\"temperature\":0.01}\n",
    ")\n",
    "openai_llm = ChatOpenAI(\n",
    "    model_name='gpt-3.5-turbo',\n",
    "    openai_api_key=openai_key,\n",
    "    temperature=0,\n",
    "    streaming=True\n",
    ")"
   ]
  },
  {
   "cell_type": "code",
   "execution_count": 16,
   "metadata": {},
   "outputs": [],
   "source": [
    "# Build a prompt that tells the chain to use the context to answer a question\n",
    "from langchain.prompts import PromptTemplate\n",
    "\n",
    "template = \"\"\"Use the following context to answer the question at the end. \n",
    "If you don't know the answer, just say that you don't know, don't try to make up an answer. \n",
    "Use three sentences maximum. Keep the answer as concise as possible.\n",
    "{context}\n",
    "Question: {question}\n",
    "Helpful Answer:\"\"\"\n",
    "\n",
    "prompt = PromptTemplate.from_template(template)\n",
    "#print(prompt.format(context='Reggie Bain is the CEO of Apple', question='Who is the CEO of apple?'))"
   ]
  },
  {
   "cell_type": "code",
   "execution_count": 17,
   "metadata": {},
   "outputs": [],
   "source": [
    "# Declare retriever to get data from our vector store\n",
    "# If you've saved locally, load the faiss db. You have to pass the directory of the index not the file itself\n",
    "new_db = FAISS.load_local(\"/workspaces/data-projects/langchain-chainlit/FAISS/faiss_index/\", embedding)\n",
    "retriever = new_db.as_retriever()"
   ]
  },
  {
   "cell_type": "code",
   "execution_count": 15,
   "metadata": {},
   "outputs": [
    {
     "name": "stdout",
     "output_type": "stream",
     "text": [
      "are denot ed with a subscrip t 0, as usual .\n",
      "Step 2. Treat the motion as tw o independent one -dimensional motions , one horiz ontal and the other v ertical .The\n",
      "kinematic equations f or horiz ontal and v ertical motion tak e the f ollowing f orms:Review of Kinematic E quations ( constant)3.283.293.303.313.32\n",
      "3.333.343.353.363.373.383.39118 3 • T wo-Dimensional Kinematics\n",
      "Access f or free at opens tax.org\n"
     ]
    }
   ],
   "source": [
    "# Testing the retriever\n",
    "print(retriever.invoke('List the kinematic equations')[1].page_content)"
   ]
  },
  {
   "cell_type": "code",
   "execution_count": 18,
   "metadata": {},
   "outputs": [],
   "source": [
    "# Declare memory object to track history of conversation\n",
    "from langchain.memory import ConversationBufferMemory\n",
    "\n",
    "memory = ConversationBufferMemory(\n",
    "    memory_key='chat_history',\n",
    "    return_messages=True\n",
    ")"
   ]
  },
  {
   "cell_type": "code",
   "execution_count": 19,
   "metadata": {},
   "outputs": [
    {
     "data": {
      "text/plain": [
       "'\\n# Try using LCEL format. Need runnable passthrough and str output parser and an implementation of stuff\\nfrom langchain_core.runnables import RunnablePassthrough\\nfrom langchain.schema import StrOutputParser\\n\\nparser = StrOutputParser()\\n# First we\\'ll stuff the docs together\\ndef format_docs(docs):\\n    return \"\\n\\n\".join([d.page_content for d in docs])\\n\\nchain = ({\\'context\\': retriever | format_docs, \\'question\\':RunnablePassthrough()}\\n         | prompt\\n         | falcon_llm\\n         | parser\\n         )\\n'"
      ]
     },
     "execution_count": 19,
     "metadata": {},
     "output_type": "execute_result"
    }
   ],
   "source": [
    "# Use Conversational retrieval chain which takes: (1)LLM, (2)Retriever, (3)Memory (retrieval chain doesn't have memory)\n",
    "from langchain.chains import ConversationalRetrievalChain\n",
    "\n",
    "qa_conv_chain = ConversationalRetrievalChain.from_llm(\n",
    "    #openai_llm,\n",
    "    falcon_llm,\n",
    "    retriever=retriever,\n",
    "    memory=memory,\n",
    "    chain_type='stuff',\n",
    "    #return_source_documents = True\n",
    ")\n",
    "\n",
    "'''\n",
    "# Try using LCEL format. Need runnable passthrough and str output parser and an implementation of stuff\n",
    "from langchain_core.runnables import RunnablePassthrough\n",
    "from langchain.schema import StrOutputParser\n",
    "\n",
    "parser = StrOutputParser()\n",
    "# First we'll stuff the docs together\n",
    "def format_docs(docs):\n",
    "    return \"\\n\\n\".join([d.page_content for d in docs])\n",
    "\n",
    "chain = ({'context': retriever | format_docs, 'question':RunnablePassthrough()}\n",
    "         | prompt\n",
    "         | falcon_llm\n",
    "         | parser\n",
    "         )\n",
    "'''"
   ]
  },
  {
   "cell_type": "code",
   "execution_count": 21,
   "metadata": {},
   "outputs": [
    {
     "data": {
      "text/plain": [
       "\"\\nmemory.clear()\\nquestion = 'List the kinematic equations'\\noutput = chain.invoke(question)\\nprint(output['text'])\\n\""
      ]
     },
     "execution_count": 21,
     "metadata": {},
     "output_type": "execute_result"
    }
   ],
   "source": [
    "'''\n",
    "memory.clear()\n",
    "question = 'List the kinematic equations'\n",
    "output = chain.invoke(question)\n",
    "print(output['text'])\n",
    "'''"
   ]
  },
  {
   "cell_type": "code",
   "execution_count": 20,
   "metadata": {},
   "outputs": [
    {
     "name": "stdout",
     "output_type": "stream",
     "text": [
      " Displacement is the distance an object travels in a certain direction. It is the difference between the final and initial positions of an object.\n"
     ]
    }
   ],
   "source": [
    "# Test our conversational retrieval chain. Must feed dictionary of {context=\"context\", question: \"question_content\"}\n",
    "memory.clear()\n",
    "question = 'What is the definition of displacement?'\n",
    "output = qa_conv_chain({'question':question})\n",
    "print(output['answer'])"
   ]
  },
  {
   "cell_type": "code",
   "execution_count": 28,
   "metadata": {},
   "outputs": [
    {
     "name": "stdout",
     "output_type": "stream",
     "text": [
      "\n",
      "The formula to calculate the magnitude of a velocity vector is:\n",
      "\n",
      "v = sqrt(vx^2 + vy^2)\n",
      "\n",
      "where vx and vy are the x and y components of the velocity vector, respectively.\n"
     ]
    }
   ],
   "source": [
    "memory.clear()\n",
    "question = 'What formula do I use to calculate the magnitude of a velocity vector?'\n",
    "output = qa_conv_chain({'question':question})\n",
    "print(output['answer'])"
   ]
  },
  {
   "cell_type": "code",
   "execution_count": 32,
   "metadata": {},
   "outputs": [
    {
     "name": "stdout",
     "output_type": "stream",
     "text": [
      " The dates of the exams in Reginald Bain physics class are: 1. Exam 1: 9/22/2021 2. Exam 2: 10/13/2021 3. Exam 3: 11/10/2021 4. Exam 4: 12/8/2021 5. Final Exam: 12/15/2021\n"
     ]
    }
   ],
   "source": [
    "# Now to query the syllabus\n",
    "memory.clear()\n",
    "question = 'What are the dates of the exams in Reginald Bain physics class?'\n",
    "output = qa_conv_chain({'question': question})\n",
    "print(output['answer'])"
   ]
  },
  {
   "cell_type": "code",
   "execution_count": 33,
   "metadata": {},
   "outputs": [
    {
     "name": "stdout",
     "output_type": "stream",
     "text": [
      " \"His office hours are from 2:00pm to 4:00pm on Tuesdays and Thursdays.\"\n"
     ]
    }
   ],
   "source": [
    "question = 'When are his office hours?'\n",
    "output = qa_conv_chain({'question': question})\n",
    "print(output['answer'])"
   ]
  },
  {
   "cell_type": "code",
   "execution_count": 38,
   "metadata": {},
   "outputs": [
    {
     "name": "stdout",
     "output_type": "stream",
     "text": [
      " The textbook used in his class is \"General Physics\" by Douglas C. Giancoli.\n"
     ]
    }
   ],
   "source": [
    "question = 'What is the textbook used in his class?'\n",
    "output = qa_conv_chain({'question': question})\n",
    "print(output['answer'])"
   ]
  },
  {
   "cell_type": "markdown",
   "metadata": {},
   "source": []
  }
 ],
 "metadata": {
  "kernelspec": {
   "display_name": "Python 3",
   "language": "python",
   "name": "python3"
  },
  "language_info": {
   "codemirror_mode": {
    "name": "ipython",
    "version": 3
   },
   "file_extension": ".py",
   "mimetype": "text/x-python",
   "name": "python",
   "nbconvert_exporter": "python",
   "pygments_lexer": "ipython3",
   "version": "3.10.13"
  }
 },
 "nbformat": 4,
 "nbformat_minor": 2
}

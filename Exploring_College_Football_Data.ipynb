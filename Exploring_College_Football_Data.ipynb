{
  "nbformat": 4,
  "nbformat_minor": 0,
  "metadata": {
    "colab": {
      "provenance": [],
      "authorship_tag": "ABX9TyN8T3GtaQUTxg8+if4li89s",
      "include_colab_link": true
    },
    "kernelspec": {
      "name": "python3",
      "display_name": "Python 3"
    },
    "language_info": {
      "name": "python"
    }
  },
  "cells": [
    {
      "cell_type": "markdown",
      "metadata": {
        "id": "view-in-github",
        "colab_type": "text"
      },
      "source": [
        "<a href=\"https://colab.research.google.com/github/reggiebain/kaggle/blob/main/Exploring_College_Football_Data.ipynb\" target=\"_parent\"><img src=\"https://colab.research.google.com/assets/colab-badge.svg\" alt=\"Open In Colab\"/></a>"
      ]
    },
    {
      "cell_type": "markdown",
      "source": [
        "# Exploring CFB API\n",
        "- This notebook explores college football data using the API/data from https://collegefootballdata.com/ \n",
        "- Main Goals:\n",
        "  - Calculate and plot basic ELO (k=25) ratings for any given team and any given conference\n",
        "  - Visualize conference and team elo ratings over time and output data to Tableau\n",
        "  - Create data wrangling functions to build towards creating ML model to generate power rankings and/or predict wins."
      ],
      "metadata": {
        "id": "Qa7bmlQD1Ndx"
      }
    },
    {
      "cell_type": "code",
      "source": [
        "# Import college football api - https://github.com/CFBD/cfbd-python\n",
        "!pip install cfbd;\n",
        "!pip install seaborn --upgrade;"
      ],
      "metadata": {
        "colab": {
          "base_uri": "https://localhost:8080/"
        },
        "id": "gPGAYNPfZlpi",
        "outputId": "eb3b9d9c-4285-4d1c-9c42-a9be4aeef967"
      },
      "execution_count": 2,
      "outputs": [
        {
          "output_type": "stream",
          "name": "stdout",
          "text": [
            "Looking in indexes: https://pypi.org/simple, https://us-python.pkg.dev/colab-wheels/public/simple/\n",
            "Collecting cfbd\n",
            "  Downloading cfbd-4.4.12-py3-none-any.whl (348 kB)\n",
            "\u001b[K     |████████████████████████████████| 348 kB 14.5 MB/s \n",
            "\u001b[?25hRequirement already satisfied: certifi>=2017.4.17 in /usr/local/lib/python3.8/dist-packages (from cfbd) (2022.9.24)\n",
            "Requirement already satisfied: six>=1.10 in /usr/local/lib/python3.8/dist-packages (from cfbd) (1.15.0)\n",
            "Requirement already satisfied: urllib3>=1.23 in /usr/local/lib/python3.8/dist-packages (from cfbd) (1.24.3)\n",
            "Requirement already satisfied: python-dateutil>=2.1 in /usr/local/lib/python3.8/dist-packages (from cfbd) (2.8.2)\n",
            "Installing collected packages: cfbd\n",
            "Successfully installed cfbd-4.4.12\n",
            "Looking in indexes: https://pypi.org/simple, https://us-python.pkg.dev/colab-wheels/public/simple/\n",
            "Requirement already satisfied: seaborn in /usr/local/lib/python3.8/dist-packages (0.11.2)\n",
            "Collecting seaborn\n",
            "  Downloading seaborn-0.12.1-py3-none-any.whl (288 kB)\n",
            "\u001b[K     |████████████████████████████████| 288 kB 4.2 MB/s \n",
            "\u001b[?25hRequirement already satisfied: matplotlib!=3.6.1,>=3.1 in /usr/local/lib/python3.8/dist-packages (from seaborn) (3.2.2)\n",
            "Requirement already satisfied: numpy>=1.17 in /usr/local/lib/python3.8/dist-packages (from seaborn) (1.21.6)\n",
            "Requirement already satisfied: pandas>=0.25 in /usr/local/lib/python3.8/dist-packages (from seaborn) (1.3.5)\n",
            "Requirement already satisfied: pyparsing!=2.0.4,!=2.1.2,!=2.1.6,>=2.0.1 in /usr/local/lib/python3.8/dist-packages (from matplotlib!=3.6.1,>=3.1->seaborn) (3.0.9)\n",
            "Requirement already satisfied: cycler>=0.10 in /usr/local/lib/python3.8/dist-packages (from matplotlib!=3.6.1,>=3.1->seaborn) (0.11.0)\n",
            "Requirement already satisfied: kiwisolver>=1.0.1 in /usr/local/lib/python3.8/dist-packages (from matplotlib!=3.6.1,>=3.1->seaborn) (1.4.4)\n",
            "Requirement already satisfied: python-dateutil>=2.1 in /usr/local/lib/python3.8/dist-packages (from matplotlib!=3.6.1,>=3.1->seaborn) (2.8.2)\n",
            "Requirement already satisfied: pytz>=2017.3 in /usr/local/lib/python3.8/dist-packages (from pandas>=0.25->seaborn) (2022.6)\n",
            "Requirement already satisfied: six>=1.5 in /usr/local/lib/python3.8/dist-packages (from python-dateutil>=2.1->matplotlib!=3.6.1,>=3.1->seaborn) (1.15.0)\n",
            "Installing collected packages: seaborn\n",
            "  Attempting uninstall: seaborn\n",
            "    Found existing installation: seaborn 0.11.2\n",
            "    Uninstalling seaborn-0.11.2:\n",
            "      Successfully uninstalled seaborn-0.11.2\n",
            "Successfully installed seaborn-0.12.1\n"
          ]
        }
      ]
    },
    {
      "cell_type": "code",
      "source": [
        "# Install API from college football data - https://blog.collegefootballdata.com/talking-tech-building-an-environment-for-predictive-analysis/ \n",
        "import cfbd\n",
        "\n",
        "configuration = cfbd.Configuration()\n",
        "configuration.api_key['Authorization'] = 'Ij+eNjYM+2AGnCzUarYtgy6ojR4W9W6iDuenMXna2jS+LmxUOHh6M1uBP+5NIz/Z'\n",
        "configuration.api_key_prefix['Authorization'] = 'Bearer'\n",
        "\n",
        "api_config = cfbd.ApiClient(configuration)\n"
      ],
      "metadata": {
        "id": "lG_F4UBgaK6q"
      },
      "execution_count": 3,
      "outputs": []
    },
    {
      "cell_type": "code",
      "source": [
        "# Create a teams api instance and a games api instance and explore\n",
        "teams_api = cfbd.TeamsApi(api_config)\n",
        "#teams_api.get_fbs_teams()\n",
        "\n",
        "games_api = cfbd.GamesApi(api_config)"
      ],
      "metadata": {
        "id": "NyXX1wFdcx8r"
      },
      "execution_count": 4,
      "outputs": []
    },
    {
      "cell_type": "code",
      "source": [
        "import datetime\n",
        "import numpy as np\n",
        "import pandas as pd\n",
        "import datetime as dt\n",
        "import seaborn as sns"
      ],
      "metadata": {
        "id": "pH32_ziuap4Q"
      },
      "execution_count": 5,
      "outputs": []
    },
    {
      "cell_type": "code",
      "source": [
        "# Following - https://blog.collegefootballdata.com/talking-tech-elo-ratings/ \n",
        "def get_expected_score(rating, opp_rating):\n",
        "    exp = (opp_rating - rating) / 400\n",
        "    return 1 / (1 + 10**exp)"
      ],
      "metadata": {
        "id": "iqXJDcOvdXx2"
      },
      "execution_count": 6,
      "outputs": []
    },
    {
      "cell_type": "code",
      "source": [
        "def get_new_elos(home_rating, away_rating, margin):\n",
        "    k = 25\n",
        "\n",
        "    # score of 0.5 for a tie\n",
        "    home_score = 0.5\n",
        "    if margin > 0:\n",
        "        # score of 1 for a win\n",
        "        home_score = 1\n",
        "    elif margin < 0:\n",
        "        #score of 0 for a loss\n",
        "        home_score = 0\n",
        "\n",
        "    # get expected home score\n",
        "    expected_home_score = get_expected_score(home_rating, away_rating)\n",
        "    # multiply difference of actual and expected score by k value and adjust home rating\n",
        "    new_home_score = home_rating + k * (home_score - expected_home_score)\n",
        "\n",
        "    # repeat these steps for the away team\n",
        "    # away score is inverse of home score\n",
        "    away_score = 1 - home_score\n",
        "    expected_away_score = get_expected_score(away_rating, home_rating)\n",
        "    new_away_score = away_rating + k * (away_score - expected_away_score)\n",
        "\n",
        "    # return a tuple\n",
        "    return (round(new_home_score), round(new_away_score))"
      ],
      "metadata": {
        "id": "NSLKdWjZdro8"
      },
      "execution_count": 7,
      "outputs": []
    },
    {
      "cell_type": "code",
      "source": [
        "def date_sort(game):\n",
        "    game_date = datetime.datetime.strptime(game['start_date'], \"%Y-%m-%dT%H:%M:%S.000Z\")\n",
        "    return game_date\n",
        "\n",
        "def elo_sort(team):\n",
        "    return team['elo']"
      ],
      "metadata": {
        "id": "t5yehJH5e48D"
      },
      "execution_count": 8,
      "outputs": []
    },
    {
      "cell_type": "code",
      "source": [
        "# Following guide, create list of dicts for each game, then sort by dates of games\n",
        "games = []\n",
        "\n",
        "for year in range(1992, 2022):\n",
        "    response = games_api.get_games(year=year)\n",
        "    games = [*games, *response]\n",
        "\n",
        "games = [dict(\n",
        "            start_date=g.start_date,\n",
        "            home_team=g.home_team,\n",
        "            home_conference=g.home_conference,\n",
        "            home_points=g.home_points,\n",
        "            away_team=g.away_team,\n",
        "            away_conference=g.away_conference,\n",
        "            away_points=g.away_points\n",
        "            ) for g in games if g.home_points is not None and g.away_points is not None]\n",
        "games.sort(key=date_sort)"
      ],
      "metadata": {
        "id": "XduFmMQufRJ7"
      },
      "execution_count": 54,
      "outputs": []
    },
    {
      "cell_type": "code",
      "source": [
        "games_df = pd.DataFrame(games)\n",
        "games_df.head()\n",
        "from google.colab import files\n",
        "games_df.to_csv('all_games.csv') \n",
        "files.download('all_games.csv')"
      ],
      "metadata": {
        "colab": {
          "base_uri": "https://localhost:8080/",
          "height": 17
        },
        "id": "3iQ_ociqf1wd",
        "outputId": "588d41a8-2411-46c2-afc9-326e0764bdbf"
      },
      "execution_count": 55,
      "outputs": [
        {
          "output_type": "display_data",
          "data": {
            "text/plain": [
              "<IPython.core.display.Javascript object>"
            ],
            "application/javascript": [
              "\n",
              "    async function download(id, filename, size) {\n",
              "      if (!google.colab.kernel.accessAllowed) {\n",
              "        return;\n",
              "      }\n",
              "      const div = document.createElement('div');\n",
              "      const label = document.createElement('label');\n",
              "      label.textContent = `Downloading \"${filename}\": `;\n",
              "      div.appendChild(label);\n",
              "      const progress = document.createElement('progress');\n",
              "      progress.max = size;\n",
              "      div.appendChild(progress);\n",
              "      document.body.appendChild(div);\n",
              "\n",
              "      const buffers = [];\n",
              "      let downloaded = 0;\n",
              "\n",
              "      const channel = await google.colab.kernel.comms.open(id);\n",
              "      // Send a message to notify the kernel that we're ready.\n",
              "      channel.send({})\n",
              "\n",
              "      for await (const message of channel.messages) {\n",
              "        // Send a message to notify the kernel that we're ready.\n",
              "        channel.send({})\n",
              "        if (message.buffers) {\n",
              "          for (const buffer of message.buffers) {\n",
              "            buffers.push(buffer);\n",
              "            downloaded += buffer.byteLength;\n",
              "            progress.value = downloaded;\n",
              "          }\n",
              "        }\n",
              "      }\n",
              "      const blob = new Blob(buffers, {type: 'application/binary'});\n",
              "      const a = document.createElement('a');\n",
              "      a.href = window.URL.createObjectURL(blob);\n",
              "      a.download = filename;\n",
              "      div.appendChild(a);\n",
              "      a.click();\n",
              "      div.remove();\n",
              "    }\n",
              "  "
            ]
          },
          "metadata": {}
        },
        {
          "output_type": "display_data",
          "data": {
            "text/plain": [
              "<IPython.core.display.Javascript object>"
            ],
            "application/javascript": [
              "download(\"download_ec22e6ef-9470-4b8d-b99c-6ff09ab44f80\", \"all_games.csv\", 2648616)"
            ]
          },
          "metadata": {}
        }
      ]
    },
    {
      "cell_type": "code",
      "source": [
        "games[0]['away_points']"
      ],
      "metadata": {
        "colab": {
          "base_uri": "https://localhost:8080/"
        },
        "id": "F-qyh6X2gD27",
        "outputId": "d3d31698-c70f-463e-cb74-2e31d6093a5d"
      },
      "execution_count": 56,
      "outputs": [
        {
          "output_type": "execute_result",
          "data": {
            "text/plain": [
              "7"
            ]
          },
          "metadata": {},
          "execution_count": 56
        }
      ]
    },
    {
      "cell_type": "code",
      "source": [
        "conferences = set([games[i]['home_conference'] for i in range(len(games))])"
      ],
      "metadata": {
        "id": "Q68YAY7MgFz3"
      },
      "execution_count": 57,
      "outputs": []
    },
    {
      "cell_type": "code",
      "source": [
        "conferences"
      ],
      "metadata": {
        "colab": {
          "base_uri": "https://localhost:8080/"
        },
        "id": "YdE9mO14iNwL",
        "outputId": "5b44194c-1039-4e38-d771-e9947adcb7d7"
      },
      "execution_count": 58,
      "outputs": [
        {
          "output_type": "execute_result",
          "data": {
            "text/plain": [
              "{'ACC',\n",
              " 'AWC',\n",
              " 'American Athletic',\n",
              " 'Atlantic 10',\n",
              " 'Big 12',\n",
              " 'Big 8',\n",
              " 'Big East',\n",
              " 'Big Sky',\n",
              " 'Big South',\n",
              " 'Big Ten',\n",
              " 'Big West',\n",
              " 'CAA',\n",
              " 'CIAA',\n",
              " 'Conference USA',\n",
              " 'ECFC',\n",
              " 'FBS Independents',\n",
              " 'FCS Independents',\n",
              " 'GLIAC',\n",
              " 'Great American',\n",
              " 'Great Lakes',\n",
              " 'Great Midwest Athletic',\n",
              " 'Great Northwest',\n",
              " 'Great West',\n",
              " 'Gulf South',\n",
              " 'Heartland',\n",
              " 'Independent DII',\n",
              " 'Ivy',\n",
              " 'Lone Star',\n",
              " 'MEAC',\n",
              " 'MVFC',\n",
              " 'Metro Atlantic Athletic',\n",
              " 'Mid America',\n",
              " 'Mid-American',\n",
              " 'Mountain East',\n",
              " 'Mountain West',\n",
              " 'NEC',\n",
              " None,\n",
              " 'North Coast',\n",
              " 'Northeast 10',\n",
              " 'Northern Sun',\n",
              " 'Northwest',\n",
              " 'OVC',\n",
              " 'Pac-10',\n",
              " 'Pac-12',\n",
              " 'Patriot',\n",
              " 'Pennsylvania State Athletic',\n",
              " 'Pioneer',\n",
              " 'Rocky Mountain',\n",
              " 'SEC',\n",
              " 'SIAC',\n",
              " 'SWAC',\n",
              " 'South Atlantic',\n",
              " 'Southern',\n",
              " 'Southern Athletic',\n",
              " 'Southland',\n",
              " 'Southwest',\n",
              " 'Sun Belt',\n",
              " 'Western Athletic'}"
            ]
          },
          "metadata": {},
          "execution_count": 58
        }
      ]
    },
    {
      "cell_type": "markdown",
      "source": [
        "**Notes on Below**\n",
        "- Following the example code, they set teams with no conference to 1200, but then teams with a conference to 1500, even though some of those teams are FCS.\n",
        "- game['home_team'] goes from being a team name to an elo rating for some reason"
      ],
      "metadata": {
        "id": "NXt1zhPtjdoE"
      }
    },
    {
      "cell_type": "code",
      "source": [
        "# dict object to hold current Elo rating for each team\n",
        "teams = dict()\n",
        "\n",
        "# loop through games in order\n",
        "for game in games:\n",
        "\n",
        "    # get current rating for home team\n",
        "    if game['home_team'] in teams:\n",
        "        home_elo = teams[game['home_team']]\n",
        "    elif game['home_conference'] is not None:\n",
        "        # if no rating, set initial rating to 1500 for FBS teams\n",
        "        home_elo = 1500\n",
        "    else:\n",
        "        # otherwise, set initial rating to 1200 for non-FBS teams\n",
        "        home_elo = 1200\n",
        "\n",
        "    # get current rating for away team\n",
        "    if game['away_team'] in teams:\n",
        "        away_elo = teams[game['away_team']]\n",
        "    elif game['away_conference'] is not None:\n",
        "        # if no rating, set initial rating to 1500 for FBS teams\n",
        "        away_elo = 1500\n",
        "    else:\n",
        "        # otherwise, set initial rating to 1200 for non-FBS teams\n",
        "        away_elo = 1200\n",
        "\n",
        "    # calculate score margin from game\n",
        "    margin = game['home_points'] - game['away_points']\n",
        "\n",
        "    # get new elo ratings\n",
        "    new_elos = get_new_elos(home_elo, away_elo, margin)\n",
        "\n",
        "    # set pregame elos on game dict\n",
        "    game['pregame_home_elo'] = home_elo\n",
        "    game['pregame_away_elo'] = away_elo\n",
        "\n",
        "    # set postgame elos on game dict\n",
        "    game['postgame_home_elo'] = new_elos[0]\n",
        "    game['postgame_away_elo'] = new_elos[1]\n",
        "\n",
        "    # set current elo values in teams dict\n",
        "    teams[game['home_team']] = new_elos[0]\n",
        "    teams[game['away_team']] = new_elos[1]"
      ],
      "metadata": {
        "id": "oqgu6u0Riekw"
      },
      "execution_count": 59,
      "outputs": []
    },
    {
      "cell_type": "code",
      "source": [
        "teams['South Carolina']"
      ],
      "metadata": {
        "colab": {
          "base_uri": "https://localhost:8080/"
        },
        "id": "RCNgzWC9jycy",
        "outputId": "d4d799d9-4d82-4051-f605-f3e7b0613ad3"
      },
      "execution_count": 60,
      "outputs": [
        {
          "output_type": "execute_result",
          "data": {
            "text/plain": [
              "1609"
            ]
          },
          "metadata": {},
          "execution_count": 60
        }
      ]
    },
    {
      "cell_type": "code",
      "source": [
        "end_elos = [dict(team=key, elo=teams[key]) for key in teams]\n",
        "end_elos.sort(key=elo_sort, reverse=True)\n",
        "\n",
        "end_elos[:10]"
      ],
      "metadata": {
        "colab": {
          "base_uri": "https://localhost:8080/"
        },
        "id": "78Q1oljSj00-",
        "outputId": "14c89544-4586-4fba-bd52-7763df9f6114"
      },
      "execution_count": 61,
      "outputs": [
        {
          "output_type": "execute_result",
          "data": {
            "text/plain": [
              "[{'team': 'Alabama', 'elo': 2098},\n",
              " {'team': 'Ohio State', 'elo': 2022},\n",
              " {'team': 'Clemson', 'elo': 1988},\n",
              " {'team': 'Oklahoma', 'elo': 1968},\n",
              " {'team': 'Georgia', 'elo': 1961},\n",
              " {'team': 'Notre Dame', 'elo': 1935},\n",
              " {'team': 'Michigan', 'elo': 1852},\n",
              " {'team': 'LSU', 'elo': 1827},\n",
              " {'team': 'Oklahoma State', 'elo': 1822},\n",
              " {'team': 'Oregon', 'elo': 1820}]"
            ]
          },
          "metadata": {},
          "execution_count": 61
        }
      ]
    },
    {
      "cell_type": "markdown",
      "source": [
        "**Visualizing ELO Over Time**\n",
        "- [x] Issue: Need stable version of matplotlib not most recent"
      ],
      "metadata": {
        "id": "-7Wx-_7UkiEl"
      }
    },
    {
      "cell_type": "code",
      "source": [
        "import matplotlib.pyplot as plt\n",
        "\n",
        "# This is the styling I use. Check out other themes here: https://matplotlib.org/3.2.1/gallery/style_sheets/style_sheets_reference.html\n",
        "plt.style.use('ggplot')\n",
        "\n",
        "# Graph sizing\n",
        "plt.rcParams[\"figure.figsize\"] = [20,10]"
      ],
      "metadata": {
        "id": "IsjAVUXmkC1p"
      },
      "execution_count": 62,
      "outputs": []
    },
    {
      "cell_type": "code",
      "source": [
        "def generate_chart(team):\n",
        "    team_games = []\n",
        "    for game in games:\n",
        "        if game['home_team'] == team:\n",
        "            team_games.append(dict(start_date=game['start_date'], elo=game['postgame_home_elo']))\n",
        "\n",
        "        if game['away_team'] == team:\n",
        "            team_games.append(dict(start_date=game['start_date'], elo=game['postgame_away_elo']))\n",
        "\n",
        "    df = pd.DataFrame.from_records(team_games)\n",
        "    fig, ax = plt.subplots()\n",
        "    ax.plot(df.index, df['elo'])\n",
        "\n",
        "    ax.set(xlabel='Game No.', ylabel='Elo Rating',\n",
        "           title=\"Historical Elo Rating - {0}\".format(team))\n",
        "\n",
        "    plt.show()"
      ],
      "metadata": {
        "id": "BG0ZB8axkx7U"
      },
      "execution_count": 63,
      "outputs": []
    },
    {
      "cell_type": "code",
      "source": [
        "teams = 'South Carolina'\n",
        "sc_games = []\n",
        "for game in games:\n",
        "    if game['home_team'] == team:\n",
        "        sc_games.append(dict(start_date=game['start_date'].split('T')[0], elo=game['postgame_home_elo']))\n",
        "\n",
        "    if game['away_team'] == team:\n",
        "        sc_games.append(dict(start_date=game['start_date'].split('T')[0], elo=game['postgame_away_elo']))\n",
        "\n",
        "df = pd.DataFrame.from_records(sc_games)\n",
        "df['start_date'] = pd.to_datetime(df['start_date'])\n",
        "df.head()"
      ],
      "metadata": {
        "colab": {
          "base_uri": "https://localhost:8080/",
          "height": 206
        },
        "id": "GvCSFOqeofes",
        "outputId": "e562f615-c669-4bc7-88d8-08001f3b9618"
      },
      "execution_count": 64,
      "outputs": [
        {
          "output_type": "execute_result",
          "data": {
            "text/plain": [
              "  start_date   elo\n",
              "0 1992-09-12  1513\n",
              "1 1992-09-19  1525\n",
              "2 1992-09-26  1537\n",
              "3 1992-10-03  1523\n",
              "4 1992-10-10  1511"
            ],
            "text/html": [
              "\n",
              "  <div id=\"df-789d5bef-a981-45a9-b2cd-9d1134aa8ff5\">\n",
              "    <div class=\"colab-df-container\">\n",
              "      <div>\n",
              "<style scoped>\n",
              "    .dataframe tbody tr th:only-of-type {\n",
              "        vertical-align: middle;\n",
              "    }\n",
              "\n",
              "    .dataframe tbody tr th {\n",
              "        vertical-align: top;\n",
              "    }\n",
              "\n",
              "    .dataframe thead th {\n",
              "        text-align: right;\n",
              "    }\n",
              "</style>\n",
              "<table border=\"1\" class=\"dataframe\">\n",
              "  <thead>\n",
              "    <tr style=\"text-align: right;\">\n",
              "      <th></th>\n",
              "      <th>start_date</th>\n",
              "      <th>elo</th>\n",
              "    </tr>\n",
              "  </thead>\n",
              "  <tbody>\n",
              "    <tr>\n",
              "      <th>0</th>\n",
              "      <td>1992-09-12</td>\n",
              "      <td>1513</td>\n",
              "    </tr>\n",
              "    <tr>\n",
              "      <th>1</th>\n",
              "      <td>1992-09-19</td>\n",
              "      <td>1525</td>\n",
              "    </tr>\n",
              "    <tr>\n",
              "      <th>2</th>\n",
              "      <td>1992-09-26</td>\n",
              "      <td>1537</td>\n",
              "    </tr>\n",
              "    <tr>\n",
              "      <th>3</th>\n",
              "      <td>1992-10-03</td>\n",
              "      <td>1523</td>\n",
              "    </tr>\n",
              "    <tr>\n",
              "      <th>4</th>\n",
              "      <td>1992-10-10</td>\n",
              "      <td>1511</td>\n",
              "    </tr>\n",
              "  </tbody>\n",
              "</table>\n",
              "</div>\n",
              "      <button class=\"colab-df-convert\" onclick=\"convertToInteractive('df-789d5bef-a981-45a9-b2cd-9d1134aa8ff5')\"\n",
              "              title=\"Convert this dataframe to an interactive table.\"\n",
              "              style=\"display:none;\">\n",
              "        \n",
              "  <svg xmlns=\"http://www.w3.org/2000/svg\" height=\"24px\"viewBox=\"0 0 24 24\"\n",
              "       width=\"24px\">\n",
              "    <path d=\"M0 0h24v24H0V0z\" fill=\"none\"/>\n",
              "    <path d=\"M18.56 5.44l.94 2.06.94-2.06 2.06-.94-2.06-.94-.94-2.06-.94 2.06-2.06.94zm-11 1L8.5 8.5l.94-2.06 2.06-.94-2.06-.94L8.5 2.5l-.94 2.06-2.06.94zm10 10l.94 2.06.94-2.06 2.06-.94-2.06-.94-.94-2.06-.94 2.06-2.06.94z\"/><path d=\"M17.41 7.96l-1.37-1.37c-.4-.4-.92-.59-1.43-.59-.52 0-1.04.2-1.43.59L10.3 9.45l-7.72 7.72c-.78.78-.78 2.05 0 2.83L4 21.41c.39.39.9.59 1.41.59.51 0 1.02-.2 1.41-.59l7.78-7.78 2.81-2.81c.8-.78.8-2.07 0-2.86zM5.41 20L4 18.59l7.72-7.72 1.47 1.35L5.41 20z\"/>\n",
              "  </svg>\n",
              "      </button>\n",
              "      \n",
              "  <style>\n",
              "    .colab-df-container {\n",
              "      display:flex;\n",
              "      flex-wrap:wrap;\n",
              "      gap: 12px;\n",
              "    }\n",
              "\n",
              "    .colab-df-convert {\n",
              "      background-color: #E8F0FE;\n",
              "      border: none;\n",
              "      border-radius: 50%;\n",
              "      cursor: pointer;\n",
              "      display: none;\n",
              "      fill: #1967D2;\n",
              "      height: 32px;\n",
              "      padding: 0 0 0 0;\n",
              "      width: 32px;\n",
              "    }\n",
              "\n",
              "    .colab-df-convert:hover {\n",
              "      background-color: #E2EBFA;\n",
              "      box-shadow: 0px 1px 2px rgba(60, 64, 67, 0.3), 0px 1px 3px 1px rgba(60, 64, 67, 0.15);\n",
              "      fill: #174EA6;\n",
              "    }\n",
              "\n",
              "    [theme=dark] .colab-df-convert {\n",
              "      background-color: #3B4455;\n",
              "      fill: #D2E3FC;\n",
              "    }\n",
              "\n",
              "    [theme=dark] .colab-df-convert:hover {\n",
              "      background-color: #434B5C;\n",
              "      box-shadow: 0px 1px 3px 1px rgba(0, 0, 0, 0.15);\n",
              "      filter: drop-shadow(0px 1px 2px rgba(0, 0, 0, 0.3));\n",
              "      fill: #FFFFFF;\n",
              "    }\n",
              "  </style>\n",
              "\n",
              "      <script>\n",
              "        const buttonEl =\n",
              "          document.querySelector('#df-789d5bef-a981-45a9-b2cd-9d1134aa8ff5 button.colab-df-convert');\n",
              "        buttonEl.style.display =\n",
              "          google.colab.kernel.accessAllowed ? 'block' : 'none';\n",
              "\n",
              "        async function convertToInteractive(key) {\n",
              "          const element = document.querySelector('#df-789d5bef-a981-45a9-b2cd-9d1134aa8ff5');\n",
              "          const dataTable =\n",
              "            await google.colab.kernel.invokeFunction('convertToInteractive',\n",
              "                                                     [key], {});\n",
              "          if (!dataTable) return;\n",
              "\n",
              "          const docLinkHtml = 'Like what you see? Visit the ' +\n",
              "            '<a target=\"_blank\" href=https://colab.research.google.com/notebooks/data_table.ipynb>data table notebook</a>'\n",
              "            + ' to learn more about interactive tables.';\n",
              "          element.innerHTML = '';\n",
              "          dataTable['output_type'] = 'display_data';\n",
              "          await google.colab.output.renderOutput(dataTable, element);\n",
              "          const docLink = document.createElement('div');\n",
              "          docLink.innerHTML = docLinkHtml;\n",
              "          element.appendChild(docLink);\n",
              "        }\n",
              "      </script>\n",
              "    </div>\n",
              "  </div>\n",
              "  "
            ]
          },
          "metadata": {},
          "execution_count": 64
        }
      ]
    },
    {
      "cell_type": "code",
      "source": [
        "yearly_averages = pd.DataFrame(df.groupby(df.start_date.dt.year)['elo'].mean())\n",
        "sns.lineplot(yearly_averages)"
      ],
      "metadata": {
        "colab": {
          "base_uri": "https://localhost:8080/",
          "height": 626
        },
        "id": "VoRd1fcjpPwm",
        "outputId": "1780df53-7127-47c9-9061-b3aed92bebf0"
      },
      "execution_count": 65,
      "outputs": [
        {
          "output_type": "execute_result",
          "data": {
            "text/plain": [
              "<matplotlib.axes._subplots.AxesSubplot at 0x7f62e204d460>"
            ]
          },
          "metadata": {},
          "execution_count": 65
        },
        {
          "output_type": "display_data",
          "data": {
            "text/plain": [
              "<Figure size 1440x720 with 1 Axes>"
            ],
            "image/png": "[encoded data removed]"
          },
          "metadata": {}
        }
      ]
    },
    {
      "cell_type": "code",
      "source": [
        "generate_chart('South Carolina')"
      ],
      "metadata": {
        "colab": {
          "base_uri": "https://localhost:8080/",
          "height": 626
        },
        "id": "GEO9TrFIlr-C",
        "outputId": "9cd5b904-0380-4ec4-9908-88137f26129f"
      },
      "execution_count": 66,
      "outputs": [
        {
          "output_type": "display_data",
          "data": {
            "text/plain": [
              "<Figure size 1440x720 with 1 Axes>"
            ],
            "image/png": "[encoded data removed]"
          },
          "metadata": {}
        }
      ]
    },
    {
      "cell_type": "markdown",
      "source": [
        "### Quick Project\n",
        "- Get average ELO of each major conferences over time"
      ],
      "metadata": {
        "id": "vspY8g2nuXdK"
      }
    },
    {
      "cell_type": "code",
      "source": [
        "# Get totals for each conference\n",
        "df_games = pd.DataFrame(games)\n",
        "df_games.head()"
      ],
      "metadata": {
        "colab": {
          "base_uri": "https://localhost:8080/",
          "height": 357
        },
        "id": "0q3eqmD0nECn",
        "outputId": "5fd5e8c2-d3ac-4c91-d1c9-af6ce6d3e255"
      },
      "execution_count": 67,
      "outputs": [
        {
          "output_type": "execute_result",
          "data": {
            "text/plain": [
              "                 start_date      home_team home_conference  home_points  \\\n",
              "0  1992-08-26T00:00:00.000Z      Texas A&M       Southwest           10   \n",
              "1  1992-08-29T00:00:00.000Z       NC State             ACC           24   \n",
              "2  1992-09-03T00:00:00.000Z  Bowling Green    Mid-American           29   \n",
              "3  1992-09-03T00:00:00.000Z     Texas Tech       Southwest            9   \n",
              "4  1992-09-05T00:00:00.000Z       Colorado           Big 8           37   \n",
              "\n",
              "          away_team   away_conference  away_points  pregame_home_elo  \\\n",
              "0          Stanford            Pac-10            7              1500   \n",
              "1              Iowa           Big Ten           14              1500   \n",
              "2  Western Michigan      Mid-American           19              1500   \n",
              "3          Oklahoma             Big 8           34              1500   \n",
              "4    Colorado State  Western Athletic           17              1500   \n",
              "\n",
              "   pregame_away_elo  postgame_home_elo  postgame_away_elo  \n",
              "0              1500               1512               1488  \n",
              "1              1500               1512               1488  \n",
              "2              1500               1512               1488  \n",
              "3              1500               1488               1512  \n",
              "4              1500               1512               1488  "
            ],
            "text/html": [
              "\n",
              "  <div id=\"df-73a82f0e-e0dd-4391-882a-12e95426f6eb\">\n",
              "    <div class=\"colab-df-container\">\n",
              "      <div>\n",
              "<style scoped>\n",
              "    .dataframe tbody tr th:only-of-type {\n",
              "        vertical-align: middle;\n",
              "    }\n",
              "\n",
              "    .dataframe tbody tr th {\n",
              "        vertical-align: top;\n",
              "    }\n",
              "\n",
              "    .dataframe thead th {\n",
              "        text-align: right;\n",
              "    }\n",
              "</style>\n",
              "<table border=\"1\" class=\"dataframe\">\n",
              "  <thead>\n",
              "    <tr style=\"text-align: right;\">\n",
              "      <th></th>\n",
              "      <th>start_date</th>\n",
              "      <th>home_team</th>\n",
              "      <th>home_conference</th>\n",
              "      <th>home_points</th>\n",
              "      <th>away_team</th>\n",
              "      <th>away_conference</th>\n",
              "      <th>away_points</th>\n",
              "      <th>pregame_home_elo</th>\n",
              "      <th>pregame_away_elo</th>\n",
              "      <th>postgame_home_elo</th>\n",
              "      <th>postgame_away_elo</th>\n",
              "    </tr>\n",
              "  </thead>\n",
              "  <tbody>\n",
              "    <tr>\n",
              "      <th>0</th>\n",
              "      <td>1992-08-26T00:00:00.000Z</td>\n",
              "      <td>Texas A&amp;M</td>\n",
              "      <td>Southwest</td>\n",
              "      <td>10</td>\n",
              "      <td>Stanford</td>\n",
              "      <td>Pac-10</td>\n",
              "      <td>7</td>\n",
              "      <td>1500</td>\n",
              "      <td>1500</td>\n",
              "      <td>1512</td>\n",
              "      <td>1488</td>\n",
              "    </tr>\n",
              "    <tr>\n",
              "      <th>1</th>\n",
              "      <td>1992-08-29T00:00:00.000Z</td>\n",
              "      <td>NC State</td>\n",
              "      <td>ACC</td>\n",
              "      <td>24</td>\n",
              "      <td>Iowa</td>\n",
              "      <td>Big Ten</td>\n",
              "      <td>14</td>\n",
              "      <td>1500</td>\n",
              "      <td>1500</td>\n",
              "      <td>1512</td>\n",
              "      <td>1488</td>\n",
              "    </tr>\n",
              "    <tr>\n",
              "      <th>2</th>\n",
              "      <td>1992-09-03T00:00:00.000Z</td>\n",
              "      <td>Bowling Green</td>\n",
              "      <td>Mid-American</td>\n",
              "      <td>29</td>\n",
              "      <td>Western Michigan</td>\n",
              "      <td>Mid-American</td>\n",
              "      <td>19</td>\n",
              "      <td>1500</td>\n",
              "      <td>1500</td>\n",
              "      <td>1512</td>\n",
              "      <td>1488</td>\n",
              "    </tr>\n",
              "    <tr>\n",
              "      <th>3</th>\n",
              "      <td>1992-09-03T00:00:00.000Z</td>\n",
              "      <td>Texas Tech</td>\n",
              "      <td>Southwest</td>\n",
              "      <td>9</td>\n",
              "      <td>Oklahoma</td>\n",
              "      <td>Big 8</td>\n",
              "      <td>34</td>\n",
              "      <td>1500</td>\n",
              "      <td>1500</td>\n",
              "      <td>1488</td>\n",
              "      <td>1512</td>\n",
              "    </tr>\n",
              "    <tr>\n",
              "      <th>4</th>\n",
              "      <td>1992-09-05T00:00:00.000Z</td>\n",
              "      <td>Colorado</td>\n",
              "      <td>Big 8</td>\n",
              "      <td>37</td>\n",
              "      <td>Colorado State</td>\n",
              "      <td>Western Athletic</td>\n",
              "      <td>17</td>\n",
              "      <td>1500</td>\n",
              "      <td>1500</td>\n",
              "      <td>1512</td>\n",
              "      <td>1488</td>\n",
              "    </tr>\n",
              "  </tbody>\n",
              "</table>\n",
              "</div>\n",
              "      <button class=\"colab-df-convert\" onclick=\"convertToInteractive('df-73a82f0e-e0dd-4391-882a-12e95426f6eb')\"\n",
              "              title=\"Convert this dataframe to an interactive table.\"\n",
              "              style=\"display:none;\">\n",
              "        \n",
              "  <svg xmlns=\"http://www.w3.org/2000/svg\" height=\"24px\"viewBox=\"0 0 24 24\"\n",
              "       width=\"24px\">\n",
              "    <path d=\"M0 0h24v24H0V0z\" fill=\"none\"/>\n",
              "    <path d=\"M18.56 5.44l.94 2.06.94-2.06 2.06-.94-2.06-.94-.94-2.06-.94 2.06-2.06.94zm-11 1L8.5 8.5l.94-2.06 2.06-.94-2.06-.94L8.5 2.5l-.94 2.06-2.06.94zm10 10l.94 2.06.94-2.06 2.06-.94-2.06-.94-.94-2.06-.94 2.06-2.06.94z\"/><path d=\"M17.41 7.96l-1.37-1.37c-.4-.4-.92-.59-1.43-.59-.52 0-1.04.2-1.43.59L10.3 9.45l-7.72 7.72c-.78.78-.78 2.05 0 2.83L4 21.41c.39.39.9.59 1.41.59.51 0 1.02-.2 1.41-.59l7.78-7.78 2.81-2.81c.8-.78.8-2.07 0-2.86zM5.41 20L4 18.59l7.72-7.72 1.47 1.35L5.41 20z\"/>\n",
              "  </svg>\n",
              "      </button>\n",
              "      \n",
              "  <style>\n",
              "    .colab-df-container {\n",
              "      display:flex;\n",
              "      flex-wrap:wrap;\n",
              "      gap: 12px;\n",
              "    }\n",
              "\n",
              "    .colab-df-convert {\n",
              "      background-color: #E8F0FE;\n",
              "      border: none;\n",
              "      border-radius: 50%;\n",
              "      cursor: pointer;\n",
              "      display: none;\n",
              "      fill: #1967D2;\n",
              "      height: 32px;\n",
              "      padding: 0 0 0 0;\n",
              "      width: 32px;\n",
              "    }\n",
              "\n",
              "    .colab-df-convert:hover {\n",
              "      background-color: #E2EBFA;\n",
              "      box-shadow: 0px 1px 2px rgba(60, 64, 67, 0.3), 0px 1px 3px 1px rgba(60, 64, 67, 0.15);\n",
              "      fill: #174EA6;\n",
              "    }\n",
              "\n",
              "    [theme=dark] .colab-df-convert {\n",
              "      background-color: #3B4455;\n",
              "      fill: #D2E3FC;\n",
              "    }\n",
              "\n",
              "    [theme=dark] .colab-df-convert:hover {\n",
              "      background-color: #434B5C;\n",
              "      box-shadow: 0px 1px 3px 1px rgba(0, 0, 0, 0.15);\n",
              "      filter: drop-shadow(0px 1px 2px rgba(0, 0, 0, 0.3));\n",
              "      fill: #FFFFFF;\n",
              "    }\n",
              "  </style>\n",
              "\n",
              "      <script>\n",
              "        const buttonEl =\n",
              "          document.querySelector('#df-73a82f0e-e0dd-4391-882a-12e95426f6eb button.colab-df-convert');\n",
              "        buttonEl.style.display =\n",
              "          google.colab.kernel.accessAllowed ? 'block' : 'none';\n",
              "\n",
              "        async function convertToInteractive(key) {\n",
              "          const element = document.querySelector('#df-73a82f0e-e0dd-4391-882a-12e95426f6eb');\n",
              "          const dataTable =\n",
              "            await google.colab.kernel.invokeFunction('convertToInteractive',\n",
              "                                                     [key], {});\n",
              "          if (!dataTable) return;\n",
              "\n",
              "          const docLinkHtml = 'Like what you see? Visit the ' +\n",
              "            '<a target=\"_blank\" href=https://colab.research.google.com/notebooks/data_table.ipynb>data table notebook</a>'\n",
              "            + ' to learn more about interactive tables.';\n",
              "          element.innerHTML = '';\n",
              "          dataTable['output_type'] = 'display_data';\n",
              "          await google.colab.output.renderOutput(dataTable, element);\n",
              "          const docLink = document.createElement('div');\n",
              "          docLink.innerHTML = docLinkHtml;\n",
              "          element.appendChild(docLink);\n",
              "        }\n",
              "      </script>\n",
              "    </div>\n",
              "  </div>\n",
              "  "
            ]
          },
          "metadata": {},
          "execution_count": 67
        }
      ]
    },
    {
      "cell_type": "code",
      "source": [
        "# Create plot of Elo Rating vs. Game Number.\n",
        "import seaborn as sns\n",
        "#fig, ax = plt.subplots()\n",
        "\n",
        "conferences = ['SEC', 'ACC', 'Big 12', 'Big Ten', 'Pac-12']\n",
        "\n",
        "all_games = []\n",
        "for conference in conferences:\n",
        "  conf_teams = df_games[df_games.home_conference == conference].home_team.unique()  \n",
        "  for team in conf_teams:\n",
        "    for game in games:\n",
        "        if game['home_team'] == team:\n",
        "            all_games.append(dict(start_date=game['start_date'].split('T')[0], elo=game['postgame_home_elo'], team=team, conference=conference))\n",
        "\n",
        "        if game['away_team'] == team:\n",
        "            all_games.append(dict(start_date=game['start_date'].split('T')[0], elo=game['postgame_away_elo'], team=team, conference=conference))\n",
        "\n",
        "df = pd.DataFrame.from_records(all_games)\n",
        "\n",
        "df['start_date'] = pd.to_datetime(df['start_date'])\n",
        "#ax.plot(df.index, df['elo'])\n",
        "yearly_averages = pd.DataFrame(df.groupby([df.start_date.dt.year, df.conference])['elo'].mean())\n",
        "ax = sns.lineplot(data=yearly_averages, x='start_date', y='elo', hue='conference')\n",
        "ax.set(xlabel='Year', ylabel='Elo Rating', title=\"Historical Elo Rating - Avg. for Power 5\")\n",
        "yearly_averages.head()\n",
        "#df = pd.DataFrame.from_records(sc_games)\n",
        "#df['start_date'] = pd.to_datetime(df['start_date'])\n",
        "#df.head()"
      ],
      "metadata": {
        "colab": {
          "base_uri": "https://localhost:8080/",
          "height": 847
        },
        "id": "MGNSnKSnq9hQ",
        "outputId": "e94bd538-2c85-4f64-c032-7c68004aa284"
      },
      "execution_count": 68,
      "outputs": [
        {
          "output_type": "execute_result",
          "data": {
            "text/plain": [
              "                               elo\n",
              "start_date conference             \n",
              "1992       ACC         1510.994012\n",
              "           Big 12      1507.232258\n",
              "           Big Ten     1499.664516\n",
              "           Pac-12      1516.947368\n",
              "           SEC         1509.503226"
            ],
            "text/html": [
              "\n",
              "  <div id=\"df-2ca0659d-6d1d-4aa5-b8f4-f0cc43da3d7d\">\n",
              "    <div class=\"colab-df-container\">\n",
              "      <div>\n",
              "<style scoped>\n",
              "    .dataframe tbody tr th:only-of-type {\n",
              "        vertical-align: middle;\n",
              "    }\n",
              "\n",
              "    .dataframe tbody tr th {\n",
              "        vertical-align: top;\n",
              "    }\n",
              "\n",
              "    .dataframe thead th {\n",
              "        text-align: right;\n",
              "    }\n",
              "</style>\n",
              "<table border=\"1\" class=\"dataframe\">\n",
              "  <thead>\n",
              "    <tr style=\"text-align: right;\">\n",
              "      <th></th>\n",
              "      <th></th>\n",
              "      <th>elo</th>\n",
              "    </tr>\n",
              "    <tr>\n",
              "      <th>start_date</th>\n",
              "      <th>conference</th>\n",
              "      <th></th>\n",
              "    </tr>\n",
              "  </thead>\n",
              "  <tbody>\n",
              "    <tr>\n",
              "      <th rowspan=\"5\" valign=\"top\">1992</th>\n",
              "      <th>ACC</th>\n",
              "      <td>1510.994012</td>\n",
              "    </tr>\n",
              "    <tr>\n",
              "      <th>Big 12</th>\n",
              "      <td>1507.232258</td>\n",
              "    </tr>\n",
              "    <tr>\n",
              "      <th>Big Ten</th>\n",
              "      <td>1499.664516</td>\n",
              "    </tr>\n",
              "    <tr>\n",
              "      <th>Pac-12</th>\n",
              "      <td>1516.947368</td>\n",
              "    </tr>\n",
              "    <tr>\n",
              "      <th>SEC</th>\n",
              "      <td>1509.503226</td>\n",
              "    </tr>\n",
              "  </tbody>\n",
              "</table>\n",
              "</div>\n",
              "      <button class=\"colab-df-convert\" onclick=\"convertToInteractive('df-2ca0659d-6d1d-4aa5-b8f4-f0cc43da3d7d')\"\n",
              "              title=\"Convert this dataframe to an interactive table.\"\n",
              "              style=\"display:none;\">\n",
              "        \n",
              "  <svg xmlns=\"http://www.w3.org/2000/svg\" height=\"24px\"viewBox=\"0 0 24 24\"\n",
              "       width=\"24px\">\n",
              "    <path d=\"M0 0h24v24H0V0z\" fill=\"none\"/>\n",
              "    <path d=\"M18.56 5.44l.94 2.06.94-2.06 2.06-.94-2.06-.94-.94-2.06-.94 2.06-2.06.94zm-11 1L8.5 8.5l.94-2.06 2.06-.94-2.06-.94L8.5 2.5l-.94 2.06-2.06.94zm10 10l.94 2.06.94-2.06 2.06-.94-2.06-.94-.94-2.06-.94 2.06-2.06.94z\"/><path d=\"M17.41 7.96l-1.37-1.37c-.4-.4-.92-.59-1.43-.59-.52 0-1.04.2-1.43.59L10.3 9.45l-7.72 7.72c-.78.78-.78 2.05 0 2.83L4 21.41c.39.39.9.59 1.41.59.51 0 1.02-.2 1.41-.59l7.78-7.78 2.81-2.81c.8-.78.8-2.07 0-2.86zM5.41 20L4 18.59l7.72-7.72 1.47 1.35L5.41 20z\"/>\n",
              "  </svg>\n",
              "      </button>\n",
              "      \n",
              "  <style>\n",
              "    .colab-df-container {\n",
              "      display:flex;\n",
              "      flex-wrap:wrap;\n",
              "      gap: 12px;\n",
              "    }\n",
              "\n",
              "    .colab-df-convert {\n",
              "      background-color: #E8F0FE;\n",
              "      border: none;\n",
              "      border-radius: 50%;\n",
              "      cursor: pointer;\n",
              "      display: none;\n",
              "      fill: #1967D2;\n",
              "      height: 32px;\n",
              "      padding: 0 0 0 0;\n",
              "      width: 32px;\n",
              "    }\n",
              "\n",
              "    .colab-df-convert:hover {\n",
              "      background-color: #E2EBFA;\n",
              "      box-shadow: 0px 1px 2px rgba(60, 64, 67, 0.3), 0px 1px 3px 1px rgba(60, 64, 67, 0.15);\n",
              "      fill: #174EA6;\n",
              "    }\n",
              "\n",
              "    [theme=dark] .colab-df-convert {\n",
              "      background-color: #3B4455;\n",
              "      fill: #D2E3FC;\n",
              "    }\n",
              "\n",
              "    [theme=dark] .colab-df-convert:hover {\n",
              "      background-color: #434B5C;\n",
              "      box-shadow: 0px 1px 3px 1px rgba(0, 0, 0, 0.15);\n",
              "      filter: drop-shadow(0px 1px 2px rgba(0, 0, 0, 0.3));\n",
              "      fill: #FFFFFF;\n",
              "    }\n",
              "  </style>\n",
              "\n",
              "      <script>\n",
              "        const buttonEl =\n",
              "          document.querySelector('#df-2ca0659d-6d1d-4aa5-b8f4-f0cc43da3d7d button.colab-df-convert');\n",
              "        buttonEl.style.display =\n",
              "          google.colab.kernel.accessAllowed ? 'block' : 'none';\n",
              "\n",
              "        async function convertToInteractive(key) {\n",
              "          const element = document.querySelector('#df-2ca0659d-6d1d-4aa5-b8f4-f0cc43da3d7d');\n",
              "          const dataTable =\n",
              "            await google.colab.kernel.invokeFunction('convertToInteractive',\n",
              "                                                     [key], {});\n",
              "          if (!dataTable) return;\n",
              "\n",
              "          const docLinkHtml = 'Like what you see? Visit the ' +\n",
              "            '<a target=\"_blank\" href=https://colab.research.google.com/notebooks/data_table.ipynb>data table notebook</a>'\n",
              "            + ' to learn more about interactive tables.';\n",
              "          element.innerHTML = '';\n",
              "          dataTable['output_type'] = 'display_data';\n",
              "          await google.colab.output.renderOutput(dataTable, element);\n",
              "          const docLink = document.createElement('div');\n",
              "          docLink.innerHTML = docLinkHtml;\n",
              "          element.appendChild(docLink);\n",
              "        }\n",
              "      </script>\n",
              "    </div>\n",
              "  </div>\n",
              "  "
            ]
          },
          "metadata": {},
          "execution_count": 68
        },
        {
          "output_type": "display_data",
          "data": {
            "text/plain": [
              "<Figure size 1440x720 with 1 Axes>"
            ],
            "image/png": "[encoded data removed]"
          },
          "metadata": {}
        }
      ]
    },
    {
      "cell_type": "code",
      "source": [
        "# Filter games to include SEC teams\n",
        "df_games[(df_games.away_conference == 'SEC') | (df_games.home_conference == 'SEC')].head()\n"
      ],
      "metadata": {
        "colab": {
          "base_uri": "https://localhost:8080/",
          "height": 374
        },
        "id": "7Uh9jaNUcDQC",
        "outputId": "6a4610d3-09a1-41dd-8ac6-067b47272d2f"
      },
      "execution_count": 27,
      "outputs": [
        {
          "output_type": "execute_result",
          "data": {
            "text/plain": [
              "                  start_date       home_team home_conference  home_points  \\\n",
              "6   2000-08-31T00:00:00.000Z          Auburn             SEC           35   \n",
              "17  2000-09-02T00:00:00.000Z  South Carolina             SEC           31   \n",
              "23  2000-09-02T00:00:00.000Z        Ole Miss             SEC           49   \n",
              "28  2000-09-02T00:00:00.000Z         Memphis  Conference USA            3   \n",
              "37  2000-09-02T00:00:00.000Z      Vanderbilt             SEC           30   \n",
              "\n",
              "            away_team away_conference  away_points  pregame_home_elo  \\\n",
              "6             Wyoming   Mountain West           21              1500   \n",
              "17   New Mexico State        Big West            0              1500   \n",
              "23             Tulane  Conference USA           20              1500   \n",
              "28  Mississippi State             SEC           17              1500   \n",
              "37         Miami (OH)    Mid-American           33              1500   \n",
              "\n",
              "    pregame_away_elo  postgame_home_elo  postgame_away_elo  \n",
              "6               1500               1512               1488  \n",
              "17              1500               1512               1488  \n",
              "23              1500               1512               1488  \n",
              "28              1500               1488               1512  \n",
              "37              1500               1488               1512  "
            ],
            "text/html": [
              "\n",
              "  <div id=\"df-b5fafa11-cad9-43bf-8a10-593dfc5e468b\">\n",
              "    <div class=\"colab-df-container\">\n",
              "      <div>\n",
              "<style scoped>\n",
              "    .dataframe tbody tr th:only-of-type {\n",
              "        vertical-align: middle;\n",
              "    }\n",
              "\n",
              "    .dataframe tbody tr th {\n",
              "        vertical-align: top;\n",
              "    }\n",
              "\n",
              "    .dataframe thead th {\n",
              "        text-align: right;\n",
              "    }\n",
              "</style>\n",
              "<table border=\"1\" class=\"dataframe\">\n",
              "  <thead>\n",
              "    <tr style=\"text-align: right;\">\n",
              "      <th></th>\n",
              "      <th>start_date</th>\n",
              "      <th>home_team</th>\n",
              "      <th>home_conference</th>\n",
              "      <th>home_points</th>\n",
              "      <th>away_team</th>\n",
              "      <th>away_conference</th>\n",
              "      <th>away_points</th>\n",
              "      <th>pregame_home_elo</th>\n",
              "      <th>pregame_away_elo</th>\n",
              "      <th>postgame_home_elo</th>\n",
              "      <th>postgame_away_elo</th>\n",
              "    </tr>\n",
              "  </thead>\n",
              "  <tbody>\n",
              "    <tr>\n",
              "      <th>6</th>\n",
              "      <td>2000-08-31T00:00:00.000Z</td>\n",
              "      <td>Auburn</td>\n",
              "      <td>SEC</td>\n",
              "      <td>35</td>\n",
              "      <td>Wyoming</td>\n",
              "      <td>Mountain West</td>\n",
              "      <td>21</td>\n",
              "      <td>1500</td>\n",
              "      <td>1500</td>\n",
              "      <td>1512</td>\n",
              "      <td>1488</td>\n",
              "    </tr>\n",
              "    <tr>\n",
              "      <th>17</th>\n",
              "      <td>2000-09-02T00:00:00.000Z</td>\n",
              "      <td>South Carolina</td>\n",
              "      <td>SEC</td>\n",
              "      <td>31</td>\n",
              "      <td>New Mexico State</td>\n",
              "      <td>Big West</td>\n",
              "      <td>0</td>\n",
              "      <td>1500</td>\n",
              "      <td>1500</td>\n",
              "      <td>1512</td>\n",
              "      <td>1488</td>\n",
              "    </tr>\n",
              "    <tr>\n",
              "      <th>23</th>\n",
              "      <td>2000-09-02T00:00:00.000Z</td>\n",
              "      <td>Ole Miss</td>\n",
              "      <td>SEC</td>\n",
              "      <td>49</td>\n",
              "      <td>Tulane</td>\n",
              "      <td>Conference USA</td>\n",
              "      <td>20</td>\n",
              "      <td>1500</td>\n",
              "      <td>1500</td>\n",
              "      <td>1512</td>\n",
              "      <td>1488</td>\n",
              "    </tr>\n",
              "    <tr>\n",
              "      <th>28</th>\n",
              "      <td>2000-09-02T00:00:00.000Z</td>\n",
              "      <td>Memphis</td>\n",
              "      <td>Conference USA</td>\n",
              "      <td>3</td>\n",
              "      <td>Mississippi State</td>\n",
              "      <td>SEC</td>\n",
              "      <td>17</td>\n",
              "      <td>1500</td>\n",
              "      <td>1500</td>\n",
              "      <td>1488</td>\n",
              "      <td>1512</td>\n",
              "    </tr>\n",
              "    <tr>\n",
              "      <th>37</th>\n",
              "      <td>2000-09-02T00:00:00.000Z</td>\n",
              "      <td>Vanderbilt</td>\n",
              "      <td>SEC</td>\n",
              "      <td>30</td>\n",
              "      <td>Miami (OH)</td>\n",
              "      <td>Mid-American</td>\n",
              "      <td>33</td>\n",
              "      <td>1500</td>\n",
              "      <td>1500</td>\n",
              "      <td>1488</td>\n",
              "      <td>1512</td>\n",
              "    </tr>\n",
              "  </tbody>\n",
              "</table>\n",
              "</div>\n",
              "      <button class=\"colab-df-convert\" onclick=\"convertToInteractive('df-b5fafa11-cad9-43bf-8a10-593dfc5e468b')\"\n",
              "              title=\"Convert this dataframe to an interactive table.\"\n",
              "              style=\"display:none;\">\n",
              "        \n",
              "  <svg xmlns=\"http://www.w3.org/2000/svg\" height=\"24px\"viewBox=\"0 0 24 24\"\n",
              "       width=\"24px\">\n",
              "    <path d=\"M0 0h24v24H0V0z\" fill=\"none\"/>\n",
              "    <path d=\"M18.56 5.44l.94 2.06.94-2.06 2.06-.94-2.06-.94-.94-2.06-.94 2.06-2.06.94zm-11 1L8.5 8.5l.94-2.06 2.06-.94-2.06-.94L8.5 2.5l-.94 2.06-2.06.94zm10 10l.94 2.06.94-2.06 2.06-.94-2.06-.94-.94-2.06-.94 2.06-2.06.94z\"/><path d=\"M17.41 7.96l-1.37-1.37c-.4-.4-.92-.59-1.43-.59-.52 0-1.04.2-1.43.59L10.3 9.45l-7.72 7.72c-.78.78-.78 2.05 0 2.83L4 21.41c.39.39.9.59 1.41.59.51 0 1.02-.2 1.41-.59l7.78-7.78 2.81-2.81c.8-.78.8-2.07 0-2.86zM5.41 20L4 18.59l7.72-7.72 1.47 1.35L5.41 20z\"/>\n",
              "  </svg>\n",
              "      </button>\n",
              "      \n",
              "  <style>\n",
              "    .colab-df-container {\n",
              "      display:flex;\n",
              "      flex-wrap:wrap;\n",
              "      gap: 12px;\n",
              "    }\n",
              "\n",
              "    .colab-df-convert {\n",
              "      background-color: #E8F0FE;\n",
              "      border: none;\n",
              "      border-radius: 50%;\n",
              "      cursor: pointer;\n",
              "      display: none;\n",
              "      fill: #1967D2;\n",
              "      height: 32px;\n",
              "      padding: 0 0 0 0;\n",
              "      width: 32px;\n",
              "    }\n",
              "\n",
              "    .colab-df-convert:hover {\n",
              "      background-color: #E2EBFA;\n",
              "      box-shadow: 0px 1px 2px rgba(60, 64, 67, 0.3), 0px 1px 3px 1px rgba(60, 64, 67, 0.15);\n",
              "      fill: #174EA6;\n",
              "    }\n",
              "\n",
              "    [theme=dark] .colab-df-convert {\n",
              "      background-color: #3B4455;\n",
              "      fill: #D2E3FC;\n",
              "    }\n",
              "\n",
              "    [theme=dark] .colab-df-convert:hover {\n",
              "      background-color: #434B5C;\n",
              "      box-shadow: 0px 1px 3px 1px rgba(0, 0, 0, 0.15);\n",
              "      filter: drop-shadow(0px 1px 2px rgba(0, 0, 0, 0.3));\n",
              "      fill: #FFFFFF;\n",
              "    }\n",
              "  </style>\n",
              "\n",
              "      <script>\n",
              "        const buttonEl =\n",
              "          document.querySelector('#df-b5fafa11-cad9-43bf-8a10-593dfc5e468b button.colab-df-convert');\n",
              "        buttonEl.style.display =\n",
              "          google.colab.kernel.accessAllowed ? 'block' : 'none';\n",
              "\n",
              "        async function convertToInteractive(key) {\n",
              "          const element = document.querySelector('#df-b5fafa11-cad9-43bf-8a10-593dfc5e468b');\n",
              "          const dataTable =\n",
              "            await google.colab.kernel.invokeFunction('convertToInteractive',\n",
              "                                                     [key], {});\n",
              "          if (!dataTable) return;\n",
              "\n",
              "          const docLinkHtml = 'Like what you see? Visit the ' +\n",
              "            '<a target=\"_blank\" href=https://colab.research.google.com/notebooks/data_table.ipynb>data table notebook</a>'\n",
              "            + ' to learn more about interactive tables.';\n",
              "          element.innerHTML = '';\n",
              "          dataTable['output_type'] = 'display_data';\n",
              "          await google.colab.output.renderOutput(dataTable, element);\n",
              "          const docLink = document.createElement('div');\n",
              "          docLink.innerHTML = docLinkHtml;\n",
              "          element.appendChild(docLink);\n",
              "        }\n",
              "      </script>\n",
              "    </div>\n",
              "  </div>\n",
              "  "
            ]
          },
          "metadata": {},
          "execution_count": 27
        }
      ]
    }
  ]
}
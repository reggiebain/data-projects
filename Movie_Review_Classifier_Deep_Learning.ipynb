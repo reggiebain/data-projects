{
  "nbformat": 4,
  "nbformat_minor": 0,
  "metadata": {
    "colab": {
      "provenance": [],
      "authorship_tag": "ABX9TyONiqV4ZyjNsCquNjUIi24X",
      "include_colab_link": true
    },
    "kernelspec": {
      "name": "python3",
      "display_name": "Python 3"
    },
    "language_info": {
      "name": "python"
    },
    "widgets": {
      "application/vnd.jupyter.widget-state+json": {
        "a1dcfadfcc9047c6a9cec6033f8189bc": {
          "model_module": "@jupyter-widgets/controls",
          "model_name": "HBoxModel",
          "model_module_version": "1.5.0",
          "state": {
            "_dom_classes": [],
            "_model_module": "@jupyter-widgets/controls",
            "_model_module_version": "1.5.0",
            "_model_name": "HBoxModel",
            "_view_count": null,
            "_view_module": "@jupyter-widgets/controls",
            "_view_module_version": "1.5.0",
            "_view_name": "HBoxView",
            "box_style": "",
            "children": [
              "IPY_MODEL_47afb70df627485491254301314313f4",
              "IPY_MODEL_0bd1e8e32d5d4a03bf89598b8b758c12",
              "IPY_MODEL_15e3a4e5a5d84808825ad5c7cf85016a"
            ],
            "layout": "IPY_MODEL_0f3750f235c7481788595d9829f4a407"
          }
        },
        "47afb70df627485491254301314313f4": {
          "model_module": "@jupyter-widgets/controls",
          "model_name": "HTMLModel",
          "model_module_version": "1.5.0",
          "state": {
            "_dom_classes": [],
            "_model_module": "@jupyter-widgets/controls",
            "_model_module_version": "1.5.0",
            "_model_name": "HTMLModel",
            "_view_count": null,
            "_view_module": "@jupyter-widgets/controls",
            "_view_module_version": "1.5.0",
            "_view_name": "HTMLView",
            "description": "",
            "description_tooltip": null,
            "layout": "IPY_MODEL_acdf32ac7ae04c649f7e922d5adc8631",
            "placeholder": "​",
            "style": "IPY_MODEL_1a5c81e561784b12ba5392db67f5a847",
            "value": "Downloading (…)okenizer_config.json: 100%"
          }
        },
        "0bd1e8e32d5d4a03bf89598b8b758c12": {
          "model_module": "@jupyter-widgets/controls",
          "model_name": "FloatProgressModel",
          "model_module_version": "1.5.0",
          "state": {
            "_dom_classes": [],
            "_model_module": "@jupyter-widgets/controls",
            "_model_module_version": "1.5.0",
            "_model_name": "FloatProgressModel",
            "_view_count": null,
            "_view_module": "@jupyter-widgets/controls",
            "_view_module_version": "1.5.0",
            "_view_name": "ProgressView",
            "bar_style": "success",
            "description": "",
            "description_tooltip": null,
            "layout": "IPY_MODEL_410519eef7654120b3b58cd7cb28421f",
            "max": 28,
            "min": 0,
            "orientation": "horizontal",
            "style": "IPY_MODEL_ad51d8e3edf54288b9174fc0cd2244aa",
            "value": 28
          }
        },
        "15e3a4e5a5d84808825ad5c7cf85016a": {
          "model_module": "@jupyter-widgets/controls",
          "model_name": "HTMLModel",
          "model_module_version": "1.5.0",
          "state": {
            "_dom_classes": [],
            "_model_module": "@jupyter-widgets/controls",
            "_model_module_version": "1.5.0",
            "_model_name": "HTMLModel",
            "_view_count": null,
            "_view_module": "@jupyter-widgets/controls",
            "_view_module_version": "1.5.0",
            "_view_name": "HTMLView",
            "description": "",
            "description_tooltip": null,
            "layout": "IPY_MODEL_a66a29336bd64f6ba3018a62d52101b1",
            "placeholder": "​",
            "style": "IPY_MODEL_8212e01513d6445aa7b91ba9edb03f58",
            "value": " 28.0/28.0 [00:00&lt;00:00, 322B/s]"
          }
        },
        "0f3750f235c7481788595d9829f4a407": {
          "model_module": "@jupyter-widgets/base",
          "model_name": "LayoutModel",
          "model_module_version": "1.2.0",
          "state": {
            "_model_module": "@jupyter-widgets/base",
            "_model_module_version": "1.2.0",
            "_model_name": "LayoutModel",
            "_view_count": null,
            "_view_module": "@jupyter-widgets/base",
            "_view_module_version": "1.2.0",
            "_view_name": "LayoutView",
            "align_content": null,
            "align_items": null,
            "align_self": null,
            "border": null,
            "bottom": null,
            "display": null,
            "flex": null,
            "flex_flow": null,
            "grid_area": null,
            "grid_auto_columns": null,
            "grid_auto_flow": null,
            "grid_auto_rows": null,
            "grid_column": null,
            "grid_gap": null,
            "grid_row": null,
            "grid_template_areas": null,
            "grid_template_columns": null,
            "grid_template_rows": null,
            "height": null,
            "justify_content": null,
            "justify_items": null,
            "left": null,
            "margin": null,
            "max_height": null,
            "max_width": null,
            "min_height": null,
            "min_width": null,
            "object_fit": null,
            "object_position": null,
            "order": null,
            "overflow": null,
            "overflow_x": null,
            "overflow_y": null,
            "padding": null,
            "right": null,
            "top": null,
            "visibility": null,
            "width": null
          }
        },
        "acdf32ac7ae04c649f7e922d5adc8631": {
          "model_module": "@jupyter-widgets/base",
          "model_name": "LayoutModel",
          "model_module_version": "1.2.0",
          "state": {
            "_model_module": "@jupyter-widgets/base",
            "_model_module_version": "1.2.0",
            "_model_name": "LayoutModel",
            "_view_count": null,
            "_view_module": "@jupyter-widgets/base",
            "_view_module_version": "1.2.0",
            "_view_name": "LayoutView",
            "align_content": null,
            "align_items": null,
            "align_self": null,
            "border": null,
            "bottom": null,
            "display": null,
            "flex": null,
            "flex_flow": null,
            "grid_area": null,
            "grid_auto_columns": null,
            "grid_auto_flow": null,
            "grid_auto_rows": null,
            "grid_column": null,
            "grid_gap": null,
            "grid_row": null,
            "grid_template_areas": null,
            "grid_template_columns": null,
            "grid_template_rows": null,
            "height": null,
            "justify_content": null,
            "justify_items": null,
            "left": null,
            "margin": null,
            "max_height": null,
            "max_width": null,
            "min_height": null,
            "min_width": null,
            "object_fit": null,
            "object_position": null,
            "order": null,
            "overflow": null,
            "overflow_x": null,
            "overflow_y": null,
            "padding": null,
            "right": null,
            "top": null,
            "visibility": null,
            "width": null
          }
        },
        "1a5c81e561784b12ba5392db67f5a847": {
          "model_module": "@jupyter-widgets/controls",
          "model_name": "DescriptionStyleModel",
          "model_module_version": "1.5.0",
          "state": {
            "_model_module": "@jupyter-widgets/controls",
            "_model_module_version": "1.5.0",
            "_model_name": "DescriptionStyleModel",
            "_view_count": null,
            "_view_module": "@jupyter-widgets/base",
            "_view_module_version": "1.2.0",
            "_view_name": "StyleView",
            "description_width": ""
          }
        },
        "410519eef7654120b3b58cd7cb28421f": {
          "model_module": "@jupyter-widgets/base",
          "model_name": "LayoutModel",
          "model_module_version": "1.2.0",
          "state": {
            "_model_module": "@jupyter-widgets/base",
            "_model_module_version": "1.2.0",
            "_model_name": "LayoutModel",
            "_view_count": null,
            "_view_module": "@jupyter-widgets/base",
            "_view_module_version": "1.2.0",
            "_view_name": "LayoutView",
            "align_content": null,
            "align_items": null,
            "align_self": null,
            "border": null,
            "bottom": null,
            "display": null,
            "flex": null,
            "flex_flow": null,
            "grid_area": null,
            "grid_auto_columns": null,
            "grid_auto_flow": null,
            "grid_auto_rows": null,
            "grid_column": null,
            "grid_gap": null,
            "grid_row": null,
            "grid_template_areas": null,
            "grid_template_columns": null,
            "grid_template_rows": null,
            "height": null,
            "justify_content": null,
            "justify_items": null,
            "left": null,
            "margin": null,
            "max_height": null,
            "max_width": null,
            "min_height": null,
            "min_width": null,
            "object_fit": null,
            "object_position": null,
            "order": null,
            "overflow": null,
            "overflow_x": null,
            "overflow_y": null,
            "padding": null,
            "right": null,
            "top": null,
            "visibility": null,
            "width": null
          }
        },
        "ad51d8e3edf54288b9174fc0cd2244aa": {
          "model_module": "@jupyter-widgets/controls",
          "model_name": "ProgressStyleModel",
          "model_module_version": "1.5.0",
          "state": {
            "_model_module": "@jupyter-widgets/controls",
            "_model_module_version": "1.5.0",
            "_model_name": "ProgressStyleModel",
            "_view_count": null,
            "_view_module": "@jupyter-widgets/base",
            "_view_module_version": "1.2.0",
            "_view_name": "StyleView",
            "bar_color": null,
            "description_width": ""
          }
        },
        "a66a29336bd64f6ba3018a62d52101b1": {
          "model_module": "@jupyter-widgets/base",
          "model_name": "LayoutModel",
          "model_module_version": "1.2.0",
          "state": {
            "_model_module": "@jupyter-widgets/base",
            "_model_module_version": "1.2.0",
            "_model_name": "LayoutModel",
            "_view_count": null,
            "_view_module": "@jupyter-widgets/base",
            "_view_module_version": "1.2.0",
            "_view_name": "LayoutView",
            "align_content": null,
            "align_items": null,
            "align_self": null,
            "border": null,
            "bottom": null,
            "display": null,
            "flex": null,
            "flex_flow": null,
            "grid_area": null,
            "grid_auto_columns": null,
            "grid_auto_flow": null,
            "grid_auto_rows": null,
            "grid_column": null,
            "grid_gap": null,
            "grid_row": null,
            "grid_template_areas": null,
            "grid_template_columns": null,
            "grid_template_rows": null,
            "height": null,
            "justify_content": null,
            "justify_items": null,
            "left": null,
            "margin": null,
            "max_height": null,
            "max_width": null,
            "min_height": null,
            "min_width": null,
            "object_fit": null,
            "object_position": null,
            "order": null,
            "overflow": null,
            "overflow_x": null,
            "overflow_y": null,
            "padding": null,
            "right": null,
            "top": null,
            "visibility": null,
            "width": null
          }
        },
        "8212e01513d6445aa7b91ba9edb03f58": {
          "model_module": "@jupyter-widgets/controls",
          "model_name": "DescriptionStyleModel",
          "model_module_version": "1.5.0",
          "state": {
            "_model_module": "@jupyter-widgets/controls",
            "_model_module_version": "1.5.0",
            "_model_name": "DescriptionStyleModel",
            "_view_count": null,
            "_view_module": "@jupyter-widgets/base",
            "_view_module_version": "1.2.0",
            "_view_name": "StyleView",
            "description_width": ""
          }
        },
        "3948b49b618b4789924884360f22a19d": {
          "model_module": "@jupyter-widgets/controls",
          "model_name": "HBoxModel",
          "model_module_version": "1.5.0",
          "state": {
            "_dom_classes": [],
            "_model_module": "@jupyter-widgets/controls",
            "_model_module_version": "1.5.0",
            "_model_name": "HBoxModel",
            "_view_count": null,
            "_view_module": "@jupyter-widgets/controls",
            "_view_module_version": "1.5.0",
            "_view_name": "HBoxView",
            "box_style": "",
            "children": [
              "IPY_MODEL_cabf2ab0c1924261a471ccaeedf7d1f5",
              "IPY_MODEL_59246f67c12d48bbbbcb05abb36ff30b",
              "IPY_MODEL_a002d59c9a46468096c53192a965553b"
            ],
            "layout": "IPY_MODEL_86ac519b89ec41b694ea92f45ec4a059"
          }
        },
        "cabf2ab0c1924261a471ccaeedf7d1f5": {
          "model_module": "@jupyter-widgets/controls",
          "model_name": "HTMLModel",
          "model_module_version": "1.5.0",
          "state": {
            "_dom_classes": [],
            "_model_module": "@jupyter-widgets/controls",
            "_model_module_version": "1.5.0",
            "_model_name": "HTMLModel",
            "_view_count": null,
            "_view_module": "@jupyter-widgets/controls",
            "_view_module_version": "1.5.0",
            "_view_name": "HTMLView",
            "description": "",
            "description_tooltip": null,
            "layout": "IPY_MODEL_be5eaaf5017d441ebcfdedf24785f23a",
            "placeholder": "​",
            "style": "IPY_MODEL_6992cf37bc754866b3593994ba741f82",
            "value": "Downloading (…)lve/main/config.json: 100%"
          }
        },
        "59246f67c12d48bbbbcb05abb36ff30b": {
          "model_module": "@jupyter-widgets/controls",
          "model_name": "FloatProgressModel",
          "model_module_version": "1.5.0",
          "state": {
            "_dom_classes": [],
            "_model_module": "@jupyter-widgets/controls",
            "_model_module_version": "1.5.0",
            "_model_name": "FloatProgressModel",
            "_view_count": null,
            "_view_module": "@jupyter-widgets/controls",
            "_view_module_version": "1.5.0",
            "_view_name": "ProgressView",
            "bar_style": "success",
            "description": "",
            "description_tooltip": null,
            "layout": "IPY_MODEL_235c2bd90bfd4b24b473a1636f41a845",
            "max": 570,
            "min": 0,
            "orientation": "horizontal",
            "style": "IPY_MODEL_66ed957d3836466499406f0c464a6519",
            "value": 570
          }
        },
        "a002d59c9a46468096c53192a965553b": {
          "model_module": "@jupyter-widgets/controls",
          "model_name": "HTMLModel",
          "model_module_version": "1.5.0",
          "state": {
            "_dom_classes": [],
            "_model_module": "@jupyter-widgets/controls",
            "_model_module_version": "1.5.0",
            "_model_name": "HTMLModel",
            "_view_count": null,
            "_view_module": "@jupyter-widgets/controls",
            "_view_module_version": "1.5.0",
            "_view_name": "HTMLView",
            "description": "",
            "description_tooltip": null,
            "layout": "IPY_MODEL_92f7838299624d8aa8c60b3930a6f7d5",
            "placeholder": "​",
            "style": "IPY_MODEL_ba575b216ffc4b7ca697395ec162c78a",
            "value": " 570/570 [00:00&lt;00:00, 7.34kB/s]"
          }
        },
        "86ac519b89ec41b694ea92f45ec4a059": {
          "model_module": "@jupyter-widgets/base",
          "model_name": "LayoutModel",
          "model_module_version": "1.2.0",
          "state": {
            "_model_module": "@jupyter-widgets/base",
            "_model_module_version": "1.2.0",
            "_model_name": "LayoutModel",
            "_view_count": null,
            "_view_module": "@jupyter-widgets/base",
            "_view_module_version": "1.2.0",
            "_view_name": "LayoutView",
            "align_content": null,
            "align_items": null,
            "align_self": null,
            "border": null,
            "bottom": null,
            "display": null,
            "flex": null,
            "flex_flow": null,
            "grid_area": null,
            "grid_auto_columns": null,
            "grid_auto_flow": null,
            "grid_auto_rows": null,
            "grid_column": null,
            "grid_gap": null,
            "grid_row": null,
            "grid_template_areas": null,
            "grid_template_columns": null,
            "grid_template_rows": null,
            "height": null,
            "justify_content": null,
            "justify_items": null,
            "left": null,
            "margin": null,
            "max_height": null,
            "max_width": null,
            "min_height": null,
            "min_width": null,
            "object_fit": null,
            "object_position": null,
            "order": null,
            "overflow": null,
            "overflow_x": null,
            "overflow_y": null,
            "padding": null,
            "right": null,
            "top": null,
            "visibility": null,
            "width": null
          }
        },
        "be5eaaf5017d441ebcfdedf24785f23a": {
          "model_module": "@jupyter-widgets/base",
          "model_name": "LayoutModel",
          "model_module_version": "1.2.0",
          "state": {
            "_model_module": "@jupyter-widgets/base",
            "_model_module_version": "1.2.0",
            "_model_name": "LayoutModel",
            "_view_count": null,
            "_view_module": "@jupyter-widgets/base",
            "_view_module_version": "1.2.0",
            "_view_name": "LayoutView",
            "align_content": null,
            "align_items": null,
            "align_self": null,
            "border": null,
            "bottom": null,
            "display": null,
            "flex": null,
            "flex_flow": null,
            "grid_area": null,
            "grid_auto_columns": null,
            "grid_auto_flow": null,
            "grid_auto_rows": null,
            "grid_column": null,
            "grid_gap": null,
            "grid_row": null,
            "grid_template_areas": null,
            "grid_template_columns": null,
            "grid_template_rows": null,
            "height": null,
            "justify_content": null,
            "justify_items": null,
            "left": null,
            "margin": null,
            "max_height": null,
            "max_width": null,
            "min_height": null,
            "min_width": null,
            "object_fit": null,
            "object_position": null,
            "order": null,
            "overflow": null,
            "overflow_x": null,
            "overflow_y": null,
            "padding": null,
            "right": null,
            "top": null,
            "visibility": null,
            "width": null
          }
        },
        "6992cf37bc754866b3593994ba741f82": {
          "model_module": "@jupyter-widgets/controls",
          "model_name": "DescriptionStyleModel",
          "model_module_version": "1.5.0",
          "state": {
            "_model_module": "@jupyter-widgets/controls",
            "_model_module_version": "1.5.0",
            "_model_name": "DescriptionStyleModel",
            "_view_count": null,
            "_view_module": "@jupyter-widgets/base",
            "_view_module_version": "1.2.0",
            "_view_name": "StyleView",
            "description_width": ""
          }
        },
        "235c2bd90bfd4b24b473a1636f41a845": {
          "model_module": "@jupyter-widgets/base",
          "model_name": "LayoutModel",
          "model_module_version": "1.2.0",
          "state": {
            "_model_module": "@jupyter-widgets/base",
            "_model_module_version": "1.2.0",
            "_model_name": "LayoutModel",
            "_view_count": null,
            "_view_module": "@jupyter-widgets/base",
            "_view_module_version": "1.2.0",
            "_view_name": "LayoutView",
            "align_content": null,
            "align_items": null,
            "align_self": null,
            "border": null,
            "bottom": null,
            "display": null,
            "flex": null,
            "flex_flow": null,
            "grid_area": null,
            "grid_auto_columns": null,
            "grid_auto_flow": null,
            "grid_auto_rows": null,
            "grid_column": null,
            "grid_gap": null,
            "grid_row": null,
            "grid_template_areas": null,
            "grid_template_columns": null,
            "grid_template_rows": null,
            "height": null,
            "justify_content": null,
            "justify_items": null,
            "left": null,
            "margin": null,
            "max_height": null,
            "max_width": null,
            "min_height": null,
            "min_width": null,
            "object_fit": null,
            "object_position": null,
            "order": null,
            "overflow": null,
            "overflow_x": null,
            "overflow_y": null,
            "padding": null,
            "right": null,
            "top": null,
            "visibility": null,
            "width": null
          }
        },
        "66ed957d3836466499406f0c464a6519": {
          "model_module": "@jupyter-widgets/controls",
          "model_name": "ProgressStyleModel",
          "model_module_version": "1.5.0",
          "state": {
            "_model_module": "@jupyter-widgets/controls",
            "_model_module_version": "1.5.0",
            "_model_name": "ProgressStyleModel",
            "_view_count": null,
            "_view_module": "@jupyter-widgets/base",
            "_view_module_version": "1.2.0",
            "_view_name": "StyleView",
            "bar_color": null,
            "description_width": ""
          }
        },
        "92f7838299624d8aa8c60b3930a6f7d5": {
          "model_module": "@jupyter-widgets/base",
          "model_name": "LayoutModel",
          "model_module_version": "1.2.0",
          "state": {
            "_model_module": "@jupyter-widgets/base",
            "_model_module_version": "1.2.0",
            "_model_name": "LayoutModel",
            "_view_count": null,
            "_view_module": "@jupyter-widgets/base",
            "_view_module_version": "1.2.0",
            "_view_name": "LayoutView",
            "align_content": null,
            "align_items": null,
            "align_self": null,
            "border": null,
            "bottom": null,
            "display": null,
            "flex": null,
            "flex_flow": null,
            "grid_area": null,
            "grid_auto_columns": null,
            "grid_auto_flow": null,
            "grid_auto_rows": null,
            "grid_column": null,
            "grid_gap": null,
            "grid_row": null,
            "grid_template_areas": null,
            "grid_template_columns": null,
            "grid_template_rows": null,
            "height": null,
            "justify_content": null,
            "justify_items": null,
            "left": null,
            "margin": null,
            "max_height": null,
            "max_width": null,
            "min_height": null,
            "min_width": null,
            "object_fit": null,
            "object_position": null,
            "order": null,
            "overflow": null,
            "overflow_x": null,
            "overflow_y": null,
            "padding": null,
            "right": null,
            "top": null,
            "visibility": null,
            "width": null
          }
        },
        "ba575b216ffc4b7ca697395ec162c78a": {
          "model_module": "@jupyter-widgets/controls",
          "model_name": "DescriptionStyleModel",
          "model_module_version": "1.5.0",
          "state": {
            "_model_module": "@jupyter-widgets/controls",
            "_model_module_version": "1.5.0",
            "_model_name": "DescriptionStyleModel",
            "_view_count": null,
            "_view_module": "@jupyter-widgets/base",
            "_view_module_version": "1.2.0",
            "_view_name": "StyleView",
            "description_width": ""
          }
        },
        "470c15bb569f49b191b7e31de213b996": {
          "model_module": "@jupyter-widgets/controls",
          "model_name": "HBoxModel",
          "model_module_version": "1.5.0",
          "state": {
            "_dom_classes": [],
            "_model_module": "@jupyter-widgets/controls",
            "_model_module_version": "1.5.0",
            "_model_name": "HBoxModel",
            "_view_count": null,
            "_view_module": "@jupyter-widgets/controls",
            "_view_module_version": "1.5.0",
            "_view_name": "HBoxView",
            "box_style": "",
            "children": [
              "IPY_MODEL_cc43da1dbb1f4d14b3b2e317422c7095",
              "IPY_MODEL_1bcb4891afc74046ba2fa777e0f98c53",
              "IPY_MODEL_6f9ada89cef3408e8e811ce1d82ce04c"
            ],
            "layout": "IPY_MODEL_c2afde97fe6541d590b2419cf04e16e2"
          }
        },
        "cc43da1dbb1f4d14b3b2e317422c7095": {
          "model_module": "@jupyter-widgets/controls",
          "model_name": "HTMLModel",
          "model_module_version": "1.5.0",
          "state": {
            "_dom_classes": [],
            "_model_module": "@jupyter-widgets/controls",
            "_model_module_version": "1.5.0",
            "_model_name": "HTMLModel",
            "_view_count": null,
            "_view_module": "@jupyter-widgets/controls",
            "_view_module_version": "1.5.0",
            "_view_name": "HTMLView",
            "description": "",
            "description_tooltip": null,
            "layout": "IPY_MODEL_6b594ac184f34967b970826f7906fa97",
            "placeholder": "​",
            "style": "IPY_MODEL_c9bd13a686524bb0b05e435e5ced75a2",
            "value": "Downloading (…)solve/main/vocab.txt: 100%"
          }
        },
        "1bcb4891afc74046ba2fa777e0f98c53": {
          "model_module": "@jupyter-widgets/controls",
          "model_name": "FloatProgressModel",
          "model_module_version": "1.5.0",
          "state": {
            "_dom_classes": [],
            "_model_module": "@jupyter-widgets/controls",
            "_model_module_version": "1.5.0",
            "_model_name": "FloatProgressModel",
            "_view_count": null,
            "_view_module": "@jupyter-widgets/controls",
            "_view_module_version": "1.5.0",
            "_view_name": "ProgressView",
            "bar_style": "success",
            "description": "",
            "description_tooltip": null,
            "layout": "IPY_MODEL_016ae04d512c4025aef7b847a3c8ecc3",
            "max": 231508,
            "min": 0,
            "orientation": "horizontal",
            "style": "IPY_MODEL_c763561bdfc14b3ebebedd82f09ab8bd",
            "value": 231508
          }
        },
        "6f9ada89cef3408e8e811ce1d82ce04c": {
          "model_module": "@jupyter-widgets/controls",
          "model_name": "HTMLModel",
          "model_module_version": "1.5.0",
          "state": {
            "_dom_classes": [],
            "_model_module": "@jupyter-widgets/controls",
            "_model_module_version": "1.5.0",
            "_model_name": "HTMLModel",
            "_view_count": null,
            "_view_module": "@jupyter-widgets/controls",
            "_view_module_version": "1.5.0",
            "_view_name": "HTMLView",
            "description": "",
            "description_tooltip": null,
            "layout": "IPY_MODEL_b2814ff04d4b48dea2d56e3ec8b8afe8",
            "placeholder": "​",
            "style": "IPY_MODEL_00158ba9be054d56929cd76643cc5813",
            "value": " 232k/232k [00:00&lt;00:00, 2.67MB/s]"
          }
        },
        "c2afde97fe6541d590b2419cf04e16e2": {
          "model_module": "@jupyter-widgets/base",
          "model_name": "LayoutModel",
          "model_module_version": "1.2.0",
          "state": {
            "_model_module": "@jupyter-widgets/base",
            "_model_module_version": "1.2.0",
            "_model_name": "LayoutModel",
            "_view_count": null,
            "_view_module": "@jupyter-widgets/base",
            "_view_module_version": "1.2.0",
            "_view_name": "LayoutView",
            "align_content": null,
            "align_items": null,
            "align_self": null,
            "border": null,
            "bottom": null,
            "display": null,
            "flex": null,
            "flex_flow": null,
            "grid_area": null,
            "grid_auto_columns": null,
            "grid_auto_flow": null,
            "grid_auto_rows": null,
            "grid_column": null,
            "grid_gap": null,
            "grid_row": null,
            "grid_template_areas": null,
            "grid_template_columns": null,
            "grid_template_rows": null,
            "height": null,
            "justify_content": null,
            "justify_items": null,
            "left": null,
            "margin": null,
            "max_height": null,
            "max_width": null,
            "min_height": null,
            "min_width": null,
            "object_fit": null,
            "object_position": null,
            "order": null,
            "overflow": null,
            "overflow_x": null,
            "overflow_y": null,
            "padding": null,
            "right": null,
            "top": null,
            "visibility": null,
            "width": null
          }
        },
        "6b594ac184f34967b970826f7906fa97": {
          "model_module": "@jupyter-widgets/base",
          "model_name": "LayoutModel",
          "model_module_version": "1.2.0",
          "state": {
            "_model_module": "@jupyter-widgets/base",
            "_model_module_version": "1.2.0",
            "_model_name": "LayoutModel",
            "_view_count": null,
            "_view_module": "@jupyter-widgets/base",
            "_view_module_version": "1.2.0",
            "_view_name": "LayoutView",
            "align_content": null,
            "align_items": null,
            "align_self": null,
            "border": null,
            "bottom": null,
            "display": null,
            "flex": null,
            "flex_flow": null,
            "grid_area": null,
            "grid_auto_columns": null,
            "grid_auto_flow": null,
            "grid_auto_rows": null,
            "grid_column": null,
            "grid_gap": null,
            "grid_row": null,
            "grid_template_areas": null,
            "grid_template_columns": null,
            "grid_template_rows": null,
            "height": null,
            "justify_content": null,
            "justify_items": null,
            "left": null,
            "margin": null,
            "max_height": null,
            "max_width": null,
            "min_height": null,
            "min_width": null,
            "object_fit": null,
            "object_position": null,
            "order": null,
            "overflow": null,
            "overflow_x": null,
            "overflow_y": null,
            "padding": null,
            "right": null,
            "top": null,
            "visibility": null,
            "width": null
          }
        },
        "c9bd13a686524bb0b05e435e5ced75a2": {
          "model_module": "@jupyter-widgets/controls",
          "model_name": "DescriptionStyleModel",
          "model_module_version": "1.5.0",
          "state": {
            "_model_module": "@jupyter-widgets/controls",
            "_model_module_version": "1.5.0",
            "_model_name": "DescriptionStyleModel",
            "_view_count": null,
            "_view_module": "@jupyter-widgets/base",
            "_view_module_version": "1.2.0",
            "_view_name": "StyleView",
            "description_width": ""
          }
        },
        "016ae04d512c4025aef7b847a3c8ecc3": {
          "model_module": "@jupyter-widgets/base",
          "model_name": "LayoutModel",
          "model_module_version": "1.2.0",
          "state": {
            "_model_module": "@jupyter-widgets/base",
            "_model_module_version": "1.2.0",
            "_model_name": "LayoutModel",
            "_view_count": null,
            "_view_module": "@jupyter-widgets/base",
            "_view_module_version": "1.2.0",
            "_view_name": "LayoutView",
            "align_content": null,
            "align_items": null,
            "align_self": null,
            "border": null,
            "bottom": null,
            "display": null,
            "flex": null,
            "flex_flow": null,
            "grid_area": null,
            "grid_auto_columns": null,
            "grid_auto_flow": null,
            "grid_auto_rows": null,
            "grid_column": null,
            "grid_gap": null,
            "grid_row": null,
            "grid_template_areas": null,
            "grid_template_columns": null,
            "grid_template_rows": null,
            "height": null,
            "justify_content": null,
            "justify_items": null,
            "left": null,
            "margin": null,
            "max_height": null,
            "max_width": null,
            "min_height": null,
            "min_width": null,
            "object_fit": null,
            "object_position": null,
            "order": null,
            "overflow": null,
            "overflow_x": null,
            "overflow_y": null,
            "padding": null,
            "right": null,
            "top": null,
            "visibility": null,
            "width": null
          }
        },
        "c763561bdfc14b3ebebedd82f09ab8bd": {
          "model_module": "@jupyter-widgets/controls",
          "model_name": "ProgressStyleModel",
          "model_module_version": "1.5.0",
          "state": {
            "_model_module": "@jupyter-widgets/controls",
            "_model_module_version": "1.5.0",
            "_model_name": "ProgressStyleModel",
            "_view_count": null,
            "_view_module": "@jupyter-widgets/base",
            "_view_module_version": "1.2.0",
            "_view_name": "StyleView",
            "bar_color": null,
            "description_width": ""
          }
        },
        "b2814ff04d4b48dea2d56e3ec8b8afe8": {
          "model_module": "@jupyter-widgets/base",
          "model_name": "LayoutModel",
          "model_module_version": "1.2.0",
          "state": {
            "_model_module": "@jupyter-widgets/base",
            "_model_module_version": "1.2.0",
            "_model_name": "LayoutModel",
            "_view_count": null,
            "_view_module": "@jupyter-widgets/base",
            "_view_module_version": "1.2.0",
            "_view_name": "LayoutView",
            "align_content": null,
            "align_items": null,
            "align_self": null,
            "border": null,
            "bottom": null,
            "display": null,
            "flex": null,
            "flex_flow": null,
            "grid_area": null,
            "grid_auto_columns": null,
            "grid_auto_flow": null,
            "grid_auto_rows": null,
            "grid_column": null,
            "grid_gap": null,
            "grid_row": null,
            "grid_template_areas": null,
            "grid_template_columns": null,
            "grid_template_rows": null,
            "height": null,
            "justify_content": null,
            "justify_items": null,
            "left": null,
            "margin": null,
            "max_height": null,
            "max_width": null,
            "min_height": null,
            "min_width": null,
            "object_fit": null,
            "object_position": null,
            "order": null,
            "overflow": null,
            "overflow_x": null,
            "overflow_y": null,
            "padding": null,
            "right": null,
            "top": null,
            "visibility": null,
            "width": null
          }
        },
        "00158ba9be054d56929cd76643cc5813": {
          "model_module": "@jupyter-widgets/controls",
          "model_name": "DescriptionStyleModel",
          "model_module_version": "1.5.0",
          "state": {
            "_model_module": "@jupyter-widgets/controls",
            "_model_module_version": "1.5.0",
            "_model_name": "DescriptionStyleModel",
            "_view_count": null,
            "_view_module": "@jupyter-widgets/base",
            "_view_module_version": "1.2.0",
            "_view_name": "StyleView",
            "description_width": ""
          }
        },
        "b43db1899dc242d9a68c3ccdd01d4126": {
          "model_module": "@jupyter-widgets/controls",
          "model_name": "HBoxModel",
          "model_module_version": "1.5.0",
          "state": {
            "_dom_classes": [],
            "_model_module": "@jupyter-widgets/controls",
            "_model_module_version": "1.5.0",
            "_model_name": "HBoxModel",
            "_view_count": null,
            "_view_module": "@jupyter-widgets/controls",
            "_view_module_version": "1.5.0",
            "_view_name": "HBoxView",
            "box_style": "",
            "children": [
              "IPY_MODEL_0b6008d2815a439b8fd45c571f6db49f",
              "IPY_MODEL_7f5b6532504b470e97fac218a1af3111",
              "IPY_MODEL_da8b1d5705524090a16e30513de72d0d"
            ],
            "layout": "IPY_MODEL_4d0abfe452444a18b03b839e1540039b"
          }
        },
        "0b6008d2815a439b8fd45c571f6db49f": {
          "model_module": "@jupyter-widgets/controls",
          "model_name": "HTMLModel",
          "model_module_version": "1.5.0",
          "state": {
            "_dom_classes": [],
            "_model_module": "@jupyter-widgets/controls",
            "_model_module_version": "1.5.0",
            "_model_name": "HTMLModel",
            "_view_count": null,
            "_view_module": "@jupyter-widgets/controls",
            "_view_module_version": "1.5.0",
            "_view_name": "HTMLView",
            "description": "",
            "description_tooltip": null,
            "layout": "IPY_MODEL_2fd5f9578409438ab74d5fa0e136c52e",
            "placeholder": "​",
            "style": "IPY_MODEL_e2740ceb5e214212a795ca6bc70d5ea3",
            "value": "Downloading (…)/main/tokenizer.json: 100%"
          }
        },
        "7f5b6532504b470e97fac218a1af3111": {
          "model_module": "@jupyter-widgets/controls",
          "model_name": "FloatProgressModel",
          "model_module_version": "1.5.0",
          "state": {
            "_dom_classes": [],
            "_model_module": "@jupyter-widgets/controls",
            "_model_module_version": "1.5.0",
            "_model_name": "FloatProgressModel",
            "_view_count": null,
            "_view_module": "@jupyter-widgets/controls",
            "_view_module_version": "1.5.0",
            "_view_name": "ProgressView",
            "bar_style": "success",
            "description": "",
            "description_tooltip": null,
            "layout": "IPY_MODEL_883192bcc5bc4379ab60b65d2b255c75",
            "max": 466062,
            "min": 0,
            "orientation": "horizontal",
            "style": "IPY_MODEL_8b679c59aa1e40e18c552583d74f746b",
            "value": 466062
          }
        },
        "da8b1d5705524090a16e30513de72d0d": {
          "model_module": "@jupyter-widgets/controls",
          "model_name": "HTMLModel",
          "model_module_version": "1.5.0",
          "state": {
            "_dom_classes": [],
            "_model_module": "@jupyter-widgets/controls",
            "_model_module_version": "1.5.0",
            "_model_name": "HTMLModel",
            "_view_count": null,
            "_view_module": "@jupyter-widgets/controls",
            "_view_module_version": "1.5.0",
            "_view_name": "HTMLView",
            "description": "",
            "description_tooltip": null,
            "layout": "IPY_MODEL_2de605c1c6a84ed28151ddaec173adc0",
            "placeholder": "​",
            "style": "IPY_MODEL_aa34dea11d94407094e2d9ca8284c47d",
            "value": " 466k/466k [00:00&lt;00:00, 3.95MB/s]"
          }
        },
        "4d0abfe452444a18b03b839e1540039b": {
          "model_module": "@jupyter-widgets/base",
          "model_name": "LayoutModel",
          "model_module_version": "1.2.0",
          "state": {
            "_model_module": "@jupyter-widgets/base",
            "_model_module_version": "1.2.0",
            "_model_name": "LayoutModel",
            "_view_count": null,
            "_view_module": "@jupyter-widgets/base",
            "_view_module_version": "1.2.0",
            "_view_name": "LayoutView",
            "align_content": null,
            "align_items": null,
            "align_self": null,
            "border": null,
            "bottom": null,
            "display": null,
            "flex": null,
            "flex_flow": null,
            "grid_area": null,
            "grid_auto_columns": null,
            "grid_auto_flow": null,
            "grid_auto_rows": null,
            "grid_column": null,
            "grid_gap": null,
            "grid_row": null,
            "grid_template_areas": null,
            "grid_template_columns": null,
            "grid_template_rows": null,
            "height": null,
            "justify_content": null,
            "justify_items": null,
            "left": null,
            "margin": null,
            "max_height": null,
            "max_width": null,
            "min_height": null,
            "min_width": null,
            "object_fit": null,
            "object_position": null,
            "order": null,
            "overflow": null,
            "overflow_x": null,
            "overflow_y": null,
            "padding": null,
            "right": null,
            "top": null,
            "visibility": null,
            "width": null
          }
        },
        "2fd5f9578409438ab74d5fa0e136c52e": {
          "model_module": "@jupyter-widgets/base",
          "model_name": "LayoutModel",
          "model_module_version": "1.2.0",
          "state": {
            "_model_module": "@jupyter-widgets/base",
            "_model_module_version": "1.2.0",
            "_model_name": "LayoutModel",
            "_view_count": null,
            "_view_module": "@jupyter-widgets/base",
            "_view_module_version": "1.2.0",
            "_view_name": "LayoutView",
            "align_content": null,
            "align_items": null,
            "align_self": null,
            "border": null,
            "bottom": null,
            "display": null,
            "flex": null,
            "flex_flow": null,
            "grid_area": null,
            "grid_auto_columns": null,
            "grid_auto_flow": null,
            "grid_auto_rows": null,
            "grid_column": null,
            "grid_gap": null,
            "grid_row": null,
            "grid_template_areas": null,
            "grid_template_columns": null,
            "grid_template_rows": null,
            "height": null,
            "justify_content": null,
            "justify_items": null,
            "left": null,
            "margin": null,
            "max_height": null,
            "max_width": null,
            "min_height": null,
            "min_width": null,
            "object_fit": null,
            "object_position": null,
            "order": null,
            "overflow": null,
            "overflow_x": null,
            "overflow_y": null,
            "padding": null,
            "right": null,
            "top": null,
            "visibility": null,
            "width": null
          }
        },
        "e2740ceb5e214212a795ca6bc70d5ea3": {
          "model_module": "@jupyter-widgets/controls",
          "model_name": "DescriptionStyleModel",
          "model_module_version": "1.5.0",
          "state": {
            "_model_module": "@jupyter-widgets/controls",
            "_model_module_version": "1.5.0",
            "_model_name": "DescriptionStyleModel",
            "_view_count": null,
            "_view_module": "@jupyter-widgets/base",
            "_view_module_version": "1.2.0",
            "_view_name": "StyleView",
            "description_width": ""
          }
        },
        "883192bcc5bc4379ab60b65d2b255c75": {
          "model_module": "@jupyter-widgets/base",
          "model_name": "LayoutModel",
          "model_module_version": "1.2.0",
          "state": {
            "_model_module": "@jupyter-widgets/base",
            "_model_module_version": "1.2.0",
            "_model_name": "LayoutModel",
            "_view_count": null,
            "_view_module": "@jupyter-widgets/base",
            "_view_module_version": "1.2.0",
            "_view_name": "LayoutView",
            "align_content": null,
            "align_items": null,
            "align_self": null,
            "border": null,
            "bottom": null,
            "display": null,
            "flex": null,
            "flex_flow": null,
            "grid_area": null,
            "grid_auto_columns": null,
            "grid_auto_flow": null,
            "grid_auto_rows": null,
            "grid_column": null,
            "grid_gap": null,
            "grid_row": null,
            "grid_template_areas": null,
            "grid_template_columns": null,
            "grid_template_rows": null,
            "height": null,
            "justify_content": null,
            "justify_items": null,
            "left": null,
            "margin": null,
            "max_height": null,
            "max_width": null,
            "min_height": null,
            "min_width": null,
            "object_fit": null,
            "object_position": null,
            "order": null,
            "overflow": null,
            "overflow_x": null,
            "overflow_y": null,
            "padding": null,
            "right": null,
            "top": null,
            "visibility": null,
            "width": null
          }
        },
        "8b679c59aa1e40e18c552583d74f746b": {
          "model_module": "@jupyter-widgets/controls",
          "model_name": "ProgressStyleModel",
          "model_module_version": "1.5.0",
          "state": {
            "_model_module": "@jupyter-widgets/controls",
            "_model_module_version": "1.5.0",
            "_model_name": "ProgressStyleModel",
            "_view_count": null,
            "_view_module": "@jupyter-widgets/base",
            "_view_module_version": "1.2.0",
            "_view_name": "StyleView",
            "bar_color": null,
            "description_width": ""
          }
        },
        "2de605c1c6a84ed28151ddaec173adc0": {
          "model_module": "@jupyter-widgets/base",
          "model_name": "LayoutModel",
          "model_module_version": "1.2.0",
          "state": {
            "_model_module": "@jupyter-widgets/base",
            "_model_module_version": "1.2.0",
            "_model_name": "LayoutModel",
            "_view_count": null,
            "_view_module": "@jupyter-widgets/base",
            "_view_module_version": "1.2.0",
            "_view_name": "LayoutView",
            "align_content": null,
            "align_items": null,
            "align_self": null,
            "border": null,
            "bottom": null,
            "display": null,
            "flex": null,
            "flex_flow": null,
            "grid_area": null,
            "grid_auto_columns": null,
            "grid_auto_flow": null,
            "grid_auto_rows": null,
            "grid_column": null,
            "grid_gap": null,
            "grid_row": null,
            "grid_template_areas": null,
            "grid_template_columns": null,
            "grid_template_rows": null,
            "height": null,
            "justify_content": null,
            "justify_items": null,
            "left": null,
            "margin": null,
            "max_height": null,
            "max_width": null,
            "min_height": null,
            "min_width": null,
            "object_fit": null,
            "object_position": null,
            "order": null,
            "overflow": null,
            "overflow_x": null,
            "overflow_y": null,
            "padding": null,
            "right": null,
            "top": null,
            "visibility": null,
            "width": null
          }
        },
        "aa34dea11d94407094e2d9ca8284c47d": {
          "model_module": "@jupyter-widgets/controls",
          "model_name": "DescriptionStyleModel",
          "model_module_version": "1.5.0",
          "state": {
            "_model_module": "@jupyter-widgets/controls",
            "_model_module_version": "1.5.0",
            "_model_name": "DescriptionStyleModel",
            "_view_count": null,
            "_view_module": "@jupyter-widgets/base",
            "_view_module_version": "1.2.0",
            "_view_name": "StyleView",
            "description_width": ""
          }
        },
        "61bb8e3b5f804af39d1beb67431598de": {
          "model_module": "@jupyter-widgets/controls",
          "model_name": "HBoxModel",
          "model_module_version": "1.5.0",
          "state": {
            "_dom_classes": [],
            "_model_module": "@jupyter-widgets/controls",
            "_model_module_version": "1.5.0",
            "_model_name": "HBoxModel",
            "_view_count": null,
            "_view_module": "@jupyter-widgets/controls",
            "_view_module_version": "1.5.0",
            "_view_name": "HBoxView",
            "box_style": "",
            "children": [
              "IPY_MODEL_19d0b4b4b15e41829c3edc2a5c9853ba",
              "IPY_MODEL_8cee9b0a567f4cfaa783404f4c3bba8e",
              "IPY_MODEL_50a71d4aa5584393847294bd997aa8e0"
            ],
            "layout": "IPY_MODEL_fbab147f03224fb8ac8405620c998272"
          }
        },
        "19d0b4b4b15e41829c3edc2a5c9853ba": {
          "model_module": "@jupyter-widgets/controls",
          "model_name": "HTMLModel",
          "model_module_version": "1.5.0",
          "state": {
            "_dom_classes": [],
            "_model_module": "@jupyter-widgets/controls",
            "_model_module_version": "1.5.0",
            "_model_name": "HTMLModel",
            "_view_count": null,
            "_view_module": "@jupyter-widgets/controls",
            "_view_module_version": "1.5.0",
            "_view_name": "HTMLView",
            "description": "",
            "description_tooltip": null,
            "layout": "IPY_MODEL_9babdca9aa294a75a37fffb1fda20b7d",
            "placeholder": "​",
            "style": "IPY_MODEL_0e75025c407d4b9bb68771211aff92b4",
            "value": "100%"
          }
        },
        "8cee9b0a567f4cfaa783404f4c3bba8e": {
          "model_module": "@jupyter-widgets/controls",
          "model_name": "FloatProgressModel",
          "model_module_version": "1.5.0",
          "state": {
            "_dom_classes": [],
            "_model_module": "@jupyter-widgets/controls",
            "_model_module_version": "1.5.0",
            "_model_name": "FloatProgressModel",
            "_view_count": null,
            "_view_module": "@jupyter-widgets/controls",
            "_view_module_version": "1.5.0",
            "_view_name": "ProgressView",
            "bar_style": "success",
            "description": "",
            "description_tooltip": null,
            "layout": "IPY_MODEL_61c50cdfeb73446eaa75f83c2332cdcf",
            "max": 33,
            "min": 0,
            "orientation": "horizontal",
            "style": "IPY_MODEL_1049c0e224c34d4e9f7c467103af525c",
            "value": 33
          }
        },
        "50a71d4aa5584393847294bd997aa8e0": {
          "model_module": "@jupyter-widgets/controls",
          "model_name": "HTMLModel",
          "model_module_version": "1.5.0",
          "state": {
            "_dom_classes": [],
            "_model_module": "@jupyter-widgets/controls",
            "_model_module_version": "1.5.0",
            "_model_name": "HTMLModel",
            "_view_count": null,
            "_view_module": "@jupyter-widgets/controls",
            "_view_module_version": "1.5.0",
            "_view_name": "HTMLView",
            "description": "",
            "description_tooltip": null,
            "layout": "IPY_MODEL_852e8912744a48c8b58f5a57bab46ffd",
            "placeholder": "​",
            "style": "IPY_MODEL_36a4a484a2ec4808a23ab29dba59466f",
            "value": " 33/33 [00:07&lt;00:00,  3.78ba/s]"
          }
        },
        "fbab147f03224fb8ac8405620c998272": {
          "model_module": "@jupyter-widgets/base",
          "model_name": "LayoutModel",
          "model_module_version": "1.2.0",
          "state": {
            "_model_module": "@jupyter-widgets/base",
            "_model_module_version": "1.2.0",
            "_model_name": "LayoutModel",
            "_view_count": null,
            "_view_module": "@jupyter-widgets/base",
            "_view_module_version": "1.2.0",
            "_view_name": "LayoutView",
            "align_content": null,
            "align_items": null,
            "align_self": null,
            "border": null,
            "bottom": null,
            "display": null,
            "flex": null,
            "flex_flow": null,
            "grid_area": null,
            "grid_auto_columns": null,
            "grid_auto_flow": null,
            "grid_auto_rows": null,
            "grid_column": null,
            "grid_gap": null,
            "grid_row": null,
            "grid_template_areas": null,
            "grid_template_columns": null,
            "grid_template_rows": null,
            "height": null,
            "justify_content": null,
            "justify_items": null,
            "left": null,
            "margin": null,
            "max_height": null,
            "max_width": null,
            "min_height": null,
            "min_width": null,
            "object_fit": null,
            "object_position": null,
            "order": null,
            "overflow": null,
            "overflow_x": null,
            "overflow_y": null,
            "padding": null,
            "right": null,
            "top": null,
            "visibility": null,
            "width": null
          }
        },
        "9babdca9aa294a75a37fffb1fda20b7d": {
          "model_module": "@jupyter-widgets/base",
          "model_name": "LayoutModel",
          "model_module_version": "1.2.0",
          "state": {
            "_model_module": "@jupyter-widgets/base",
            "_model_module_version": "1.2.0",
            "_model_name": "LayoutModel",
            "_view_count": null,
            "_view_module": "@jupyter-widgets/base",
            "_view_module_version": "1.2.0",
            "_view_name": "LayoutView",
            "align_content": null,
            "align_items": null,
            "align_self": null,
            "border": null,
            "bottom": null,
            "display": null,
            "flex": null,
            "flex_flow": null,
            "grid_area": null,
            "grid_auto_columns": null,
            "grid_auto_flow": null,
            "grid_auto_rows": null,
            "grid_column": null,
            "grid_gap": null,
            "grid_row": null,
            "grid_template_areas": null,
            "grid_template_columns": null,
            "grid_template_rows": null,
            "height": null,
            "justify_content": null,
            "justify_items": null,
            "left": null,
            "margin": null,
            "max_height": null,
            "max_width": null,
            "min_height": null,
            "min_width": null,
            "object_fit": null,
            "object_position": null,
            "order": null,
            "overflow": null,
            "overflow_x": null,
            "overflow_y": null,
            "padding": null,
            "right": null,
            "top": null,
            "visibility": null,
            "width": null
          }
        },
        "0e75025c407d4b9bb68771211aff92b4": {
          "model_module": "@jupyter-widgets/controls",
          "model_name": "DescriptionStyleModel",
          "model_module_version": "1.5.0",
          "state": {
            "_model_module": "@jupyter-widgets/controls",
            "_model_module_version": "1.5.0",
            "_model_name": "DescriptionStyleModel",
            "_view_count": null,
            "_view_module": "@jupyter-widgets/base",
            "_view_module_version": "1.2.0",
            "_view_name": "StyleView",
            "description_width": ""
          }
        },
        "61c50cdfeb73446eaa75f83c2332cdcf": {
          "model_module": "@jupyter-widgets/base",
          "model_name": "LayoutModel",
          "model_module_version": "1.2.0",
          "state": {
            "_model_module": "@jupyter-widgets/base",
            "_model_module_version": "1.2.0",
            "_model_name": "LayoutModel",
            "_view_count": null,
            "_view_module": "@jupyter-widgets/base",
            "_view_module_version": "1.2.0",
            "_view_name": "LayoutView",
            "align_content": null,
            "align_items": null,
            "align_self": null,
            "border": null,
            "bottom": null,
            "display": null,
            "flex": null,
            "flex_flow": null,
            "grid_area": null,
            "grid_auto_columns": null,
            "grid_auto_flow": null,
            "grid_auto_rows": null,
            "grid_column": null,
            "grid_gap": null,
            "grid_row": null,
            "grid_template_areas": null,
            "grid_template_columns": null,
            "grid_template_rows": null,
            "height": null,
            "justify_content": null,
            "justify_items": null,
            "left": null,
            "margin": null,
            "max_height": null,
            "max_width": null,
            "min_height": null,
            "min_width": null,
            "object_fit": null,
            "object_position": null,
            "order": null,
            "overflow": null,
            "overflow_x": null,
            "overflow_y": null,
            "padding": null,
            "right": null,
            "top": null,
            "visibility": null,
            "width": null
          }
        },
        "1049c0e224c34d4e9f7c467103af525c": {
          "model_module": "@jupyter-widgets/controls",
          "model_name": "ProgressStyleModel",
          "model_module_version": "1.5.0",
          "state": {
            "_model_module": "@jupyter-widgets/controls",
            "_model_module_version": "1.5.0",
            "_model_name": "ProgressStyleModel",
            "_view_count": null,
            "_view_module": "@jupyter-widgets/base",
            "_view_module_version": "1.2.0",
            "_view_name": "StyleView",
            "bar_color": null,
            "description_width": ""
          }
        },
        "852e8912744a48c8b58f5a57bab46ffd": {
          "model_module": "@jupyter-widgets/base",
          "model_name": "LayoutModel",
          "model_module_version": "1.2.0",
          "state": {
            "_model_module": "@jupyter-widgets/base",
            "_model_module_version": "1.2.0",
            "_model_name": "LayoutModel",
            "_view_count": null,
            "_view_module": "@jupyter-widgets/base",
            "_view_module_version": "1.2.0",
            "_view_name": "LayoutView",
            "align_content": null,
            "align_items": null,
            "align_self": null,
            "border": null,
            "bottom": null,
            "display": null,
            "flex": null,
            "flex_flow": null,
            "grid_area": null,
            "grid_auto_columns": null,
            "grid_auto_flow": null,
            "grid_auto_rows": null,
            "grid_column": null,
            "grid_gap": null,
            "grid_row": null,
            "grid_template_areas": null,
            "grid_template_columns": null,
            "grid_template_rows": null,
            "height": null,
            "justify_content": null,
            "justify_items": null,
            "left": null,
            "margin": null,
            "max_height": null,
            "max_width": null,
            "min_height": null,
            "min_width": null,
            "object_fit": null,
            "object_position": null,
            "order": null,
            "overflow": null,
            "overflow_x": null,
            "overflow_y": null,
            "padding": null,
            "right": null,
            "top": null,
            "visibility": null,
            "width": null
          }
        },
        "36a4a484a2ec4808a23ab29dba59466f": {
          "model_module": "@jupyter-widgets/controls",
          "model_name": "DescriptionStyleModel",
          "model_module_version": "1.5.0",
          "state": {
            "_model_module": "@jupyter-widgets/controls",
            "_model_module_version": "1.5.0",
            "_model_name": "DescriptionStyleModel",
            "_view_count": null,
            "_view_module": "@jupyter-widgets/base",
            "_view_module_version": "1.2.0",
            "_view_name": "StyleView",
            "description_width": ""
          }
        },
        "3c00346fe52f49f18cc0a9b55d5f9da5": {
          "model_module": "@jupyter-widgets/controls",
          "model_name": "HBoxModel",
          "model_module_version": "1.5.0",
          "state": {
            "_dom_classes": [],
            "_model_module": "@jupyter-widgets/controls",
            "_model_module_version": "1.5.0",
            "_model_name": "HBoxModel",
            "_view_count": null,
            "_view_module": "@jupyter-widgets/controls",
            "_view_module_version": "1.5.0",
            "_view_name": "HBoxView",
            "box_style": "",
            "children": [
              "IPY_MODEL_5834180b2b2849778505f23d1a807459",
              "IPY_MODEL_dc9df214bdd94b51a25a8ef564d9c648",
              "IPY_MODEL_c58fa57eaa99468eb7c125a4faaa0a10"
            ],
            "layout": "IPY_MODEL_93c8093c86904c3193567f292453521a"
          }
        },
        "5834180b2b2849778505f23d1a807459": {
          "model_module": "@jupyter-widgets/controls",
          "model_name": "HTMLModel",
          "model_module_version": "1.5.0",
          "state": {
            "_dom_classes": [],
            "_model_module": "@jupyter-widgets/controls",
            "_model_module_version": "1.5.0",
            "_model_name": "HTMLModel",
            "_view_count": null,
            "_view_module": "@jupyter-widgets/controls",
            "_view_module_version": "1.5.0",
            "_view_name": "HTMLView",
            "description": "",
            "description_tooltip": null,
            "layout": "IPY_MODEL_ffef8bfe49704f6bade61c7f37070131",
            "placeholder": "​",
            "style": "IPY_MODEL_49859c24f52f4a129ee5ec3647a83bf6",
            "value": "100%"
          }
        },
        "dc9df214bdd94b51a25a8ef564d9c648": {
          "model_module": "@jupyter-widgets/controls",
          "model_name": "FloatProgressModel",
          "model_module_version": "1.5.0",
          "state": {
            "_dom_classes": [],
            "_model_module": "@jupyter-widgets/controls",
            "_model_module_version": "1.5.0",
            "_model_name": "FloatProgressModel",
            "_view_count": null,
            "_view_module": "@jupyter-widgets/controls",
            "_view_module_version": "1.5.0",
            "_view_name": "ProgressView",
            "bar_style": "success",
            "description": "",
            "description_tooltip": null,
            "layout": "IPY_MODEL_e63bcb326c354304a130e21a7e1fb1aa",
            "max": 5,
            "min": 0,
            "orientation": "horizontal",
            "style": "IPY_MODEL_f30759f004f74325be49bd5ac54d004a",
            "value": 5
          }
        },
        "c58fa57eaa99468eb7c125a4faaa0a10": {
          "model_module": "@jupyter-widgets/controls",
          "model_name": "HTMLModel",
          "model_module_version": "1.5.0",
          "state": {
            "_dom_classes": [],
            "_model_module": "@jupyter-widgets/controls",
            "_model_module_version": "1.5.0",
            "_model_name": "HTMLModel",
            "_view_count": null,
            "_view_module": "@jupyter-widgets/controls",
            "_view_module_version": "1.5.0",
            "_view_name": "HTMLView",
            "description": "",
            "description_tooltip": null,
            "layout": "IPY_MODEL_2808d74bfd814387ba221658f998b82b",
            "placeholder": "​",
            "style": "IPY_MODEL_a8f081abed6b431bb5fdc9725651c882",
            "value": " 5/5 [00:01&lt;00:00,  2.65ba/s]"
          }
        },
        "93c8093c86904c3193567f292453521a": {
          "model_module": "@jupyter-widgets/base",
          "model_name": "LayoutModel",
          "model_module_version": "1.2.0",
          "state": {
            "_model_module": "@jupyter-widgets/base",
            "_model_module_version": "1.2.0",
            "_model_name": "LayoutModel",
            "_view_count": null,
            "_view_module": "@jupyter-widgets/base",
            "_view_module_version": "1.2.0",
            "_view_name": "LayoutView",
            "align_content": null,
            "align_items": null,
            "align_self": null,
            "border": null,
            "bottom": null,
            "display": null,
            "flex": null,
            "flex_flow": null,
            "grid_area": null,
            "grid_auto_columns": null,
            "grid_auto_flow": null,
            "grid_auto_rows": null,
            "grid_column": null,
            "grid_gap": null,
            "grid_row": null,
            "grid_template_areas": null,
            "grid_template_columns": null,
            "grid_template_rows": null,
            "height": null,
            "justify_content": null,
            "justify_items": null,
            "left": null,
            "margin": null,
            "max_height": null,
            "max_width": null,
            "min_height": null,
            "min_width": null,
            "object_fit": null,
            "object_position": null,
            "order": null,
            "overflow": null,
            "overflow_x": null,
            "overflow_y": null,
            "padding": null,
            "right": null,
            "top": null,
            "visibility": null,
            "width": null
          }
        },
        "ffef8bfe49704f6bade61c7f37070131": {
          "model_module": "@jupyter-widgets/base",
          "model_name": "LayoutModel",
          "model_module_version": "1.2.0",
          "state": {
            "_model_module": "@jupyter-widgets/base",
            "_model_module_version": "1.2.0",
            "_model_name": "LayoutModel",
            "_view_count": null,
            "_view_module": "@jupyter-widgets/base",
            "_view_module_version": "1.2.0",
            "_view_name": "LayoutView",
            "align_content": null,
            "align_items": null,
            "align_self": null,
            "border": null,
            "bottom": null,
            "display": null,
            "flex": null,
            "flex_flow": null,
            "grid_area": null,
            "grid_auto_columns": null,
            "grid_auto_flow": null,
            "grid_auto_rows": null,
            "grid_column": null,
            "grid_gap": null,
            "grid_row": null,
            "grid_template_areas": null,
            "grid_template_columns": null,
            "grid_template_rows": null,
            "height": null,
            "justify_content": null,
            "justify_items": null,
            "left": null,
            "margin": null,
            "max_height": null,
            "max_width": null,
            "min_height": null,
            "min_width": null,
            "object_fit": null,
            "object_position": null,
            "order": null,
            "overflow": null,
            "overflow_x": null,
            "overflow_y": null,
            "padding": null,
            "right": null,
            "top": null,
            "visibility": null,
            "width": null
          }
        },
        "49859c24f52f4a129ee5ec3647a83bf6": {
          "model_module": "@jupyter-widgets/controls",
          "model_name": "DescriptionStyleModel",
          "model_module_version": "1.5.0",
          "state": {
            "_model_module": "@jupyter-widgets/controls",
            "_model_module_version": "1.5.0",
            "_model_name": "DescriptionStyleModel",
            "_view_count": null,
            "_view_module": "@jupyter-widgets/base",
            "_view_module_version": "1.2.0",
            "_view_name": "StyleView",
            "description_width": ""
          }
        },
        "e63bcb326c354304a130e21a7e1fb1aa": {
          "model_module": "@jupyter-widgets/base",
          "model_name": "LayoutModel",
          "model_module_version": "1.2.0",
          "state": {
            "_model_module": "@jupyter-widgets/base",
            "_model_module_version": "1.2.0",
            "_model_name": "LayoutModel",
            "_view_count": null,
            "_view_module": "@jupyter-widgets/base",
            "_view_module_version": "1.2.0",
            "_view_name": "LayoutView",
            "align_content": null,
            "align_items": null,
            "align_self": null,
            "border": null,
            "bottom": null,
            "display": null,
            "flex": null,
            "flex_flow": null,
            "grid_area": null,
            "grid_auto_columns": null,
            "grid_auto_flow": null,
            "grid_auto_rows": null,
            "grid_column": null,
            "grid_gap": null,
            "grid_row": null,
            "grid_template_areas": null,
            "grid_template_columns": null,
            "grid_template_rows": null,
            "height": null,
            "justify_content": null,
            "justify_items": null,
            "left": null,
            "margin": null,
            "max_height": null,
            "max_width": null,
            "min_height": null,
            "min_width": null,
            "object_fit": null,
            "object_position": null,
            "order": null,
            "overflow": null,
            "overflow_x": null,
            "overflow_y": null,
            "padding": null,
            "right": null,
            "top": null,
            "visibility": null,
            "width": null
          }
        },
        "f30759f004f74325be49bd5ac54d004a": {
          "model_module": "@jupyter-widgets/controls",
          "model_name": "ProgressStyleModel",
          "model_module_version": "1.5.0",
          "state": {
            "_model_module": "@jupyter-widgets/controls",
            "_model_module_version": "1.5.0",
            "_model_name": "ProgressStyleModel",
            "_view_count": null,
            "_view_module": "@jupyter-widgets/base",
            "_view_module_version": "1.2.0",
            "_view_name": "StyleView",
            "bar_color": null,
            "description_width": ""
          }
        },
        "2808d74bfd814387ba221658f998b82b": {
          "model_module": "@jupyter-widgets/base",
          "model_name": "LayoutModel",
          "model_module_version": "1.2.0",
          "state": {
            "_model_module": "@jupyter-widgets/base",
            "_model_module_version": "1.2.0",
            "_model_name": "LayoutModel",
            "_view_count": null,
            "_view_module": "@jupyter-widgets/base",
            "_view_module_version": "1.2.0",
            "_view_name": "LayoutView",
            "align_content": null,
            "align_items": null,
            "align_self": null,
            "border": null,
            "bottom": null,
            "display": null,
            "flex": null,
            "flex_flow": null,
            "grid_area": null,
            "grid_auto_columns": null,
            "grid_auto_flow": null,
            "grid_auto_rows": null,
            "grid_column": null,
            "grid_gap": null,
            "grid_row": null,
            "grid_template_areas": null,
            "grid_template_columns": null,
            "grid_template_rows": null,
            "height": null,
            "justify_content": null,
            "justify_items": null,
            "left": null,
            "margin": null,
            "max_height": null,
            "max_width": null,
            "min_height": null,
            "min_width": null,
            "object_fit": null,
            "object_position": null,
            "order": null,
            "overflow": null,
            "overflow_x": null,
            "overflow_y": null,
            "padding": null,
            "right": null,
            "top": null,
            "visibility": null,
            "width": null
          }
        },
        "a8f081abed6b431bb5fdc9725651c882": {
          "model_module": "@jupyter-widgets/controls",
          "model_name": "DescriptionStyleModel",
          "model_module_version": "1.5.0",
          "state": {
            "_model_module": "@jupyter-widgets/controls",
            "_model_module_version": "1.5.0",
            "_model_name": "DescriptionStyleModel",
            "_view_count": null,
            "_view_module": "@jupyter-widgets/base",
            "_view_module_version": "1.2.0",
            "_view_name": "StyleView",
            "description_width": ""
          }
        },
        "df9ade56e6064b13a3c62c1dc1f5db32": {
          "model_module": "@jupyter-widgets/controls",
          "model_name": "HBoxModel",
          "model_module_version": "1.5.0",
          "state": {
            "_dom_classes": [],
            "_model_module": "@jupyter-widgets/controls",
            "_model_module_version": "1.5.0",
            "_model_name": "HBoxModel",
            "_view_count": null,
            "_view_module": "@jupyter-widgets/controls",
            "_view_module_version": "1.5.0",
            "_view_name": "HBoxView",
            "box_style": "",
            "children": [
              "IPY_MODEL_3ae791f6c2d84906916bffea7c0ab6c6",
              "IPY_MODEL_4c5da34becc7487eba7bf352ddabc6a4",
              "IPY_MODEL_3763e16b0a0143e98be50981b4bafe9c"
            ],
            "layout": "IPY_MODEL_709625e2580c4526af5fc63b8f088fa5"
          }
        },
        "3ae791f6c2d84906916bffea7c0ab6c6": {
          "model_module": "@jupyter-widgets/controls",
          "model_name": "HTMLModel",
          "model_module_version": "1.5.0",
          "state": {
            "_dom_classes": [],
            "_model_module": "@jupyter-widgets/controls",
            "_model_module_version": "1.5.0",
            "_model_name": "HTMLModel",
            "_view_count": null,
            "_view_module": "@jupyter-widgets/controls",
            "_view_module_version": "1.5.0",
            "_view_name": "HTMLView",
            "description": "",
            "description_tooltip": null,
            "layout": "IPY_MODEL_20e5029a0c9841e182ff820c433e2101",
            "placeholder": "​",
            "style": "IPY_MODEL_961c8b48227340d2b334309e4eec6733",
            "value": "100%"
          }
        },
        "4c5da34becc7487eba7bf352ddabc6a4": {
          "model_module": "@jupyter-widgets/controls",
          "model_name": "FloatProgressModel",
          "model_module_version": "1.5.0",
          "state": {
            "_dom_classes": [],
            "_model_module": "@jupyter-widgets/controls",
            "_model_module_version": "1.5.0",
            "_model_name": "FloatProgressModel",
            "_view_count": null,
            "_view_module": "@jupyter-widgets/controls",
            "_view_module_version": "1.5.0",
            "_view_name": "ProgressView",
            "bar_style": "success",
            "description": "",
            "description_tooltip": null,
            "layout": "IPY_MODEL_65b22516c8164347bf06b930799cf574",
            "max": 5,
            "min": 0,
            "orientation": "horizontal",
            "style": "IPY_MODEL_425db6854e014a929e5d1440f70977f1",
            "value": 5
          }
        },
        "3763e16b0a0143e98be50981b4bafe9c": {
          "model_module": "@jupyter-widgets/controls",
          "model_name": "HTMLModel",
          "model_module_version": "1.5.0",
          "state": {
            "_dom_classes": [],
            "_model_module": "@jupyter-widgets/controls",
            "_model_module_version": "1.5.0",
            "_model_name": "HTMLModel",
            "_view_count": null,
            "_view_module": "@jupyter-widgets/controls",
            "_view_module_version": "1.5.0",
            "_view_name": "HTMLView",
            "description": "",
            "description_tooltip": null,
            "layout": "IPY_MODEL_131f8bb5fd2748e98e75cd8db4aea9fe",
            "placeholder": "​",
            "style": "IPY_MODEL_c0c8206faee94309b7ab12595cedd800",
            "value": " 5/5 [00:00&lt;00:00,  4.64ba/s]"
          }
        },
        "709625e2580c4526af5fc63b8f088fa5": {
          "model_module": "@jupyter-widgets/base",
          "model_name": "LayoutModel",
          "model_module_version": "1.2.0",
          "state": {
            "_model_module": "@jupyter-widgets/base",
            "_model_module_version": "1.2.0",
            "_model_name": "LayoutModel",
            "_view_count": null,
            "_view_module": "@jupyter-widgets/base",
            "_view_module_version": "1.2.0",
            "_view_name": "LayoutView",
            "align_content": null,
            "align_items": null,
            "align_self": null,
            "border": null,
            "bottom": null,
            "display": null,
            "flex": null,
            "flex_flow": null,
            "grid_area": null,
            "grid_auto_columns": null,
            "grid_auto_flow": null,
            "grid_auto_rows": null,
            "grid_column": null,
            "grid_gap": null,
            "grid_row": null,
            "grid_template_areas": null,
            "grid_template_columns": null,
            "grid_template_rows": null,
            "height": null,
            "justify_content": null,
            "justify_items": null,
            "left": null,
            "margin": null,
            "max_height": null,
            "max_width": null,
            "min_height": null,
            "min_width": null,
            "object_fit": null,
            "object_position": null,
            "order": null,
            "overflow": null,
            "overflow_x": null,
            "overflow_y": null,
            "padding": null,
            "right": null,
            "top": null,
            "visibility": null,
            "width": null
          }
        },
        "20e5029a0c9841e182ff820c433e2101": {
          "model_module": "@jupyter-widgets/base",
          "model_name": "LayoutModel",
          "model_module_version": "1.2.0",
          "state": {
            "_model_module": "@jupyter-widgets/base",
            "_model_module_version": "1.2.0",
            "_model_name": "LayoutModel",
            "_view_count": null,
            "_view_module": "@jupyter-widgets/base",
            "_view_module_version": "1.2.0",
            "_view_name": "LayoutView",
            "align_content": null,
            "align_items": null,
            "align_self": null,
            "border": null,
            "bottom": null,
            "display": null,
            "flex": null,
            "flex_flow": null,
            "grid_area": null,
            "grid_auto_columns": null,
            "grid_auto_flow": null,
            "grid_auto_rows": null,
            "grid_column": null,
            "grid_gap": null,
            "grid_row": null,
            "grid_template_areas": null,
            "grid_template_columns": null,
            "grid_template_rows": null,
            "height": null,
            "justify_content": null,
            "justify_items": null,
            "left": null,
            "margin": null,
            "max_height": null,
            "max_width": null,
            "min_height": null,
            "min_width": null,
            "object_fit": null,
            "object_position": null,
            "order": null,
            "overflow": null,
            "overflow_x": null,
            "overflow_y": null,
            "padding": null,
            "right": null,
            "top": null,
            "visibility": null,
            "width": null
          }
        },
        "961c8b48227340d2b334309e4eec6733": {
          "model_module": "@jupyter-widgets/controls",
          "model_name": "DescriptionStyleModel",
          "model_module_version": "1.5.0",
          "state": {
            "_model_module": "@jupyter-widgets/controls",
            "_model_module_version": "1.5.0",
            "_model_name": "DescriptionStyleModel",
            "_view_count": null,
            "_view_module": "@jupyter-widgets/base",
            "_view_module_version": "1.2.0",
            "_view_name": "StyleView",
            "description_width": ""
          }
        },
        "65b22516c8164347bf06b930799cf574": {
          "model_module": "@jupyter-widgets/base",
          "model_name": "LayoutModel",
          "model_module_version": "1.2.0",
          "state": {
            "_model_module": "@jupyter-widgets/base",
            "_model_module_version": "1.2.0",
            "_model_name": "LayoutModel",
            "_view_count": null,
            "_view_module": "@jupyter-widgets/base",
            "_view_module_version": "1.2.0",
            "_view_name": "LayoutView",
            "align_content": null,
            "align_items": null,
            "align_self": null,
            "border": null,
            "bottom": null,
            "display": null,
            "flex": null,
            "flex_flow": null,
            "grid_area": null,
            "grid_auto_columns": null,
            "grid_auto_flow": null,
            "grid_auto_rows": null,
            "grid_column": null,
            "grid_gap": null,
            "grid_row": null,
            "grid_template_areas": null,
            "grid_template_columns": null,
            "grid_template_rows": null,
            "height": null,
            "justify_content": null,
            "justify_items": null,
            "left": null,
            "margin": null,
            "max_height": null,
            "max_width": null,
            "min_height": null,
            "min_width": null,
            "object_fit": null,
            "object_position": null,
            "order": null,
            "overflow": null,
            "overflow_x": null,
            "overflow_y": null,
            "padding": null,
            "right": null,
            "top": null,
            "visibility": null,
            "width": null
          }
        },
        "425db6854e014a929e5d1440f70977f1": {
          "model_module": "@jupyter-widgets/controls",
          "model_name": "ProgressStyleModel",
          "model_module_version": "1.5.0",
          "state": {
            "_model_module": "@jupyter-widgets/controls",
            "_model_module_version": "1.5.0",
            "_model_name": "ProgressStyleModel",
            "_view_count": null,
            "_view_module": "@jupyter-widgets/base",
            "_view_module_version": "1.2.0",
            "_view_name": "StyleView",
            "bar_color": null,
            "description_width": ""
          }
        },
        "131f8bb5fd2748e98e75cd8db4aea9fe": {
          "model_module": "@jupyter-widgets/base",
          "model_name": "LayoutModel",
          "model_module_version": "1.2.0",
          "state": {
            "_model_module": "@jupyter-widgets/base",
            "_model_module_version": "1.2.0",
            "_model_name": "LayoutModel",
            "_view_count": null,
            "_view_module": "@jupyter-widgets/base",
            "_view_module_version": "1.2.0",
            "_view_name": "LayoutView",
            "align_content": null,
            "align_items": null,
            "align_self": null,
            "border": null,
            "bottom": null,
            "display": null,
            "flex": null,
            "flex_flow": null,
            "grid_area": null,
            "grid_auto_columns": null,
            "grid_auto_flow": null,
            "grid_auto_rows": null,
            "grid_column": null,
            "grid_gap": null,
            "grid_row": null,
            "grid_template_areas": null,
            "grid_template_columns": null,
            "grid_template_rows": null,
            "height": null,
            "justify_content": null,
            "justify_items": null,
            "left": null,
            "margin": null,
            "max_height": null,
            "max_width": null,
            "min_height": null,
            "min_width": null,
            "object_fit": null,
            "object_position": null,
            "order": null,
            "overflow": null,
            "overflow_x": null,
            "overflow_y": null,
            "padding": null,
            "right": null,
            "top": null,
            "visibility": null,
            "width": null
          }
        },
        "c0c8206faee94309b7ab12595cedd800": {
          "model_module": "@jupyter-widgets/controls",
          "model_name": "DescriptionStyleModel",
          "model_module_version": "1.5.0",
          "state": {
            "_model_module": "@jupyter-widgets/controls",
            "_model_module_version": "1.5.0",
            "_model_name": "DescriptionStyleModel",
            "_view_count": null,
            "_view_module": "@jupyter-widgets/base",
            "_view_module_version": "1.2.0",
            "_view_name": "StyleView",
            "description_width": ""
          }
        }
      }
    },
    "accelerator": "GPU",
    "gpuClass": "standard"
  },
  "cells": [
    {
      "cell_type": "markdown",
      "metadata": {
        "id": "view-in-github",
        "colab_type": "text"
      },
      "source": [
        "<a href=\"https://colab.research.google.com/github/reggiebain/data-projects/blob/main/Movie_Review_Classifier_Deep_Learning.ipynb\" target=\"_parent\"><img src=\"https://colab.research.google.com/assets/colab-badge.svg\" alt=\"Open In Colab\"/></a>"
      ]
    },
    {
      "cell_type": "markdown",
      "source": [
        "# Predicting Certified Fresh vs. Fresh vs. Rotten\n",
        "- In this notebook, we use deep learning NLP techniques to predict the ordinal ratings of movies on Rotten Tomatoes.\n",
        "- Our task will be to predict the \"review type\" meaning Fresh, or Rotten. Here, we will focus on critic reviews. NOTE: Critic review does not necessarily dictate the tomatometers status overall review.\n",
        "- In a separate project, we focused on data from audience reviews and found a highly successful classifier. \n",
        "- We can train a pre-trained NLP classifier on the sentiment of critic reviews using the \"review_type\" and \"review_content\" features"
      ],
      "metadata": {
        "id": "9O1M6EVXdJEG"
      }
    },
    {
      "cell_type": "code",
      "source": [
        "from google.colab import drive\n",
        "drive.mount('/content/drive')"
      ],
      "metadata": {
        "colab": {
          "base_uri": "https://localhost:8080/"
        },
        "id": "oXUmVMssdQ2l",
        "outputId": "553e4144-912b-42b9-c11b-4158256a3410"
      },
      "execution_count": 1,
      "outputs": [
        {
          "output_type": "stream",
          "name": "stdout",
          "text": [
            "Mounted at /content/drive\n"
          ]
        }
      ]
    },
    {
      "cell_type": "code",
      "source": [
        "# Import dependencies\n",
        "import pandas as pd\n",
        "import seaborn as sns\n",
        "import matplotlib.pyplot as plt\n",
        "import matplotlib as mpl\n",
        "import numpy as np\n",
        "import seaborn as sns\n",
        "%matplotlib inline\n",
        "import statistics as stats\n",
        "\n",
        "import os\n",
        "import re\n",
        "import shutil\n",
        "import string\n",
        "import tensorflow as tf\n",
        "from tensorflow import keras\n",
        "\n",
        "from sklearn import metrics\n",
        "from sklearn.metrics import f1_score\n",
        "from sklearn.metrics import classification_report\n",
        "\n",
        "import nltk\n",
        "nltk.download('stopwords')"
      ],
      "metadata": {
        "id": "6E5ZAUeddxPq",
        "colab": {
          "base_uri": "https://localhost:8080/"
        },
        "outputId": "706fbdd2-131a-46e0-fc17-17eefdd86b3e"
      },
      "execution_count": 2,
      "outputs": [
        {
          "output_type": "stream",
          "name": "stderr",
          "text": [
            "[nltk_data] Downloading package stopwords to /root/nltk_data...\n",
            "[nltk_data]   Unzipping corpora/stopwords.zip.\n"
          ]
        },
        {
          "output_type": "execute_result",
          "data": {
            "text/plain": [
              "True"
            ]
          },
          "metadata": {},
          "execution_count": 2
        }
      ]
    },
    {
      "cell_type": "code",
      "source": [
        "%matplotlib inline\n",
        "import matplotlib.image as mpimg\n",
        "import matplotlib.pyplot as plt\n",
        "plt.style.use('ggplot')\n",
        "\n",
        "def plot_history(history):\n",
        "    acc = history.history['accuracy']\n",
        "    val_acc = history.history['val_accuracy']\n",
        "    loss = history.history['loss']\n",
        "    val_loss = history.history['val_loss']\n",
        "    x = range(1, len(acc) + 1)\n",
        "\n",
        "    plt.figure(figsize=(12, 5))\n",
        "    plt.subplot(1, 2, 1)\n",
        "    plt.plot(x, acc, 'b', label='Training acc')\n",
        "    plt.plot(x, val_acc, 'r', label='Validation acc')\n",
        "    plt.title('Training and validation accuracy')\n",
        "    plt.legend()\n",
        "    plt.subplot(1, 2, 2)\n",
        "    plt.plot(x, loss, 'b', label='Training loss')\n",
        "    plt.plot(x, val_loss, 'r', label='Validation loss')\n",
        "    plt.title('Training and validation loss')\n",
        "    plt.legend()"
      ],
      "metadata": {
        "id": "sRK-4quxkxP_"
      },
      "execution_count": 3,
      "outputs": []
    },
    {
      "cell_type": "code",
      "source": [
        "# Read in critic reviews of movies\n",
        "critics = pd.read_csv('/content/drive/MyDrive/Data-Science/rotten_tomatoes_critic_reviews_50k.csv')\n",
        "movies = pd.read_csv('/content/drive/MyDrive/Data-Science/rotten_tomatoes_movies.csv')\n",
        "critics.head(1)"
      ],
      "metadata": {
        "colab": {
          "base_uri": "https://localhost:8080/",
          "height": 81
        },
        "id": "_EuXn6b9e38n",
        "outputId": "85773f55-a483-49d4-c8e8-dacb0c4feb06"
      },
      "execution_count": 4,
      "outputs": [
        {
          "output_type": "execute_result",
          "data": {
            "text/plain": [
              "  rotten_tomatoes_link      critic_name  top_critic  publisher_name  \\\n",
              "0            m/0814255  Andrew L. Urban       False  Urban Cinefile   \n",
              "\n",
              "  review_type review_score review_date  \\\n",
              "0       Fresh          NaN  2010-02-06   \n",
              "\n",
              "                                      review_content  \n",
              "0  A fantasy adventure that fuses Greek mythology...  "
            ],
            "text/html": [
              "\n",
              "  <div id=\"df-4ed48ffc-cb89-4ca5-90a8-7ba7464fe0c3\">\n",
              "    <div class=\"colab-df-container\">\n",
              "      <div>\n",
              "<style scoped>\n",
              "    .dataframe tbody tr th:only-of-type {\n",
              "        vertical-align: middle;\n",
              "    }\n",
              "\n",
              "    .dataframe tbody tr th {\n",
              "        vertical-align: top;\n",
              "    }\n",
              "\n",
              "    .dataframe thead th {\n",
              "        text-align: right;\n",
              "    }\n",
              "</style>\n",
              "<table border=\"1\" class=\"dataframe\">\n",
              "  <thead>\n",
              "    <tr style=\"text-align: right;\">\n",
              "      <th></th>\n",
              "      <th>rotten_tomatoes_link</th>\n",
              "      <th>critic_name</th>\n",
              "      <th>top_critic</th>\n",
              "      <th>publisher_name</th>\n",
              "      <th>review_type</th>\n",
              "      <th>review_score</th>\n",
              "      <th>review_date</th>\n",
              "      <th>review_content</th>\n",
              "    </tr>\n",
              "  </thead>\n",
              "  <tbody>\n",
              "    <tr>\n",
              "      <th>0</th>\n",
              "      <td>m/0814255</td>\n",
              "      <td>Andrew L. Urban</td>\n",
              "      <td>False</td>\n",
              "      <td>Urban Cinefile</td>\n",
              "      <td>Fresh</td>\n",
              "      <td>NaN</td>\n",
              "      <td>2010-02-06</td>\n",
              "      <td>A fantasy adventure that fuses Greek mythology...</td>\n",
              "    </tr>\n",
              "  </tbody>\n",
              "</table>\n",
              "</div>\n",
              "      <button class=\"colab-df-convert\" onclick=\"convertToInteractive('df-4ed48ffc-cb89-4ca5-90a8-7ba7464fe0c3')\"\n",
              "              title=\"Convert this dataframe to an interactive table.\"\n",
              "              style=\"display:none;\">\n",
              "        \n",
              "  <svg xmlns=\"http://www.w3.org/2000/svg\" height=\"24px\"viewBox=\"0 0 24 24\"\n",
              "       width=\"24px\">\n",
              "    <path d=\"M0 0h24v24H0V0z\" fill=\"none\"/>\n",
              "    <path d=\"M18.56 5.44l.94 2.06.94-2.06 2.06-.94-2.06-.94-.94-2.06-.94 2.06-2.06.94zm-11 1L8.5 8.5l.94-2.06 2.06-.94-2.06-.94L8.5 2.5l-.94 2.06-2.06.94zm10 10l.94 2.06.94-2.06 2.06-.94-2.06-.94-.94-2.06-.94 2.06-2.06.94z\"/><path d=\"M17.41 7.96l-1.37-1.37c-.4-.4-.92-.59-1.43-.59-.52 0-1.04.2-1.43.59L10.3 9.45l-7.72 7.72c-.78.78-.78 2.05 0 2.83L4 21.41c.39.39.9.59 1.41.59.51 0 1.02-.2 1.41-.59l7.78-7.78 2.81-2.81c.8-.78.8-2.07 0-2.86zM5.41 20L4 18.59l7.72-7.72 1.47 1.35L5.41 20z\"/>\n",
              "  </svg>\n",
              "      </button>\n",
              "      \n",
              "  <style>\n",
              "    .colab-df-container {\n",
              "      display:flex;\n",
              "      flex-wrap:wrap;\n",
              "      gap: 12px;\n",
              "    }\n",
              "\n",
              "    .colab-df-convert {\n",
              "      background-color: #E8F0FE;\n",
              "      border: none;\n",
              "      border-radius: 50%;\n",
              "      cursor: pointer;\n",
              "      display: none;\n",
              "      fill: #1967D2;\n",
              "      height: 32px;\n",
              "      padding: 0 0 0 0;\n",
              "      width: 32px;\n",
              "    }\n",
              "\n",
              "    .colab-df-convert:hover {\n",
              "      background-color: #E2EBFA;\n",
              "      box-shadow: 0px 1px 2px rgba(60, 64, 67, 0.3), 0px 1px 3px 1px rgba(60, 64, 67, 0.15);\n",
              "      fill: #174EA6;\n",
              "    }\n",
              "\n",
              "    [theme=dark] .colab-df-convert {\n",
              "      background-color: #3B4455;\n",
              "      fill: #D2E3FC;\n",
              "    }\n",
              "\n",
              "    [theme=dark] .colab-df-convert:hover {\n",
              "      background-color: #434B5C;\n",
              "      box-shadow: 0px 1px 3px 1px rgba(0, 0, 0, 0.15);\n",
              "      filter: drop-shadow(0px 1px 2px rgba(0, 0, 0, 0.3));\n",
              "      fill: #FFFFFF;\n",
              "    }\n",
              "  </style>\n",
              "\n",
              "      <script>\n",
              "        const buttonEl =\n",
              "          document.querySelector('#df-4ed48ffc-cb89-4ca5-90a8-7ba7464fe0c3 button.colab-df-convert');\n",
              "        buttonEl.style.display =\n",
              "          google.colab.kernel.accessAllowed ? 'block' : 'none';\n",
              "\n",
              "        async function convertToInteractive(key) {\n",
              "          const element = document.querySelector('#df-4ed48ffc-cb89-4ca5-90a8-7ba7464fe0c3');\n",
              "          const dataTable =\n",
              "            await google.colab.kernel.invokeFunction('convertToInteractive',\n",
              "                                                     [key], {});\n",
              "          if (!dataTable) return;\n",
              "\n",
              "          const docLinkHtml = 'Like what you see? Visit the ' +\n",
              "            '<a target=\"_blank\" href=https://colab.research.google.com/notebooks/data_table.ipynb>data table notebook</a>'\n",
              "            + ' to learn more about interactive tables.';\n",
              "          element.innerHTML = '';\n",
              "          dataTable['output_type'] = 'display_data';\n",
              "          await google.colab.output.renderOutput(dataTable, element);\n",
              "          const docLink = document.createElement('div');\n",
              "          docLink.innerHTML = docLinkHtml;\n",
              "          element.appendChild(docLink);\n",
              "        }\n",
              "      </script>\n",
              "    </div>\n",
              "  </div>\n",
              "  "
            ]
          },
          "metadata": {},
          "execution_count": 4
        }
      ]
    },
    {
      "cell_type": "code",
      "source": [
        "# Merge data sets to get movie title and tomatometer_status (which is our target).\n",
        "merged = pd.merge(critics, movies, on='rotten_tomatoes_link')\n",
        "data = merged[['rotten_tomatoes_link','critic_name','movie_title','review_content','review_type', 'tomatometer_status']]\n",
        "\n",
        "# Drop rows where there is no target\n",
        "data_nona = data.dropna(subset=['review_type', 'review_content'])\n",
        "data_nona.head(1)"
      ],
      "metadata": {
        "colab": {
          "base_uri": "https://localhost:8080/",
          "height": 81
        },
        "id": "vX1zX8GWfidg",
        "outputId": "d731a800-ecea-4be0-fc3a-9a0b28c1e503"
      },
      "execution_count": 5,
      "outputs": [
        {
          "output_type": "execute_result",
          "data": {
            "text/plain": [
              "  rotten_tomatoes_link      critic_name  \\\n",
              "0            m/0814255  Andrew L. Urban   \n",
              "\n",
              "                                         movie_title  \\\n",
              "0  Percy Jackson & the Olympians: The Lightning T...   \n",
              "\n",
              "                                      review_content review_type  \\\n",
              "0  A fantasy adventure that fuses Greek mythology...       Fresh   \n",
              "\n",
              "  tomatometer_status  \n",
              "0             Rotten  "
            ],
            "text/html": [
              "\n",
              "  <div id=\"df-ba4277c5-980f-4010-8e49-25d914db4983\">\n",
              "    <div class=\"colab-df-container\">\n",
              "      <div>\n",
              "<style scoped>\n",
              "    .dataframe tbody tr th:only-of-type {\n",
              "        vertical-align: middle;\n",
              "    }\n",
              "\n",
              "    .dataframe tbody tr th {\n",
              "        vertical-align: top;\n",
              "    }\n",
              "\n",
              "    .dataframe thead th {\n",
              "        text-align: right;\n",
              "    }\n",
              "</style>\n",
              "<table border=\"1\" class=\"dataframe\">\n",
              "  <thead>\n",
              "    <tr style=\"text-align: right;\">\n",
              "      <th></th>\n",
              "      <th>rotten_tomatoes_link</th>\n",
              "      <th>critic_name</th>\n",
              "      <th>movie_title</th>\n",
              "      <th>review_content</th>\n",
              "      <th>review_type</th>\n",
              "      <th>tomatometer_status</th>\n",
              "    </tr>\n",
              "  </thead>\n",
              "  <tbody>\n",
              "    <tr>\n",
              "      <th>0</th>\n",
              "      <td>m/0814255</td>\n",
              "      <td>Andrew L. Urban</td>\n",
              "      <td>Percy Jackson &amp; the Olympians: The Lightning T...</td>\n",
              "      <td>A fantasy adventure that fuses Greek mythology...</td>\n",
              "      <td>Fresh</td>\n",
              "      <td>Rotten</td>\n",
              "    </tr>\n",
              "  </tbody>\n",
              "</table>\n",
              "</div>\n",
              "      <button class=\"colab-df-convert\" onclick=\"convertToInteractive('df-ba4277c5-980f-4010-8e49-25d914db4983')\"\n",
              "              title=\"Convert this dataframe to an interactive table.\"\n",
              "              style=\"display:none;\">\n",
              "        \n",
              "  <svg xmlns=\"http://www.w3.org/2000/svg\" height=\"24px\"viewBox=\"0 0 24 24\"\n",
              "       width=\"24px\">\n",
              "    <path d=\"M0 0h24v24H0V0z\" fill=\"none\"/>\n",
              "    <path d=\"M18.56 5.44l.94 2.06.94-2.06 2.06-.94-2.06-.94-.94-2.06-.94 2.06-2.06.94zm-11 1L8.5 8.5l.94-2.06 2.06-.94-2.06-.94L8.5 2.5l-.94 2.06-2.06.94zm10 10l.94 2.06.94-2.06 2.06-.94-2.06-.94-.94-2.06-.94 2.06-2.06.94z\"/><path d=\"M17.41 7.96l-1.37-1.37c-.4-.4-.92-.59-1.43-.59-.52 0-1.04.2-1.43.59L10.3 9.45l-7.72 7.72c-.78.78-.78 2.05 0 2.83L4 21.41c.39.39.9.59 1.41.59.51 0 1.02-.2 1.41-.59l7.78-7.78 2.81-2.81c.8-.78.8-2.07 0-2.86zM5.41 20L4 18.59l7.72-7.72 1.47 1.35L5.41 20z\"/>\n",
              "  </svg>\n",
              "      </button>\n",
              "      \n",
              "  <style>\n",
              "    .colab-df-container {\n",
              "      display:flex;\n",
              "      flex-wrap:wrap;\n",
              "      gap: 12px;\n",
              "    }\n",
              "\n",
              "    .colab-df-convert {\n",
              "      background-color: #E8F0FE;\n",
              "      border: none;\n",
              "      border-radius: 50%;\n",
              "      cursor: pointer;\n",
              "      display: none;\n",
              "      fill: #1967D2;\n",
              "      height: 32px;\n",
              "      padding: 0 0 0 0;\n",
              "      width: 32px;\n",
              "    }\n",
              "\n",
              "    .colab-df-convert:hover {\n",
              "      background-color: #E2EBFA;\n",
              "      box-shadow: 0px 1px 2px rgba(60, 64, 67, 0.3), 0px 1px 3px 1px rgba(60, 64, 67, 0.15);\n",
              "      fill: #174EA6;\n",
              "    }\n",
              "\n",
              "    [theme=dark] .colab-df-convert {\n",
              "      background-color: #3B4455;\n",
              "      fill: #D2E3FC;\n",
              "    }\n",
              "\n",
              "    [theme=dark] .colab-df-convert:hover {\n",
              "      background-color: #434B5C;\n",
              "      box-shadow: 0px 1px 3px 1px rgba(0, 0, 0, 0.15);\n",
              "      filter: drop-shadow(0px 1px 2px rgba(0, 0, 0, 0.3));\n",
              "      fill: #FFFFFF;\n",
              "    }\n",
              "  </style>\n",
              "\n",
              "      <script>\n",
              "        const buttonEl =\n",
              "          document.querySelector('#df-ba4277c5-980f-4010-8e49-25d914db4983 button.colab-df-convert');\n",
              "        buttonEl.style.display =\n",
              "          google.colab.kernel.accessAllowed ? 'block' : 'none';\n",
              "\n",
              "        async function convertToInteractive(key) {\n",
              "          const element = document.querySelector('#df-ba4277c5-980f-4010-8e49-25d914db4983');\n",
              "          const dataTable =\n",
              "            await google.colab.kernel.invokeFunction('convertToInteractive',\n",
              "                                                     [key], {});\n",
              "          if (!dataTable) return;\n",
              "\n",
              "          const docLinkHtml = 'Like what you see? Visit the ' +\n",
              "            '<a target=\"_blank\" href=https://colab.research.google.com/notebooks/data_table.ipynb>data table notebook</a>'\n",
              "            + ' to learn more about interactive tables.';\n",
              "          element.innerHTML = '';\n",
              "          dataTable['output_type'] = 'display_data';\n",
              "          await google.colab.output.renderOutput(dataTable, element);\n",
              "          const docLink = document.createElement('div');\n",
              "          docLink.innerHTML = docLinkHtml;\n",
              "          element.appendChild(docLink);\n",
              "        }\n",
              "      </script>\n",
              "    </div>\n",
              "  </div>\n",
              "  "
            ]
          },
          "metadata": {},
          "execution_count": 5
        }
      ]
    },
    {
      "cell_type": "code",
      "source": [
        "# Declare color map\n",
        "colormap = mpl.cm.get_cmap('tab10')\n",
        "# Drop entries with missing data\n",
        "fig, axs = plt.subplots(1,2, figsize=(12,6))\n",
        "fig1 = axs[0].bar(x=data_nona.review_type.unique(),height=data_nona.review_type.value_counts(),color=colormap.colors)\n",
        "axs[0].set_title('Review Types by Critics')\n",
        "#axs[0].bar_label(fig1, padding = 3)\n",
        "fig2 = axs[1].bar(x=data_nona.dropna(subset=['tomatometer_status']).tomatometer_status.unique(),height=(data_nona.dropna(subset=['tomatometer_status'])).tomatometer_status.value_counts(),color=colormap.colors)\n",
        "axs[1].set_title('Tomatometer Status')\n",
        "#axs[1].bar_label(fig2, padding=3)"
      ],
      "metadata": {
        "colab": {
          "base_uri": "https://localhost:8080/",
          "height": 409
        },
        "id": "hmVgV4BBfuww",
        "outputId": "d6dfb8df-24ed-46d3-c39c-2d5cbc0ededc"
      },
      "execution_count": 6,
      "outputs": [
        {
          "output_type": "execute_result",
          "data": {
            "text/plain": [
              "Text(0.5, 1.0, 'Tomatometer Status')"
            ]
          },
          "metadata": {},
          "execution_count": 6
        },
        {
          "output_type": "display_data",
          "data": {
            "text/plain": [
              "<Figure size 864x432 with 2 Axes>"
            ],
            "image/png": "[encoded data removed]"
          },
          "metadata": {}
        }
      ]
    },
    {
      "cell_type": "code",
      "source": [
        "# Plot the distribution of lengths of the reviews (number of characters)\n",
        "# First get sentence lengths as a new column\n",
        "data_nona[\"review_length\"] = data_nona[\"review_content\"].apply(lambda x: len(x.split()))\n",
        "data_nona['review_length_char'] = data_nona['review_content'].apply(lambda x: len(x))\n",
        "fig, axs = plt.subplots(1,2, figsize=(12,6))\n",
        "sns.histplot(data_nona['review_length'], ax=axs[0], color='blue')\n",
        "axs[0].set_title('No. of Words in Review Content', fontsize=14, fontweight='bold')\n",
        "sns.histplot(data_nona['review_length_char'], ax=axs[1], color='magenta')\n",
        "axs[1].set_title('No. of Characters in Review Content', fontsize=14, fontweight='bold')\n",
        "\n",
        "# Add averages \n",
        "avg = np.mean(data_nona['review_length'])\n",
        "axs[0].axvline(avg, color='red', linestyle='dashed', linewidth=2, label='Average')\n",
        "plt.legend()\n",
        "plt.show()"
      ],
      "metadata": {
        "colab": {
          "base_uri": "https://localhost:8080/",
          "height": 640
        },
        "id": "8T4BoWuyIkqi",
        "outputId": "0d208f0c-17d5-4b36-a223-459142c33257"
      },
      "execution_count": 7,
      "outputs": [
        {
          "output_type": "stream",
          "name": "stderr",
          "text": [
            "<ipython-input-7-736c9576d5ca>:3: SettingWithCopyWarning: \n",
            "A value is trying to be set on a copy of a slice from a DataFrame.\n",
            "Try using .loc[row_indexer,col_indexer] = value instead\n",
            "\n",
            "See the caveats in the documentation: https://pandas.pydata.org/pandas-docs/stable/user_guide/indexing.html#returning-a-view-versus-a-copy\n",
            "  data_nona[\"review_length\"] = data_nona[\"review_content\"].apply(lambda x: len(x.split()))\n",
            "<ipython-input-7-736c9576d5ca>:4: SettingWithCopyWarning: \n",
            "A value is trying to be set on a copy of a slice from a DataFrame.\n",
            "Try using .loc[row_indexer,col_indexer] = value instead\n",
            "\n",
            "See the caveats in the documentation: https://pandas.pydata.org/pandas-docs/stable/user_guide/indexing.html#returning-a-view-versus-a-copy\n",
            "  data_nona['review_length_char'] = data_nona['review_content'].apply(lambda x: len(x))\n",
            "WARNING:matplotlib.legend:No handles with labels found to put in legend.\n"
          ]
        },
        {
          "output_type": "display_data",
          "data": {
            "text/plain": [
              "<Figure size 864x432 with 2 Axes>"
            ],
            "image/png": "[encoded data removed]"
          },
          "metadata": {}
        }
      ]
    },
    {
      "cell_type": "markdown",
      "source": [
        "#### Isolate training data and Preprocess\n",
        "- [X] Isolate relevant training/validation/testing data and drop na's\n",
        "- [X] Define preprocessing function\n",
        "- [X] Split into train/val/test tests with SKLearn\n",
        "- [X] Define RNN with LSTMs etc.\n",
        "- [X] Evaluate Accuracy\n",
        "\n",
        "At this stage, we have a DF with shape (41195, 8), so 41195 reviews and 8 columns most of which we don't need."
      ],
      "metadata": {
        "id": "mD1O1Xbprbb8"
      }
    },
    {
      "cell_type": "code",
      "source": [
        "data_nona.shape"
      ],
      "metadata": {
        "colab": {
          "base_uri": "https://localhost:8080/"
        },
        "id": "4jq_t1Y-tCOU",
        "outputId": "2fee5f66-e9a6-4140-f5af-a53aee308846"
      },
      "execution_count": 8,
      "outputs": [
        {
          "output_type": "execute_result",
          "data": {
            "text/plain": [
              "(41195, 8)"
            ]
          },
          "metadata": {},
          "execution_count": 8
        }
      ]
    },
    {
      "cell_type": "code",
      "source": [
        "# Isolate and Preprocess Data\n",
        "import re\n",
        "from nltk.corpus import stopwords\n",
        "\n",
        "data = data_nona[['review_content', 'review_type']]\n",
        "proc_data = pd.DataFrame()\n",
        "def preprocess(input):\n",
        "  stop_words = set(stopwords.words('english'))\n",
        "  input = re.sub('<br\\\\s*/?,\\(\\)>', ' ',input)\n",
        "  input = re.sub(\"[^a-zA-Z']\", ' ', input)\n",
        "  input = input.lower()\n",
        "  input = ' '.join([word for word in input.split() if word not in stop_words])\n",
        "  return input\n",
        "\n",
        "data[\"review_content\"] = data[\"review_content\"].apply(lambda text: preprocess(text))\n",
        "\n",
        "from collections import Counter\n",
        "cnt = Counter()\n",
        "for text in data[\"review_content\"].values:\n",
        "    for word in text.split():\n",
        "        cnt[word] += 1\n",
        "        \n",
        "cnt.most_common(10)\n",
        "\n",
        "FREQWORDS = set([w for (w, wc) in cnt.most_common(10)])\n",
        "def remove_freqwords(text):\n",
        "    \"\"\"custom function to remove the frequent words\"\"\"\n",
        "    return \" \".join([word for word in str(text).split() if word not in FREQWORDS])\n",
        "\n",
        "data['review_content'] = data['review_content'].apply(lambda text: remove_freqwords(text))\n",
        "\n",
        "\n",
        "# Preprocess review content to clean up review text\n",
        "X = data['review_content'].values\n",
        "\n",
        "# Assign 0/1 (or ordinal encoding) to review labels\n",
        "#proc_data['review_type'] = data.review_type.apply(lambda x: 0 if x=='Rotten' else 1)\n",
        "\n",
        "# Alternately, use a one hot encoding to get tuples instead of 0 or 1 (which will scale to more categories better)\n",
        "Y = pd.get_dummies(data['review_type']).values\n",
        "# Convert the data and target's to lists for tokenizing later\n",
        "#feature_text_list = proc_data['review_content'].tolist()\n",
        "#target_list = proc_data['review_type'].tolist()"
      ],
      "metadata": {
        "id": "iIEJ-c3V27DV",
        "colab": {
          "base_uri": "https://localhost:8080/"
        },
        "outputId": "80ffada3-3d48-4b08-d5a9-91d70c05d3a3"
      },
      "execution_count": 8,
      "outputs": [
        {
          "output_type": "stream",
          "name": "stderr",
          "text": [
            "<ipython-input-8-73946f8ed524>:15: SettingWithCopyWarning: \n",
            "A value is trying to be set on a copy of a slice from a DataFrame.\n",
            "Try using .loc[row_indexer,col_indexer] = value instead\n",
            "\n",
            "See the caveats in the documentation: https://pandas.pydata.org/pandas-docs/stable/user_guide/indexing.html#returning-a-view-versus-a-copy\n",
            "  data[\"review_content\"] = data[\"review_content\"].apply(lambda text: preprocess(text))\n",
            "<ipython-input-8-73946f8ed524>:30: SettingWithCopyWarning: \n",
            "A value is trying to be set on a copy of a slice from a DataFrame.\n",
            "Try using .loc[row_indexer,col_indexer] = value instead\n",
            "\n",
            "See the caveats in the documentation: https://pandas.pydata.org/pandas-docs/stable/user_guide/indexing.html#returning-a-view-versus-a-copy\n",
            "  data['review_content'] = data['review_content'].apply(lambda text: remove_freqwords(text))\n"
          ]
        }
      ]
    },
    {
      "cell_type": "code",
      "source": [
        "pd.get_dummies(data['review_type'])"
      ],
      "metadata": {
        "colab": {
          "base_uri": "https://localhost:8080/",
          "height": 424
        },
        "id": "RCqi3BACsmlH",
        "outputId": "a59e6bdc-9b55-45f8-dae3-aa3d5b6815dc"
      },
      "execution_count": 9,
      "outputs": [
        {
          "output_type": "execute_result",
          "data": {
            "text/plain": [
              "       Fresh  Rotten\n",
              "0          1       0\n",
              "1          1       0\n",
              "2          1       0\n",
              "3          1       0\n",
              "4          0       1\n",
              "...      ...     ...\n",
              "49995      0       1\n",
              "49996      0       1\n",
              "49997      0       1\n",
              "49998      0       1\n",
              "49999      0       1\n",
              "\n",
              "[41195 rows x 2 columns]"
            ],
            "text/html": [
              "\n",
              "  <div id=\"df-c3371aa7-7b99-4049-9a8c-06f7dc069cd1\">\n",
              "    <div class=\"colab-df-container\">\n",
              "      <div>\n",
              "<style scoped>\n",
              "    .dataframe tbody tr th:only-of-type {\n",
              "        vertical-align: middle;\n",
              "    }\n",
              "\n",
              "    .dataframe tbody tr th {\n",
              "        vertical-align: top;\n",
              "    }\n",
              "\n",
              "    .dataframe thead th {\n",
              "        text-align: right;\n",
              "    }\n",
              "</style>\n",
              "<table border=\"1\" class=\"dataframe\">\n",
              "  <thead>\n",
              "    <tr style=\"text-align: right;\">\n",
              "      <th></th>\n",
              "      <th>Fresh</th>\n",
              "      <th>Rotten</th>\n",
              "    </tr>\n",
              "  </thead>\n",
              "  <tbody>\n",
              "    <tr>\n",
              "      <th>0</th>\n",
              "      <td>1</td>\n",
              "      <td>0</td>\n",
              "    </tr>\n",
              "    <tr>\n",
              "      <th>1</th>\n",
              "      <td>1</td>\n",
              "      <td>0</td>\n",
              "    </tr>\n",
              "    <tr>\n",
              "      <th>2</th>\n",
              "      <td>1</td>\n",
              "      <td>0</td>\n",
              "    </tr>\n",
              "    <tr>\n",
              "      <th>3</th>\n",
              "      <td>1</td>\n",
              "      <td>0</td>\n",
              "    </tr>\n",
              "    <tr>\n",
              "      <th>4</th>\n",
              "      <td>0</td>\n",
              "      <td>1</td>\n",
              "    </tr>\n",
              "    <tr>\n",
              "      <th>...</th>\n",
              "      <td>...</td>\n",
              "      <td>...</td>\n",
              "    </tr>\n",
              "    <tr>\n",
              "      <th>49995</th>\n",
              "      <td>0</td>\n",
              "      <td>1</td>\n",
              "    </tr>\n",
              "    <tr>\n",
              "      <th>49996</th>\n",
              "      <td>0</td>\n",
              "      <td>1</td>\n",
              "    </tr>\n",
              "    <tr>\n",
              "      <th>49997</th>\n",
              "      <td>0</td>\n",
              "      <td>1</td>\n",
              "    </tr>\n",
              "    <tr>\n",
              "      <th>49998</th>\n",
              "      <td>0</td>\n",
              "      <td>1</td>\n",
              "    </tr>\n",
              "    <tr>\n",
              "      <th>49999</th>\n",
              "      <td>0</td>\n",
              "      <td>1</td>\n",
              "    </tr>\n",
              "  </tbody>\n",
              "</table>\n",
              "<p>41195 rows × 2 columns</p>\n",
              "</div>\n",
              "      <button class=\"colab-df-convert\" onclick=\"convertToInteractive('df-c3371aa7-7b99-4049-9a8c-06f7dc069cd1')\"\n",
              "              title=\"Convert this dataframe to an interactive table.\"\n",
              "              style=\"display:none;\">\n",
              "        \n",
              "  <svg xmlns=\"http://www.w3.org/2000/svg\" height=\"24px\"viewBox=\"0 0 24 24\"\n",
              "       width=\"24px\">\n",
              "    <path d=\"M0 0h24v24H0V0z\" fill=\"none\"/>\n",
              "    <path d=\"M18.56 5.44l.94 2.06.94-2.06 2.06-.94-2.06-.94-.94-2.06-.94 2.06-2.06.94zm-11 1L8.5 8.5l.94-2.06 2.06-.94-2.06-.94L8.5 2.5l-.94 2.06-2.06.94zm10 10l.94 2.06.94-2.06 2.06-.94-2.06-.94-.94-2.06-.94 2.06-2.06.94z\"/><path d=\"M17.41 7.96l-1.37-1.37c-.4-.4-.92-.59-1.43-.59-.52 0-1.04.2-1.43.59L10.3 9.45l-7.72 7.72c-.78.78-.78 2.05 0 2.83L4 21.41c.39.39.9.59 1.41.59.51 0 1.02-.2 1.41-.59l7.78-7.78 2.81-2.81c.8-.78.8-2.07 0-2.86zM5.41 20L4 18.59l7.72-7.72 1.47 1.35L5.41 20z\"/>\n",
              "  </svg>\n",
              "      </button>\n",
              "      \n",
              "  <style>\n",
              "    .colab-df-container {\n",
              "      display:flex;\n",
              "      flex-wrap:wrap;\n",
              "      gap: 12px;\n",
              "    }\n",
              "\n",
              "    .colab-df-convert {\n",
              "      background-color: #E8F0FE;\n",
              "      border: none;\n",
              "      border-radius: 50%;\n",
              "      cursor: pointer;\n",
              "      display: none;\n",
              "      fill: #1967D2;\n",
              "      height: 32px;\n",
              "      padding: 0 0 0 0;\n",
              "      width: 32px;\n",
              "    }\n",
              "\n",
              "    .colab-df-convert:hover {\n",
              "      background-color: #E2EBFA;\n",
              "      box-shadow: 0px 1px 2px rgba(60, 64, 67, 0.3), 0px 1px 3px 1px rgba(60, 64, 67, 0.15);\n",
              "      fill: #174EA6;\n",
              "    }\n",
              "\n",
              "    [theme=dark] .colab-df-convert {\n",
              "      background-color: #3B4455;\n",
              "      fill: #D2E3FC;\n",
              "    }\n",
              "\n",
              "    [theme=dark] .colab-df-convert:hover {\n",
              "      background-color: #434B5C;\n",
              "      box-shadow: 0px 1px 3px 1px rgba(0, 0, 0, 0.15);\n",
              "      filter: drop-shadow(0px 1px 2px rgba(0, 0, 0, 0.3));\n",
              "      fill: #FFFFFF;\n",
              "    }\n",
              "  </style>\n",
              "\n",
              "      <script>\n",
              "        const buttonEl =\n",
              "          document.querySelector('#df-c3371aa7-7b99-4049-9a8c-06f7dc069cd1 button.colab-df-convert');\n",
              "        buttonEl.style.display =\n",
              "          google.colab.kernel.accessAllowed ? 'block' : 'none';\n",
              "\n",
              "        async function convertToInteractive(key) {\n",
              "          const element = document.querySelector('#df-c3371aa7-7b99-4049-9a8c-06f7dc069cd1');\n",
              "          const dataTable =\n",
              "            await google.colab.kernel.invokeFunction('convertToInteractive',\n",
              "                                                     [key], {});\n",
              "          if (!dataTable) return;\n",
              "\n",
              "          const docLinkHtml = 'Like what you see? Visit the ' +\n",
              "            '<a target=\"_blank\" href=https://colab.research.google.com/notebooks/data_table.ipynb>data table notebook</a>'\n",
              "            + ' to learn more about interactive tables.';\n",
              "          element.innerHTML = '';\n",
              "          dataTable['output_type'] = 'display_data';\n",
              "          await google.colab.output.renderOutput(dataTable, element);\n",
              "          const docLink = document.createElement('div');\n",
              "          docLink.innerHTML = docLinkHtml;\n",
              "          element.appendChild(docLink);\n",
              "        }\n",
              "      </script>\n",
              "    </div>\n",
              "  </div>\n",
              "  "
            ]
          },
          "metadata": {},
          "execution_count": 9
        }
      ]
    },
    {
      "cell_type": "code",
      "source": [
        "Y"
      ],
      "metadata": {
        "colab": {
          "base_uri": "https://localhost:8080/"
        },
        "id": "0RTQ-hD1tF1H",
        "outputId": "343b694c-f671-480d-845b-a71f54b63278"
      },
      "execution_count": 13,
      "outputs": [
        {
          "output_type": "execute_result",
          "data": {
            "text/plain": [
              "array([[1, 0],\n",
              "       [1, 0],\n",
              "       [1, 0],\n",
              "       ...,\n",
              "       [0, 1],\n",
              "       [0, 1],\n",
              "       [0, 1]], dtype=uint8)"
            ]
          },
          "metadata": {},
          "execution_count": 13
        }
      ]
    },
    {
      "cell_type": "markdown",
      "source": [
        "At this point we have proc_data, a DF that that has 2 columns\n",
        "- 'review_content' = DF column (series) of preprocessed string sentences\n",
        "- 'review_type' = DF column (series) of 0 if 'Rotten' and 1 if not."
      ],
      "metadata": {
        "id": "NaSsnXxVkDrU"
      }
    },
    {
      "cell_type": "code",
      "source": [
        "# Split the proc_data into train, val, and test sets using sklearn\n",
        "from sklearn.model_selection import train_test_split \n",
        "X_train_full, X_test, y_train_full, y_test = train_test_split(X, Y, test_size=0.1, random_state=123)\n",
        "X_train, X_val, y_train, y_val = train_test_split(X_train_full, y_train_full, test_size=0.1, random_state=123)"
      ],
      "metadata": {
        "id": "HER2awNFtM8J"
      },
      "execution_count": 12,
      "outputs": []
    },
    {
      "cell_type": "code",
      "source": [
        "X_train"
      ],
      "metadata": {
        "colab": {
          "base_uri": "https://localhost:8080/"
        },
        "id": "Tcw8_i9ikgrZ",
        "outputId": "05fe3442-0c44-4c4a-94fe-57c9bb6348e0"
      },
      "execution_count": 13,
      "outputs": [
        {
          "output_type": "execute_result",
          "data": {
            "text/plain": [
              "array(['oath revealing oddly tender portrait abu jandal',\n",
              "       'succeeds spite',\n",
              "       'brilliant study link moral corruption narcissism', ...,\n",
              "       'classic disaster genre memorable cast',\n",
              "       'unusual vampire flick works half time',\n",
              "       'less remake scene scene reconstruction original dialogue intact'],\n",
              "      dtype=object)"
            ]
          },
          "metadata": {},
          "execution_count": 13
        }
      ]
    },
    {
      "cell_type": "code",
      "source": [
        "# Create quick word cloud on training data\n",
        "from wordcloud import WordCloud \n",
        "# Create giant list of all word in all sentences\n",
        "words = ' '.join(X_train)\n",
        "wordcloud = WordCloud(width=1200, height= 800, background_color='white').generate(words)\n",
        "plt.figure(figsize=(8,8), facecolor=None)\n",
        "plt.imshow(wordcloud)\n",
        "plt.axis('off')\n",
        "plt.show()"
      ],
      "metadata": {
        "colab": {
          "base_uri": "https://localhost:8080/",
          "height": 328
        },
        "id": "5MrFOvKhBYqZ",
        "outputId": "6a143beb-f6b1-400f-8eb9-7e94bdca035c"
      },
      "execution_count": 16,
      "outputs": [
        {
          "output_type": "display_data",
          "data": {
            "text/plain": [
              "<Figure size 576x576 with 1 Axes>"
            ],
            "image/png": "[encoded data removed]"
          },
          "metadata": {}
        }
      ]
    },
    {
      "cell_type": "code",
      "source": [
        "# Create and train a tokenizer on the training data. Then create a word index.\n",
        "from keras.preprocessing.text import Tokenizer\n",
        "from keras_preprocessing.sequence import pad_sequences\n",
        "from keras import regularizers\n",
        "\n",
        "vocab_size = 5000\n",
        "oov_tok = '<OOV>'\n",
        "\n",
        "tokenizer = Tokenizer(num_words=vocab_size, oov_token=oov_tok)\n",
        "tokenizer.fit_on_texts(X_train)\n",
        "word_index = tokenizer.word_index"
      ],
      "metadata": {
        "id": "KuxK85EqyWcl"
      },
      "execution_count": null,
      "outputs": []
    },
    {
      "cell_type": "code",
      "source": [
        "# Create sequences for training/val/test data\n",
        "sequences = tokenizer.texts_to_sequences(X_train)\n",
        "val_sequences = tokenizer.texts_to_sequences(X_val)\n",
        "test_sequences = tokenizer.texts_to_sequences(X_test)"
      ],
      "metadata": {
        "id": "E6UTSaboInDk"
      },
      "execution_count": null,
      "outputs": []
    },
    {
      "cell_type": "code",
      "source": [
        "# Testing the sequences using the word_index dictionary the tokenizer created. Note OOV token = 1\n",
        "print(sequences[1])\n",
        "print(X_train[1])\n",
        "print(f'okay = {word_index[\"okay\"]}, starring = {word_index[\"starring\"]}, OOV = {word_index[\"<OOV>\"]}')"
      ],
      "metadata": {
        "colab": {
          "base_uri": "https://localhost:8080/"
        },
        "id": "NxPNlqvy2qz3",
        "outputId": "4ebb3993-7722-4e58-ee53-1b6af2a6be42"
      },
      "execution_count": null,
      "outputs": [
        {
          "output_type": "stream",
          "name": "stdout",
          "text": [
            "[2322, 807, 718, 1, 1, 147, 36, 27]\n",
            "okay starring vehicle norm macdonald think could better\n",
            "okay = 2322, starring = 807, OOV = 1\n"
          ]
        }
      ]
    },
    {
      "cell_type": "code",
      "source": [
        "# Created list of padded numerical sequences with uniform length 'max_len'. We graphed the no. of words earlier.\n",
        "max_len = 60\n",
        "padded = pad_sequences(sequences, maxlen=max_len, padding='post')\n",
        "val_padded = pad_sequences(val_sequences, maxlen=max_len, padding='post')\n",
        "test_padded = pad_sequences(test_sequences, maxlen=max_len, padding='post')"
      ],
      "metadata": {
        "id": "BX7ImoOGIoBq"
      },
      "execution_count": null,
      "outputs": []
    },
    {
      "cell_type": "code",
      "source": [
        "padded"
      ],
      "metadata": {
        "colab": {
          "base_uri": "https://localhost:8080/"
        },
        "id": "-InUycjDOn7r",
        "outputId": "3c01aa15-eded-42b2-d728-5ae008d85e61"
      },
      "execution_count": null,
      "outputs": [
        {
          "output_type": "execute_result",
          "data": {
            "text/plain": [
              "array([[ 675,  214,    1, ...,    0,    0,    0],\n",
              "       [2322,  807,  718, ...,    0,    0,    0],\n",
              "       [ 726, 1038,   26, ...,    0,    0,    0],\n",
              "       ...,\n",
              "       [2527, 1253,    1, ...,    0,    0,    0],\n",
              "       [ 127, 1051, 3986, ...,    0,    0,    0],\n",
              "       [ 591,  572,    1, ...,    0,    0,    0]], dtype=int32)"
            ]
          },
          "metadata": {},
          "execution_count": 21
        }
      ]
    },
    {
      "cell_type": "code",
      "source": [
        "print(padded.shape, y_train.shape)"
      ],
      "metadata": {
        "colab": {
          "base_uri": "https://localhost:8080/"
        },
        "id": "tCIoGNLVox1x",
        "outputId": "e5584261-eda3-41d3-b842-4561a1ffc717"
      },
      "execution_count": null,
      "outputs": [
        {
          "output_type": "stream",
          "name": "stdout",
          "text": [
            "(33367, 60) (33367, 2)\n"
          ]
        }
      ]
    },
    {
      "cell_type": "code",
      "source": [
        "# Defining a simple model using max pool to reduce the input features, no sequence models yet\n",
        "num_oov_buckets = 1000\n",
        "embed_size = 20\n",
        "lstm_out = 15\n",
        "\n",
        "basic_model = keras.models.Sequential([\n",
        "    keras.layers.Embedding(vocab_size, embed_size, input_length=max_len),\n",
        "    keras.layers.SpatialDropout1D(0.2),\n",
        "    keras.layers.GlobalMaxPooling1D(),\n",
        "    keras.layers.Dense(6, activation='relu'),\n",
        "    keras.layers.Dense(1, activation='sigmoid')\n",
        "])\n",
        "\n",
        "# Create a callback that will allow for early stopping if the model isn't getting better with more training\n",
        "from keras.callbacks import ModelCheckpoint\n",
        "basic_callback = keras.callbacks.EarlyStopping(monitor='val_loss', patience = 3)\n",
        "checkpoint = ModelCheckpoint(\"best_model.hdf5\", monitor='val_accuracy', verbose=1,save_best_only=True, mode='auto',save_weights_only=False)\n",
        "\n",
        "lstm_model = tf.keras.Sequential([\n",
        "    tf.keras.layers.Embedding(vocab_size, embed_size, input_length=max_len),\n",
        "    tf.keras.layers.LSTM(lstm_out, dropout=0.2),\n",
        "    tf.keras.layers.Dense(2, activation='softmax')\n",
        "])\n",
        "lstm_optimizer = keras.optimizers.Adam(learning_rate=1e-4)"
      ],
      "metadata": {
        "id": "XFhaV5iOKz08"
      },
      "execution_count": null,
      "outputs": []
    },
    {
      "cell_type": "code",
      "source": [
        "# Compile and print out the details of the model\n",
        "lstm_model.compile(loss='categorical_crossentropy', optimizer=lstm_optimizer, metrics=['accuracy'])\n",
        "lstm_model.summary()"
      ],
      "metadata": {
        "colab": {
          "base_uri": "https://localhost:8080/"
        },
        "id": "rNLFEl6mMenU",
        "outputId": "878ecf0f-e8ae-43c0-edc3-ad2674bf111a"
      },
      "execution_count": null,
      "outputs": [
        {
          "output_type": "stream",
          "name": "stdout",
          "text": [
            "Model: \"sequential_3\"\n",
            "_________________________________________________________________\n",
            " Layer (type)                Output Shape              Param #   \n",
            "=================================================================\n",
            " embedding_3 (Embedding)     (None, 60, 20)            100000    \n",
            "                                                                 \n",
            " lstm_1 (LSTM)               (None, 15)                2160      \n",
            "                                                                 \n",
            " dense_5 (Dense)             (None, 2)                 32        \n",
            "                                                                 \n",
            "=================================================================\n",
            "Total params: 102,192\n",
            "Trainable params: 102,192\n",
            "Non-trainable params: 0\n",
            "_________________________________________________________________\n"
          ]
        }
      ]
    },
    {
      "cell_type": "markdown",
      "source": [
        "Some notes on hyperparameters tuning (TODO: Grid Search)\n",
        "* LSTM Model with Lower Complexity:\n",
        "  * Train Accuracy , Test Accuracy\n",
        "  * batch size = 16, epochs = 50, lstm_out = 15, embed size = 20, dropout=0.2, learning rate = 0.0001, optimizer = Adam\n",
        "\n",
        "* LSTM Model with Higher Complexity:\n",
        "  * Train Accuracy 88.32%, Test Accuracy 73.69%\n",
        "  * Batch Size = 64, Epochs = 25, Embed Size = 32, LSTM Out = 100, learning rate = 0.0001, optimizer = Adam   \n",
        "\n"
      ],
      "metadata": {
        "id": "SdBygWqf0izr"
      }
    },
    {
      "cell_type": "code",
      "source": [
        "num_epochs = 50\n",
        "batch_size = 16\n",
        "#lstm_history = lstm_model.fit(padded, y_train, epochs = num_epochs, validation_data = (val_padded, y_val), callbacks=[basic_callback])\n",
        "lstm_history = lstm_model.fit(padded, y_train, epochs = num_epochs, validation_data = (val_padded, y_val), batch_size = batch_size, callbacks=[checkpoint])"
      ],
      "metadata": {
        "id": "nwvb6o9GM4B0",
        "colab": {
          "base_uri": "https://localhost:8080/"
        },
        "outputId": "101db3cc-e8d5-481b-d998-b95c423c918a"
      },
      "execution_count": null,
      "outputs": [
        {
          "output_type": "stream",
          "name": "stdout",
          "text": [
            "Epoch 1/50\n",
            "2085/2086 [============================>.] - ETA: 0s - loss: 0.6690 - accuracy: 0.6125\n",
            "Epoch 1: val_accuracy improved from -inf to 0.61947, saving model to best_model.hdf5\n",
            "2086/2086 [==============================] - 54s 24ms/step - loss: 0.6691 - accuracy: 0.6124 - val_loss: 0.6643 - val_accuracy: 0.6195\n",
            "Epoch 2/50\n",
            "2086/2086 [==============================] - ETA: 0s - loss: 0.6675 - accuracy: 0.6130\n",
            "Epoch 2: val_accuracy did not improve from 0.61947\n",
            "2086/2086 [==============================] - 53s 25ms/step - loss: 0.6675 - accuracy: 0.6130 - val_loss: 0.6643 - val_accuracy: 0.6195\n",
            "Epoch 3/50\n",
            "2084/2086 [============================>.] - ETA: 0s - loss: 0.6548 - accuracy: 0.6149\n",
            "Epoch 3: val_accuracy improved from 0.61947 to 0.74488, saving model to best_model.hdf5\n",
            "2086/2086 [==============================] - 50s 24ms/step - loss: 0.6547 - accuracy: 0.6151 - val_loss: 0.5632 - val_accuracy: 0.7449\n",
            "Epoch 4/50\n",
            "2086/2086 [==============================] - ETA: 0s - loss: 0.5113 - accuracy: 0.7624\n",
            "Epoch 4: val_accuracy improved from 0.74488 to 0.75189, saving model to best_model.hdf5\n",
            "2086/2086 [==============================] - 50s 24ms/step - loss: 0.5113 - accuracy: 0.7624 - val_loss: 0.5115 - val_accuracy: 0.7519\n",
            "Epoch 5/50\n",
            "2085/2086 [============================>.] - ETA: 0s - loss: 0.4608 - accuracy: 0.7895\n",
            "Epoch 5: val_accuracy improved from 0.75189 to 0.76348, saving model to best_model.hdf5\n",
            "2086/2086 [==============================] - 50s 24ms/step - loss: 0.4608 - accuracy: 0.7895 - val_loss: 0.4891 - val_accuracy: 0.7635\n",
            "Epoch 6/50\n",
            "2084/2086 [============================>.] - ETA: 0s - loss: 0.4363 - accuracy: 0.8033\n",
            "Epoch 6: val_accuracy improved from 0.76348 to 0.76780, saving model to best_model.hdf5\n",
            "2086/2086 [==============================] - 49s 24ms/step - loss: 0.4365 - accuracy: 0.8032 - val_loss: 0.4812 - val_accuracy: 0.7678\n",
            "Epoch 7/50\n",
            "2086/2086 [==============================] - ETA: 0s - loss: 0.4200 - accuracy: 0.8125\n",
            "Epoch 7: val_accuracy improved from 0.76780 to 0.77751, saving model to best_model.hdf5\n",
            "2086/2086 [==============================] - 50s 24ms/step - loss: 0.4200 - accuracy: 0.8125 - val_loss: 0.4757 - val_accuracy: 0.7775\n",
            "Epoch 8/50\n",
            "2084/2086 [============================>.] - ETA: 0s - loss: 0.4060 - accuracy: 0.8192\n",
            "Epoch 8: val_accuracy did not improve from 0.77751\n",
            "2086/2086 [==============================] - 50s 24ms/step - loss: 0.4060 - accuracy: 0.8192 - val_loss: 0.4819 - val_accuracy: 0.7732\n",
            "Epoch 9/50\n",
            "2086/2086 [==============================] - ETA: 0s - loss: 0.3973 - accuracy: 0.8235\n",
            "Epoch 9: val_accuracy did not improve from 0.77751\n",
            "2086/2086 [==============================] - 50s 24ms/step - loss: 0.3973 - accuracy: 0.8235 - val_loss: 0.5005 - val_accuracy: 0.7689\n",
            "Epoch 10/50\n",
            "2085/2086 [============================>.] - ETA: 0s - loss: 0.3901 - accuracy: 0.8281\n",
            "Epoch 10: val_accuracy did not improve from 0.77751\n",
            "2086/2086 [==============================] - 49s 24ms/step - loss: 0.3901 - accuracy: 0.8282 - val_loss: 0.4892 - val_accuracy: 0.7681\n",
            "Epoch 11/50\n",
            "2084/2086 [============================>.] - ETA: 0s - loss: 0.3857 - accuracy: 0.8303\n",
            "Epoch 11: val_accuracy did not improve from 0.77751\n",
            "2086/2086 [==============================] - 49s 24ms/step - loss: 0.3857 - accuracy: 0.8303 - val_loss: 0.4875 - val_accuracy: 0.7686\n",
            "Epoch 12/50\n",
            "2085/2086 [============================>.] - ETA: 0s - loss: 0.3808 - accuracy: 0.8341\n",
            "Epoch 12: val_accuracy did not improve from 0.77751\n",
            "2086/2086 [==============================] - 50s 24ms/step - loss: 0.3808 - accuracy: 0.8340 - val_loss: 0.5152 - val_accuracy: 0.7584\n",
            "Epoch 13/50\n",
            "2084/2086 [============================>.] - ETA: 0s - loss: 0.3774 - accuracy: 0.8365\n",
            "Epoch 13: val_accuracy did not improve from 0.77751\n",
            "2086/2086 [==============================] - 50s 24ms/step - loss: 0.3774 - accuracy: 0.8365 - val_loss: 0.5055 - val_accuracy: 0.7673\n",
            "Epoch 14/50\n",
            "2086/2086 [==============================] - ETA: 0s - loss: 0.3737 - accuracy: 0.8361\n",
            "Epoch 14: val_accuracy did not improve from 0.77751\n",
            "2086/2086 [==============================] - 52s 25ms/step - loss: 0.3737 - accuracy: 0.8361 - val_loss: 0.4873 - val_accuracy: 0.7654\n",
            "Epoch 15/50\n",
            "2086/2086 [==============================] - ETA: 0s - loss: 0.3719 - accuracy: 0.8386\n",
            "Epoch 15: val_accuracy did not improve from 0.77751\n",
            "2086/2086 [==============================] - 50s 24ms/step - loss: 0.3719 - accuracy: 0.8386 - val_loss: 0.5051 - val_accuracy: 0.7683\n",
            "Epoch 16/50\n",
            "2085/2086 [============================>.] - ETA: 0s - loss: 0.3703 - accuracy: 0.8397\n",
            "Epoch 16: val_accuracy did not improve from 0.77751\n",
            "2086/2086 [==============================] - 49s 24ms/step - loss: 0.3702 - accuracy: 0.8397 - val_loss: 0.5044 - val_accuracy: 0.7656\n",
            "Epoch 17/50\n",
            "2085/2086 [============================>.] - ETA: 0s - loss: 0.3677 - accuracy: 0.8424\n",
            "Epoch 17: val_accuracy did not improve from 0.77751\n",
            "2086/2086 [==============================] - 50s 24ms/step - loss: 0.3677 - accuracy: 0.8423 - val_loss: 0.5008 - val_accuracy: 0.7678\n",
            "Epoch 18/50\n",
            "2085/2086 [============================>.] - ETA: 0s - loss: 0.3661 - accuracy: 0.8416\n",
            "Epoch 18: val_accuracy did not improve from 0.77751\n",
            "2086/2086 [==============================] - 50s 24ms/step - loss: 0.3661 - accuracy: 0.8416 - val_loss: 0.4894 - val_accuracy: 0.7689\n",
            "Epoch 19/50\n",
            "2084/2086 [============================>.] - ETA: 0s - loss: 0.3639 - accuracy: 0.8438\n",
            "Epoch 19: val_accuracy did not improve from 0.77751\n",
            "2086/2086 [==============================] - 49s 24ms/step - loss: 0.3638 - accuracy: 0.8438 - val_loss: 0.5109 - val_accuracy: 0.7670\n",
            "Epoch 20/50\n",
            "2084/2086 [============================>.] - ETA: 0s - loss: 0.3616 - accuracy: 0.8446\n",
            "Epoch 20: val_accuracy did not improve from 0.77751\n",
            "2086/2086 [==============================] - 50s 24ms/step - loss: 0.3616 - accuracy: 0.8447 - val_loss: 0.5100 - val_accuracy: 0.7632\n",
            "Epoch 21/50\n",
            "2085/2086 [============================>.] - ETA: 0s - loss: 0.3612 - accuracy: 0.8451\n",
            "Epoch 21: val_accuracy did not improve from 0.77751\n",
            "2086/2086 [==============================] - 50s 24ms/step - loss: 0.3612 - accuracy: 0.8451 - val_loss: 0.5185 - val_accuracy: 0.7651\n",
            "Epoch 22/50\n",
            "2085/2086 [============================>.] - ETA: 0s - loss: 0.3598 - accuracy: 0.8462\n",
            "Epoch 22: val_accuracy did not improve from 0.77751\n",
            "2086/2086 [==============================] - 50s 24ms/step - loss: 0.3597 - accuracy: 0.8462 - val_loss: 0.5166 - val_accuracy: 0.7613\n",
            "Epoch 23/50\n",
            "2085/2086 [============================>.] - ETA: 0s - loss: 0.3572 - accuracy: 0.8486\n",
            "Epoch 23: val_accuracy did not improve from 0.77751\n",
            "2086/2086 [==============================] - 50s 24ms/step - loss: 0.3572 - accuracy: 0.8486 - val_loss: 0.5033 - val_accuracy: 0.7632\n",
            "Epoch 24/50\n",
            "2086/2086 [==============================] - ETA: 0s - loss: 0.3557 - accuracy: 0.8468\n",
            "Epoch 24: val_accuracy did not improve from 0.77751\n",
            "2086/2086 [==============================] - 50s 24ms/step - loss: 0.3557 - accuracy: 0.8468 - val_loss: 0.5101 - val_accuracy: 0.7608\n",
            "Epoch 25/50\n",
            "2086/2086 [==============================] - ETA: 0s - loss: 0.3536 - accuracy: 0.8491\n",
            "Epoch 25: val_accuracy did not improve from 0.77751\n",
            "2086/2086 [==============================] - 49s 24ms/step - loss: 0.3536 - accuracy: 0.8491 - val_loss: 0.5428 - val_accuracy: 0.7597\n",
            "Epoch 26/50\n",
            "2085/2086 [============================>.] - ETA: 0s - loss: 0.3500 - accuracy: 0.8508\n",
            "Epoch 26: val_accuracy did not improve from 0.77751\n",
            "2086/2086 [==============================] - 49s 24ms/step - loss: 0.3500 - accuracy: 0.8508 - val_loss: 0.5272 - val_accuracy: 0.7586\n",
            "Epoch 27/50\n",
            "2084/2086 [============================>.] - ETA: 0s - loss: 0.3484 - accuracy: 0.8520\n",
            "Epoch 27: val_accuracy did not improve from 0.77751\n",
            "2086/2086 [==============================] - 49s 24ms/step - loss: 0.3484 - accuracy: 0.8520 - val_loss: 0.5275 - val_accuracy: 0.7594\n",
            "Epoch 28/50\n",
            "2084/2086 [============================>.] - ETA: 0s - loss: 0.3446 - accuracy: 0.8527\n",
            "Epoch 28: val_accuracy did not improve from 0.77751\n",
            "2086/2086 [==============================] - 50s 24ms/step - loss: 0.3445 - accuracy: 0.8528 - val_loss: 0.5204 - val_accuracy: 0.7619\n",
            "Epoch 29/50\n",
            "2085/2086 [============================>.] - ETA: 0s - loss: 0.3409 - accuracy: 0.8536\n",
            "Epoch 29: val_accuracy did not improve from 0.77751\n",
            "2086/2086 [==============================] - 50s 24ms/step - loss: 0.3409 - accuracy: 0.8537 - val_loss: 0.5303 - val_accuracy: 0.7643\n",
            "Epoch 30/50\n",
            "2084/2086 [============================>.] - ETA: 0s - loss: 0.3361 - accuracy: 0.8546\n",
            "Epoch 30: val_accuracy did not improve from 0.77751\n",
            "2086/2086 [==============================] - 50s 24ms/step - loss: 0.3361 - accuracy: 0.8546 - val_loss: 0.5496 - val_accuracy: 0.7611\n",
            "Epoch 31/50\n",
            "2086/2086 [==============================] - ETA: 0s - loss: 0.3307 - accuracy: 0.8570\n",
            "Epoch 31: val_accuracy did not improve from 0.77751\n",
            "2086/2086 [==============================] - 50s 24ms/step - loss: 0.3307 - accuracy: 0.8570 - val_loss: 0.5612 - val_accuracy: 0.7656\n",
            "Epoch 32/50\n",
            "2086/2086 [==============================] - ETA: 0s - loss: 0.3260 - accuracy: 0.8591\n",
            "Epoch 32: val_accuracy did not improve from 0.77751\n",
            "2086/2086 [==============================] - 50s 24ms/step - loss: 0.3260 - accuracy: 0.8591 - val_loss: 0.5700 - val_accuracy: 0.7627\n",
            "Epoch 33/50\n",
            "2084/2086 [============================>.] - ETA: 0s - loss: 0.3231 - accuracy: 0.8606\n",
            "Epoch 33: val_accuracy did not improve from 0.77751\n",
            "2086/2086 [==============================] - 50s 24ms/step - loss: 0.3231 - accuracy: 0.8607 - val_loss: 0.5608 - val_accuracy: 0.7646\n",
            "Epoch 34/50\n",
            "2086/2086 [==============================] - ETA: 0s - loss: 0.3186 - accuracy: 0.8604\n",
            "Epoch 34: val_accuracy did not improve from 0.77751\n",
            "2086/2086 [==============================] - 51s 24ms/step - loss: 0.3186 - accuracy: 0.8604 - val_loss: 0.5796 - val_accuracy: 0.7654\n",
            "Epoch 35/50\n",
            "2085/2086 [============================>.] - ETA: 0s - loss: 0.3159 - accuracy: 0.8621\n",
            "Epoch 35: val_accuracy did not improve from 0.77751\n",
            "2086/2086 [==============================] - 51s 24ms/step - loss: 0.3159 - accuracy: 0.8621 - val_loss: 0.5588 - val_accuracy: 0.7667\n",
            "Epoch 36/50\n",
            "2085/2086 [============================>.] - ETA: 0s - loss: 0.3136 - accuracy: 0.8626\n",
            "Epoch 36: val_accuracy did not improve from 0.77751\n",
            "2086/2086 [==============================] - 51s 24ms/step - loss: 0.3136 - accuracy: 0.8625 - val_loss: 0.5693 - val_accuracy: 0.7662\n",
            "Epoch 37/50\n",
            "2086/2086 [==============================] - ETA: 0s - loss: 0.3091 - accuracy: 0.8651\n",
            "Epoch 37: val_accuracy did not improve from 0.77751\n",
            "2086/2086 [==============================] - 50s 24ms/step - loss: 0.3091 - accuracy: 0.8651 - val_loss: 0.5729 - val_accuracy: 0.7659\n",
            "Epoch 38/50\n",
            "2086/2086 [==============================] - ETA: 0s - loss: 0.3058 - accuracy: 0.8661\n",
            "Epoch 38: val_accuracy did not improve from 0.77751\n",
            "2086/2086 [==============================] - 50s 24ms/step - loss: 0.3058 - accuracy: 0.8661 - val_loss: 0.6107 - val_accuracy: 0.7648\n",
            "Epoch 39/50\n",
            "2086/2086 [==============================] - ETA: 0s - loss: 0.3035 - accuracy: 0.8681\n",
            "Epoch 39: val_accuracy did not improve from 0.77751\n",
            "2086/2086 [==============================] - 50s 24ms/step - loss: 0.3035 - accuracy: 0.8681 - val_loss: 0.6027 - val_accuracy: 0.7557\n",
            "Epoch 40/50\n",
            "2086/2086 [==============================] - ETA: 0s - loss: 0.3013 - accuracy: 0.8666\n",
            "Epoch 40: val_accuracy did not improve from 0.77751\n",
            "2086/2086 [==============================] - 50s 24ms/step - loss: 0.3013 - accuracy: 0.8666 - val_loss: 0.6211 - val_accuracy: 0.7624\n",
            "Epoch 41/50\n",
            "2084/2086 [============================>.] - ETA: 0s - loss: 0.2955 - accuracy: 0.8697\n",
            "Epoch 41: val_accuracy did not improve from 0.77751\n",
            "2086/2086 [==============================] - 50s 24ms/step - loss: 0.2957 - accuracy: 0.8696 - val_loss: 0.6075 - val_accuracy: 0.7600\n",
            "Epoch 42/50\n",
            "2085/2086 [============================>.] - ETA: 0s - loss: 0.2952 - accuracy: 0.8692\n",
            "Epoch 42: val_accuracy did not improve from 0.77751\n",
            "2086/2086 [==============================] - 50s 24ms/step - loss: 0.2952 - accuracy: 0.8692 - val_loss: 0.6134 - val_accuracy: 0.7632\n",
            "Epoch 43/50\n",
            "2085/2086 [============================>.] - ETA: 0s - loss: 0.2898 - accuracy: 0.8722\n",
            "Epoch 43: val_accuracy did not improve from 0.77751\n",
            "2086/2086 [==============================] - 50s 24ms/step - loss: 0.2898 - accuracy: 0.8722 - val_loss: 0.6184 - val_accuracy: 0.7600\n",
            "Epoch 44/50\n",
            "2086/2086 [==============================] - ETA: 0s - loss: 0.2860 - accuracy: 0.8726\n",
            "Epoch 44: val_accuracy did not improve from 0.77751\n",
            "2086/2086 [==============================] - 50s 24ms/step - loss: 0.2860 - accuracy: 0.8726 - val_loss: 0.6175 - val_accuracy: 0.7632\n",
            "Epoch 45/50\n",
            "2085/2086 [============================>.] - ETA: 0s - loss: 0.2850 - accuracy: 0.8734\n",
            "Epoch 45: val_accuracy did not improve from 0.77751\n",
            "2086/2086 [==============================] - 50s 24ms/step - loss: 0.2851 - accuracy: 0.8733 - val_loss: 0.6351 - val_accuracy: 0.7594\n",
            "Epoch 46/50\n",
            "2086/2086 [==============================] - ETA: 0s - loss: 0.2821 - accuracy: 0.8750\n",
            "Epoch 46: val_accuracy did not improve from 0.77751\n",
            "2086/2086 [==============================] - 50s 24ms/step - loss: 0.2821 - accuracy: 0.8750 - val_loss: 0.6709 - val_accuracy: 0.7594\n",
            "Epoch 47/50\n",
            "2086/2086 [==============================] - ETA: 0s - loss: 0.2798 - accuracy: 0.8755\n",
            "Epoch 47: val_accuracy did not improve from 0.77751\n",
            "2086/2086 [==============================] - 50s 24ms/step - loss: 0.2798 - accuracy: 0.8755 - val_loss: 0.6178 - val_accuracy: 0.7594\n",
            "Epoch 48/50\n",
            "2085/2086 [============================>.] - ETA: 0s - loss: 0.2757 - accuracy: 0.8778\n",
            "Epoch 48: val_accuracy did not improve from 0.77751\n",
            "2086/2086 [==============================] - 50s 24ms/step - loss: 0.2756 - accuracy: 0.8778 - val_loss: 0.6524 - val_accuracy: 0.7543\n",
            "Epoch 49/50\n",
            "2086/2086 [==============================] - ETA: 0s - loss: 0.2719 - accuracy: 0.8788\n",
            "Epoch 49: val_accuracy did not improve from 0.77751\n",
            "2086/2086 [==============================] - 51s 24ms/step - loss: 0.2719 - accuracy: 0.8788 - val_loss: 0.6621 - val_accuracy: 0.7576\n",
            "Epoch 50/50\n",
            "2086/2086 [==============================] - ETA: 0s - loss: 0.2709 - accuracy: 0.8793\n",
            "Epoch 50: val_accuracy did not improve from 0.77751\n",
            "2086/2086 [==============================] - 51s 24ms/step - loss: 0.2709 - accuracy: 0.8793 - val_loss: 0.6368 - val_accuracy: 0.7554\n"
          ]
        }
      ]
    },
    {
      "cell_type": "code",
      "source": [
        "plot_history(lstm_history)"
      ],
      "metadata": {
        "id": "NHwIHdO7PUue",
        "colab": {
          "base_uri": "https://localhost:8080/",
          "height": 337
        },
        "outputId": "8980eef0-3485-499e-cc5d-b2850bed0aae"
      },
      "execution_count": null,
      "outputs": [
        {
          "output_type": "display_data",
          "data": {
            "text/plain": [
              "<Figure size 864x360 with 2 Axes>"
            ],
            "image/png": "[encoded data removed]"
          },
          "metadata": {}
        }
      ]
    },
    {
      "cell_type": "code",
      "source": [
        "test_loss, test_acc = lstm_model.evaluate(test_padded, y_test)\n",
        "train_loss, train_acc = lstm_model.evaluate(padded, y_train)\n",
        "print(f'Train Accuracy = {train_acc:.2%} and Test Accuracy = {test_acc:.2%}')"
      ],
      "metadata": {
        "colab": {
          "base_uri": "https://localhost:8080/"
        },
        "id": "WxDwsKNt7GrK",
        "outputId": "09b89211-626d-4fc4-92ca-ca809208c689"
      },
      "execution_count": null,
      "outputs": [
        {
          "output_type": "stream",
          "name": "stdout",
          "text": [
            "129/129 [==============================] - 1s 6ms/step - loss: 0.6319 - accuracy: 0.7485\n",
            "1043/1043 [==============================] - 6s 6ms/step - loss: 0.2369 - accuracy: 0.8974\n",
            "Train Accuracy = 89.74% and Test Accuracy = 74.85%\n"
          ]
        }
      ]
    },
    {
      "cell_type": "code",
      "source": [
        "predictions = lstm_model.predict(test_padded)"
      ],
      "metadata": {
        "colab": {
          "base_uri": "https://localhost:8080/"
        },
        "id": "kJQVXl4l9btI",
        "outputId": "3192de92-dce1-416e-9ce2-215fae02176e"
      },
      "execution_count": null,
      "outputs": [
        {
          "output_type": "stream",
          "name": "stdout",
          "text": [
            "129/129 [==============================] - 1s 6ms/step\n"
          ]
        }
      ]
    },
    {
      "cell_type": "code",
      "source": [
        "predictions\n",
        "#y_pred = np.array([1 if p > 0.5 else 0 for p in predictions])"
      ],
      "metadata": {
        "colab": {
          "base_uri": "https://localhost:8080/"
        },
        "id": "B1qh6jvo9g8r",
        "outputId": "d7bf20a0-8a80-48df-84f2-a447e6e77b1d"
      },
      "execution_count": null,
      "outputs": [
        {
          "output_type": "execute_result",
          "data": {
            "text/plain": [
              "array([[0.7933202 , 0.20667969],\n",
              "       [0.22890626, 0.7710938 ],\n",
              "       [0.89027345, 0.1097265 ],\n",
              "       ...,\n",
              "       [0.37332913, 0.6266709 ],\n",
              "       [0.9928067 , 0.00719326],\n",
              "       [0.99162585, 0.00837408]], dtype=float32)"
            ]
          },
          "metadata": {},
          "execution_count": 42
        }
      ]
    },
    {
      "cell_type": "code",
      "source": [
        "# Test on individual review to see how it predicts sentiment\n",
        "test_fresh = 'The movie was awesome.&*& Pure and simple. Great acting on the part of Matt Damon and Brad Pitt. Oceans 11 is the perfect film. I absolutely loved this movie it is my favorite film of all time'\n",
        "test_rotten = 'Movie was $$ absolutely terrible. I hated every second of it. Bad acting performances. Ewan McGregor was trash.'\n",
        "print(lstm_model.predict(pad_sequences(tokenizer.texts_to_sequences([preprocess(test_fresh)]), maxlen=max_len, padding='post')))\n",
        "print(lstm_model.predict(pad_sequences(tokenizer.texts_to_sequences([preprocess(test_rotten)]), maxlen=max_len, padding='post')))"
      ],
      "metadata": {
        "colab": {
          "base_uri": "https://localhost:8080/"
        },
        "id": "c0KbRZ0w6akp",
        "outputId": "838fafca-0c35-416a-9337-aa5755e7e3a3"
      },
      "execution_count": null,
      "outputs": [
        {
          "output_type": "stream",
          "name": "stdout",
          "text": [
            "1/1 [==============================] - 0s 18ms/step\n",
            "[[0.99296665 0.00703341]]\n",
            "1/1 [==============================] - 0s 17ms/step\n",
            "[[0.04973686 0.9502632 ]]\n"
          ]
        }
      ]
    },
    {
      "cell_type": "code",
      "source": [
        "from sklearn.metrics._plot.confusion_matrix import ConfusionMatrixDisplay\n",
        "# Plot results via confusion matrix\n",
        "from sklearn.metrics import plot_confusion_matrix, classification_report, confusion_matrix, accuracy_score\n",
        "print(classification_report(y_test.argmax(axis=1), np.around(predictions, decimals=0).argmax(axis=1)))\n",
        "cm = confusion_matrix(y_test.argmax(axis=1), np.around(predictions, decimals=0).argmax(axis=1))\n",
        "disp = ConfusionMatrixDisplay(confusion_matrix=cm)\n",
        "disp.plot()"
      ],
      "metadata": {
        "colab": {
          "base_uri": "https://localhost:8080/",
          "height": 461
        },
        "id": "IrDz4Ifm_ns0",
        "outputId": "08a372b2-5e8b-4ef5-aef0-3e2b42db3a20"
      },
      "execution_count": null,
      "outputs": [
        {
          "output_type": "stream",
          "name": "stdout",
          "text": [
            "              precision    recall  f1-score   support\n",
            "\n",
            "           0       0.79      0.80      0.80      2526\n",
            "           1       0.68      0.66      0.67      1594\n",
            "\n",
            "    accuracy                           0.75      4120\n",
            "   macro avg       0.73      0.73      0.73      4120\n",
            "weighted avg       0.75      0.75      0.75      4120\n",
            "\n"
          ]
        },
        {
          "output_type": "execute_result",
          "data": {
            "text/plain": [
              "<sklearn.metrics._plot.confusion_matrix.ConfusionMatrixDisplay at 0x7fd52125a370>"
            ]
          },
          "metadata": {},
          "execution_count": 44
        },
        {
          "output_type": "display_data",
          "data": {
            "text/plain": [
              "<Figure size 432x288 with 2 Axes>"
            ],
            "image/png": "[encoded data removed]"
          },
          "metadata": {}
        }
      ]
    },
    {
      "cell_type": "markdown",
      "source": [
        "### Pre-Trained Approach: Fine-Tuning BERT\n",
        "- Use BERT embeddings and fine tune using HuggingFace Transformers library. Compare to embeddings created from scratch"
      ],
      "metadata": {
        "id": "dDVTVEMmNpxP"
      }
    },
    {
      "cell_type": "code",
      "source": [
        "!pip install transformers;\n",
        "!pip install datasets;"
      ],
      "metadata": {
        "colab": {
          "base_uri": "https://localhost:8080/",
          "height": 1000
        },
        "id": "krW_ycizSW_m",
        "outputId": "7dc0b852-8bda-4ad4-fea5-2102d3062f73"
      },
      "execution_count": 10,
      "outputs": [
        {
          "output_type": "stream",
          "name": "stdout",
          "text": [
            "Looking in indexes: https://pypi.org/simple, https://us-python.pkg.dev/colab-wheels/public/simple/\n",
            "Collecting transformers\n",
            "  Downloading transformers-4.26.1-py3-none-any.whl (6.3 MB)\n",
            "\u001b[2K     \u001b[90m━━━━━━━━━━━━━━━━━━━━━━━━━━━━━━━━━━━━━━━━\u001b[0m \u001b[32m6.3/6.3 MB\u001b[0m \u001b[31m52.4 MB/s\u001b[0m eta \u001b[36m0:00:00\u001b[0m\n",
            "\u001b[?25hRequirement already satisfied: pyyaml>=5.1 in /usr/local/lib/python3.8/dist-packages (from transformers) (6.0)\n",
            "Requirement already satisfied: regex!=2019.12.17 in /usr/local/lib/python3.8/dist-packages (from transformers) (2022.6.2)\n",
            "Collecting tokenizers!=0.11.3,<0.14,>=0.11.1\n",
            "  Downloading tokenizers-0.13.2-cp38-cp38-manylinux_2_17_x86_64.manylinux2014_x86_64.whl (7.6 MB)\n",
            "\u001b[2K     \u001b[90m━━━━━━━━━━━━━━━━━━━━━━━━━━━━━━━━━━━━━━━━\u001b[0m \u001b[32m7.6/7.6 MB\u001b[0m \u001b[31m107.7 MB/s\u001b[0m eta \u001b[36m0:00:00\u001b[0m\n",
            "\u001b[?25hRequirement already satisfied: filelock in /usr/local/lib/python3.8/dist-packages (from transformers) (3.9.0)\n",
            "Requirement already satisfied: tqdm>=4.27 in /usr/local/lib/python3.8/dist-packages (from transformers) (4.64.1)\n",
            "Collecting huggingface-hub<1.0,>=0.11.0\n",
            "  Downloading huggingface_hub-0.12.1-py3-none-any.whl (190 kB)\n",
            "\u001b[2K     \u001b[90m━━━━━━━━━━━━━━━━━━━━━━━━━━━━━━━━━━━━━━\u001b[0m \u001b[32m190.3/190.3 KB\u001b[0m \u001b[31m23.0 MB/s\u001b[0m eta \u001b[36m0:00:00\u001b[0m\n",
            "\u001b[?25hRequirement already satisfied: requests in /usr/local/lib/python3.8/dist-packages (from transformers) (2.25.1)\n",
            "Requirement already satisfied: packaging>=20.0 in /usr/local/lib/python3.8/dist-packages (from transformers) (23.0)\n",
            "Requirement already satisfied: numpy>=1.17 in /usr/local/lib/python3.8/dist-packages (from transformers) (1.21.6)\n",
            "Requirement already satisfied: typing-extensions>=3.7.4.3 in /usr/local/lib/python3.8/dist-packages (from huggingface-hub<1.0,>=0.11.0->transformers) (4.5.0)\n",
            "Requirement already satisfied: urllib3<1.27,>=1.21.1 in /usr/local/lib/python3.8/dist-packages (from requests->transformers) (1.24.3)\n",
            "Requirement already satisfied: certifi>=2017.4.17 in /usr/local/lib/python3.8/dist-packages (from requests->transformers) (2022.12.7)\n",
            "Requirement already satisfied: chardet<5,>=3.0.2 in /usr/local/lib/python3.8/dist-packages (from requests->transformers) (4.0.0)\n",
            "Requirement already satisfied: idna<3,>=2.5 in /usr/local/lib/python3.8/dist-packages (from requests->transformers) (2.10)\n",
            "Installing collected packages: tokenizers, huggingface-hub, transformers\n",
            "Successfully installed huggingface-hub-0.12.1 tokenizers-0.13.2 transformers-4.26.1\n",
            "Looking in indexes: https://pypi.org/simple, https://us-python.pkg.dev/colab-wheels/public/simple/\n",
            "Collecting datasets\n",
            "  Downloading datasets-2.9.0-py3-none-any.whl (462 kB)\n",
            "\u001b[2K     \u001b[90m━━━━━━━━━━━━━━━━━━━━━━━━━━━━━━━━━━━━━━━\u001b[0m \u001b[32m462.8/462.8 KB\u001b[0m \u001b[31m8.0 MB/s\u001b[0m eta \u001b[36m0:00:00\u001b[0m\n",
            "\u001b[?25hRequirement already satisfied: dill<0.3.7 in /usr/local/lib/python3.8/dist-packages (from datasets) (0.3.6)\n",
            "Requirement already satisfied: numpy>=1.17 in /usr/local/lib/python3.8/dist-packages (from datasets) (1.21.6)\n",
            "Requirement already satisfied: aiohttp in /usr/local/lib/python3.8/dist-packages (from datasets) (3.8.4)\n",
            "Collecting multiprocess\n",
            "  Downloading multiprocess-0.70.14-py38-none-any.whl (132 kB)\n",
            "\u001b[2K     \u001b[90m━━━━━━━━━━━━━━━━━━━━━━━━━━━━━━━━━━━━━━\u001b[0m \u001b[32m132.0/132.0 KB\u001b[0m \u001b[31m18.5 MB/s\u001b[0m eta \u001b[36m0:00:00\u001b[0m\n",
            "\u001b[?25hRequirement already satisfied: tqdm>=4.62.1 in /usr/local/lib/python3.8/dist-packages (from datasets) (4.64.1)\n",
            "Collecting xxhash\n",
            "  Downloading xxhash-3.2.0-cp38-cp38-manylinux_2_17_x86_64.manylinux2014_x86_64.whl (213 kB)\n",
            "\u001b[2K     \u001b[90m━━━━━━━━━━━━━━━━━━━━━━━━━━━━━━━━━━━━━━\u001b[0m \u001b[32m213.0/213.0 KB\u001b[0m \u001b[31m24.9 MB/s\u001b[0m eta \u001b[36m0:00:00\u001b[0m\n",
            "\u001b[?25hRequirement already satisfied: fsspec[http]>=2021.11.1 in /usr/local/lib/python3.8/dist-packages (from datasets) (2023.1.0)\n",
            "Requirement already satisfied: pyyaml>=5.1 in /usr/local/lib/python3.8/dist-packages (from datasets) (6.0)\n",
            "Requirement already satisfied: pyarrow>=6.0.0 in /usr/local/lib/python3.8/dist-packages (from datasets) (9.0.0)\n",
            "Requirement already satisfied: huggingface-hub<1.0.0,>=0.2.0 in /usr/local/lib/python3.8/dist-packages (from datasets) (0.12.1)\n",
            "Requirement already satisfied: packaging in /usr/local/lib/python3.8/dist-packages (from datasets) (23.0)\n",
            "Requirement already satisfied: pandas in /usr/local/lib/python3.8/dist-packages (from datasets) (1.3.5)\n",
            "Collecting responses<0.19\n",
            "  Downloading responses-0.18.0-py3-none-any.whl (38 kB)\n",
            "Requirement already satisfied: requests>=2.19.0 in /usr/local/lib/python3.8/dist-packages (from datasets) (2.25.1)\n",
            "Requirement already satisfied: async-timeout<5.0,>=4.0.0a3 in /usr/local/lib/python3.8/dist-packages (from aiohttp->datasets) (4.0.2)\n",
            "Requirement already satisfied: attrs>=17.3.0 in /usr/local/lib/python3.8/dist-packages (from aiohttp->datasets) (22.2.0)\n",
            "Requirement already satisfied: charset-normalizer<4.0,>=2.0 in /usr/local/lib/python3.8/dist-packages (from aiohttp->datasets) (3.0.1)\n",
            "Requirement already satisfied: aiosignal>=1.1.2 in /usr/local/lib/python3.8/dist-packages (from aiohttp->datasets) (1.3.1)\n",
            "Requirement already satisfied: frozenlist>=1.1.1 in /usr/local/lib/python3.8/dist-packages (from aiohttp->datasets) (1.3.3)\n",
            "Requirement already satisfied: multidict<7.0,>=4.5 in /usr/local/lib/python3.8/dist-packages (from aiohttp->datasets) (6.0.4)\n",
            "Requirement already satisfied: yarl<2.0,>=1.0 in /usr/local/lib/python3.8/dist-packages (from aiohttp->datasets) (1.8.2)\n",
            "Requirement already satisfied: typing-extensions>=3.7.4.3 in /usr/local/lib/python3.8/dist-packages (from huggingface-hub<1.0.0,>=0.2.0->datasets) (4.5.0)\n",
            "Requirement already satisfied: filelock in /usr/local/lib/python3.8/dist-packages (from huggingface-hub<1.0.0,>=0.2.0->datasets) (3.9.0)\n",
            "Requirement already satisfied: chardet<5,>=3.0.2 in /usr/local/lib/python3.8/dist-packages (from requests>=2.19.0->datasets) (4.0.0)\n",
            "Requirement already satisfied: certifi>=2017.4.17 in /usr/local/lib/python3.8/dist-packages (from requests>=2.19.0->datasets) (2022.12.7)\n",
            "Requirement already satisfied: urllib3<1.27,>=1.21.1 in /usr/local/lib/python3.8/dist-packages (from requests>=2.19.0->datasets) (1.24.3)\n",
            "Requirement already satisfied: idna<3,>=2.5 in /usr/local/lib/python3.8/dist-packages (from requests>=2.19.0->datasets) (2.10)\n",
            "Collecting urllib3<1.27,>=1.21.1\n",
            "  Downloading urllib3-1.26.14-py2.py3-none-any.whl (140 kB)\n",
            "\u001b[2K     \u001b[90m━━━━━━━━━━━━━━━━━━━━━━━━━━━━━━━━━━━━━━\u001b[0m \u001b[32m140.6/140.6 KB\u001b[0m \u001b[31m16.3 MB/s\u001b[0m eta \u001b[36m0:00:00\u001b[0m\n",
            "\u001b[?25hRequirement already satisfied: pytz>=2017.3 in /usr/local/lib/python3.8/dist-packages (from pandas->datasets) (2022.7.1)\n",
            "Requirement already satisfied: python-dateutil>=2.7.3 in /usr/local/lib/python3.8/dist-packages (from pandas->datasets) (2.8.2)\n",
            "Requirement already satisfied: six>=1.5 in /usr/local/lib/python3.8/dist-packages (from python-dateutil>=2.7.3->pandas->datasets) (1.15.0)\n",
            "Installing collected packages: xxhash, urllib3, multiprocess, responses, datasets\n",
            "  Attempting uninstall: urllib3\n",
            "    Found existing installation: urllib3 1.24.3\n",
            "    Uninstalling urllib3-1.24.3:\n",
            "      Successfully uninstalled urllib3-1.24.3\n",
            "Successfully installed datasets-2.9.0 multiprocess-0.70.14 responses-0.18.0 urllib3-1.26.14 xxhash-3.2.0\n"
          ]
        },
        {
          "output_type": "display_data",
          "data": {
            "application/vnd.colab-display-data+json": {
              "pip_warning": {
                "packages": [
                  "urllib3"
                ]
              }
            }
          },
          "metadata": {}
        }
      ]
    },
    {
      "cell_type": "code",
      "source": [
        "# Play with small sample to get going\n",
        "from datasets import load_dataset, Dataset, DatasetDict\n",
        "from transformers import AutoTokenizer, DataCollatorWithPadding, TFAutoModelForSequenceClassification\n",
        "\n",
        "checkpoint = 'bert-base-uncased'\n",
        "tokenizer = AutoTokenizer.from_pretrained(checkpoint)"
      ],
      "metadata": {
        "colab": {
          "base_uri": "https://localhost:8080/",
          "height": 145,
          "referenced_widgets": [
            "a1dcfadfcc9047c6a9cec6033f8189bc",
            "47afb70df627485491254301314313f4",
            "0bd1e8e32d5d4a03bf89598b8b758c12",
            "15e3a4e5a5d84808825ad5c7cf85016a",
            "0f3750f235c7481788595d9829f4a407",
            "acdf32ac7ae04c649f7e922d5adc8631",
            "1a5c81e561784b12ba5392db67f5a847",
            "410519eef7654120b3b58cd7cb28421f",
            "ad51d8e3edf54288b9174fc0cd2244aa",
            "a66a29336bd64f6ba3018a62d52101b1",
            "8212e01513d6445aa7b91ba9edb03f58",
            "3948b49b618b4789924884360f22a19d",
            "cabf2ab0c1924261a471ccaeedf7d1f5",
            "59246f67c12d48bbbbcb05abb36ff30b",
            "a002d59c9a46468096c53192a965553b",
            "86ac519b89ec41b694ea92f45ec4a059",
            "be5eaaf5017d441ebcfdedf24785f23a",
            "6992cf37bc754866b3593994ba741f82",
            "235c2bd90bfd4b24b473a1636f41a845",
            "66ed957d3836466499406f0c464a6519",
            "92f7838299624d8aa8c60b3930a6f7d5",
            "ba575b216ffc4b7ca697395ec162c78a",
            "470c15bb569f49b191b7e31de213b996",
            "cc43da1dbb1f4d14b3b2e317422c7095",
            "1bcb4891afc74046ba2fa777e0f98c53",
            "6f9ada89cef3408e8e811ce1d82ce04c",
            "c2afde97fe6541d590b2419cf04e16e2",
            "6b594ac184f34967b970826f7906fa97",
            "c9bd13a686524bb0b05e435e5ced75a2",
            "016ae04d512c4025aef7b847a3c8ecc3",
            "c763561bdfc14b3ebebedd82f09ab8bd",
            "b2814ff04d4b48dea2d56e3ec8b8afe8",
            "00158ba9be054d56929cd76643cc5813",
            "b43db1899dc242d9a68c3ccdd01d4126",
            "0b6008d2815a439b8fd45c571f6db49f",
            "7f5b6532504b470e97fac218a1af3111",
            "da8b1d5705524090a16e30513de72d0d",
            "4d0abfe452444a18b03b839e1540039b",
            "2fd5f9578409438ab74d5fa0e136c52e",
            "e2740ceb5e214212a795ca6bc70d5ea3",
            "883192bcc5bc4379ab60b65d2b255c75",
            "8b679c59aa1e40e18c552583d74f746b",
            "2de605c1c6a84ed28151ddaec173adc0",
            "aa34dea11d94407094e2d9ca8284c47d"
          ]
        },
        "id": "XcWL-gjYicXs",
        "outputId": "3afcb3cd-9586-42d2-e99b-77c142e74978"
      },
      "execution_count": 11,
      "outputs": [
        {
          "output_type": "display_data",
          "data": {
            "text/plain": [
              "Downloading (…)okenizer_config.json:   0%|          | 0.00/28.0 [00:00<?, ?B/s]"
            ],
            "application/vnd.jupyter.widget-view+json": {
              "version_major": 2,
              "version_minor": 0,
              "model_id": "a1dcfadfcc9047c6a9cec6033f8189bc"
            }
          },
          "metadata": {}
        },
        {
          "output_type": "display_data",
          "data": {
            "text/plain": [
              "Downloading (…)lve/main/config.json:   0%|          | 0.00/570 [00:00<?, ?B/s]"
            ],
            "application/vnd.jupyter.widget-view+json": {
              "version_major": 2,
              "version_minor": 0,
              "model_id": "3948b49b618b4789924884360f22a19d"
            }
          },
          "metadata": {}
        },
        {
          "output_type": "display_data",
          "data": {
            "text/plain": [
              "Downloading (…)solve/main/vocab.txt:   0%|          | 0.00/232k [00:00<?, ?B/s]"
            ],
            "application/vnd.jupyter.widget-view+json": {
              "version_major": 2,
              "version_minor": 0,
              "model_id": "470c15bb569f49b191b7e31de213b996"
            }
          },
          "metadata": {}
        },
        {
          "output_type": "display_data",
          "data": {
            "text/plain": [
              "Downloading (…)/main/tokenizer.json:   0%|          | 0.00/466k [00:00<?, ?B/s]"
            ],
            "application/vnd.jupyter.widget-view+json": {
              "version_major": 2,
              "version_minor": 0,
              "model_id": "b43db1899dc242d9a68c3ccdd01d4126"
            }
          },
          "metadata": {}
        }
      ]
    },
    {
      "cell_type": "code",
      "source": [
        "to_dataset = data.copy()\n",
        "to_dataset['label'] = (data['review_type'] == 'Fresh').astype(int)\n",
        "to_dataset.drop(['review_type'], axis=1, inplace=True)\n",
        "to_dataset.rename(columns={\"review_content\": \"sentence\", \"review_type\": \"label\"}, inplace=True)\n",
        "mydataset = Dataset.from_pandas(to_dataset)\n",
        "mydataset"
      ],
      "metadata": {
        "colab": {
          "base_uri": "https://localhost:8080/"
        },
        "id": "lwE5YzJRw3ba",
        "outputId": "c20b0ec2-aaa9-40d8-d8b4-fe2668247570"
      },
      "execution_count": 12,
      "outputs": [
        {
          "output_type": "execute_result",
          "data": {
            "text/plain": [
              "Dataset({\n",
              "    features: ['sentence', 'label', '__index_level_0__'],\n",
              "    num_rows: 41195\n",
              "})"
            ]
          },
          "metadata": {},
          "execution_count": 12
        }
      ]
    },
    {
      "cell_type": "code",
      "source": [
        "split = mydataset.train_test_split(train_size=0.8, seed=123)\n",
        "# Rename the default \"test\" split to \"validation\"\n",
        "valid = split['test'].train_test_split(train_size=0.5)\n",
        "\n",
        "# Add the \"test\" set to our `DatasetDict`\n",
        "split_valid = DatasetDict({\n",
        "    \"train\": split[\"train\"],\n",
        "    \"test\": valid[\"test\"],\n",
        "    \"valid\": valid[\"train\"]\n",
        "})\n",
        "split_valid"
      ],
      "metadata": {
        "colab": {
          "base_uri": "https://localhost:8080/"
        },
        "id": "mhe6ZWMmyFdz",
        "outputId": "31de065a-484c-4e2b-c237-fedbcdc672c9"
      },
      "execution_count": 13,
      "outputs": [
        {
          "output_type": "execute_result",
          "data": {
            "text/plain": [
              "DatasetDict({\n",
              "    train: Dataset({\n",
              "        features: ['sentence', 'label', '__index_level_0__'],\n",
              "        num_rows: 32956\n",
              "    })\n",
              "    test: Dataset({\n",
              "        features: ['sentence', 'label', '__index_level_0__'],\n",
              "        num_rows: 4120\n",
              "    })\n",
              "    valid: Dataset({\n",
              "        features: ['sentence', 'label', '__index_level_0__'],\n",
              "        num_rows: 4119\n",
              "    })\n",
              "})"
            ]
          },
          "metadata": {},
          "execution_count": 13
        }
      ]
    },
    {
      "cell_type": "code",
      "source": [
        "# Tokenizer returns dict of input_ids, attention_mask, token_type_ids\n",
        "def tokenize_function(example):\n",
        "  return tokenizer(example['sentence'], truncation=True)\n",
        "\n",
        "# Tokenize by feeding \n",
        "#tokenized_datasets = split_valid.map(tokenize_function, batched=True)\n",
        "tokenized_datasets = split_valid.map(lambda x: tokenizer(x['sentence'], truncation=True), batched=True)\n",
        "tokenized_datasets\n",
        "\n",
        "data_collator = DataCollatorWithPadding(tokenizer=tokenizer, return_tensors=\"tf\")"
      ],
      "metadata": {
        "colab": {
          "base_uri": "https://localhost:8080/",
          "height": 113,
          "referenced_widgets": [
            "61bb8e3b5f804af39d1beb67431598de",
            "19d0b4b4b15e41829c3edc2a5c9853ba",
            "8cee9b0a567f4cfaa783404f4c3bba8e",
            "50a71d4aa5584393847294bd997aa8e0",
            "fbab147f03224fb8ac8405620c998272",
            "9babdca9aa294a75a37fffb1fda20b7d",
            "0e75025c407d4b9bb68771211aff92b4",
            "61c50cdfeb73446eaa75f83c2332cdcf",
            "1049c0e224c34d4e9f7c467103af525c",
            "852e8912744a48c8b58f5a57bab46ffd",
            "36a4a484a2ec4808a23ab29dba59466f",
            "3c00346fe52f49f18cc0a9b55d5f9da5",
            "5834180b2b2849778505f23d1a807459",
            "dc9df214bdd94b51a25a8ef564d9c648",
            "c58fa57eaa99468eb7c125a4faaa0a10",
            "93c8093c86904c3193567f292453521a",
            "ffef8bfe49704f6bade61c7f37070131",
            "49859c24f52f4a129ee5ec3647a83bf6",
            "e63bcb326c354304a130e21a7e1fb1aa",
            "f30759f004f74325be49bd5ac54d004a",
            "2808d74bfd814387ba221658f998b82b",
            "a8f081abed6b431bb5fdc9725651c882",
            "df9ade56e6064b13a3c62c1dc1f5db32",
            "3ae791f6c2d84906916bffea7c0ab6c6",
            "4c5da34becc7487eba7bf352ddabc6a4",
            "3763e16b0a0143e98be50981b4bafe9c",
            "709625e2580c4526af5fc63b8f088fa5",
            "20e5029a0c9841e182ff820c433e2101",
            "961c8b48227340d2b334309e4eec6733",
            "65b22516c8164347bf06b930799cf574",
            "425db6854e014a929e5d1440f70977f1",
            "131f8bb5fd2748e98e75cd8db4aea9fe",
            "c0c8206faee94309b7ab12595cedd800"
          ]
        },
        "id": "NhYzVXYuojAX",
        "outputId": "ef92e7eb-871a-47e3-a116-07b02f927e0b"
      },
      "execution_count": 14,
      "outputs": [
        {
          "output_type": "display_data",
          "data": {
            "text/plain": [
              "  0%|          | 0/33 [00:00<?, ?ba/s]"
            ],
            "application/vnd.jupyter.widget-view+json": {
              "version_major": 2,
              "version_minor": 0,
              "model_id": "61bb8e3b5f804af39d1beb67431598de"
            }
          },
          "metadata": {}
        },
        {
          "output_type": "display_data",
          "data": {
            "text/plain": [
              "  0%|          | 0/5 [00:00<?, ?ba/s]"
            ],
            "application/vnd.jupyter.widget-view+json": {
              "version_major": 2,
              "version_minor": 0,
              "model_id": "3c00346fe52f49f18cc0a9b55d5f9da5"
            }
          },
          "metadata": {}
        },
        {
          "output_type": "display_data",
          "data": {
            "text/plain": [
              "  0%|          | 0/5 [00:00<?, ?ba/s]"
            ],
            "application/vnd.jupyter.widget-view+json": {
              "version_major": 2,
              "version_minor": 0,
              "model_id": "df9ade56e6064b13a3c62c1dc1f5db32"
            }
          },
          "metadata": {}
        }
      ]
    },
    {
      "cell_type": "code",
      "source": [
        "tokenized_datasets['valid'][0]"
      ],
      "metadata": {
        "colab": {
          "base_uri": "https://localhost:8080/"
        },
        "id": "BKwBlN-35QSc",
        "outputId": "86c6edf2-316e-4e59-92c7-d17f0e1b0b5f"
      },
      "execution_count": 36,
      "outputs": [
        {
          "output_type": "execute_result",
          "data": {
            "text/plain": [
              "{'sentence': \"suicides mostly originally staged creepy hell mark wahlberg ok scene 'forgives' wife's indiscretion plain weird zooey deschanel throughout\",\n",
              " 'label': 1,\n",
              " '__index_level_0__': 3542,\n",
              " 'input_ids': [101,\n",
              "  5920,\n",
              "  2015,\n",
              "  3262,\n",
              "  2761,\n",
              "  9813,\n",
              "  17109,\n",
              "  3109,\n",
              "  2928,\n",
              "  22894,\n",
              "  22927,\n",
              "  7929,\n",
              "  3496,\n",
              "  1005,\n",
              "  9641,\n",
              "  2015,\n",
              "  1005,\n",
              "  2564,\n",
              "  1005,\n",
              "  1055,\n",
              "  27427,\n",
              "  2483,\n",
              "  16748,\n",
              "  3508,\n",
              "  5810,\n",
              "  6881,\n",
              "  9201,\n",
              "  3240,\n",
              "  4078,\n",
              "  14856,\n",
              "  2884,\n",
              "  2802,\n",
              "  102],\n",
              " 'token_type_ids': [0,\n",
              "  0,\n",
              "  0,\n",
              "  0,\n",
              "  0,\n",
              "  0,\n",
              "  0,\n",
              "  0,\n",
              "  0,\n",
              "  0,\n",
              "  0,\n",
              "  0,\n",
              "  0,\n",
              "  0,\n",
              "  0,\n",
              "  0,\n",
              "  0,\n",
              "  0,\n",
              "  0,\n",
              "  0,\n",
              "  0,\n",
              "  0,\n",
              "  0,\n",
              "  0,\n",
              "  0,\n",
              "  0,\n",
              "  0,\n",
              "  0,\n",
              "  0,\n",
              "  0,\n",
              "  0,\n",
              "  0,\n",
              "  0],\n",
              " 'attention_mask': [1,\n",
              "  1,\n",
              "  1,\n",
              "  1,\n",
              "  1,\n",
              "  1,\n",
              "  1,\n",
              "  1,\n",
              "  1,\n",
              "  1,\n",
              "  1,\n",
              "  1,\n",
              "  1,\n",
              "  1,\n",
              "  1,\n",
              "  1,\n",
              "  1,\n",
              "  1,\n",
              "  1,\n",
              "  1,\n",
              "  1,\n",
              "  1,\n",
              "  1,\n",
              "  1,\n",
              "  1,\n",
              "  1,\n",
              "  1,\n",
              "  1,\n",
              "  1,\n",
              "  1,\n",
              "  1,\n",
              "  1,\n",
              "  1]}"
            ]
          },
          "metadata": {},
          "execution_count": 36
        }
      ]
    },
    {
      "cell_type": "code",
      "source": [
        "tf_train_dataset = tokenized_datasets[\"train\"].to_tf_dataset(\n",
        "    columns=[\"attention_mask\", \"input_ids\", \"token_type_ids\"],\n",
        "    label_cols=[\"labels\"],\n",
        "    shuffle=True,\n",
        "    collate_fn=data_collator,\n",
        "    batch_size=8,\n",
        ")\n",
        "\n",
        "tf_validation_dataset = tokenized_datasets['valid'].to_tf_dataset(\n",
        "    columns=['attention_mask', 'input_ids', 'token_type_ids'],\n",
        "    label_cols=['labels'],\n",
        "    shuffle=True,\n",
        "    collate_fn=data_collator,\n",
        "    batch_size=8\n",
        ")\n",
        "tf_train_dataset"
      ],
      "metadata": {
        "colab": {
          "base_uri": "https://localhost:8080/"
        },
        "id": "9lpBtDcE6ots",
        "outputId": "ff53b3f5-c23e-40b0-992c-9f24648c647a"
      },
      "execution_count": 37,
      "outputs": [
        {
          "output_type": "execute_result",
          "data": {
            "text/plain": [
              "<PrefetchDataset element_spec=({'input_ids': TensorSpec(shape=(None, None), dtype=tf.int64, name=None), 'token_type_ids': TensorSpec(shape=(None, None), dtype=tf.int64, name=None), 'attention_mask': TensorSpec(shape=(None, None), dtype=tf.int64, name=None)}, TensorSpec(shape=(None,), dtype=tf.int64, name=None))>"
            ]
          },
          "metadata": {},
          "execution_count": 37
        }
      ]
    },
    {
      "cell_type": "code",
      "source": [
        "from tensorflow.keras.losses import SparseCategoricalCrossentropy\n",
        "from tensorflow.keras.optimizers.schedules import PolynomialDecay\n",
        "from tensorflow.keras.optimizers import Adam\n",
        "\n",
        "# Define some parameters\n",
        "batch_size = 8\n",
        "num_epochs = 30\n",
        "num_train_steps = len(tf_train_dataset)*num_epochs\n",
        "\n",
        "lr_scheduler = PolynomialDecay(\n",
        "    initial_learning_rate=5e-5, end_learning_rate=0.0, decay_steps=num_train_steps\n",
        ")\n",
        "\n",
        "opt = Adam(learning_rate=lr_scheduler)\n",
        "\n",
        "model = TFAutoModelForSequenceClassification.from_pretrained(checkpoint, num_labels=2)\n",
        "loss = tf.keras.losses.SparseCategoricalCrossentropy(from_logits=True)\n",
        "\n",
        "model.compile(optimizer=opt, loss=loss,metrics=['accuracy'])\n",
        "\n",
        "model_history = model.fit(tf_train_dataset, validation_data=tf_validation_dataset, epochs = num_epochs)\n",
        "\n",
        "plot_history(model_history)"
      ],
      "metadata": {
        "colab": {
          "base_uri": "https://localhost:8080/",
          "height": 516
        },
        "id": "8_ah9D3YoFSu",
        "outputId": "a022f7cb-d83a-46a5-a93d-565078dcdce5"
      },
      "execution_count": 38,
      "outputs": [
        {
          "output_type": "stream",
          "name": "stderr",
          "text": [
            "All model checkpoint layers were used when initializing TFBertForSequenceClassification.\n",
            "\n",
            "Some layers of TFBertForSequenceClassification were not initialized from the model checkpoint at bert-base-uncased and are newly initialized: ['classifier']\n",
            "You should probably TRAIN this model on a down-stream task to be able to use it for predictions and inference.\n"
          ]
        },
        {
          "output_type": "stream",
          "name": "stdout",
          "text": [
            "Epoch 1/3\n",
            "4120/4120 [==============================] - 478s 104ms/step - loss: 0.4875 - accuracy: 0.7621 - val_loss: 0.4391 - val_accuracy: 0.7953\n",
            "Epoch 2/3\n",
            "4120/4120 [==============================] - 411s 100ms/step - loss: 0.2974 - accuracy: 0.8756 - val_loss: 0.4705 - val_accuracy: 0.8029\n",
            "Epoch 3/3\n",
            "4120/4120 [==============================] - 423s 103ms/step - loss: 0.1178 - accuracy: 0.9607 - val_loss: 0.6387 - val_accuracy: 0.8017\n"
          ]
        },
        {
          "output_type": "display_data",
          "data": {
            "text/plain": [
              "<Figure size 864x360 with 2 Axes>"
            ],
            "image/png": "[encoded data removed]"
          },
          "metadata": {}
        }
      ]
    },
    {
      "cell_type": "code",
      "source": [
        "# Save model. By default it will save to /content/ which contains drive, my_bert_model, and sample_data rn\n",
        "model.save('my_bert_model_v2')"
      ],
      "metadata": {
        "id": "iiD1y5CVrO4a",
        "outputId": "78b99c75-fb37-4a52-d349-7f19c1e53775",
        "colab": {
          "base_uri": "https://localhost:8080/"
        }
      },
      "execution_count": 39,
      "outputs": [
        {
          "output_type": "stream",
          "name": "stderr",
          "text": [
            "WARNING:absl:Found untraced functions such as embeddings_layer_call_fn, embeddings_layer_call_and_return_conditional_losses, encoder_layer_call_fn, encoder_layer_call_and_return_conditional_losses, pooler_layer_call_fn while saving (showing 5 of 420). These functions will not be directly callable after loading.\n"
          ]
        }
      ]
    },
    {
      "cell_type": "code",
      "source": [
        "#!ls /content/gdrive/My Drive\n",
        "!ls "
      ],
      "metadata": {
        "id": "jHwdnfAlxHhp",
        "outputId": "c506abb5-147f-4852-c559-e7b07e8ddf4a",
        "colab": {
          "base_uri": "https://localhost:8080/"
        }
      },
      "execution_count": 24,
      "outputs": [
        {
          "output_type": "stream",
          "name": "stdout",
          "text": [
            "drive  my_bert_model  sample_data\n"
          ]
        }
      ]
    },
    {
      "cell_type": "code",
      "source": [
        "preds = model.predict(tf_validation_dataset)['logits']"
      ],
      "metadata": {
        "colab": {
          "base_uri": "https://localhost:8080/"
        },
        "id": "qxHR1OWXq482",
        "outputId": "035f0a3a-b20a-40f7-ef9e-159a4899fa65"
      },
      "execution_count": 40,
      "outputs": [
        {
          "output_type": "stream",
          "name": "stdout",
          "text": [
            "515/515 [==============================] - 24s 40ms/step\n"
          ]
        }
      ]
    },
    {
      "cell_type": "code",
      "source": [
        "probs = tf.nn.softmax(preds)\n",
        "class_preds = np.argmax(preds, axis=1)\n",
        "class_preds"
      ],
      "metadata": {
        "id": "bsgFFoB2sd7I",
        "outputId": "52fcb111-83cf-4434-d3c6-c16651957886",
        "colab": {
          "base_uri": "https://localhost:8080/"
        }
      },
      "execution_count": 41,
      "outputs": [
        {
          "output_type": "execute_result",
          "data": {
            "text/plain": [
              "array([0, 1, 1, ..., 1, 1, 0])"
            ]
          },
          "metadata": {},
          "execution_count": 41
        }
      ]
    },
    {
      "cell_type": "code",
      "source": [
        "from datasets import load_metric\n",
        "\n",
        "metric = load_metric('f1')\n",
        "valids = np.array(split_valid['valid']['label'])\n",
        "metric.compute(predictions=class_preds, references=split_valid['valid']['label'])"
      ],
      "metadata": {
        "id": "48mrM7MosNwS",
        "outputId": "7eb07bf2-91be-4fe6-ee52-035eab57949f",
        "colab": {
          "base_uri": "https://localhost:8080/"
        }
      },
      "execution_count": 54,
      "outputs": [
        {
          "output_type": "execute_result",
          "data": {
            "text/plain": [
              "{'f1': 0.6046790641871626}"
            ]
          },
          "metadata": {},
          "execution_count": 54
        }
      ]
    },
    {
      "cell_type": "code",
      "source": [
        "tf_test_dataset = tokenized_datasets['test'].to_tf_dataset(\n",
        "    columns=['attention_mask', 'input_ids', 'token_type_ids'],\n",
        "    label_cols=['labels'],\n",
        "    shuffle=True,\n",
        "    collate_fn=data_collator,\n",
        "    batch_size=8\n",
        ")\n",
        "\n",
        "test_preds = model.predict(tf_test_dataset)['logits']\n",
        "test_probs = tf.nn.softmax(test_preds)\n",
        "test_class_preds = np.argmax(test_preds, axis=1)\n",
        "test_class_preds"
      ],
      "metadata": {
        "id": "m_Du_eOL8cZU",
        "outputId": "15687657-9706-4e68-f175-9aa420db4732",
        "colab": {
          "base_uri": "https://localhost:8080/"
        }
      },
      "execution_count": 58,
      "outputs": [
        {
          "output_type": "stream",
          "name": "stdout",
          "text": [
            "515/515 [==============================] - 37s 72ms/step\n"
          ]
        },
        {
          "output_type": "execute_result",
          "data": {
            "text/plain": [
              "array([0, 0, 1, ..., 0, 0, 0])"
            ]
          },
          "metadata": {},
          "execution_count": 58
        }
      ]
    },
    {
      "cell_type": "code",
      "source": [
        "from sklearn.metrics import plot_confusion_matrix, classification_report, confusion_matrix, accuracy_score\n",
        "print(classification_report(split_valid['test']['label'], test_class_preds))"
      ],
      "metadata": {
        "colab": {
          "base_uri": "https://localhost:8080/"
        },
        "id": "iW-eTF7Bu5b5",
        "outputId": "90cb6480-1bc6-4609-e3dc-fa33076b7450"
      },
      "execution_count": 60,
      "outputs": [
        {
          "output_type": "stream",
          "name": "stdout",
          "text": [
            "              precision    recall  f1-score   support\n",
            "\n",
            "           0       0.37      0.37      0.37      1573\n",
            "           1       0.61      0.61      0.61      2547\n",
            "\n",
            "    accuracy                           0.52      4120\n",
            "   macro avg       0.49      0.49      0.49      4120\n",
            "weighted avg       0.52      0.52      0.52      4120\n",
            "\n"
          ]
        }
      ]
    }
  ]
}